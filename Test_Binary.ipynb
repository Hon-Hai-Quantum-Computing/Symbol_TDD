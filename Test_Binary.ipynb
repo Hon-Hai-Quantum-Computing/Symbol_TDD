{
 "cells": [
  {
   "cell_type": "code",
   "execution_count": 1,
   "metadata": {},
   "outputs": [],
   "source": [
    "import numpy as np\n",
    "from TDD.TDD2 import Ini_TDD,Clear_TDD,set_index_order,get_tdd,to_cnf2\n",
    "# ,renorm\n",
    "from TDD.TDD_Q2 import cir_2_tn,get_real_qubit_num,add_trace_line,add_inputs,add_outputs\n",
    "from TDD.TDD_Q2 import reshape as reshape2\n",
    "from TDD.TN2 import Index,Tensor,TensorNetwork\n",
    "import time\n",
    "import random\n",
    "from qiskit import QuantumCircuit\n",
    "from sympy import *\n",
    "from sympy.parsing.sympy_parser import parse_expr"
   ]
  },
  {
   "cell_type": "code",
   "execution_count": 2,
   "metadata": {},
   "outputs": [
    {
     "data": {
      "text/plain": [
       "'1.5.1'"
      ]
     },
     "execution_count": 2,
     "metadata": {},
     "output_type": "execute_result"
    }
   ],
   "source": [
    "import sympy\n",
    "sympy.__version__"
   ]
  },
  {
   "cell_type": "code",
   "execution_count": 3,
   "metadata": {},
   "outputs": [
    {
     "data": {
      "image/png": "[encoded data removed]",
      "text/plain": [
       "<IPython.core.display.Image object>"
      ]
     },
     "execution_count": 3,
     "metadata": {},
     "output_type": "execute_result"
    }
   ],
   "source": [
    "Ini_TDD(['x0','y0','x1','y1'])\n",
    "A=['x0','y0','x1','y1','xn0']\n",
    "[x0,y0,x1,y1,xn0]=symbols(A)\n",
    "U=np.array([xn0,x0])\n",
    "var=[Index('y0')]\n",
    "ts1=Tensor(U,var)\n",
    "ts1.tdd().show()\n",
    "# ts2=Tensor(U,var)"
   ]
  },
  {
   "cell_type": "code",
   "execution_count": 4,
   "metadata": {},
   "outputs": [
    {
     "name": "stdout",
     "output_type": "stream",
     "text": [
      "-------------\n",
      "x0 + xn0\n",
      "[1.0*x0 + 1.0*xn0]\n",
      "-------------\n",
      "-------------\n",
      "0.707107*x0 + 0.707107*xn0\n",
      "[0.707107*x0 + 0.707107*xn0]\n",
      "-------------\n",
      "-------------\n",
      "0.707107*xn0\n",
      "[0.707107*xn0]\n",
      "-------------\n",
      "-------------\n",
      "-0.707107*x0\n",
      "[-0.707107*x0]\n",
      "-------------\n",
      "-------------\n",
      "-0.707107*x0 + 0.707107*xn0\n",
      "[-0.707107*x0 + 0.707107*xn0]\n",
      "-------------\n"
     ]
    },
    {
     "data": {
      "image/png": "[encoded data removed]",
      "text/plain": [
       "<IPython.core.display.Image object>"
      ]
     },
     "execution_count": 4,
     "metadata": {},
     "output_type": "execute_result"
    }
   ],
   "source": [
    "H=1/np.sqrt(2)*np.array([[1,1],[1,-1]])\n",
    "var2=[Index('x0'),Index('y0')]\n",
    "ts2=Tensor(H,var2)\n",
    "# ts2.tdd().show()\n",
    "tn=TensorNetwork([ts1,ts2])\n",
    "tdd=tn.cont()\n",
    "tdd.show()\n",
    "# Clear_TDD()"
   ]
  },
  {
   "cell_type": "code",
   "execution_count": 5,
   "metadata": {
    "scrolled": false
   },
   "outputs": [
    {
     "name": "stdout",
     "output_type": "stream",
     "text": [
      "-------------\n",
      "0.707107*xn0\n",
      "[0.707107*xn0]\n",
      "-------------\n",
      "-------------\n",
      "0.707107*x0\n",
      "[0.707107*x0]\n",
      "-------------\n",
      "-------------\n",
      "0.707107*x0 + 0.707107*xn0\n",
      "[0.707107*x0 + 0.707107*xn0]\n",
      "-------------\n",
      "-------------\n",
      "-0.707107*x0\n",
      "[-0.707107*x0]\n",
      "-------------\n",
      "-------------\n",
      "-0.707107*x0 + 0.707107*xn0\n",
      "[-0.707107*x0 + 0.707107*xn0]\n",
      "-------------\n",
      "-------------\n",
      "I*x1\n",
      "[1.0*I, x1]\n",
      "-------------\n",
      "-------------\n",
      "0.707107*xn1\n",
      "[0.707107*xn1]\n",
      "-------------\n",
      "-------------\n",
      "0.707107*x1\n",
      "[0.707107*x1]\n",
      "-------------\n",
      "-------------\n",
      "0.707107*x1 + 0.707107*xn1\n",
      "[0.707107*x1 + 0.707107*xn1]\n",
      "-------------\n",
      "-------------\n",
      "-0.707107*x1\n",
      "[-0.707107*x1]\n",
      "-------------\n",
      "-------------\n",
      "-0.707107*x1 + 0.707107*xn1\n",
      "[-0.707107*x1 + 0.707107*xn1]\n",
      "-------------\n",
      "-------------\n",
      "0.707107*xn1\n",
      "[0.707107*xn1]\n",
      "-------------\n",
      "-------------\n",
      "0.707107*I*x1\n",
      "[0.707107*I, x1]\n",
      "-------------\n",
      "-------------\n",
      "0.707107*I*x1 + 0.707107*xn1\n",
      "[0.707107*I*x1 + 0.707107*xn1]\n",
      "-------------\n",
      "-------------\n",
      "-0.707107*I*x1\n",
      "[-0.707107*I, x1]\n",
      "-------------\n",
      "-------------\n",
      "-0.707107*I*x1 + 0.707107*xn1\n",
      "[-0.707107*I*x1 + 0.707107*xn1]\n",
      "-------------\n",
      "-------------\n",
      "(-x0 + xn0)*(0.707107*I*x1 + 0.707107*xn1)\n",
      "[-0.707107*x0 + 0.707107*xn0, I*x1 + xn1]\n",
      "-------------\n",
      "-------------\n",
      "(0.707107*x0 + 0.707107*xn0)*(0.707107*x1 + 0.707107*xn1)\n",
      "[0.5*x0 + 0.5*xn0, x1 + xn1]\n",
      "-------------\n",
      "-------------\n",
      "x2*(0.707107 + 0.707107*I)\n",
      "[0.707107*x2, 1.0 + 1.0*I]\n",
      "-------------\n",
      "-------------\n",
      "I*x2\n",
      "[1.0*I, x2]\n",
      "-------------\n",
      "-------------\n",
      "x2*(-0.707107 + 0.707107*I)\n",
      "[-0.707107 + 0.707107*I, x2]\n",
      "-------------\n",
      "-------------\n",
      "0.707107*xn2\n",
      "[0.707107*xn2]\n",
      "-------------\n",
      "-------------\n",
      "0.707107*x2\n",
      "[0.707107*x2]\n",
      "-------------\n",
      "-------------\n",
      "0.707107*x2 + 0.707107*xn2\n",
      "[0.707107*x2 + 0.707107*xn2]\n",
      "-------------\n",
      "-------------\n",
      "-0.707107*x2\n",
      "[-0.707107*x2]\n",
      "-------------\n",
      "-------------\n",
      "-0.707107*x2 + 0.707107*xn2\n",
      "[-0.707107*x2 + 0.707107*xn2]\n",
      "-------------\n",
      "-------------\n",
      "0.707107*xn2\n",
      "[0.707107*xn2]\n",
      "-------------\n",
      "-------------\n",
      "0.707107*I*x2\n",
      "[0.707107*I, x2]\n",
      "-------------\n",
      "-------------\n",
      "0.707107*I*x2 + 0.707107*xn2\n",
      "[0.707107*I*x2 + 0.707107*xn2]\n",
      "-------------\n",
      "-------------\n",
      "-0.707107*I*x2\n",
      "[-0.707107*I, x2]\n",
      "-------------\n",
      "-------------\n",
      "-0.707107*I*x2 + 0.707107*xn2\n",
      "[-0.707107*I*x2 + 0.707107*xn2]\n",
      "-------------\n",
      "-------------\n",
      "(-x1 + xn1)*(0.707107*I*x2 + 0.707107*xn2)\n",
      "[-0.707107*x1 + 0.707107*xn1, I*x2 + xn2]\n",
      "-------------\n",
      "-------------\n",
      "0.707107*xn2\n",
      "[0.707107*xn2]\n",
      "-------------\n",
      "-------------\n",
      "x2*(0.5 + 0.5*I)\n",
      "[0.5*x2, 1.0 + 1.0*I]\n",
      "-------------\n",
      "-------------\n",
      "x2*(0.5 + 0.5*I) + 0.707107*xn2\n",
      "[0.5*x2 + 0.5*I*x2 + 0.707107*xn2]\n",
      "-------------\n",
      "-------------\n",
      "x2*(-0.5 - 0.5*I)\n",
      "[-0.5*x2, 1.0 + 1.0*I]\n",
      "-------------\n",
      "-------------\n",
      "x2*(-0.5 - 0.5*I) + 0.707107*xn2\n",
      "[-0.5*x2 - 0.5*I*x2 + 0.707107*xn2]\n",
      "-------------\n",
      "-------------\n",
      "0.707107*xn2\n",
      "[0.707107*xn2]\n",
      "-------------\n",
      "-------------\n",
      "x2*(-0.5 + 0.5*I)\n",
      "[-0.5 + 0.5*I, x2]\n",
      "-------------\n",
      "-------------\n",
      "x2*(-0.5 + 0.5*I) + 0.707107*xn2\n",
      "[-0.5*x2 + 0.5*I*x2 + 0.707107*xn2]\n",
      "-------------\n",
      "-------------\n",
      "x2*(0.5 - 0.5*I)\n",
      "[0.5 - 0.5*I, x2]\n",
      "-------------\n",
      "-------------\n",
      "x2*(0.5 - 0.5*I) + 0.707107*xn2\n",
      "[0.5*x2 - 0.5*I*x2 + 0.707107*xn2]\n",
      "-------------\n",
      "-------------\n",
      "(-x1 + xn1)*(-0.5*x2 + 0.5*I*x2 + 0.707107*xn2)\n",
      "[-0.707107*x1 + 0.707107*xn1, -0.707107*x2 + 0.707107*I*x2 + 1.0*xn2]\n",
      "-------------\n",
      "-------------\n",
      "(-0.707107*x0 + 0.707107*xn0)*(1.41421*I*x1 + 1.41421*xn1)*(0.5*x2 + 0.5*I*x2 + 0.707107*xn2)\n",
      "[-0.707107*x0 + 0.707107*xn0, 0.707107*x2 + 0.707107*I*x2 + 1.0*xn2, I*x1 + xn1]\n",
      "-------------\n",
      "-------------\n",
      "(0.5*x0 + 0.5*xn0)*(x1 + xn1)*(0.707107*x2 + 0.707107*xn2)\n",
      "[0.353553*x0 + 0.353553*xn0, x1 + xn1, x2 + xn2]\n",
      "-------------\n"
     ]
    },
    {
     "data": {
      "image/png": "[encoded data removed]",
      "text/plain": [
       "<IPython.core.display.Image object>"
      ]
     },
     "execution_count": 5,
     "metadata": {},
     "output_type": "execute_result"
    }
   ],
   "source": [
    "path='Benchmarks/'\n",
    "file_name='qft_3.qasm'\n",
    "cir=QuantumCircuit.from_qasm_file(path+file_name)\n",
    "tn,indices=cir_2_tn(cir)\n",
    "for k in range(3):\n",
    "    x_k='x'+str(k)\n",
    "    xn_k='xn'+str(k)\n",
    "    s=Symbol(x_k)\n",
    "    ns=Symbol(xn_k)\n",
    "    U=np.array([ns,s])\n",
    "#     U=np.array([1,0])\n",
    "    temp_ts=Tensor(U,[Index(x_k)])\n",
    "    tn.tensors.insert(0,temp_ts)\n",
    "Ini_TDD(indices)\n",
    "\n",
    "## bug...occurs\n",
    "tdd=tn.cont()\n",
    "\n",
    "# tdd=renorm(tdd)\n",
    "tdd.show()"
   ]
  },
  {
   "cell_type": "code",
   "execution_count": null,
   "metadata": {},
   "outputs": [],
   "source": [
    "print(470832/665857)\n",
    "print(665857/941664)"
   ]
  },
  {
   "cell_type": "code",
   "execution_count": null,
   "metadata": {},
   "outputs": [],
   "source": [
    "A=['x0','xn0','x1','xn1']\n",
    "[x0,xn0,x1,xn1]=symbols(A)\n",
    "s=470832*I*(-x0 + xn0)*(x1 - I*xn1)/665857\n",
    "# type(s)\n",
    "#help(factor_list)\n",
    "factor_list(s, gaussian=True)\n"
   ]
  },
  {
   "cell_type": "code",
   "execution_count": null,
   "metadata": {},
   "outputs": [],
   "source": [
    "x=symbols('x1')\n",
    "nx=symbols('xn1')\n",
    "y=symbols('x2')\n",
    "ny=symbols('xn2')\n",
    "s=2*x+3*nx+2*x*y+3*nx*y+2*x*ny+3*nx*ny+(0.0000001+0.0000001*I)*nx\n",
    "print(s)\n",
    "t=to_cnf2(s,n=2)\n",
    "print(t)\n",
    "print(t[0]*t[1])"
   ]
  },
  {
   "cell_type": "code",
   "execution_count": null,
   "metadata": {},
   "outputs": [],
   "source": [
    "s=x*2+x*y\n",
    "print(s)\n",
    "print(to_cnf2(s))"
   ]
  },
  {
   "cell_type": "code",
   "execution_count": null,
   "metadata": {},
   "outputs": [],
   "source": [
    "s=2*x+3*nx+2*x*y+3*nx*y+2*x*ny+3*nx*ny+I*x*(y+ny+1)\n",
    "s=nsimplify(s,tolerance=1e-4,rational=False)\n",
    "factor(s)\n",
    "sm=[str(item) for item in s.free_symbols]\n",
    "ss=2*symbols(sm[0])\n",
    "ss"
   ]
  },
  {
   "cell_type": "code",
   "execution_count": null,
   "metadata": {},
   "outputs": [],
   "source": [
    "x=symbols('x1')\n",
    "nx=symbols('xn1')\n",
    "y=symbols('x2')\n",
    "ny=symbols('xn2')\n",
    "s=float('%.4f'%np.sqrt(2))*x\n",
    "# s=nsimplify(s,tolerance=1e-4,rational=False)\n",
    "s"
   ]
  },
  {
   "cell_type": "code",
   "execution_count": null,
   "metadata": {},
   "outputs": [],
   "source": [
    "type(x+nx)"
   ]
  }
 ],
 "metadata": {
  "kernelspec": {
   "display_name": "Python 3",
   "language": "python",
   "name": "python3"
  },
  "language_info": {
   "codemirror_mode": {
    "name": "ipython",
    "version": 3
   },
   "file_extension": ".py",
   "mimetype": "text/x-python",
   "name": "python",
   "nbconvert_exporter": "python",
   "pygments_lexer": "ipython3",
   "version": "3.9.7"
  }
 },
 "nbformat": 4,
 "nbformat_minor": 4
}
