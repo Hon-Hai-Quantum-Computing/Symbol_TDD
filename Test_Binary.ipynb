{
 "cells": [
  {
   "cell_type": "code",
   "execution_count": 2,
   "metadata": {},
   "outputs": [],
   "source": [
    "import numpy as np\n",
    "from TDD.TDD2 import Ini_TDD,Clear_TDD,set_index_order,get_tdd,to_cnf2\n",
    "# ,renorm\n",
    "from TDD.TDD_Q2 import cir_2_tn,get_real_qubit_num,add_trace_line,add_inputs,add_outputs\n",
    "from TDD.TDD_Q2 import reshape as reshape2\n",
    "from TDD.TN2 import Index,Tensor,TensorNetwork\n",
    "import time\n",
    "import random\n",
    "from qiskit import QuantumCircuit\n",
    "import sympy\n",
    "from sympy import *\n",
    "from sympy.parsing.sympy_parser import parse_expr"
   ]
  },
  {
   "cell_type": "code",
   "execution_count": 2,
   "metadata": {},
   "outputs": [
    {
     "data": {
      "text/plain": [
       "'1.8'"
      ]
     },
     "execution_count": 2,
     "metadata": {},
     "output_type": "execute_result"
    }
   ],
   "source": [
    "sympy.__version__"
   ]
  },
  {
   "cell_type": "code",
   "execution_count": 3,
   "metadata": {},
   "outputs": [
    {
     "data": {
      "image/png": "[encoded data removed]",
      "text/plain": [
       "<IPython.core.display.Image object>"
      ]
     },
     "execution_count": 3,
     "metadata": {},
     "output_type": "execute_result"
    }
   ],
   "source": [
    "Ini_TDD(['x0','y0','x1','y1'])\n",
    "A=['x0','y0','x1','y1','xn0']\n",
    "[x0,y0,x1,y1,xn0]=symbols(A)\n",
    "U=np.array([xn0,x0])\n",
    "var=[Index('y0')]\n",
    "ts1=Tensor(U,var)\n",
    "ts1.tdd().show()\n",
    "# ts2=Tensor(U,var)"
   ]
  },
  {
   "cell_type": "code",
   "execution_count": 4,
   "metadata": {},
   "outputs": [
    {
     "ename": "IndexError",
     "evalue": "list assignment index out of range",
     "output_type": "error",
     "traceback": [
      "\u001b[0;31m---------------------------------------------------------------------------\u001b[0m",
      "\u001b[0;31mIndexError\u001b[0m                                Traceback (most recent call last)",
      "\u001b[0;32m/tmp/ipykernel_5740/3873086625.py\u001b[0m in \u001b[0;36m<module>\u001b[0;34m\u001b[0m\n\u001b[1;32m      4\u001b[0m \u001b[0;31m# ts2.tdd().show()\u001b[0m\u001b[0;34m\u001b[0m\u001b[0;34m\u001b[0m\u001b[0m\n\u001b[1;32m      5\u001b[0m \u001b[0mtn\u001b[0m\u001b[0;34m=\u001b[0m\u001b[0mTensorNetwork\u001b[0m\u001b[0;34m(\u001b[0m\u001b[0;34m[\u001b[0m\u001b[0mts1\u001b[0m\u001b[0;34m,\u001b[0m\u001b[0mts2\u001b[0m\u001b[0;34m]\u001b[0m\u001b[0;34m)\u001b[0m\u001b[0;34m\u001b[0m\u001b[0;34m\u001b[0m\u001b[0m\n\u001b[0;32m----> 6\u001b[0;31m \u001b[0mtdd\u001b[0m\u001b[0;34m=\u001b[0m\u001b[0mtn\u001b[0m\u001b[0;34m.\u001b[0m\u001b[0mcont\u001b[0m\u001b[0;34m(\u001b[0m\u001b[0;34m)\u001b[0m\u001b[0;34m\u001b[0m\u001b[0;34m\u001b[0m\u001b[0m\n\u001b[0m\u001b[1;32m      7\u001b[0m \u001b[0mtdd\u001b[0m\u001b[0;34m.\u001b[0m\u001b[0mshow\u001b[0m\u001b[0;34m(\u001b[0m\u001b[0;34m)\u001b[0m\u001b[0;34m\u001b[0m\u001b[0;34m\u001b[0m\u001b[0m\n\u001b[1;32m      8\u001b[0m \u001b[0;31m# Clear_TDD()\u001b[0m\u001b[0;34m\u001b[0m\u001b[0;34m\u001b[0m\u001b[0m\n",
      "\u001b[0;32m~/downloads/TDD/Symbol_TDD/TDD/TN2.py\u001b[0m in \u001b[0;36mcont\u001b[0;34m(self, optimizer)\u001b[0m\n\u001b[1;32m     74\u001b[0m         \u001b[0;32mfor\u001b[0m \u001b[0mts\u001b[0m \u001b[0;32min\u001b[0m \u001b[0mself\u001b[0m\u001b[0;34m.\u001b[0m\u001b[0mtensors\u001b[0m\u001b[0;34m:\u001b[0m\u001b[0;34m\u001b[0m\u001b[0;34m\u001b[0m\u001b[0m\n\u001b[1;32m     75\u001b[0m             \u001b[0mtemp_tdd\u001b[0m\u001b[0;34m=\u001b[0m\u001b[0mts\u001b[0m\u001b[0;34m.\u001b[0m\u001b[0mtdd\u001b[0m\u001b[0;34m(\u001b[0m\u001b[0;34m)\u001b[0m\u001b[0;34m\u001b[0m\u001b[0;34m\u001b[0m\u001b[0m\n\u001b[0;32m---> 76\u001b[0;31m             \u001b[0mtdd\u001b[0m\u001b[0;34m=\u001b[0m\u001b[0mcont\u001b[0m\u001b[0;34m(\u001b[0m\u001b[0mtdd\u001b[0m\u001b[0;34m,\u001b[0m\u001b[0mtemp_tdd\u001b[0m\u001b[0;34m)\u001b[0m\u001b[0;34m\u001b[0m\u001b[0;34m\u001b[0m\u001b[0m\n\u001b[0m\u001b[1;32m     77\u001b[0m         \u001b[0;32mreturn\u001b[0m \u001b[0mtdd\u001b[0m\u001b[0;34m\u001b[0m\u001b[0;34m\u001b[0m\u001b[0m\n\u001b[1;32m     78\u001b[0m \u001b[0;34m\u001b[0m\u001b[0m\n",
      "\u001b[0;32m~/downloads/TDD/Symbol_TDD/TDD/TDD2.py\u001b[0m in \u001b[0;36mcont\u001b[0;34m(tdd1, tdd2)\u001b[0m\n\u001b[1;32m    551\u001b[0m     \u001b[0mcont_order\u001b[0m\u001b[0;34m[\u001b[0m\u001b[0;36m1\u001b[0m\u001b[0;34m]\u001b[0m\u001b[0;34m.\u001b[0m\u001b[0mappend\u001b[0m\u001b[0;34m(\u001b[0m\u001b[0mfloat\u001b[0m\u001b[0;34m(\u001b[0m\u001b[0;34m'inf'\u001b[0m\u001b[0;34m)\u001b[0m\u001b[0;34m)\u001b[0m\u001b[0;34m\u001b[0m\u001b[0;34m\u001b[0m\u001b[0m\n\u001b[1;32m    552\u001b[0m \u001b[0;34m\u001b[0m\u001b[0m\n\u001b[0;32m--> 553\u001b[0;31m     \u001b[0mtdd\u001b[0m\u001b[0;34m=\u001b[0m\u001b[0mcontract\u001b[0m\u001b[0;34m(\u001b[0m\u001b[0mtdd1\u001b[0m\u001b[0;34m,\u001b[0m\u001b[0mtdd2\u001b[0m\u001b[0;34m,\u001b[0m\u001b[0mkey_2_new_key\u001b[0m\u001b[0;34m,\u001b[0m\u001b[0mcont_order\u001b[0m\u001b[0;34m,\u001b[0m\u001b[0mlen\u001b[0m\u001b[0;34m(\u001b[0m\u001b[0mset\u001b[0m\u001b[0;34m(\u001b[0m\u001b[0mvar_cont_idx\u001b[0m\u001b[0;34m)\u001b[0m\u001b[0;34m)\u001b[0m\u001b[0;34m)\u001b[0m\u001b[0;34m\u001b[0m\u001b[0;34m\u001b[0m\u001b[0m\n\u001b[0m\u001b[1;32m    554\u001b[0m     \u001b[0mtdd\u001b[0m\u001b[0;34m.\u001b[0m\u001b[0mindex_set\u001b[0m\u001b[0;34m=\u001b[0m\u001b[0mvar_out\u001b[0m\u001b[0;34m\u001b[0m\u001b[0;34m\u001b[0m\u001b[0m\n\u001b[1;32m    555\u001b[0m     \u001b[0mtdd\u001b[0m\u001b[0;34m.\u001b[0m\u001b[0mindex_2_key\u001b[0m\u001b[0;34m=\u001b[0m\u001b[0midx_2_key\u001b[0m\u001b[0;34m\u001b[0m\u001b[0;34m\u001b[0m\u001b[0m\n",
      "\u001b[0;32m~/downloads/TDD/Symbol_TDD/TDD/TDD2.py\u001b[0m in \u001b[0;36mcontract\u001b[0;34m(tdd1, tdd2, key_2_new_key, cont_order, cont_num)\u001b[0m\n\u001b[1;32m    692\u001b[0m             \u001b[0mthe_successors\u001b[0m\u001b[0;34m=\u001b[0m\u001b[0;34m[\u001b[0m\u001b[0;34m]\u001b[0m\u001b[0;34m\u001b[0m\u001b[0;34m\u001b[0m\u001b[0m\n\u001b[1;32m    693\u001b[0m             \u001b[0;32mfor\u001b[0m \u001b[0mk\u001b[0m \u001b[0;32min\u001b[0m \u001b[0mrange\u001b[0m\u001b[0;34m(\u001b[0m\u001b[0mtdd2\u001b[0m\u001b[0;34m.\u001b[0m\u001b[0mnode\u001b[0m\u001b[0;34m.\u001b[0m\u001b[0msucc_num\u001b[0m\u001b[0;34m)\u001b[0m\u001b[0;34m:\u001b[0m\u001b[0;34m\u001b[0m\u001b[0;34m\u001b[0m\u001b[0m\n\u001b[0;32m--> 694\u001b[0;31m                 \u001b[0mres\u001b[0m\u001b[0;34m=\u001b[0m\u001b[0mcontract\u001b[0m\u001b[0;34m(\u001b[0m\u001b[0mtdd1\u001b[0m\u001b[0;34m,\u001b[0m\u001b[0mSlicing\u001b[0m\u001b[0;34m(\u001b[0m\u001b[0mtdd2\u001b[0m\u001b[0;34m,\u001b[0m\u001b[0mk2\u001b[0m\u001b[0;34m,\u001b[0m\u001b[0mk\u001b[0m\u001b[0;34m)\u001b[0m\u001b[0;34m,\u001b[0m\u001b[0mkey_2_new_key\u001b[0m\u001b[0;34m,\u001b[0m\u001b[0mcont_order\u001b[0m\u001b[0;34m,\u001b[0m\u001b[0mcont_num\u001b[0m\u001b[0;34m)\u001b[0m\u001b[0;34m\u001b[0m\u001b[0;34m\u001b[0m\u001b[0m\n\u001b[0m\u001b[1;32m    695\u001b[0m                 \u001b[0mthe_successors\u001b[0m\u001b[0;34m.\u001b[0m\u001b[0mappend\u001b[0m\u001b[0;34m(\u001b[0m\u001b[0mres\u001b[0m\u001b[0;34m)\u001b[0m\u001b[0;34m\u001b[0m\u001b[0;34m\u001b[0m\u001b[0m\n\u001b[1;32m    696\u001b[0m             \u001b[0mtdd\u001b[0m\u001b[0;34m=\u001b[0m\u001b[0mnormalize\u001b[0m\u001b[0;34m(\u001b[0m\u001b[0mthe_key\u001b[0m\u001b[0;34m,\u001b[0m\u001b[0mthe_successors\u001b[0m\u001b[0;34m)\u001b[0m\u001b[0;34m\u001b[0m\u001b[0;34m\u001b[0m\u001b[0m\n",
      "\u001b[0;32m~/downloads/TDD/Symbol_TDD/TDD/TDD2.py\u001b[0m in \u001b[0;36mcontract\u001b[0;34m(tdd1, tdd2, key_2_new_key, cont_order, cont_num)\u001b[0m\n\u001b[1;32m    666\u001b[0m             \u001b[0;32mfor\u001b[0m \u001b[0mk\u001b[0m \u001b[0;32min\u001b[0m \u001b[0mrange\u001b[0m\u001b[0;34m(\u001b[0m\u001b[0mtdd1\u001b[0m\u001b[0;34m.\u001b[0m\u001b[0mnode\u001b[0m\u001b[0;34m.\u001b[0m\u001b[0msucc_num\u001b[0m\u001b[0;34m)\u001b[0m\u001b[0;34m:\u001b[0m\u001b[0;34m\u001b[0m\u001b[0;34m\u001b[0m\u001b[0m\n\u001b[1;32m    667\u001b[0m                 \u001b[0mres\u001b[0m\u001b[0;34m=\u001b[0m\u001b[0mcontract\u001b[0m\u001b[0;34m(\u001b[0m\u001b[0mSlicing\u001b[0m\u001b[0;34m(\u001b[0m\u001b[0mtdd1\u001b[0m\u001b[0;34m,\u001b[0m\u001b[0mk1\u001b[0m\u001b[0;34m,\u001b[0m\u001b[0mk\u001b[0m\u001b[0;34m)\u001b[0m\u001b[0;34m,\u001b[0m\u001b[0mtdd2\u001b[0m\u001b[0;34m,\u001b[0m\u001b[0mkey_2_new_key\u001b[0m\u001b[0;34m,\u001b[0m\u001b[0mcont_order\u001b[0m\u001b[0;34m,\u001b[0m\u001b[0mcont_num\u001b[0m\u001b[0;34m-\u001b[0m\u001b[0;36m1\u001b[0m\u001b[0;34m)\u001b[0m\u001b[0;34m\u001b[0m\u001b[0;34m\u001b[0m\u001b[0m\n\u001b[0;32m--> 668\u001b[0;31m                 \u001b[0mtdd\u001b[0m\u001b[0;34m=\u001b[0m\u001b[0madd\u001b[0m\u001b[0;34m(\u001b[0m\u001b[0mtdd\u001b[0m\u001b[0;34m,\u001b[0m\u001b[0mres\u001b[0m\u001b[0;34m)\u001b[0m\u001b[0;34m\u001b[0m\u001b[0;34m\u001b[0m\u001b[0m\n\u001b[0m\u001b[1;32m    669\u001b[0m             \u001b[0minsert_2_computed_table\u001b[0m\u001b[0;34m(\u001b[0m\u001b[0;34m[\u001b[0m\u001b[0;34m'*'\u001b[0m\u001b[0;34m,\u001b[0m\u001b[0mtdd1\u001b[0m\u001b[0;34m,\u001b[0m\u001b[0mtdd2\u001b[0m\u001b[0;34m,\u001b[0m\u001b[0mtemp_key_2_new_key\u001b[0m\u001b[0;34m,\u001b[0m\u001b[0mcont_num\u001b[0m\u001b[0;34m]\u001b[0m\u001b[0;34m,\u001b[0m\u001b[0mtdd\u001b[0m\u001b[0;34m)\u001b[0m\u001b[0;34m\u001b[0m\u001b[0;34m\u001b[0m\u001b[0m\n\u001b[1;32m    670\u001b[0m             \u001b[0mtdd\u001b[0m\u001b[0;34m.\u001b[0m\u001b[0mweight\u001b[0m\u001b[0;34m=\u001b[0m\u001b[0mmul_weight\u001b[0m\u001b[0;34m(\u001b[0m\u001b[0mtdd\u001b[0m\u001b[0;34m.\u001b[0m\u001b[0mweight\u001b[0m\u001b[0;34m,\u001b[0m\u001b[0mmul_weight\u001b[0m\u001b[0;34m(\u001b[0m\u001b[0mw1\u001b[0m\u001b[0;34m,\u001b[0m\u001b[0mw2\u001b[0m\u001b[0;34m)\u001b[0m\u001b[0;34m)\u001b[0m\u001b[0;34m\u001b[0m\u001b[0;34m\u001b[0m\u001b[0m\n",
      "\u001b[0;32m~/downloads/TDD/Symbol_TDD/TDD/TDD2.py\u001b[0m in \u001b[0;36madd\u001b[0;34m(tdd1, tdd2)\u001b[0m\n\u001b[1;32m    764\u001b[0m \u001b[0;34m\u001b[0m\u001b[0m\n\u001b[1;32m    765\u001b[0m     \u001b[0;32mif\u001b[0m \u001b[0mtdd1\u001b[0m\u001b[0;34m.\u001b[0m\u001b[0mnode\u001b[0m\u001b[0;34m==\u001b[0m\u001b[0mtdd2\u001b[0m\u001b[0;34m.\u001b[0m\u001b[0mnode\u001b[0m\u001b[0;34m:\u001b[0m\u001b[0;34m\u001b[0m\u001b[0;34m\u001b[0m\u001b[0m\n\u001b[0;32m--> 766\u001b[0;31m         \u001b[0mweig\u001b[0m\u001b[0;34m=\u001b[0m\u001b[0madd_weight\u001b[0m\u001b[0;34m(\u001b[0m\u001b[0mtdd1\u001b[0m\u001b[0;34m.\u001b[0m\u001b[0mweight\u001b[0m\u001b[0;34m,\u001b[0m\u001b[0mtdd2\u001b[0m\u001b[0;34m.\u001b[0m\u001b[0mweight\u001b[0m\u001b[0;34m)\u001b[0m\u001b[0;34m\u001b[0m\u001b[0;34m\u001b[0m\u001b[0m\n\u001b[0m\u001b[1;32m    767\u001b[0m         \u001b[0;32mif\u001b[0m \u001b[0mweig\u001b[0m\u001b[0;34m==\u001b[0m\u001b[0;34m[\u001b[0m\u001b[0mS\u001b[0m\u001b[0;34m.\u001b[0m\u001b[0mZero\u001b[0m\u001b[0;34m]\u001b[0m\u001b[0;34m:\u001b[0m\u001b[0;34m\u001b[0m\u001b[0;34m\u001b[0m\u001b[0m\n\u001b[1;32m    768\u001b[0m             \u001b[0mterm\u001b[0m\u001b[0;34m=\u001b[0m\u001b[0mFind_Or_Add_Unique_table\u001b[0m\u001b[0;34m(\u001b[0m\u001b[0;34m-\u001b[0m\u001b[0;36m1\u001b[0m\u001b[0;34m)\u001b[0m\u001b[0;34m\u001b[0m\u001b[0;34m\u001b[0m\u001b[0m\n",
      "\u001b[0;32m~/downloads/TDD/Symbol_TDD/TDD/TDD2.py\u001b[0m in \u001b[0;36madd_weight\u001b[0;34m(w1, w2)\u001b[0m\n\u001b[1;32m    590\u001b[0m     \u001b[0mr2\u001b[0m\u001b[0;34m=\u001b[0m\u001b[0mget_sum_form\u001b[0m\u001b[0;34m(\u001b[0m\u001b[0mw2\u001b[0m\u001b[0;34m)\u001b[0m\u001b[0;34m\u001b[0m\u001b[0;34m\u001b[0m\u001b[0m\n\u001b[1;32m    591\u001b[0m \u001b[0;34m\u001b[0m\u001b[0m\n\u001b[0;32m--> 592\u001b[0;31m     \u001b[0;32mreturn\u001b[0m \u001b[0mto_cnf2\u001b[0m\u001b[0;34m(\u001b[0m\u001b[0mr1\u001b[0m\u001b[0;34m+\u001b[0m\u001b[0mr2\u001b[0m\u001b[0;34m)\u001b[0m\u001b[0;34m\u001b[0m\u001b[0;34m\u001b[0m\u001b[0m\n\u001b[0m\u001b[1;32m    593\u001b[0m \u001b[0;34m\u001b[0m\u001b[0m\n\u001b[1;32m    594\u001b[0m \u001b[0;32mdef\u001b[0m \u001b[0mcontract\u001b[0m\u001b[0;34m(\u001b[0m\u001b[0mtdd1\u001b[0m\u001b[0;34m,\u001b[0m\u001b[0mtdd2\u001b[0m\u001b[0;34m,\u001b[0m\u001b[0mkey_2_new_key\u001b[0m\u001b[0;34m,\u001b[0m\u001b[0mcont_order\u001b[0m\u001b[0;34m,\u001b[0m\u001b[0mcont_num\u001b[0m\u001b[0;34m)\u001b[0m\u001b[0;34m:\u001b[0m\u001b[0;34m\u001b[0m\u001b[0;34m\u001b[0m\u001b[0m\n",
      "\u001b[0;32m~/downloads/TDD/Symbol_TDD/TDD/TDD2.py\u001b[0m in \u001b[0;36mto_cnf2\u001b[0;34m(expr, qubit_num)\u001b[0m\n\u001b[1;32m    170\u001b[0m         \u001b[0mfx0\u001b[0m\u001b[0;34m=\u001b[0m\u001b[0msympy\u001b[0m\u001b[0;34m.\u001b[0m\u001b[0mPoly\u001b[0m\u001b[0;34m(\u001b[0m\u001b[0mres\u001b[0m\u001b[0;34m[\u001b[0m\u001b[0;34m-\u001b[0m\u001b[0;36m1\u001b[0m\u001b[0;34m]\u001b[0m\u001b[0;34m,\u001b[0m\u001b[0mxn\u001b[0m\u001b[0;34m[\u001b[0m\u001b[0mi\u001b[0m\u001b[0;34m]\u001b[0m\u001b[0;34m)\u001b[0m\u001b[0;34m.\u001b[0m\u001b[0mcoeffs\u001b[0m\u001b[0;34m(\u001b[0m\u001b[0;34m)\u001b[0m\u001b[0;34m[\u001b[0m\u001b[0;36m0\u001b[0m\u001b[0;34m]\u001b[0m\u001b[0;34m\u001b[0m\u001b[0;34m\u001b[0m\u001b[0m\n\u001b[1;32m    171\u001b[0m         \u001b[0mcp\u001b[0m\u001b[0;34m=\u001b[0m\u001b[0msympy\u001b[0m\u001b[0;34m.\u001b[0m\u001b[0msimplify\u001b[0m\u001b[0;34m(\u001b[0m\u001b[0mfx0\u001b[0m\u001b[0;34m/\u001b[0m\u001b[0mfx1\u001b[0m\u001b[0;34m)\u001b[0m\u001b[0;34m\u001b[0m\u001b[0;34m\u001b[0m\u001b[0m\n\u001b[0;32m--> 172\u001b[0;31m         \u001b[0mres\u001b[0m\u001b[0;34m[\u001b[0m\u001b[0mi\u001b[0m\u001b[0;34m]\u001b[0m\u001b[0;34m=\u001b[0m\u001b[0mx\u001b[0m\u001b[0;34m[\u001b[0m\u001b[0mi\u001b[0m\u001b[0;34m]\u001b[0m\u001b[0;34m+\u001b[0m\u001b[0mcp\u001b[0m\u001b[0;34m*\u001b[0m\u001b[0mxn\u001b[0m\u001b[0;34m[\u001b[0m\u001b[0mi\u001b[0m\u001b[0;34m]\u001b[0m\u001b[0;34m\u001b[0m\u001b[0;34m\u001b[0m\u001b[0m\n\u001b[0m\u001b[1;32m    173\u001b[0m         \u001b[0;32mif\u001b[0m \u001b[0;32mnot\u001b[0m \u001b[0mfx1\u001b[0m\u001b[0;34m==\u001b[0m\u001b[0;36m1\u001b[0m\u001b[0;34m:\u001b[0m\u001b[0;34m\u001b[0m\u001b[0;34m\u001b[0m\u001b[0m\n\u001b[1;32m    174\u001b[0m             \u001b[0mres\u001b[0m\u001b[0;34m.\u001b[0m\u001b[0mappend\u001b[0m\u001b[0;34m(\u001b[0m\u001b[0mfx1\u001b[0m\u001b[0;34m)\u001b[0m\u001b[0;34m\u001b[0m\u001b[0;34m\u001b[0m\u001b[0m\n",
      "\u001b[0;31mIndexError\u001b[0m: list assignment index out of range"
     ]
    }
   ],
   "source": [
    "H=1/np.sqrt(2)*np.array([[1,1],[1,-1]])\n",
    "var2=[Index('x0'),Index('y0')]\n",
    "ts2=Tensor(H,var2)\n",
    "# ts2.tdd().show()\n",
    "tn=TensorNetwork([ts1,ts2])\n",
    "tdd=tn.cont()\n",
    "tdd.show()\n",
    "# Clear_TDD()"
   ]
  },
  {
   "cell_type": "code",
   "execution_count": null,
   "metadata": {
    "scrolled": false
   },
   "outputs": [
    {
     "name": "stdout",
     "output_type": "stream",
     "text": [
      "-------------\n",
      "0.707107*xn0\n",
      "[0.707107*xn0]\n",
      "-------------\n",
      "-------------\n",
      "0.707107*x0\n",
      "[0.707107*x0]\n",
      "-------------\n",
      "-------------\n",
      "0.707107*x0 + 0.707107*xn0\n",
      "[0.707107*x0 + 0.707107*xn0]\n",
      "-------------\n",
      "-------------\n",
      "-0.707107*x0\n",
      "[-0.707107*x0]\n",
      "-------------\n",
      "-------------\n",
      "-0.707107*x0 + 0.707107*xn0\n",
      "[-0.707107*x0 + 0.707107*xn0]\n",
      "-------------\n",
      "-------------\n",
      "I*x1\n",
      "[1.0*I*x1]\n",
      "-------------\n",
      "-------------\n",
      "0.707107*xn1\n",
      "[0.707107*xn1]\n",
      "-------------\n",
      "-------------\n",
      "0.707107*x1\n",
      "[0.707107*x1]\n",
      "-------------\n",
      "-------------\n",
      "0.707107*x1 + 0.707107*xn1\n",
      "[0.707107*x1 + 0.707107*xn1]\n",
      "-------------\n",
      "-------------\n",
      "-0.707107*x1\n",
      "[-0.707107*x1]\n",
      "-------------\n",
      "-------------\n",
      "-0.707107*x1 + 0.707107*xn1\n",
      "[-0.707107*x1 + 0.707107*xn1]\n",
      "-------------\n",
      "-------------\n",
      "0.707107*xn1\n",
      "[0.707107*xn1]\n",
      "-------------\n",
      "-------------\n",
      "0.707107*I*x1\n",
      "[0.707107*I*x1]\n",
      "-------------\n",
      "-------------\n",
      "0.707107*I*x1 + 0.707107*xn1\n",
      "[0.707107*I*(x1 - I*xn1)]\n",
      "-------------\n",
      "-------------\n",
      "-0.707107*I*x1\n",
      "[-0.707107*I*x1]\n",
      "-------------\n",
      "-------------\n",
      "-0.707107*I*x1 + 0.707107*xn1\n",
      "[-0.707107*I*(x1 + I*xn1)]\n",
      "-------------\n",
      "-------------\n",
      "0.707107*I*(-x0 + xn0)*(x1 - I*xn1)\n",
      "[-0.707107*I*(x1 - I*xn1), x0 - xn0]\n",
      "-------------\n",
      "-------------\n",
      "(0.707107*x0 + 0.707107*xn0)*(0.707107*x1 + 0.707107*xn1)\n",
      "[0.5*x0 + 0.5*xn0, x1 + xn1]\n",
      "-------------\n",
      "-------------\n",
      "x2*(0.707107 + 0.707107*I)\n",
      "[x2*(0.707107 + 0.707107*I)]\n",
      "-------------\n",
      "-------------\n",
      "I*x2\n",
      "[1.0*I*x2]\n",
      "-------------\n",
      "-------------\n",
      "x2*(-0.707107 + 0.707107*I)\n",
      "[x2*(-0.707107 + 0.707107*I)]\n",
      "-------------\n",
      "-------------\n",
      "0.707107*xn2\n",
      "[0.707107*xn2]\n",
      "-------------\n",
      "-------------\n",
      "0.707107*x2\n",
      "[0.707107*x2]\n",
      "-------------\n",
      "-------------\n",
      "0.707107*x2 + 0.707107*xn2\n",
      "[0.707107*x2 + 0.707107*xn2]\n",
      "-------------\n",
      "-------------\n",
      "-0.707107*x2\n",
      "[-0.707107*x2]\n",
      "-------------\n",
      "-------------\n",
      "-0.707107*x2 + 0.707107*xn2\n",
      "[-0.707107*x2 + 0.707107*xn2]\n",
      "-------------\n",
      "-------------\n",
      "0.707107*xn2\n",
      "[0.707107*xn2]\n",
      "-------------\n",
      "-------------\n",
      "0.707107*I*x2\n",
      "[0.707107*I*x2]\n",
      "-------------\n",
      "-------------\n",
      "0.707107*I*x2 + 0.707107*xn2\n",
      "[0.707107*I*(x2 - I*xn2)]\n",
      "-------------\n",
      "-------------\n",
      "-0.707107*I*x2\n",
      "[-0.707107*I*x2]\n",
      "-------------\n",
      "-------------\n",
      "-0.707107*I*x2 + 0.707107*xn2\n",
      "[-0.707107*I*(x2 + I*xn2)]\n",
      "-------------\n",
      "-------------\n",
      "0.707107*I*(-x1 + xn1)*(x2 - I*xn2)\n",
      "[-0.707107*I*(x2 - I*xn2), x1 - xn1]\n",
      "-------------\n",
      "-------------\n",
      "0.707107*xn2\n",
      "[0.707107*xn2]\n",
      "-------------\n",
      "-------------\n",
      "x2*(0.5 + 0.5*I)\n",
      "[x2*(0.5 + 0.5*I)]\n",
      "-------------\n",
      "-------------\n",
      "x2*(0.5 + 0.5*I) + 0.707107*xn2\n",
      "[(0.5 + 0.5*I)*(x2 + xn2*(0.707107 - 0.707107*I))]\n",
      "-------------\n",
      "-------------\n",
      "x2*(-0.5 - 0.5*I)\n",
      "[x2*(-0.5 - 0.5*I)]\n",
      "-------------\n",
      "-------------\n",
      "x2*(-0.5 - 0.5*I) + 0.707107*xn2\n",
      "[(-0.5 - 0.5*I)*(x2 + xn2*(-0.707107 + 0.707107*I))]\n",
      "-------------\n",
      "-------------\n",
      "0.707107*xn2\n",
      "[0.707107*xn2]\n",
      "-------------\n",
      "-------------\n",
      "x2*(-0.5 + 0.5*I)\n",
      "[x2*(-0.5 + 0.5*I)]\n",
      "-------------\n",
      "-------------\n",
      "x2*(-0.5 + 0.5*I) + 0.707107*xn2\n",
      "[(-0.5 + 0.5*I)*(x2 + xn2*(-0.707107 - 0.707107*I))]\n",
      "-------------\n",
      "-------------\n",
      "x2*(0.5 - 0.5*I)\n",
      "[x2*(0.5 - 0.5*I)]\n",
      "-------------\n",
      "-------------\n",
      "x2*(0.5 - 0.5*I) + 0.707107*xn2\n",
      "[(0.5 - 0.5*I)*(x2 + xn2*(0.707107 + 0.707107*I))]\n",
      "-------------\n",
      "-------------\n",
      "nan\n",
      "[nan]\n",
      "-------------\n"
     ]
    },
    {
     "data": {
      "image/png": "[encoded data removed]",
      "text/plain": [
       "<IPython.core.display.Image object>"
      ]
     },
     "execution_count": 28,
     "metadata": {},
     "output_type": "execute_result"
    }
   ],
   "source": [
    "path='Benchmarks/'\n",
    "file_name='qft_3.qasm'\n",
    "cir=QuantumCircuit.from_qasm_file(path+file_name)\n",
    "tn,indices=cir_2_tn(cir)\n",
    "for k in range(3):\n",
    "    x_k='x'+str(k)\n",
    "    xn_k='xn'+str(k)\n",
    "    s=Symbol(x_k)\n",
    "    ns=Symbol(xn_k)\n",
    "    U=np.array([ns,s])\n",
    "#     U=np.array([1,0])\n",
    "    temp_ts=Tensor(U,[Index(x_k)])\n",
    "    tn.tensors.insert(0,temp_ts)\n",
    "Ini_TDD(indices)\n",
    "\n",
    "## bug...occurs\n",
    "tdd=tn.cont()\n",
    "\n",
    "# tdd=renorm(tdd)\n",
    "tdd.show()"
   ]
  },
  {
   "cell_type": "code",
   "execution_count": null,
   "metadata": {},
   "outputs": [
    {
     "name": "stdout",
     "output_type": "stream",
     "text": [
      "<class 'sympy.core.mul.Mul'>\n",
      "s: (c0*xn0 + x0)*(c1*xn1 + x1)*(c2*xn2 + x2)\n",
      "--------------------------loop1--------------------------\n",
      "f|x0=1=>coeff x0 : c1*c2*xn1*xn2 + c1*x2*xn1 + c2*x1*xn2 + x1*x2\n",
      "f|x0=0=>coeff xn0 : c0*c1*c2*xn1*xn2 + c0*c1*x2*xn1 + c0*c2*x1*xn2 + c0*x1*x2\n",
      "c0= c0\n",
      "[c0*xn0 + x0, c1*c2*xn1*xn2 + c1*x2*xn1 + c2*x1*xn2 + x1*x2]\n",
      "--------------------------loop2--------------------------\n",
      "f|x1=1=>coeff x1 : c2*xn2 + x2\n",
      "f|x1=0=>coeff xn1 : c1*c2*xn2 + c1*x2\n",
      "c1= c1\n",
      "[c0*xn0 + x0, c1*xn1 + x1, c2*xn2 + x2]\n"
     ]
    }
   ],
   "source": [
    "A=['x0','xn0','c0','x1','xn1','c1','x2','xn2','c2']\n",
    "[x0,xn0,c0,x1,xn1,c1,x2,xn2,c2]=symbols(A)\n",
    "s=[]\n",
    "s.append((x0+c0*xn0)*(x1+c1*xn1)*(x2+c2*xn2))\n",
    "print(type(s[-1]))\n",
    "print('s:',s[-1])\n",
    "\n",
    "print('--------------------------loop1--------------------------')\n",
    "fx01=sympy.Poly(s[-1],x0).coeffs()[0]\n",
    "fx00=sympy.Poly(s[-1],xn0).coeffs()[0]\n",
    "print('f|x0=1=>coeff x0 :',fx01)\n",
    "print('f|x0=0=>coeff xn0 :',fx00)\n",
    "c0p=sympy.simplify(sympy.Poly(s[-1],xn0).coeffs()[0]/sympy.Poly(s[-1],x0).coeffs()[0])\n",
    "print('c0=',c0p)\n",
    "s[0]=x0+c0p*xn0\n",
    "s.append(fx01)\n",
    "print(s)\n",
    "print('--------------------------loop2--------------------------')\n",
    "fx11=sympy.Poly(s[-1],x1).coeffs()[0]\n",
    "fx10=sympy.Poly(s[-1],xn1).coeffs()[0]\n",
    "print('f|x1=1=>coeff x1 :',fx11)\n",
    "print('f|x1=0=>coeff xn1 :',fx10)\n",
    "c1p=sympy.simplify(sympy.Poly(s[-1],xn1).coeffs()[0]/sympy.Poly(s[-1],x1).coeffs()[0])\n",
    "print('c1=',c1p)\n",
    "s[1]=x1+c1p*xn1\n",
    "s.append(fx11)\n",
    "print(s)\n"
   ]
  },
  {
   "cell_type": "code",
   "execution_count": 49,
   "metadata": {},
   "outputs": [
    {
     "name": "stdout",
     "output_type": "stream",
     "text": [
      "[6, [x0, x2 + 2*xn2/3, xn4]]\n"
     ]
    }
   ],
   "source": [
    "A=['x0','xn0','x1','xn1','x2','xn2','x3','xn3','x4','xn4','x5','xn5']\n",
    "[x0,xn0,x1,xn1,x2,xn2,x3,xn3,x4,xn4,x5,xn5]=sympy.symbols(A)\n",
    "weight=2\n",
    "expr=weight*(x0+0*xn0)*(x1+1*xn1)*(3*x2+2*xn2)*(xn4)*(x5+xn5)\n",
    "\n",
    "symbol_list=list(expr.free_symbols)\n",
    "# symbol_list = sorted(symbol_list, key = lambda e : e.name)\n",
    "order_dic={}\n",
    "symbol_dic={}\n",
    "using_qubit_list=[]\n",
    "res=[1,[]]\n",
    "for i , element in enumerate(symbol_list):\n",
    "    order_dic[element.name]=i \n",
    "    symbol_dic[element.name]=element\n",
    "    qubit_label=int(element.name.replace('x','').replace('n',''))\n",
    "\n",
    "    if qubit_label not in using_qubit_list:\n",
    "        using_qubit_list.append(qubit_label)\n",
    "        # print(qubit_label)\n",
    "    using_qubit_list=sorted(using_qubit_list)\n",
    "# print(order_dic)\n",
    "# print(symbol_dic)\n",
    "# print(using_qubit_list)    \n",
    "for i in using_qubit_list:\n",
    "    if 'x%i'%i in order_dic.keys() and 'xn%i'%i in order_dic.keys():\n",
    "        # print('x11:'+str(i))\n",
    "\n",
    "        fx1=sympy.Poly(expr,symbol_dic['x%i'%i]).coeffs()[0]\n",
    "        fx0=sympy.Poly(expr,symbol_dic['xn%i'%i]).coeffs()[0]\n",
    "        c=sympy.simplify(fx0/fx1)\n",
    "            \n",
    "        Factor=symbol_dic['x%i'%i]+c*symbol_dic['xn%i'%i]\n",
    "        expr=sympy.simplify(expr/Factor)\n",
    "        if c!=1:\n",
    "           res[1].append(Factor)\n",
    "\n",
    "    elif 'x%i'%i in order_dic.keys():\n",
    "        # print('x1:'+str(i))\n",
    "        Factor=symbol_dic['x%i'%i]\n",
    "        res[1].append(Factor)\n",
    "        expr=sympy.simplify(expr/Factor)\n",
    "    elif 'xn%i'%i in order_dic.keys():\n",
    "        # print('x0:'+str(i))\n",
    "        Factor=symbol_dic['xn%i'%i]\n",
    "        res[1].append(Factor)\n",
    "        expr=sympy.simplify(expr/Factor)\n",
    "res[0]=expr\n",
    "\n",
    "print(res)\n"
   ]
  },
  {
   "cell_type": "code",
   "execution_count": 50,
   "metadata": {},
   "outputs": [],
   "source": [
    "def normal_form(expr):\n",
    "    '''\n",
    "    The goal of this code is want to turn 'Psudo Boolean fuanction' into 'Normal_form'.\n",
    "    \n",
    "    input: \n",
    "        expr: Psudo Boolean fuanction.\n",
    "    output:\n",
    "        res: Normal_form \n",
    "            [weight,[x_1+c_1*x1_n,...,x_n+c_n*xn_n]]\n",
    "    '''\n",
    "    symbol_list=list(expr.free_symbols)\n",
    "    order_dic={}\n",
    "    symbol_dic={}\n",
    "    using_qubit_list=[]\n",
    "    res=[1,[]]\n",
    "    for i , element in enumerate(symbol_list):\n",
    "        order_dic[element.name]=i \n",
    "        symbol_dic[element.name]=element\n",
    "        qubit_label=int(element.name.replace('x','').replace('n',''))\n",
    "\n",
    "        if qubit_label not in using_qubit_list:\n",
    "            using_qubit_list.append(qubit_label)\n",
    "            # print(qubit_label)\n",
    "        using_qubit_list=sorted(using_qubit_list)\n",
    "    # print(order_dic)\n",
    "    # print(symbol_dic)\n",
    "    # print(using_qubit_list)    \n",
    "    for i in using_qubit_list:\n",
    "        if 'x%i'%i in order_dic.keys() and 'xn%i'%i in order_dic.keys():\n",
    "            # print('x11:'+str(i))\n",
    "            fx1=sympy.Poly(expr,symbol_dic['x%i'%i]).coeffs()[0]\n",
    "            fx0=sympy.Poly(expr,symbol_dic['xn%i'%i]).coeffs()[0]\n",
    "            c=sympy.simplify(fx0/fx1)\n",
    "            Factor=symbol_dic['x%i'%i]+c*symbol_dic['xn%i'%i]\n",
    "            expr=sympy.simplify(expr/Factor)\n",
    "            if c!=1:\n",
    "                res[1].append(Factor)\n",
    "        elif 'x%i'%i in order_dic.keys():\n",
    "            # print('x1:'+str(i))\n",
    "            Factor=symbol_dic['x%i'%i]\n",
    "            res[1].append(Factor)\n",
    "            expr=sympy.simplify(expr/Factor)\n",
    "        elif 'xn%i'%i in order_dic.keys():\n",
    "            # print('x0:'+str(i))\n",
    "            Factor=symbol_dic['xn%i'%i]\n",
    "            res[1].append(Factor)\n",
    "            expr=sympy.simplify(expr/Factor)\n",
    "    res[0]=expr\n",
    "\n",
    "    # print(res)\n",
    "    return res"
   ]
  },
  {
   "cell_type": "code",
   "execution_count": 52,
   "metadata": {},
   "outputs": [
    {
     "data": {
      "text/plain": [
       "[6, [x0, x2 + 2*xn2/3, xn4, x5 + 5*xn5]]"
      ]
     },
     "execution_count": 52,
     "metadata": {},
     "output_type": "execute_result"
    }
   ],
   "source": [
    "A=['x0','xn0','x1','xn1','x2','xn2','x3','xn3','x4','xn4','x5','xn5']\n",
    "[x0,xn0,x1,xn1,x2,xn2,x3,xn3,x4,xn4,x5,xn5]=sympy.symbols(A)\n",
    "weight=2\n",
    "expr=weight*(x0+0*xn0)*(x1+1*xn1)*(3*x2+2*xn2)*(xn4)*(x5+5*xn5)\n",
    "normal_form(expr)"
   ]
  },
  {
   "cell_type": "code",
   "execution_count": 5,
   "metadata": {},
   "outputs": [
    {
     "name": "stdout",
     "output_type": "stream",
     "text": [
      "0 x0\n",
      "1 x1\n",
      "2 x2\n",
      "3 x3\n",
      "4 xn0\n",
      "5 xn1\n",
      "6 xn2\n",
      "7 xn4\n",
      "dict_keys(['x0', 'x1', 'x2', 'x3', 'xn0', 'xn1', 'xn2', 'xn4'])\n",
      "{'0': x0 + 1, '1': x1 + 2, '2': x2 + 3}\n"
     ]
    }
   ],
   "source": [
    "# A=['x0','xn0','x1','xn1','x2','xn2','x3','xn3','x4','xn4']\n",
    "# [x0,xn0,x1,xn1,x2,xn2,x3,xn3,x4,xn4]=sympy.symbols(A)\n",
    "\n",
    "\n",
    "# expr=(x0+1*xn0)*(x1+2*xn1)*(x2+3*xn2)*(x3)*(xn4)\n",
    "\n",
    "# x_list=list(expr.free_symbols)\n",
    "# x_list = sorted(x_list, key = lambda e : e.name)\n",
    "# # print(x_list)\n",
    "\n",
    "# fx={}\n",
    "# for i, element in enumerate(x_list):\n",
    "#     fx[element.name]=sympy.Poly(expr,element).coeffs()[0]\n",
    "#     print(i,element.name)\n",
    "\n",
    "# xn_list = [e for e in x_list if e.name[1]=='n']\n",
    "# for e in xn_list :\n",
    "#     x_list.remove(e)\n",
    "# # print(x_list,xn_list)\n",
    "\n",
    "# print(fx.keys())\n",
    "\n",
    "# output_dict={}\n",
    "# for i in range (len(x_list)):\n",
    "#     qubit_label=x_list[i].name.replace('x','')\n",
    "#     if 'xn%s'%qubit_label in fx.keys():\n",
    "#         # print('xn%s'%qubit_label)\n",
    "#         # print('x%s'%qubit_label)\n",
    "#         c=sympy.simplify(fx['xn%s'%qubit_label]/fx['x%s'%qubit_label])\n",
    "#         output_dict[qubit_label]=x_list[i]+c\n",
    "\n",
    "# print(output_dict)\n",
    "\n",
    "# #     element=free_symbols[i].name.replace('x','')\n",
    "# #     print('xn%i'%int(element))\n",
    "# #     if 'xn%i'%int(element) in fx.keys():\n",
    "# #         print('1')\n",
    "\n",
    "# # print(fx)\n",
    "\n",
    "# # for i in range (3):\n",
    "# #     fx1=sympy.Poly(s[-1],x[i]).coeffs()[0]\n",
    "# #     fx0=sympy.Poly(s[-1],xn[i]).coeffs()[0]\n",
    "# #     cp=sympy.simplify(fx0/fx1)\n",
    "# #     s[i]=x[i]+cp*xn[i]\n",
    "# #     if not fx1==1:\n",
    "# #         s.append(fx1)\n",
    "# # print(s)\n",
    "\n",
    "\n"
   ]
  },
  {
   "cell_type": "code",
   "execution_count": 6,
   "metadata": {},
   "outputs": [],
   "source": [
    "def Primary_Normal_Norm(expr, qubit_num=5):\n",
    "    '''\n",
    "    The goal of this code is want to turn 'Psudo Boolean fuanction' into 'Primary_Normal_Norm'.\n",
    "\n",
    "    expr: Psudo Boolean fuanction.\n",
    "    qubit_num: Qubit number.\n",
    "\n",
    "    '''\n",
    "    x=[]\n",
    "    xn=[]\n",
    "    res=[expr]\n",
    "    \n",
    "    for i in range(qubit_num):\n",
    "        x.append(sympy.symbols('x%i'%i))\n",
    "        xn.append(sympy.symbols('xn%i'%i))\n",
    "    \n",
    "    for i in range (qubit_num):\n",
    "        fx1=sympy.Poly(res[-1],x[i]).coeffs()[0]\n",
    "        fx0=sympy.Poly(res[-1],xn[i]).coeffs()[0]\n",
    "        cp=sympy.simplify(fx0/fx1)\n",
    "        res[i]=x[i]+cp*xn[i]\n",
    "        if not fx1==1:\n",
    "            res.append(fx1)\n",
    "    return res"
   ]
  },
  {
   "cell_type": "code",
   "execution_count": 7,
   "metadata": {},
   "outputs": [
    {
     "data": {
      "text/plain": [
       "[c0*xn0 + x0, c1*xn1 + x1, c2*xn2 + x2]"
      ]
     },
     "execution_count": 7,
     "metadata": {},
     "output_type": "execute_result"
    }
   ],
   "source": [
    "A=['x0','xn0','c0','x1','xn1','c1','x2','xn2','c2']\n",
    "[x0,xn0,c0,x1,xn1,c1,x2,xn2,c2]=symbols(A)\n",
    "s=(x0+c0*xn0)*(x1+c1*xn1)*(x2+c2*xn2)\n",
    "Primary_Normal_Norm(s,3)"
   ]
  },
  {
   "cell_type": "code",
   "execution_count": 13,
   "metadata": {},
   "outputs": [
    {
     "name": "stdout",
     "output_type": "stream",
     "text": [
      "(-470832*I/665857, [(x1 - I*xn1, 1), (x0 - xn0, 1)])\n",
      "(-470832*I/665857, [(x0 - xn0, 1), (x1 - I*xn1, 1)])\n"
     ]
    }
   ],
   "source": [
    "A=['x0','xn0','x1','xn1']\n",
    "[x0,xn0,x1,xn1]=symbols(A)\n",
    "s=470832*I*(-x0 + xn0)*(x1 - I*xn1)/665857\n",
    "# type(s)\n",
    "#help(factor_list)\n",
    "print(factor_list(s, gaussian=True))\n",
    "print(factor_list(s, extension=[I]))\n"
   ]
  },
  {
   "cell_type": "code",
   "execution_count": null,
   "metadata": {},
   "outputs": [
    {
     "name": "stdout",
     "output_type": "stream",
     "text": [
      "<class 'sympy.core.add.Add'>\n"
     ]
    },
    {
     "data": {
      "text/plain": [
       "[2*x2 + 2*xn2 + 2, 3*x2*xn1 + 3*xn1*xn2 + 3*xn1]"
      ]
     },
     "execution_count": 14,
     "metadata": {},
     "output_type": "execute_result"
    }
   ],
   "source": [
    "x=symbols('x1')\n",
    "nx=symbols('xn1')\n",
    "y=symbols('x2')\n",
    "ny=symbols('xn2')\n",
    "s=2*x+3*nx+2*x*y+3*nx*y+2*x*ny+3*nx*ny+(0.0000001+0.0000001*I)*nx\n",
    "print(type(s))\n",
    "sympy.Poly(nsimplify(s,tolerance=1e-6,rational=False),x).coeffs()\n",
    "# print(s)\n",
    "# t=to_cnf2(s,n=2)\n",
    "# print(t)\n"
   ]
  },
  {
   "cell_type": "code",
   "execution_count": null,
   "metadata": {},
   "outputs": [
    {
     "data": {
      "text/latex": [
       "$\\displaystyle 1.4142 x_{1} + i x_{2}$"
      ],
      "text/plain": [
       "1.4142*x1 + I*x2"
      ]
     },
     "execution_count": 15,
     "metadata": {},
     "output_type": "execute_result"
    }
   ],
   "source": [
    "x=symbols('x1')\n",
    "nx=symbols('xn1')\n",
    "y=symbols('x2')\n",
    "ny=symbols('xn2')\n",
    "s=float('%.4f'%np.sqrt(2))*x+I*y\n",
    "# s=nsimplify(s,tolerance=1e-4,rational=False)\n",
    "s"
   ]
  },
  {
   "cell_type": "code",
   "execution_count": null,
   "metadata": {},
   "outputs": [
    {
     "name": "stdout",
     "output_type": "stream",
     "text": [
      "<class 'sympy.core.add.Add'>\n",
      "complex(a)=1.000+1.414j\n",
      "(1+1.4142135623730951j)\n",
      "1.0 1.4142135623730951\n"
     ]
    }
   ],
   "source": [
    "a=np.sqrt(2)*I+1\n",
    "b=np.sqrt(2)\n",
    "print(type(a))\n",
    "print(f'{complex(a)=:.3f}')\n",
    "print(complex(a))\n",
    "\n",
    "'({0.real:.4f} + {0.imag:.4f}i)'.format(complex(a))\n",
    "ca = complex(a)\n",
    "ca_real, ca_imag = ca.real, ca.imag\n",
    "print(ca_real, ca_imag)\n",
    "# print(type(b))\n",
    "# print(complex(b))\n",
    "# print(type(complex(b)))\n",
    "\n"
   ]
  }
 ],
 "metadata": {
  "kernelspec": {
   "display_name": "Python 3",
   "language": "python",
   "name": "python3"
  },
  "language_info": {
   "codemirror_mode": {
    "name": "ipython",
    "version": 3
   },
   "file_extension": ".py",
   "mimetype": "text/x-python",
   "name": "python",
   "nbconvert_exporter": "python",
   "pygments_lexer": "ipython3",
   "version": "3.9.7"
  }
 },
 "nbformat": 4,
 "nbformat_minor": 4
}
