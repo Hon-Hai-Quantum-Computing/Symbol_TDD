{
 "cells": [
  {
   "cell_type": "code",
   "execution_count": 1,
   "id": "2e8f8863-1694-40ca-938b-e7580bd27b70",
   "metadata": {},
   "outputs": [],
   "source": [
    "import sympy as sp\n",
    "from TDD.normal_form_v2 import PBF, NormalForm"
   ]
  },
  {
   "cell_type": "code",
   "execution_count": 2,
   "id": "d91d5cf4-6609-422c-8bcc-b28aa751e74c",
   "metadata": {},
   "outputs": [],
   "source": [
    "A=['x0','xn0','x1','xn1','x2','xn2','x3','xn3','x4','xn4','x5','xn5']\n",
    "[x0,xn0,x1,xn1,x2,xn2,x3,xn3,x4,xn4,x5,xn5]=sp.symbols(A)"
   ]
  },
  {
   "cell_type": "code",
   "execution_count": 3,
   "id": "4d4b7fd4-81f7-447d-b835-e72a61d84d30",
   "metadata": {},
   "outputs": [
    {
     "name": "stdout",
     "output_type": "stream",
     "text": [
      "(3) * [ x1*(x2 + 5*xn2) ], set={1, 2}\n",
      "(5) * [ (x1 + 3*xn1)*(x2 + 7*xn2) ], set={1, 2}\n"
     ]
    }
   ],
   "source": [
    "a1=3\n",
    "a2=5\n",
    "b1=2\n",
    "b2=3\n",
    "c1=5\n",
    "c2=7\n",
    "expr_add1 =a1*x1*(x2+c1*xn2)\n",
    "expr_add2 =a2*(x1+b2*xn1)*(x2+c2*xn2)\n",
    "nf_add1 = NormalForm.normal_form_init(PBF(expr_add1))\n",
    "nf_add2 = NormalForm.normal_form_init(PBF(expr_add2))\n",
    "# nf_add1 + nf_add2\n",
    "print(nf_add1)\n",
    "print(nf_add2)"
   ]
  },
  {
   "cell_type": "code",
   "execution_count": 4,
   "id": "d370e836",
   "metadata": {},
   "outputs": [
    {
     "name": "stderr",
     "output_type": "stream",
     "text": [
      "/home/Wei-Jia/anaconda3/envs/qiskit/lib/python3.9/site-packages/sympy/core/sympify.py:456: SymPyDeprecationWarning: \n",
      "\n",
      "String fallback in sympify has been deprecated since SymPy 1.6. Use\n",
      "sympify(str(obj)) or sympy.core.sympify.converter or obj._sympy_\n",
      "instead. See https://github.com/sympy/sympy/issues/18066 for more\n",
      "info.\n",
      "\n",
      "  SymPyDeprecationWarning(\n"
     ]
    },
    {
     "name": "stdout",
     "output_type": "stream",
     "text": [
      "sub_f0 (0) * [ 0 ], set=set() sub_g0 (15) * [ x2 + 7*xn2 ], set={2}\n",
      "sub_f1 (3) * [ x2 + 5*xn2 ], set={2} sub_g1 (5) * [ x2 + 7*xn2 ], set={2}\n",
      "sub_f0 (1) * [ 1 ], set=set() sub_g0 (7/3) * [ 1 ], set=set()\n",
      "sub_f1 (1/5) * [ 1 ], set=set() sub_g1 (1/3) * [ 1 ], set=set()\n",
      "h0 (1) * [ 1 ], set=set() h1 (1) * [ 1 ], set=set() w0 (1) * [ 1 ], set=set() (1) * [ xn2 ], set={2} w1 (1/5) * [ 1 ], set=set() (1) * [ x2 ], set={2}\n",
      "h_out: (1/5) * [ x2 + 5*xn2 ], set={2}\n",
      "h0 (1/7) * [ x2 + 7*xn2 ], set={2} h1 (1/5) * [ x2 + 5*xn2 ], set={2} w0 (105) * [ 1 ], set=set() (1) * [ xn1 ], set={1} w1 (15) * [ 1 ], set=set() (1) * [ x1 ], set={1}\n",
      "h_out: (3) * [ x1*(x2 + 5*xn2) + 5*xn1*(x2 + 7*xn2) ], set={1, 2}\n"
     ]
    },
    {
     "data": {
      "text/plain": [
       "((3) * [ x1*(x2 + 5*xn2) + 5*xn1*(x2 + 7*xn2) ], set={1, 2},\n",
       " (1) * [ x1 ], set={1},\n",
       " (1) * [ 5*x1*(x2 + 7*xn2/5)/3 + xn1 ], set={1, 2})"
      ]
     },
     "execution_count": 4,
     "metadata": {},
     "output_type": "execute_result"
    }
   ],
   "source": [
    "nf_add1.normalise(nf_add2)"
   ]
  },
  {
   "cell_type": "code",
   "execution_count": 5,
   "id": "a17ec8cd",
   "metadata": {},
   "outputs": [
    {
     "data": {
      "text/plain": [
       "(0.142857142857143) * [ x2 + 7*xn2 ], set=set()"
      ]
     },
     "execution_count": 5,
     "metadata": {},
     "output_type": "execute_result"
    }
   ],
   "source": [
    "NormalForm(PBF(3*x2 + 21*xn2),weight=1/21)"
   ]
  },
  {
   "cell_type": "code",
   "execution_count": 6,
   "id": "ca939720-2e9d-44ff-bf72-56d8890422a7",
   "metadata": {},
   "outputs": [
    {
     "data": {
      "text/latex": [
       "$\\displaystyle 3 x_{1} x_{2} + 6.0 xn_{1} \\left(x_{2} + \\frac{xn_{2}}{2}\\right)$"
      ],
      "text/plain": [
       "3*x1*x2 + 6.0*xn1*(x2 + xn2/2)"
      ]
     },
     "execution_count": 6,
     "metadata": {},
     "output_type": "execute_result"
    }
   ],
   "source": [
    "tt = 3*(x1 * x2 + 2.00000000000000*(xn1 * (x2 + xn2/2)))\n",
    "tt"
   ]
  },
  {
   "cell_type": "code",
   "execution_count": 7,
   "id": "aad9c395-25e1-4c90-8a88-478c5a08e9ed",
   "metadata": {},
   "outputs": [
    {
     "data": {
      "text/latex": [
       "$\\displaystyle x_{1} x_{2} + 1.0 xn_{1} \\left(2.0 x_{2} + 1.0 xn_{2}\\right)$"
      ],
      "text/plain": [
       "x1*x2 + 1.0*xn1*(2.0*x2 + 1.0*xn2)"
      ]
     },
     "execution_count": 7,
     "metadata": {},
     "output_type": "execute_result"
    }
   ],
   "source": [
    "tt_nf = NormalForm.normal_form_init(PBF(tt))\n",
    "tt_nf.pbf.expr"
   ]
  },
  {
   "cell_type": "code",
   "execution_count": 8,
   "id": "70ad5532",
   "metadata": {},
   "outputs": [
    {
     "data": {
      "text/plain": [
       "(3) * [ x1*x2 + 1.0*xn1*(2.0*x2 + 1.0*xn2) ], set={1, 2}"
      ]
     },
     "execution_count": 8,
     "metadata": {},
     "output_type": "execute_result"
    }
   ],
   "source": [
    "tt_nf"
   ]
  },
  {
   "cell_type": "code",
   "execution_count": 9,
   "id": "c2ae7d96",
   "metadata": {},
   "outputs": [
    {
     "data": {
      "text/latex": [
       "$\\displaystyle 3$"
      ],
      "text/plain": [
       "3"
      ]
     },
     "execution_count": 9,
     "metadata": {},
     "output_type": "execute_result"
    }
   ],
   "source": [
    "tt_nf.weight"
   ]
  },
  {
   "cell_type": "code",
   "execution_count": 10,
   "id": "75320d0c-4d07-4e7f-a11d-271906c24243",
   "metadata": {},
   "outputs": [
    {
     "data": {
      "text/plain": [
       "(6) * [ x1*x2 + 1.0*xn1*(2.0*x2 + 1.0*xn2) ], set={1, 2}"
      ]
     },
     "execution_count": 10,
     "metadata": {},
     "output_type": "execute_result"
    }
   ],
   "source": [
    "tt_nf+tt_nf"
   ]
  },
  {
   "cell_type": "code",
   "execution_count": 11,
   "id": "7c3894a9-4174-4e97-b0bc-783dab4f3bc1",
   "metadata": {},
   "outputs": [
    {
     "data": {
      "text/latex": [
       "$\\displaystyle x_{1} x_{2} x_{3} x_{4} xn_{5} + x_{1} xn_{2} + xn_{1}$"
      ],
      "text/plain": [
       "x1*x2*x3*x4*xn5 + x1*xn2 + xn1"
      ]
     },
     "execution_count": 11,
     "metadata": {},
     "output_type": "execute_result"
    }
   ],
   "source": [
    "expr8=x1*x2*x3*x4*xn5+x1*xn2+xn1\n",
    "expr8"
   ]
  },
  {
   "cell_type": "code",
   "execution_count": 12,
   "id": "54ab7ed4-c5f1-49aa-bd33-dedc8f17ad47",
   "metadata": {},
   "outputs": [
    {
     "data": {
      "text/plain": [
       "(1) * [ x1*(x2*x3*x4*xn5 + xn2) + xn1 ], set={1, 2, 3, 4, 5}"
      ]
     },
     "execution_count": 12,
     "metadata": {},
     "output_type": "execute_result"
    }
   ],
   "source": [
    "expr8_nf = NormalForm.normal_form_init(PBF(expr8))\n",
    "expr8_nf"
   ]
  },
  {
   "cell_type": "code",
   "execution_count": 13,
   "id": "8c34f8df-5abb-4c39-9e8a-e62725861527",
   "metadata": {},
   "outputs": [
    {
     "data": {
      "text/plain": [
       "(2) * [ x1*(x2*x3*x4*xn5 + xn2) + xn1 ], set={1, 2, 3, 4, 5}"
      ]
     },
     "execution_count": 13,
     "metadata": {},
     "output_type": "execute_result"
    }
   ],
   "source": [
    "expr8_nf + expr8_nf"
   ]
  },
  {
   "cell_type": "code",
   "execution_count": 14,
   "id": "951c7553-2c81-4b6f-a9d8-71ad34d41cf6",
   "metadata": {},
   "outputs": [
    {
     "data": {
      "text/latex": [
       "$\\displaystyle \\left(x_{1} + 3 xn_{1}\\right) \\left(3 x_{2} + 4 xn_{2}\\right) \\left(x_{3} + i xn_{3}\\right)$"
      ],
      "text/plain": [
       "(x1 + 3*xn1)*(3*x2 + 4*xn2)*(x3 + I*xn3)"
      ]
     },
     "execution_count": 14,
     "metadata": {},
     "output_type": "execute_result"
    }
   ],
   "source": [
    "weight=1\n",
    "expr2=weight*(x1+3*xn1)*(3*x2+4*xn2)*(x3+(sp.I)*xn3)\n",
    "expr2"
   ]
  },
  {
   "cell_type": "code",
   "execution_count": 15,
   "id": "aad3aa29-e15e-470a-b195-4b1b4710264d",
   "metadata": {},
   "outputs": [
    {
     "data": {
      "text/plain": [
       "(3) * [ (x1 + 3*xn1)*(x2 + 4*xn2/3)*(x3 + I*xn3) ], set={1, 2, 3}"
      ]
     },
     "execution_count": 15,
     "metadata": {},
     "output_type": "execute_result"
    }
   ],
   "source": [
    "expr2_nf = NormalForm.normal_form_init(PBF(expr2))\n",
    "expr2_nf"
   ]
  },
  {
   "cell_type": "code",
   "execution_count": 16,
   "id": "4ec13666-7baf-4a14-a843-64c8e7c8d38d",
   "metadata": {},
   "outputs": [
    {
     "data": {
      "text/latex": [
       "$\\displaystyle 2 \\left(x_{1} + 3 xn_{1}\\right) \\left(3 x_{2} + 4 xn_{2}\\right) \\left(x_{3} + i xn_{3}\\right)$"
      ],
      "text/plain": [
       "2*(x1 + 3*xn1)*(3*x2 + 4*xn2)*(x3 + I*xn3)"
      ]
     },
     "execution_count": 16,
     "metadata": {},
     "output_type": "execute_result"
    }
   ],
   "source": [
    "expr2+expr2"
   ]
  },
  {
   "cell_type": "code",
   "execution_count": 17,
   "id": "e458ee1e-574c-4f48-8af0-b17da8c12aa3",
   "metadata": {},
   "outputs": [
    {
     "data": {
      "text/plain": [
       "(1) * [ 1 ], set=set()"
      ]
     },
     "execution_count": 17,
     "metadata": {},
     "output_type": "execute_result"
    }
   ],
   "source": [
    "expr2_nf/expr2_nf"
   ]
  }
 ],
 "metadata": {
  "kernelspec": {
   "display_name": "Qiskit v0.34.2 (ipykernel)",
   "language": "python",
   "name": "python3"
  },
  "language_info": {
   "codemirror_mode": {
    "name": "ipython",
    "version": 3
   },
   "file_extension": ".py",
   "mimetype": "text/x-python",
   "name": "python",
   "nbconvert_exporter": "python",
   "pygments_lexer": "ipython3",
   "version": "3.9.7"
  },
  "widgets": {
   "application/vnd.jupyter.widget-state+json": {
    "state": {},
    "version_major": 2,
    "version_minor": 0
   }
  }
 },
 "nbformat": 4,
 "nbformat_minor": 5
}
