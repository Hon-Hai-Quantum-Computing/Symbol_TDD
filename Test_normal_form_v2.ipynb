{
 "cells": [
  {
   "cell_type": "code",
   "execution_count": 1,
   "id": "2e8f8863-1694-40ca-938b-e7580bd27b70",
   "metadata": {},
   "outputs": [],
   "source": [
    "import sympy as sp\n",
    "from TDD.normal_form_v2 import PBF, NormalForm"
   ]
  },
  {
   "cell_type": "code",
   "execution_count": 2,
   "id": "d91d5cf4-6609-422c-8bcc-b28aa751e74c",
   "metadata": {},
   "outputs": [],
   "source": [
    "A=['x0','xn0','x1','xn1','x2','xn2','x3','xn3','x4','xn4','x5','xn5']\n",
    "[x0,xn0,x1,xn1,x2,xn2,x3,xn3,x4,xn4,x5,xn5]=sp.symbols(A)"
   ]
  },
  {
   "cell_type": "code",
   "execution_count": 3,
   "id": "ca939720-2e9d-44ff-bf72-56d8890422a7",
   "metadata": {},
   "outputs": [
    {
     "data": {
      "text/latex": [
       "$\\displaystyle 3 x_{1} x_{2} + 6.0 xn_{1} \\left(x_{2} + \\frac{xn_{2}}{2}\\right)$"
      ],
      "text/plain": [
       "3*x1*x2 + 6.0*xn1*(x2 + xn2/2)"
      ]
     },
     "execution_count": 3,
     "metadata": {},
     "output_type": "execute_result"
    }
   ],
   "source": [
    "tt = 3*(x1 * x2 + 2.00000000000000*(xn1 * (x2 + xn2/2)))\n",
    "tt"
   ]
  },
  {
   "cell_type": "code",
   "execution_count": 4,
   "id": "aad9c395-25e1-4c90-8a88-478c5a08e9ed",
   "metadata": {},
   "outputs": [
    {
     "data": {
      "text/plain": [
       "(3) * [ x1*x2 + 2.0*xn1*(1.0*x2 + 0.5*xn2) ], set={1, 2}"
      ]
     },
     "execution_count": 4,
     "metadata": {},
     "output_type": "execute_result"
    }
   ],
   "source": [
    "tt_nf = NormalForm.normal_form_init(PBF(tt))\n",
    "tt_nf"
   ]
  },
  {
   "cell_type": "code",
   "execution_count": 5,
   "id": "75320d0c-4d07-4e7f-a11d-271906c24243",
   "metadata": {},
   "outputs": [
    {
     "data": {
      "text/plain": [
       "(6) * [ x1*x2 + 2.0*xn1*(1.0*x2 + 0.5*xn2) ], set={1, 2}"
      ]
     },
     "execution_count": 5,
     "metadata": {},
     "output_type": "execute_result"
    }
   ],
   "source": [
    "tt_nf+tt_nf"
   ]
  },
  {
   "cell_type": "code",
   "execution_count": 6,
   "id": "7c3894a9-4174-4e97-b0bc-783dab4f3bc1",
   "metadata": {},
   "outputs": [
    {
     "data": {
      "text/latex": [
       "$\\displaystyle x_{1} x_{2} x_{3} x_{4} xn_{5} + x_{1} xn_{2} + xn_{1}$"
      ],
      "text/plain": [
       "x1*x2*x3*x4*xn5 + x1*xn2 + xn1"
      ]
     },
     "execution_count": 6,
     "metadata": {},
     "output_type": "execute_result"
    }
   ],
   "source": [
    "expr8=x1*x2*x3*x4*xn5+x1*xn2+xn1\n",
    "expr8"
   ]
  },
  {
   "cell_type": "code",
   "execution_count": 7,
   "id": "54ab7ed4-c5f1-49aa-bd33-dedc8f17ad47",
   "metadata": {},
   "outputs": [
    {
     "data": {
      "text/plain": [
       "(1) * [ x1*(x2*x3*x4*xn5 + xn2) + xn1 ], set={1, 2, 3, 4, 5}"
      ]
     },
     "execution_count": 7,
     "metadata": {},
     "output_type": "execute_result"
    }
   ],
   "source": [
    "expr8_nf = NormalForm.normal_form_init(PBF(expr8))\n",
    "expr8_nf"
   ]
  },
  {
   "cell_type": "code",
   "execution_count": 8,
   "id": "8c34f8df-5abb-4c39-9e8a-e62725861527",
   "metadata": {},
   "outputs": [
    {
     "data": {
      "text/plain": [
       "(2) * [ x1*(x2*x3*x4*xn5 + xn2) + xn1 ], set={1, 2, 3, 4, 5}"
      ]
     },
     "execution_count": 8,
     "metadata": {},
     "output_type": "execute_result"
    }
   ],
   "source": [
    "expr8_nf + expr8_nf"
   ]
  },
  {
   "cell_type": "code",
   "execution_count": 9,
   "id": "951c7553-2c81-4b6f-a9d8-71ad34d41cf6",
   "metadata": {},
   "outputs": [
    {
     "data": {
      "text/latex": [
       "$\\displaystyle \\left(x_{1} + 3 xn_{1}\\right) \\left(3 x_{2} + 4 xn_{2}\\right) \\left(x_{3} + i xn_{3}\\right)$"
      ],
      "text/plain": [
       "(x1 + 3*xn1)*(3*x2 + 4*xn2)*(x3 + I*xn3)"
      ]
     },
     "execution_count": 9,
     "metadata": {},
     "output_type": "execute_result"
    }
   ],
   "source": [
    "weight=1\n",
    "expr2=weight*(x1+3*xn1)*(3*x2+4*xn2)*(x3+(sp.I)*xn3)\n",
    "expr2"
   ]
  },
  {
   "cell_type": "code",
   "execution_count": 10,
   "id": "aad3aa29-e15e-470a-b195-4b1b4710264d",
   "metadata": {},
   "outputs": [
    {
     "data": {
      "text/plain": [
       "(3) * [ (x1 + 3*xn1)*(x2 + 4*xn2/3)*(x3 + I*xn3) ], set={1, 2, 3}"
      ]
     },
     "execution_count": 10,
     "metadata": {},
     "output_type": "execute_result"
    }
   ],
   "source": [
    "expr2_nf = NormalForm.normal_form_init(PBF(expr2))\n",
    "expr2_nf"
   ]
  },
  {
   "cell_type": "code",
   "execution_count": 11,
   "id": "4ec13666-7baf-4a14-a843-64c8e7c8d38d",
   "metadata": {},
   "outputs": [
    {
     "data": {
      "text/latex": [
       "$\\displaystyle 2 \\left(x_{1} + 3 xn_{1}\\right) \\left(3 x_{2} + 4 xn_{2}\\right) \\left(x_{3} + i xn_{3}\\right)$"
      ],
      "text/plain": [
       "2*(x1 + 3*xn1)*(3*x2 + 4*xn2)*(x3 + I*xn3)"
      ]
     },
     "execution_count": 11,
     "metadata": {},
     "output_type": "execute_result"
    }
   ],
   "source": [
    "expr2+expr2"
   ]
  },
  {
   "cell_type": "code",
   "execution_count": 12,
   "id": "e458ee1e-574c-4f48-8af0-b17da8c12aa3",
   "metadata": {},
   "outputs": [
    {
     "data": {
      "text/plain": [
       "(1) * [ 1 ], set=set()"
      ]
     },
     "execution_count": 12,
     "metadata": {},
     "output_type": "execute_result"
    }
   ],
   "source": [
    "expr2_nf/expr2_nf"
   ]
  },
  {
   "cell_type": "code",
   "execution_count": 13,
   "id": "4d4b7fd4-81f7-447d-b835-e72a61d84d30",
   "metadata": {},
   "outputs": [
    {
     "data": {
      "text/plain": [
       "(3) * [ x1 + 8*xn1/3 ], set={1}"
      ]
     },
     "execution_count": 13,
     "metadata": {},
     "output_type": "execute_result"
    }
   ],
   "source": [
    "expr_add1 = 2*x1+5*xn1\n",
    "expr_add2 = x1+3*xn1\n",
    "nf_add1 = NormalForm.normal_form_init(PBF(expr_add1))\n",
    "nf_add2 = NormalForm.normal_form_init(PBF(expr_add2))\n",
    "nf_add1 + nf_add2"
   ]
  },
  {
   "cell_type": "code",
   "execution_count": 14,
   "id": "45bdff17-9139-40c5-9a32-a11c85cca863",
   "metadata": {},
   "outputs": [
    {
     "data": {
      "text/plain": [
       "(2) * [ (x1 + 15*xn1/2)*(3*x2 + 4*xn2)*(x3 + I*xn3) ], set={1, 2, 3}"
      ]
     },
     "execution_count": 14,
     "metadata": {},
     "output_type": "execute_result"
    }
   ],
   "source": [
    "expr2_nf*nf_add1"
   ]
  },
  {
   "cell_type": "code",
   "execution_count": 15,
   "id": "f65402d6-9b37-4c8f-9f60-dc34773adefa",
   "metadata": {},
   "outputs": [
    {
     "data": {
      "text/plain": [
       "(1/2) * [ (x1 + 6*xn1/5)*(3*x2 + 4*xn2)*(x3 + I*xn3) ], set={1, 2, 3}"
      ]
     },
     "execution_count": 15,
     "metadata": {},
     "output_type": "execute_result"
    }
   ],
   "source": [
    "expr2_nf/nf_add1"
   ]
  },
  {
   "cell_type": "code",
   "execution_count": null,
   "id": "a9c6c70e-0107-4a06-a35d-d6963aff7b18",
   "metadata": {},
   "outputs": [],
   "source": []
  }
 ],
 "metadata": {
  "kernelspec": {
   "display_name": "Qiskit v0.34.2 (ipykernel)",
   "language": "python",
   "name": "python3"
  },
  "language_info": {
   "codemirror_mode": {
    "name": "ipython",
    "version": 3
   },
   "file_extension": ".py",
   "mimetype": "text/x-python",
   "name": "python",
   "nbconvert_exporter": "python",
   "pygments_lexer": "ipython3",
   "version": "3.9.7"
  },
  "widgets": {
   "application/vnd.jupyter.widget-state+json": {
    "state": {},
    "version_major": 2,
    "version_minor": 0
   }
  }
 },
 "nbformat": 4,
 "nbformat_minor": 5
}
