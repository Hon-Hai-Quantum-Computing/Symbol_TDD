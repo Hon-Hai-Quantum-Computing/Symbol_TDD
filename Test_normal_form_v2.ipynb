{
 "cells": [
  {
   "cell_type": "code",
   "execution_count": 1,
   "id": "2e8f8863-1694-40ca-938b-e7580bd27b70",
   "metadata": {},
   "outputs": [],
   "source": [
    "import sympy as sp\n",
    "from TDD.normal_form_v2 import PBF, NormalForm"
   ]
  },
  {
   "cell_type": "code",
   "execution_count": 2,
   "id": "d91d5cf4-6609-422c-8bcc-b28aa751e74c",
   "metadata": {},
   "outputs": [],
   "source": [
    "A=['x0','xn0','x1','xn1','x2','xn2','x3','xn3','x4','xn4','x5','xn5']\n",
    "[x0,xn0,x1,xn1,x2,xn2,x3,xn3,x4,xn4,x5,xn5]=sp.symbols(A)"
   ]
  },
  {
   "cell_type": "code",
   "execution_count": 3,
   "id": "951c7553-2c81-4b6f-a9d8-71ad34d41cf6",
   "metadata": {},
   "outputs": [
    {
     "data": {
      "text/latex": [
       "$\\displaystyle \\left(x_{1} + 3 xn_{1}\\right) \\left(3 x_{2} + 4 xn_{2}\\right) \\left(x_{3} + i xn_{3}\\right)$"
      ],
      "text/plain": [
       "(x1 + 3*xn1)*(3*x2 + 4*xn2)*(x3 + I*xn3)"
      ]
     },
     "execution_count": 3,
     "metadata": {},
     "output_type": "execute_result"
    }
   ],
   "source": [
    "weight=1\n",
    "expr2=weight*(x1+3*xn1)*(3*x2+4*xn2)*(x3+(sp.I)*xn3)\n",
    "expr2"
   ]
  },
  {
   "cell_type": "code",
   "execution_count": 4,
   "id": "aad3aa29-e15e-470a-b195-4b1b4710264d",
   "metadata": {},
   "outputs": [
    {
     "name": "stdout",
     "output_type": "stream",
     "text": [
      "CPU times: user 847 ms, sys: 0 ns, total: 847 ms\n",
      "Wall time: 846 ms\n"
     ]
    },
    {
     "data": {
      "text/latex": [
       "$\\displaystyle 3 \\left(x_{1} + 3 xn_{1}\\right) \\left(x_{2} + \\frac{4 xn_{2}}{3}\\right) \\left(x_{3} + i xn_{3}\\right)$"
      ],
      "text/plain": [
       "<IPython.core.display.Math object>"
      ]
     },
     "execution_count": 4,
     "metadata": {},
     "output_type": "execute_result"
    }
   ],
   "source": [
    "%%time\n",
    "expr2_nf = NormalForm.normal_form_init(PBF(expr2))\n",
    "expr2_nf._repr_latex_"
   ]
  },
  {
   "cell_type": "code",
   "execution_count": 5,
   "id": "5bbdcf06",
   "metadata": {},
   "outputs": [
    {
     "data": {
      "text/latex": [
       "$\\displaystyle xn_{3} \\left(x_{0} + 5 xn_{0}\\right) \\left(x_{1} + 3 xn_{1}\\right) \\left(x_{2} + 4 xn_{2}\\right) \\left(x_{5} + 2 xn_{5}\\right)$"
      ],
      "text/plain": [
       "<IPython.core.display.Math object>"
      ]
     },
     "execution_count": 5,
     "metadata": {},
     "output_type": "execute_result"
    }
   ],
   "source": [
    "weight=1\n",
    "expr4=weight*(x0+5*xn0)*(x1+3*xn1)*(x2+4*xn2)*(xn3)*(x5+2*xn5)\n",
    "expr4_nf = NormalForm.normal_form_init(PBF(expr4))\n",
    "expr4_nf._repr_latex_"
   ]
  },
  {
   "cell_type": "code",
   "execution_count": 6,
   "id": "fc5df694",
   "metadata": {},
   "outputs": [],
   "source": [
    "expr7=x0*x1*x2+2*xn0*x1+xn0*xn1\n",
    "expr7_nf=NormalForm.normal_form_init(PBF(expr7))"
   ]
  },
  {
   "cell_type": "code",
   "execution_count": 7,
   "id": "7c3894a9-4174-4e97-b0bc-783dab4f3bc1",
   "metadata": {},
   "outputs": [
    {
     "data": {
      "text/latex": [
       "$\\displaystyle x_{1} x_{2} x_{3} x_{4} xn_{5} + x_{1} xn_{2} + xn_{1}$"
      ],
      "text/plain": [
       "x1*x2*x3*x4*xn5 + x1*xn2 + xn1"
      ]
     },
     "execution_count": 7,
     "metadata": {},
     "output_type": "execute_result"
    }
   ],
   "source": [
    "expr8=x1*x2*x3*x4*xn5+x1*xn2+xn1\n",
    "expr8"
   ]
  },
  {
   "cell_type": "code",
   "execution_count": 8,
   "id": "54ab7ed4-c5f1-49aa-bd33-dedc8f17ad47",
   "metadata": {},
   "outputs": [
    {
     "data": {
      "text/latex": [
       "$\\displaystyle x_{1} \\left(x_{2} x_{3} x_{4} xn_{5} + xn_{2}\\right) + xn_{1}$"
      ],
      "text/plain": [
       "<IPython.core.display.Math object>"
      ]
     },
     "execution_count": 8,
     "metadata": {},
     "output_type": "execute_result"
    }
   ],
   "source": [
    "expr8_nf = NormalForm.normal_form_init(PBF(expr8))\n",
    "expr8_nf._repr_latex_"
   ]
  },
  {
   "cell_type": "code",
   "execution_count": 9,
   "id": "964996ac",
   "metadata": {},
   "outputs": [
    {
     "data": {
      "text/latex": [
       "$\\displaystyle \\left(x_{0} + 5 xn_{0}\\right) \\left(x_{1} + 2 xn_{1}\\right) \\left(x_{2} x_{4} xn_{3} + x_{3} x_{4} xn_{2}\\right)$"
      ],
      "text/plain": [
       "<IPython.core.display.Math object>"
      ]
     },
     "execution_count": 9,
     "metadata": {},
     "output_type": "execute_result"
    }
   ],
   "source": [
    "expr9=(x0+5*xn0)*(x1+2*xn1)*(x2*xn3+xn2*x3)*x4\n",
    "expr9_nf=NormalForm.normal_form_init(PBF(expr9))\n",
    "expr9_nf._repr_latex_"
   ]
  },
  {
   "cell_type": "code",
   "execution_count": 10,
   "id": "f77df40b",
   "metadata": {},
   "outputs": [
    {
     "data": {
      "text/plain": [
       "2"
      ]
     },
     "execution_count": 10,
     "metadata": {},
     "output_type": "execute_result"
    }
   ],
   "source": [
    "fork_idx=expr9_nf.find_fork_idx()\n",
    "fork_idx"
   ]
  },
  {
   "cell_type": "code",
   "execution_count": 11,
   "id": "5d97b751",
   "metadata": {},
   "outputs": [
    {
     "name": "stdout",
     "output_type": "stream",
     "text": [
      "{0: (1, 5), 1: (1, 2)}\n"
     ]
    },
    {
     "data": {
      "text/plain": [
       "{0: (1, 5), 1: (1, 2)}"
      ]
     },
     "execution_count": 11,
     "metadata": {},
     "output_type": "execute_result"
    }
   ],
   "source": [
    "expr9_nf.mul_coeff_dict(fork_idx)"
   ]
  },
  {
   "cell_type": "code",
   "execution_count": 12,
   "id": "edd3537f",
   "metadata": {},
   "outputs": [
    {
     "data": {
      "text/plain": [
       "\"Add(Mul(Symbol('x1'), Add(Mul(Symbol('x2'), Symbol('x3'), Symbol('x4'), Symbol('xn5')), Symbol('xn2'))), Symbol('xn1'))\""
      ]
     },
     "execution_count": 12,
     "metadata": {},
     "output_type": "execute_result"
    }
   ],
   "source": [
    "sp.srepr(expr8_nf.pbf.expr)"
   ]
  }
 ],
 "metadata": {
  "kernelspec": {
   "display_name": "Qiskit v0.34.2 (ipykernel)",
   "language": "python",
   "name": "python3"
  },
  "language_info": {
   "codemirror_mode": {
    "name": "ipython",
    "version": 3
   },
   "file_extension": ".py",
   "mimetype": "text/x-python",
   "name": "python",
   "nbconvert_exporter": "python",
   "pygments_lexer": "ipython3",
   "version": "3.9.7"
  },
  "widgets": {
   "application/vnd.jupyter.widget-state+json": {
    "state": {},
    "version_major": 2,
    "version_minor": 0
   }
  }
 },
 "nbformat": 4,
 "nbformat_minor": 5
}
