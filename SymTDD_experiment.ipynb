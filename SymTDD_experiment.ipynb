{
 "cells": [
  {
   "cell_type": "code",
   "execution_count": 1,
   "metadata": {},
   "outputs": [],
   "source": [
    "import numpy as np\n",
    "from TDD.TDD import Index,Ini_TDD\n",
    "from TDD.TDD_Q import cir_2_tn\n",
    "from TDD.TN import Tensor\n",
    "\n",
    "from qiskit import QuantumCircuit\n",
    "from sympy import *\n",
    "from TDD.TDD import get_unique_table_num as gu1\n",
    "from TDD.SymTDD.BDD import get_unique_table_num as gu2\n",
    "\n",
    "\n",
    "import time , csv\n"
   ]
  },
  {
   "cell_type": "code",
   "execution_count": 3,
   "metadata": {},
   "outputs": [],
   "source": [
    "def simulation(input_cir, Benchmark_Name=None,symbolic=True, unique_table_reset=True,output_file=None):\n",
    "    if isinstance(input_cir,QuantumCircuit):\n",
    "        cir=input_cir\n",
    "    else:\n",
    "        cir=QuantumCircuit.from_qasm_file(input_cir)\n",
    "        if not Benchmark_Name:\n",
    "            Benchmark_Name=input_cir\n",
    "    tn,indices=cir_2_tn(cir)\n",
    "    if symbolic:\n",
    "        for k in range(tn.qubits_num):\n",
    "            x_k='x'+str(k)\n",
    "            xn_k='xn'+str(k)\n",
    "            s=Symbol(x_k)\n",
    "            ns=Symbol(xn_k)\n",
    "            U=np.array([ns,s])\n",
    "            # U=np.array([0,1])\n",
    "            temp_ts=Tensor(U,[Index(x_k)])\n",
    "            tn.tensors.insert(0,temp_ts)\n",
    "            if not x_k in indices:\n",
    "                indices.append(x_k)\n",
    "    t_start=time.time()\n",
    "    Ini_TDD(indices,n=300,type='SymTDD',unique_table_reset=unique_table_reset)\n",
    "    # Ini_TDD(indices,n=300,unique_table_reset=unique_table_reset)\n",
    "    tdd,Max_node_num=tn.cont(max_node=True)\n",
    "    Time=time.time()-t_start\n",
    "    print('Benchmark Name:',Benchmark_Name)\n",
    "    print('Time:',time.time()-t_start)\n",
    "    print('Qubit num.:',tn.qubits_num)\n",
    "    print('Gate num.:',len(cir.data))\n",
    "    print('Node num. max:',Max_node_num)\n",
    "    print('Node num. final:',tdd.node_number())\n",
    "    print('gu1:',gu1())\n",
    "    print('gu2:',gu2())\n",
    "    if output_file:\n",
    "        with open(output_file, 'a', newline='') as csvfile:\n",
    "            fieldnames = ['Benchmark Name', 'Qubit num.','Gate num.','Time','Node num. max','Node num. final','gu1','gu2']\n",
    "            writer = csv.DictWriter(csvfile, fieldnames=fieldnames)\n",
    "            writer.writerow({'Benchmark Name':Benchmark_Name,\n",
    "            'Qubit num.':tn.qubits_num,\n",
    "            'Gate num.':len(cir.data),\n",
    "            'Time':Time,\n",
    "            'Node num. max':Max_node_num,\n",
    "            'Node num. final':tdd.node_number(),\n",
    "            'gu1':gu1(),\n",
    "            'gu2':gu2()})\n",
    "    return tdd"
   ]
  },
  {
   "cell_type": "code",
   "execution_count": 4,
   "metadata": {},
   "outputs": [],
   "source": [
    "'''\n",
    "Inverse test\n",
    "'''\n",
    "def Inverse_test(input_file,optimizer=None,output_file=None):\n",
    "    cir=QuantumCircuit.from_qasm_file(input_file)\n",
    "    cir2=cir.inverse()\n",
    "    cir3=cir.compose(cir2)\n",
    "    tn,indices=cir_2_tn(cir3)\n",
    "    for k in range(tn.qubits_num):\n",
    "        x_k='x'+str(k)\n",
    "        xn_k='xn'+str(k)\n",
    "        s=Symbol(x_k)\n",
    "        ns=Symbol(xn_k)\n",
    "        U=np.array([ns,s])\n",
    "        # U=np.array([0,1])\n",
    "        temp_ts=Tensor(U,[Index(x_k)])\n",
    "        tn.tensors.insert(0,temp_ts)\n",
    "        tn.tensors.append(Tensor(np.array([[ns],[s]]),[Index('y%i'%k)]))\n",
    "        if not x_k in indices:\n",
    "            indices.append(x_k)\n",
    "    t_start=time.time()\n",
    "    Ini_TDD(indices,n=300,type='SymTDD')\n",
    "    tdd,Max_node_num=tn.cont(optimizer=optimizer,max_node=True)\n",
    "\n",
    "    Time=time.time()-t_start\n",
    "    # print('Benchmark Name:',input_file)\n",
    "    # print('Time:',Time)\n",
    "    # print('Qubit num.:',tn.qubits_num)\n",
    "    # print('Gate num.:',len(cir3.data))\n",
    "    # print('Node num. max:',Max_nodes[0])\n",
    "    # print('Node num. final:',tdd.node_number())\n",
    "    # print('gu1:',gu1())\n",
    "    # print('gu2:',gu2())\n",
    "    if output_file:\n",
    "        with open(output_file, 'a', newline='') as csvfile:\n",
    "            fieldnames = ['Benchmark Name', 'Qubit num.','Gate num.','Time','Node num. max','Node num. final','gu1','gu2']\n",
    "            writer = csv.DictWriter(csvfile, fieldnames=fieldnames)\n",
    "            writer.writerow({'Benchmark Name':input_file,\n",
    "            'Qubit num.':tn.qubits_num,\n",
    "            'Gate num.':len(cir3.data),\n",
    "            'Time':Time,\n",
    "            'Node num. max':Max_node_num,\n",
    "            'Node num. final':tdd.node_number(),\n",
    "            'gu1':gu1(),\n",
    "            'gu2':gu2()})\n",
    "    return tdd"
   ]
  },
  {
   "cell_type": "code",
   "execution_count": 5,
   "metadata": {},
   "outputs": [],
   "source": [
    "'''\n",
    "Fidelity test\n",
    "'''\n",
    "def Fidelity_test(input_file,noise=None,optimizer=None,output_file=None):\n",
    "    cir=QuantumCircuit.from_qasm_file(input_file)\n",
    "    cir2=cir.inverse()\n",
    "    #add noise\n",
    "    if noise==None:\n",
    "        cir.x(0)\n",
    "\n",
    "    cir3=cir.compose(cir2)\n",
    "    tn,indices=cir_2_tn(cir3)\n",
    "    for k in range(tn.qubits_num):\n",
    "        x_k='x'+str(k)\n",
    "        xn_k='xn'+str(k)\n",
    "        s=Symbol(x_k)\n",
    "        ns=Symbol(xn_k)\n",
    "        U=np.array([ns,s])\n",
    "        # U=np.array([0,1])\n",
    "        temp_ts=Tensor(U,[Index(x_k)])\n",
    "        tn.tensors.insert(0,temp_ts)\n",
    "        tn.tensors.append(Tensor(np.array([[ns],[s]]),[Index('y%i'%k)]))\n",
    "        if not x_k in indices:\n",
    "            indices.append(x_k)\n",
    "    t_start=time.time()\n",
    "    Ini_TDD(indices,n=300,type='SymTDD')\n",
    "    tdd,Max_node_num=tn.cont(optimizer=optimizer,max_node=True)\n",
    "\n",
    "    Time=time.time()-t_start\n",
    "    # print('Benchmark Name:',input_file)\n",
    "    # print('Time:',Time)\n",
    "    # print('Qubit num.:',tn.qubits_num)\n",
    "    # print('Gate num.:',len(cir3.data))\n",
    "    # print('Node num. max:',Max_nodes[0])\n",
    "    # print('Node num. final:',tdd.node_number())\n",
    "    # print('gu1:',gu1())\n",
    "    # print('gu2:',gu2())\n",
    "    if output_file:\n",
    "        with open(output_file, 'a', newline='') as csvfile:\n",
    "            fieldnames = ['Benchmark Name', 'Qubit num.','Gate num.','Time','Node num. max','Node num. final','gu1','gu2']\n",
    "            writer = csv.DictWriter(csvfile, fieldnames=fieldnames)\n",
    "            writer.writerow({'Benchmark Name':input_file,\n",
    "            'Qubit num.':tn.qubits_num,\n",
    "            'Gate num.':len(cir3.data),\n",
    "            'Time':Time,\n",
    "            'Node num. max':Max_node_num,\n",
    "            'Node num. final':tdd.node_number(),\n",
    "            'gu1':gu1(),\n",
    "            'gu2':gu2()})\n",
    "    return tdd"
   ]
  },
  {
   "cell_type": "code",
   "execution_count": 6,
   "metadata": {},
   "outputs": [
    {
     "name": "stdout",
     "output_type": "stream",
     "text": [
      "Benchmark Name: None\n",
      "Time: 0.0018079280853271484\n",
      "Qubit num.: 1\n",
      "Gate num.: 1\n",
      "Node num. max: 2\n",
      "Node num. final: 2\n",
      "gu1: 6\n",
      "gu2: 3\n"
     ]
    },
    {
     "data": {
      "image/png": "[encoded data removed]",
      "text/plain": [
       "<IPython.core.display.Image object>"
      ]
     },
     "execution_count": 6,
     "metadata": {},
     "output_type": "execute_result"
    }
   ],
   "source": [
    "import qiskit\n",
    "cir=qiskit.QuantumCircuit(2)\n",
    "cir.x(0)\n",
    "cir.draw('mpl')\n",
    "tdd=simulation(cir,symbolic=True)\n",
    "tdd.show()"
   ]
  },
  {
   "cell_type": "code",
   "execution_count": 7,
   "metadata": {},
   "outputs": [
    {
     "name": "stdout",
     "output_type": "stream",
     "text": [
      "Benchmark Name: Benchmarks/grover_3.qasm\n",
      "Time: 0.027655363082885742\n",
      "Qubit num.: 3\n",
      "Gate num.: 19\n",
      "Node num. max: 7\n",
      "Node num. final: 5\n",
      "gu1: 73\n",
      "gu2: 83\n"
     ]
    },
    {
     "data": {
      "image/png": "[encoded data removed]",
      "text/plain": [
       "<IPython.core.display.Image object>"
      ]
     },
     "execution_count": 7,
     "metadata": {},
     "output_type": "execute_result"
    }
   ],
   "source": [
    "import os\n",
    "path='Benchmarks/'\n",
    "files=os.listdir(path)\n",
    "\n",
    "tdd=simulation(path+files[0],symbolic=True)\n",
    "tdd.show()\n",
    "# # for i in range(len(files)):\n",
    "# for i in range(5,31):\n",
    "\n",
    "#     # print(files[i])\n",
    "#     # simulation(path+files[i],symbolic=True,output_file='Simulation_Standard D8s v3.csv')\n",
    "#     simulation(path+'qft_%i.qasm'%i,symbolic=True,output_file='Simulation_Standard D8s v3.csv')\n",
    "\n",
    "#     print(i)"
   ]
  },
  {
   "cell_type": "code",
   "execution_count": 8,
   "metadata": {},
   "outputs": [
    {
     "data": {
      "text/latex": [
       "$\\displaystyle 1.0 x_{0} - 1.0 x0'$"
      ],
      "text/plain": [
       "1.0*x0 - 1.0*x0'"
      ]
     },
     "execution_count": 8,
     "metadata": {},
     "output_type": "execute_result"
    }
   ],
   "source": [
    "tdd.node.successor[0].out_weight[1].expr()"
   ]
  },
  {
   "cell_type": "code",
   "execution_count": 9,
   "metadata": {},
   "outputs": [
    {
     "data": {
      "text/latex": [
       "$\\displaystyle 1.0 x_{0} x_{1} x2' + x_{2} \\cdot \\left(1.0 - 5.55111512312578 \\cdot 10^{-17} i\\right) \\left(1.0 x0' x_{1} + 1.0 x1'\\right)$"
      ],
      "text/plain": [
       "1.0*x0*x1*x2' + x2*(1.0 - 5.55111512312578e-17*I)*(1.0*x0'*x1 + 1.0*x1')"
      ]
     },
     "execution_count": 9,
     "metadata": {},
     "output_type": "execute_result"
    }
   ],
   "source": [
    "tdd.node.successor[0].successor[0].out_weight[1].expr()"
   ]
  },
  {
   "cell_type": "code",
   "execution_count": 10,
   "metadata": {},
   "outputs": [],
   "source": [
    "# import os\n",
    "# path='Benchmarks/'\n",
    "# files=os.listdir(path)\n",
    "\n",
    "# i=0\n",
    "# tdd2=Inverse_test(path+files[i])\n",
    "# ,output_file='Inverse_Standard D8s v3.csv')\n",
    "\n",
    "\n",
    "# for i in range(len(files)):\n",
    "#     Inverse_test(path+files[i],output_file='Inverse_Standard D8s v3.csv')\n",
    "#     print(i)"
   ]
  },
  {
   "cell_type": "code",
   "execution_count": 11,
   "metadata": {},
   "outputs": [],
   "source": [
    "# tdd2.show()"
   ]
  },
  {
   "cell_type": "code",
   "execution_count": 12,
   "metadata": {},
   "outputs": [],
   "source": [
    "# import os\n",
    "# path='Benchmarks/'\n",
    "# files=os.listdir(path)\n",
    "# i=0\n",
    "\n",
    "# tdd1=Fidelity_test(path+files[i])\n",
    "# # ,output_file='Fidelity D8s v3.csv')\n",
    "# tdd1.show()\n",
    "\n",
    "# for i in range(len(files)):\n",
    "#     Fidelity_test(path+files[i],output_file='Fidelity D8s v3.csv')\n",
    "#     print(i)"
   ]
  },
  {
   "cell_type": "code",
   "execution_count": 13,
   "metadata": {},
   "outputs": [],
   "source": [
    "\n",
    "# with open('Simulation_no_symbol_Standard D8s v3.csv', 'w', newline='') as csvfile:\n",
    "#     fieldnames = ['Benchmark Name', 'Qubit num.','Gate num.','Time','Node num. max','Node num. final','gu1','gu2']\n",
    "#     writer = csv.DictWriter(csvfile, fieldnames=fieldnames)\n",
    "#     writer.writeheader()\n"
   ]
  },
  {
   "cell_type": "code",
   "execution_count": 14,
   "metadata": {},
   "outputs": [],
   "source": [
    "\n",
    "# with open('Inverse_Standard D8s v3.csv', 'w', newline='') as csvfile:\n",
    "#     fieldnames = ['Benchmark Name', 'Qubit num.','Gate num.','Time','Node num. max','Node num. final','gu1','gu2']\n",
    "#     writer = csv.DictWriter(csvfile, fieldnames=fieldnames)\n",
    "#     writer.writeheader()\n",
    "\n"
   ]
  },
  {
   "cell_type": "code",
   "execution_count": 15,
   "metadata": {},
   "outputs": [],
   "source": [
    "# with open('Fidelity D8s v3.csv', 'w', newline='') as csvfile:\n",
    "#     fieldnames = ['Benchmark Name', 'Qubit num.','Gate num.','Time','Node num. max','Node num. final','gu1','gu2']\n",
    "#     writer = csv.DictWriter(csvfile, fieldnames=fieldnames)\n",
    "#     writer.writeheader()\n"
   ]
  }
 ],
 "metadata": {
  "kernelspec": {
   "display_name": "Python 3.9.7 ('qiskit': conda)",
   "language": "python",
   "name": "python3"
  },
  "language_info": {
   "codemirror_mode": {
    "name": "ipython",
    "version": 3
   },
   "file_extension": ".py",
   "mimetype": "text/x-python",
   "name": "python",
   "nbconvert_exporter": "python",
   "pygments_lexer": "ipython3",
   "version": "3.9.7"
  },
  "orig_nbformat": 4,
  "vscode": {
   "interpreter": {
    "hash": "06cba8887e6156d8cf780c05c96a3f62d3a6e417048d85a718fc61d158b1208c"
   }
  }
 },
 "nbformat": 4,
 "nbformat_minor": 2
}
