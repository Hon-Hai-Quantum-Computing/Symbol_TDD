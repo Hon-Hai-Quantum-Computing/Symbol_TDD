{
 "cells": [
  {
   "cell_type": "code",
   "execution_count": 1,
   "metadata": {},
   "outputs": [],
   "source": [
    "import numpy as np\n",
    "from TDD.TDD import Index,Ini_TDD,Clear_TDD,set_index_order,get_tdd,get_count\n",
    "from TDD.TDD_Q import cir_2_tn,get_real_qubit_num,add_trace_line,add_inputs,add_outputs\n",
    "from TDD.TDD_Q import reshape as reshape2\n",
    "from TDD.TN import Tensor,TensorNetwork\n",
    "\n",
    "from qiskit import QuantumCircuit\n",
    "from sympy import *\n",
    "from sympy.parsing.sympy_parser import parse_expr\n",
    "from TDD.TDD import get_unique_table_num as gu1\n",
    "from TDD.SymTDD.BDD import get_unique_table_num as gu2\n",
    "from TDD.SymTDD.BDD import get_count as B_get_count\n",
    "\n",
    "import time ,random, csv\n"
   ]
  },
  {
   "cell_type": "code",
   "execution_count": 2,
   "metadata": {},
   "outputs": [],
   "source": [
    "from TDD.TDD import global_norm\n",
    "# from TDD.TDD import TDD\n",
    "# def global_norm(tdd):\n",
    "#     node=tdd.node\n",
    "#     weight=tdd.weight\n",
    "\n",
    "#     if node.key==-1:\n",
    "#         return tdd\n",
    "\n",
    "#     h=weight\n",
    "#     tdd_list=[]\n",
    "#     for i in range (len(node.out_weight)):\n",
    "#         tdd_list.append(TDD(node.successor[i]))\n",
    "#         tdd_list[i].weight=h*node.out_weight[i]\n",
    "#         tdd_list[i]=global_norm(tdd_list[i])\n",
    "\n",
    "#     from TDD.TDD import normalize\n",
    "#     new_tdd=normalize(node.key,tdd_list)\n",
    "#     return new_tdd"
   ]
  },
  {
   "cell_type": "code",
   "execution_count": 3,
   "metadata": {},
   "outputs": [],
   "source": [
    "def simulation(input_cir, Benchmark_Name=None,symbolic=True, unique_table_reset=True,output_file=None):\n",
    "    if isinstance(input_cir,QuantumCircuit):\n",
    "        cir=input_cir\n",
    "    else:\n",
    "        cir=QuantumCircuit.from_qasm_file(input_cir)\n",
    "        if not Benchmark_Name:\n",
    "            Benchmark_Name=input_cir\n",
    "    tn,indices=cir_2_tn(cir)\n",
    "    if symbolic:\n",
    "        for k in range(tn.qubits_num):\n",
    "            x_k='x'+str(k)\n",
    "            xn_k='xn'+str(k)\n",
    "            s=Symbol(x_k)\n",
    "            ns=Symbol(xn_k)\n",
    "            U=np.array([ns,s])\n",
    "            # U=np.array([0,1])\n",
    "            temp_ts=Tensor(U,[Index(x_k)])\n",
    "            tn.tensors.insert(0,temp_ts)\n",
    "            if not x_k in indices:\n",
    "                indices.append(x_k)\n",
    "    t_start=time.time()\n",
    "    Ini_TDD(indices,n=300,type='SymTDD',unique_table_reset=unique_table_reset)\n",
    "    # Ini_TDD(indices,n=300,unique_table_reset=unique_table_reset)\n",
    "    # tdd,Max_node_num=tn.cont(max_node=True)\n",
    "    tdd,Max_node_num=tn.cont(optimizer=\"opt_einsum\", max_node=True)\n",
    "    Time=time.time()-t_start\n",
    "    print('Benchmark Name:',Benchmark_Name)\n",
    "    print('Time:',time.time()-t_start)\n",
    "    print('Qubit num.:',tn.qubits_num)\n",
    "    print('Gate num.:',len(cir.data))\n",
    "    print('Node num. max:',Max_node_num)\n",
    "    print('Node num. final:',tdd.node_number())\n",
    "    print('gu1:',gu1())\n",
    "    print('gu2:',gu2())\n",
    "    if output_file:\n",
    "        with open(output_file, 'a', newline='') as csvfile:\n",
    "            fieldnames = ['Benchmark Name', 'Qubit num.','Gate num.','Time','Node num. max','Node num. final','gu1','gu2']\n",
    "            writer = csv.DictWriter(csvfile, fieldnames=fieldnames)\n",
    "            writer.writerow({'Benchmark Name':Benchmark_Name,\n",
    "            'Qubit num.':tn.qubits_num,\n",
    "            'Gate num.':len(cir.data),\n",
    "            'Time':Time,\n",
    "            'Node num. max':Max_node_num,\n",
    "            'Node num. final':tdd.node_number(),\n",
    "            'gu1':gu1(),\n",
    "            'gu2':gu2()})\n",
    "    return tdd"
   ]
  },
  {
   "cell_type": "code",
   "execution_count": 4,
   "metadata": {},
   "outputs": [],
   "source": [
    "'''\n",
    "Inverse test\n",
    "'''\n",
    "def Inverse_test(input_file,optimizer=None,output_file=None):\n",
    "    cir=QuantumCircuit.from_qasm_file(input_file)\n",
    "    cir2=cir.inverse()\n",
    "    cir3=cir.compose(cir2)\n",
    "    tn,indices=cir_2_tn(cir3)\n",
    "    for k in range(tn.qubits_num):\n",
    "        x_k='x'+str(k)\n",
    "        xn_k='xn'+str(k)\n",
    "        s=Symbol(x_k)\n",
    "        ns=Symbol(xn_k)\n",
    "        U=np.array([ns,s])\n",
    "        # U=np.array([0,1])\n",
    "        temp_ts=Tensor(U,[Index(x_k)])\n",
    "        tn.tensors.insert(0,temp_ts)\n",
    "        tn.tensors.append(Tensor(np.array([[ns],[s]]),[Index('y%i'%k)]))\n",
    "        if not x_k in indices:\n",
    "            indices.append(x_k)\n",
    "    t_start=time.time()\n",
    "    Ini_TDD(indices,n=300,type='SymTDD')\n",
    "    tdd,Max_node_num=tn.cont(optimizer=optimizer,max_node=True)\n",
    "\n",
    "    Time=time.time()-t_start\n",
    "    # print('Benchmark Name:',input_file)\n",
    "    # print('Time:',Time)\n",
    "    # print('Qubit num.:',tn.qubits_num)\n",
    "    # print('Gate num.:',len(cir3.data))\n",
    "    # print('Node num. max:',Max_nodes[0])\n",
    "    # print('Node num. final:',tdd.node_number())\n",
    "    # print('gu1:',gu1())\n",
    "    # print('gu2:',gu2())\n",
    "    if output_file:\n",
    "        with open(output_file, 'a', newline='') as csvfile:\n",
    "            fieldnames = ['Benchmark Name', 'Qubit num.','Gate num.','Time','Node num. max','Node num. final','gu1','gu2']\n",
    "            writer = csv.DictWriter(csvfile, fieldnames=fieldnames)\n",
    "            writer.writerow({'Benchmark Name':input_file,\n",
    "            'Qubit num.':tn.qubits_num,\n",
    "            'Gate num.':len(cir3.data),\n",
    "            'Time':Time,\n",
    "            'Node num. max':Max_node_num,\n",
    "            'Node num. final':tdd.node_number(),\n",
    "            'gu1':gu1(),\n",
    "            'gu2':gu2()})\n",
    "    return tdd"
   ]
  },
  {
   "cell_type": "code",
   "execution_count": 5,
   "metadata": {},
   "outputs": [],
   "source": [
    "'''\n",
    "Fidelity test\n",
    "'''\n",
    "def Fidelity_test(input_file,noise=None,optimizer=None,output_file=None):\n",
    "    cir=QuantumCircuit.from_qasm_file(input_file)\n",
    "    cir2=cir.inverse()\n",
    "    #add noise\n",
    "    if noise==None:\n",
    "        cir.x(0)\n",
    "\n",
    "    cir3=cir.compose(cir2)\n",
    "    tn,indices=cir_2_tn(cir3)\n",
    "    for k in range(tn.qubits_num):\n",
    "        x_k='x'+str(k)\n",
    "        xn_k='xn'+str(k)\n",
    "        s=Symbol(x_k)\n",
    "        ns=Symbol(xn_k)\n",
    "        U=np.array([ns,s])\n",
    "        # U=np.array([0,1])\n",
    "        temp_ts=Tensor(U,[Index(x_k)])\n",
    "        tn.tensors.insert(0,temp_ts)\n",
    "        tn.tensors.append(Tensor(np.array([[ns],[s]]),[Index('y%i'%k)]))\n",
    "        if not x_k in indices:\n",
    "            indices.append(x_k)\n",
    "    t_start=time.time()\n",
    "    Ini_TDD(indices,n=300,type='SymTDD')\n",
    "    tdd,Max_node_num=tn.cont(optimizer=optimizer,max_node=True)\n",
    "\n",
    "    Time=time.time()-t_start\n",
    "    # print('Benchmark Name:',input_file)\n",
    "    # print('Time:',Time)\n",
    "    # print('Qubit num.:',tn.qubits_num)\n",
    "    # print('Gate num.:',len(cir3.data))\n",
    "    # print('Node num. max:',Max_nodes[0])\n",
    "    # print('Node num. final:',tdd.node_number())\n",
    "    # print('gu1:',gu1())\n",
    "    # print('gu2:',gu2())\n",
    "    if output_file:\n",
    "        with open(output_file, 'a', newline='') as csvfile:\n",
    "            fieldnames = ['Benchmark Name', 'Qubit num.','Gate num.','Time','Node num. max','Node num. final','gu1','gu2']\n",
    "            writer = csv.DictWriter(csvfile, fieldnames=fieldnames)\n",
    "            writer.writerow({'Benchmark Name':input_file,\n",
    "            'Qubit num.':tn.qubits_num,\n",
    "            'Gate num.':len(cir3.data),\n",
    "            'Time':Time,\n",
    "            'Node num. max':Max_node_num,\n",
    "            'Node num. final':tdd.node_number(),\n",
    "            'gu1':gu1(),\n",
    "            'gu2':gu2()})\n",
    "    return tdd"
   ]
  },
  {
   "cell_type": "code",
   "execution_count": null,
   "metadata": {},
   "outputs": [],
   "source": [
    "import qiskit\n",
    "cir=qiskit.QuantumCircuit(2)\n",
    "cir.x(0)\n",
    "cir.draw('mpl')\n",
    "tdd=simulation(cir,symbolic=True)\n",
    "tdd.show()"
   ]
  },
  {
   "cell_type": "code",
   "execution_count": null,
   "metadata": {},
   "outputs": [],
   "source": [
    "import os\n",
    "path='Benchmarks/'\n",
    "files=os.listdir(path)\n",
    "\n",
    "tdd=simulation(path+files[0],symbolic=True)\n",
    "tdd.show()\n",
    "# # for i in range(len(files)):\n",
    "# for i in range(5,31):\n",
    "\n",
    "#     # print(files[i])\n",
    "#     # simulation(path+files[i],symbolic=True,output_file='Simulation_Standard D8s v3.csv')\n",
    "#     simulation(path+'qft_%i.qasm'%i,symbolic=True,output_file='Simulation_Standard D8s v3.csv')\n",
    "\n",
    "#     print(i)"
   ]
  },
  {
   "cell_type": "code",
   "execution_count": null,
   "metadata": {},
   "outputs": [
    {
     "data": {
      "text/latex": [
       "$\\displaystyle \\left(- 1.0 x_{1} + 1.0 x1'\\right) \\left(1.0 i x_{2} + 1.0 x2'\\right) \\left(x_{3} \\cdot \\left(0.707106781186548 + 0.707106781186547 i\\right) + 1.0 x3'\\right) \\left(x_{4} \\cdot \\left(0.923879532511287 + 0.38268343236509 i\\right) + 1.0 x4'\\right)$"
      ],
      "text/plain": [
       "(-1.0*x1 + 1.0*x1')*(1.0*I*x2 + 1.0*x2')*(x3*(0.707106781186548 + 0.707106781186547*I) + 1.0*x3')*(x4*(0.923879532511287 + 0.38268343236509*I) + 1.0*x4')"
      ]
     },
     "execution_count": 15,
     "metadata": {},
     "output_type": "execute_result"
    }
   ],
   "source": [
    "tdd.node.successor[0].out_weight[1].expr()"
   ]
  },
  {
   "cell_type": "code",
   "execution_count": null,
   "metadata": {},
   "outputs": [
    {
     "data": {
      "text/latex": [
       "$\\displaystyle \\left(- 1.0 x_{2} + 1.0 x2'\\right) \\left(1.0 i x_{3} + 1.0 x3'\\right) \\left(x_{4} \\cdot \\left(0.707106781186548 + 0.707106781186547 i\\right) + 1.0 x4'\\right)$"
      ],
      "text/plain": [
       "(-1.0*x2 + 1.0*x2')*(1.0*I*x3 + 1.0*x3')*(x4*(0.707106781186548 + 0.707106781186547*I) + 1.0*x4')"
      ]
     },
     "execution_count": 16,
     "metadata": {},
     "output_type": "execute_result"
    }
   ],
   "source": [
    "tdd.node.successor[0].successor[0].out_weight[1].expr()"
   ]
  },
  {
   "cell_type": "code",
   "execution_count": null,
   "metadata": {},
   "outputs": [],
   "source": [
    "# import os\n",
    "# path='Benchmarks/'\n",
    "# files=os.listdir(path)\n",
    "\n",
    "# i=0\n",
    "# tdd2=Inverse_test(path+files[i])\n",
    "# ,output_file='Inverse_Standard D8s v3.csv')\n",
    "\n",
    "\n",
    "# for i in range(len(files)):\n",
    "#     Inverse_test(path+files[i],output_file='Inverse_Standard D8s v3.csv')\n",
    "#     print(i)"
   ]
  },
  {
   "cell_type": "code",
   "execution_count": null,
   "metadata": {},
   "outputs": [],
   "source": [
    "# tdd2.show()"
   ]
  },
  {
   "cell_type": "code",
   "execution_count": null,
   "metadata": {},
   "outputs": [],
   "source": [
    "# import os\n",
    "# path='Benchmarks/'\n",
    "# files=os.listdir(path)\n",
    "# i=0\n",
    "\n",
    "# tdd1=Fidelity_test(path+files[i])\n",
    "# # ,output_file='Fidelity D8s v3.csv')\n",
    "# tdd1.show()\n",
    "\n",
    "# for i in range(len(files)):\n",
    "#     Fidelity_test(path+files[i],output_file='Fidelity D8s v3.csv')\n",
    "#     print(i)"
   ]
  },
  {
   "cell_type": "code",
   "execution_count": null,
   "metadata": {},
   "outputs": [],
   "source": [
    "\n",
    "# with open('Simulation_no_symbol_Standard D8s v3.csv', 'w', newline='') as csvfile:\n",
    "#     fieldnames = ['Benchmark Name', 'Qubit num.','Gate num.','Time','Node num. max','Node num. final','gu1','gu2']\n",
    "#     writer = csv.DictWriter(csvfile, fieldnames=fieldnames)\n",
    "#     writer.writeheader()\n"
   ]
  },
  {
   "cell_type": "code",
   "execution_count": null,
   "metadata": {},
   "outputs": [],
   "source": [
    "\n",
    "# with open('Inverse_Standard D8s v3.csv', 'w', newline='') as csvfile:\n",
    "#     fieldnames = ['Benchmark Name', 'Qubit num.','Gate num.','Time','Node num. max','Node num. final','gu1','gu2']\n",
    "#     writer = csv.DictWriter(csvfile, fieldnames=fieldnames)\n",
    "#     writer.writeheader()\n",
    "\n"
   ]
  },
  {
   "cell_type": "code",
   "execution_count": null,
   "metadata": {},
   "outputs": [],
   "source": [
    "# with open('Fidelity D8s v3.csv', 'w', newline='') as csvfile:\n",
    "#     fieldnames = ['Benchmark Name', 'Qubit num.','Gate num.','Time','Node num. max','Node num. final','gu1','gu2']\n",
    "#     writer = csv.DictWriter(csvfile, fieldnames=fieldnames)\n",
    "#     writer.writeheader()\n"
   ]
  }
 ],
 "metadata": {
  "kernelspec": {
   "display_name": "Python 3.9.7 ('qiskit': conda)",
   "language": "python",
   "name": "python3"
  },
  "language_info": {
   "codemirror_mode": {
    "name": "ipython",
    "version": 3
   },
   "file_extension": ".py",
   "mimetype": "text/x-python",
   "name": "python",
   "nbconvert_exporter": "python",
   "pygments_lexer": "ipython3",
   "version": "3.10.5"
  },
  "orig_nbformat": 4,
  "vscode": {
   "interpreter": {
    "hash": "06cba8887e6156d8cf780c05c96a3f62d3a6e417048d85a718fc61d158b1208c"
   }
  }
 },
 "nbformat": 4,
 "nbformat_minor": 2
}
