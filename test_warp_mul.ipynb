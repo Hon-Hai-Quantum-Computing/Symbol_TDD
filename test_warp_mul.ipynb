{
 "cells": [
  {
   "cell_type": "code",
   "execution_count": 1,
   "metadata": {},
   "outputs": [],
   "source": [
    "# from TDD.TrDD.BDD import BDD, get_int_key, normalize, Find_Or_Add_Unique_table\n",
    "# from functools import lru_cache,wraps, update_wrapper\n",
    "\n",
    "# def hashed_args(func):\n",
    "#     @wraps(func)\n",
    "#     def wrapper(*args):\n",
    "#         # print(*tuple(sorted(args)))\n",
    "#         return func(*tuple(sorted(args, key= hash)))\n",
    "    \n",
    "#     update_wrapper(wrapper, func, ('cache_info', 'cache_clear','cache_parameters')) #繼承lru_cache的屬性\n",
    "#     return wrapper\n",
    "# @hashed_args #為了達成交換率，先排序輸入的兩個bdd\n",
    "# @lru_cache(maxsize=None)\n",
    "# def inner_mul(bdd1,bdd2):\n",
    "#     \"\"\"The contraction of two bdds, var_cont is in the form [[4,1],[3,2]]\"\"\"\n",
    "#     global global_index_order \n",
    "#     '''original key'''\n",
    "#     k1=bdd1.node.key\n",
    "#     k2=bdd2.node.key\n",
    "#     w1=bdd1.weight\n",
    "#     w2=bdd2.weight\n",
    "#     print('inner mul',k1, k2 ,w1 ,w2)\n",
    "\n",
    "#     if k1==k2==-1:\n",
    "#         weig=bdd1.weight * bdd2.weight\n",
    "#         res=BDD(weig)        \n",
    "#         if get_int_key(weig)==(0,0):\n",
    "#             res.weight=0\n",
    "#             return res\n",
    "#         else:\n",
    "#             res.weight=weig\n",
    "#             return res        \n",
    "\n",
    "#     if k1==-1:\n",
    "#         if w1==0:\n",
    "#             bdd=BDD(bdd1.node)\n",
    "#             bdd.weight=0\n",
    "#             return bdd\n",
    "\n",
    "#         bdd=BDD(bdd2.node)\n",
    "#         bdd.weight = w1 * w2\n",
    "#         return bdd\n",
    "            \n",
    "#     if k2==-1:\n",
    "#         if w2==0:\n",
    "#             bdd=BDD(bdd2.node)\n",
    "#             bdd.weight=0\n",
    "#             return bdd        \n",
    "\n",
    "#         bdd=BDD(bdd1.node)\n",
    "#         bdd.weight=w1 * w2\n",
    "#         return bdd\n",
    "    \n",
    "#     bdd1.weight=1\n",
    "#     bdd2.weight=1\n",
    "                \n",
    "#     bdd=BDD(bdd2.node)\n",
    "#     bdd.weight=0\n",
    "\n",
    "#     if k1 == k2:\n",
    "#         for succ1 in bdd1.node.successor:\n",
    "#             for succ2 in bdd2.node.successor:\n",
    "#                 temp_bdd1=BDD(succ1[2])\n",
    "#                 temp_bdd1.weight=succ1[1]\n",
    "#                 temp_bdd2=BDD(succ2[2])\n",
    "#                 temp_bdd2.weight=succ2[1]            \n",
    "#                 temp_res= mul(temp_bdd1,temp_bdd2)\n",
    "#                 if not succ1[0]+succ2[0]==0:\n",
    "#                     if succ1[0]+succ2[0]==2 and k1 % 2 == 0:\n",
    "#                         temp_res1 = normalize( k1 + 1,[[2,-1,Find_Or_Add_Unique_table(-1)]])\n",
    "#                         temp_res1 = mul(temp_res1,temp_res)\n",
    "#                         temp_res = add(temp_res,temp_res1)\n",
    "#                     else:\n",
    "#                         temp_res=normalize(k1, [[succ1[0]+succ2[0],temp_res.weight,temp_res.node]])\n",
    "#                 bdd=add(bdd,temp_res)\n",
    "#     elif k1 <= k2:\n",
    "#         the_successor=[]\n",
    "#         for succ1 in bdd1.node.successor:\n",
    "#             temp_bdd1=BDD(succ1[2])\n",
    "#             temp_bdd1.weight=succ1[1]\n",
    "#             temp_res=mul(temp_bdd1,bdd2)\n",
    "#             the_successor.append([succ1[0],temp_res.weight,temp_res.node])\n",
    "#             bdd=normalize(k1,the_successor)\n",
    "#     else:\n",
    "#         the_successor=[]\n",
    "#         for succ2 in bdd2.node.successor:\n",
    "#             temp_bdd2=BDD(succ2[2])\n",
    "#             temp_bdd2.weight=succ2[1]\n",
    "#             temp_res=mul(bdd1,temp_bdd2)\n",
    "#             the_successor.append([succ2[0],temp_res.weight,temp_res.node])\n",
    "#             bdd=normalize(k2,the_successor)        \n",
    "            \n",
    "#     bdd.weight=bdd.weight * w1 * w2\n",
    "#     bdd1.weight=w1\n",
    "#     bdd2.weight=w2\n",
    "    \n",
    "#     return bdd      \n",
    "\n",
    "\n",
    "# def mul(bdd1, bdd2):\n",
    "#     bdd=inner_mul(bdd1, bdd2)\n",
    "\n",
    "#     return bdd\n",
    "\n",
    "# def add(bdd1, bdd2):\n",
    "#     bdd=BDD(1)\n",
    "#     return bdd"
   ]
  },
  {
   "cell_type": "code",
   "execution_count": 2,
   "metadata": {},
   "outputs": [
    {
     "name": "stdout",
     "output_type": "stream",
     "text": [
      "BDD 1131  0 -1 (1+0j) 1\n",
      "BDD 1131  0 0 (1+0j) (1+0j)\n",
      "BDD 1131  -1 -1 (1+0j) (1+0j)\n",
      "BDD 43 (1+0j)\n",
      "BDD 1131  1 1 (-1+0j) (1+0j)\n",
      "BDD 1131  0 1 (1+0j) (1+0j)\n",
      "BDD 1131  1 -1 (1+0j) (1+0j)\n",
      "BDD 1131  0 0 (1+0j) (1+0j)\n",
      "BDD 1131  1 1 (1+0j) (1+0j)\n",
      "1st time: 0j CacheInfo(hits=10, misses=8, maxsize=None, currsize=8)\n",
      "2st time: 0j CacheInfo(hits=11, misses=8, maxsize=None, currsize=8)\n",
      " clear  : CacheInfo(hits=0, misses=0, maxsize=None, currsize=0)\n"
     ]
    }
   ],
   "source": [
    "import sympy as sp\n",
    "from TDD.TrDD.BDD import Ini_BDD, get_bdd, mul3\n",
    "s0, s1, s2, s3, s4 = sp.symbols('s0 s1 s2 s3 s4')\n",
    "order=[]\n",
    "for i in range(5):\n",
    "    order.append('sin(s%i)'%i)\n",
    "    order.append('cos(s%i)'%i)\n",
    "Ini_BDD(order)\n",
    "bdd1 = get_bdd(sp.sin(s0)*sp.sin(s1)*sp.sin(s2)*sp.sin(s3))\n",
    "bdd2 = get_bdd(sp.sin(s1)*sp.sin(s2)*sp.sin(s3)*sp.sin(s4))\n",
    "bdd3 = get_bdd(sp.sin(s2)*sp.sin(s4)*sp.sin(s0)*sp.sin(s1))\n",
    "\n",
    "result=mul3(bdd1,bdd2)\n",
    "print('1st time:',result,mul3.cache_info())\n",
    "result=mul3(bdd2,bdd1)\n",
    "print('2st time:',result,mul3.cache_info())\n",
    "mul3.cache_clear()\n",
    "print(' clear  :',mul3.cache_info())"
   ]
  },
  {
   "cell_type": "code",
   "execution_count": 3,
   "metadata": {},
   "outputs": [
    {
     "data": {
      "text/plain": [
       "{}"
      ]
     },
     "execution_count": 3,
     "metadata": {},
     "output_type": "execute_result"
    }
   ],
   "source": [
    "bdd1.key_2_index"
   ]
  },
  {
   "cell_type": "code",
   "execution_count": 8,
   "metadata": {},
   "outputs": [
    {
     "data": {
      "text/plain": [
       "1"
      ]
     },
     "execution_count": 8,
     "metadata": {},
     "output_type": "execute_result"
    }
   ],
   "source": []
  },
  {
   "cell_type": "code",
   "execution_count": 5,
   "metadata": {},
   "outputs": [
    {
     "data": {
      "text/plain": [
       "[('s[3]', 0), ('s[2]', 1), ('s[1]', 2), ('s[0]', 3)]"
      ]
     },
     "execution_count": 5,
     "metadata": {},
     "output_type": "execute_result"
    }
   ],
   "source": [
    "s=sp.IndexedBase('s')\n",
    "\n",
    "sym_order1=dict()\n",
    "sym_order2=dict()\n",
    "for i in range(4):\n",
    "    if i <2 :\n",
    "        sym_order2[s[i].name]=3-i\n",
    "    else:\n",
    "        sym_order1[s[i].name]=3-i\n",
    "\n",
    "\n",
    "sym_order = dict()\n",
    "sym_order.update(sym_order2)\n",
    "sym_order.update(sym_order1)\n",
    "\n",
    "def Reorderer(sym_order):\n",
    "    def sort_item(item):\n",
    "        return item[1]\n",
    "    items=list(sym_order.items())\n",
    "    items.sort(key=sort_item)\n",
    "    return items\n",
    "\n",
    "Reorderer(sym_order)\n"
   ]
  },
  {
   "cell_type": "code",
   "execution_count": 6,
   "metadata": {},
   "outputs": [
    {
     "data": {
      "text/plain": [
       "{'s[0]': 3, 's[1]': 2, 's[2]': 1, 's[3]': 0}"
      ]
     },
     "execution_count": 6,
     "metadata": {},
     "output_type": "execute_result"
    }
   ],
   "source": [
    "sym_order"
   ]
  },
  {
   "cell_type": "code",
   "execution_count": null,
   "metadata": {},
   "outputs": [],
   "source": []
  }
 ],
 "metadata": {
  "kernelspec": {
   "display_name": "qiskit",
   "language": "python",
   "name": "python3"
  },
  "language_info": {
   "codemirror_mode": {
    "name": "ipython",
    "version": 3
   },
   "file_extension": ".py",
   "mimetype": "text/x-python",
   "name": "python",
   "nbconvert_exporter": "python",
   "pygments_lexer": "ipython3",
   "version": "3.9.7"
  },
  "orig_nbformat": 4
 },
 "nbformat": 4,
 "nbformat_minor": 2
}
