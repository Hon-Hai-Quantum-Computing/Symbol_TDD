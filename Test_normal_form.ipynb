{
 "cells": [
  {
   "cell_type": "code",
   "execution_count": 1,
   "metadata": {},
   "outputs": [],
   "source": [
    "import numpy as np\n",
    "import sympy\n",
    "import TDD.normal_form as nf\n"
   ]
  },
  {
   "cell_type": "code",
   "execution_count": 2,
   "metadata": {},
   "outputs": [
    {
     "name": "stdout",
     "output_type": "stream",
     "text": [
      "[6, [x0, x2 + 2*xn2/3, xn4]]\n",
      "[[xn4, x2, xn2, x0], {'xn4': 0, 'x2': 1, 'xn2': 2, 'x0': 3}, {'xn4': xn4, 'x2': x2, 'xn2': xn2, 'x0': x0}, [0, 2, 4]]\n"
     ]
    }
   ],
   "source": [
    "A=['x0','xn0','x1','xn1','x2','xn2','x3','xn3','x4','xn4','x5','xn5']\n",
    "[x0,xn0,x1,xn1,x2,xn2,x3,xn3,x4,xn4,x5,xn5]=sympy.symbols(A)\n",
    "weight=2\n",
    "expr1=weight*(x0+0*xn0)*(x1+1*xn1)*(3*x2+2*xn2)*(xn4)*(x5+xn5)\n",
    "nf1=nf.normal_form.normal_form_init(expr1)\n",
    "\n",
    "\n",
    "# print(nf1.weight)\n",
    "# print(nf1.primary_normal_form)\n",
    "print(nf1.data)\n",
    "\n",
    "# print(nf.normal_form.symbol_information(expr1))\n",
    "print(nf1.symbol_information)\n"
   ]
  },
  {
   "cell_type": "code",
   "execution_count": 3,
   "metadata": {},
   "outputs": [
    {
     "name": "stdout",
     "output_type": "stream",
     "text": [
      "9\n",
      "[x0 + 5*xn0, x1 + 3*xn1, x2 + 4*xn2/3, xn3, x5 + 2*xn5]\n",
      "[9, [x0 + 5*xn0, x1 + 3*xn1, x2 + 4*xn2/3, xn3, x5 + 2*xn5]]\n"
     ]
    }
   ],
   "source": [
    "weight=3\n",
    "expr2=weight*(x0+5*xn0)*(x1+3*xn1)*(3*x2+4*xn2)*(xn3)*(x5+2*xn5)\n",
    "nf2=nf.normal_form.normal_form_init(expr2)\n",
    "print(nf2.weight)\n",
    "print(nf2.primary_normal_form)\n",
    "print(nf2.data)"
   ]
  },
  {
   "cell_type": "code",
   "execution_count": 4,
   "metadata": {},
   "outputs": [],
   "source": [
    "# def add(nf1,nf2):\n",
    "#     if nf1==0:\n",
    "#         return nf2\n",
    "#     if nf2==0:\n",
    "#         return nf1\n",
    "    "
   ]
  }
 ],
 "metadata": {
  "interpreter": {
   "hash": "06cba8887e6156d8cf780c05c96a3f62d3a6e417048d85a718fc61d158b1208c"
  },
  "kernelspec": {
   "display_name": "Python 3.9.7 ('qiskit': conda)",
   "language": "python",
   "name": "python3"
  },
  "language_info": {
   "codemirror_mode": {
    "name": "ipython",
    "version": 3
   },
   "file_extension": ".py",
   "mimetype": "text/x-python",
   "name": "python",
   "nbconvert_exporter": "python",
   "pygments_lexer": "ipython3",
   "version": "3.9.7"
  },
  "orig_nbformat": 4
 },
 "nbformat": 4,
 "nbformat_minor": 2
}
