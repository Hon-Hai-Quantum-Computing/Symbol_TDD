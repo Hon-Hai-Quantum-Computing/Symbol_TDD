{
 "cells": [
  {
   "cell_type": "code",
   "execution_count": 1,
   "metadata": {},
   "outputs": [],
   "source": [
    "import numpy as np\n",
    "import sympy\n",
    "import TDD.normal_form as nf"
   ]
  },
  {
   "cell_type": "code",
   "execution_count": 2,
   "metadata": {},
   "outputs": [],
   "source": [
    "A=['x0','xn0','x1','xn1','x2','xn2','x3','xn3','x4','xn4','x5','xn5']\n",
    "[x0,xn0,x1,xn1,x2,xn2,x3,xn3,x4,xn4,x5,xn5]=sympy.symbols(A)"
   ]
  },
  {
   "cell_type": "code",
   "execution_count": 3,
   "metadata": {},
   "outputs": [
    {
     "name": "stdout",
     "output_type": "stream",
     "text": [
      "weight0= 1\n",
      "weight1= 1\n",
      "weight0= 1\n",
      "weight1= 2\n",
      "nf= [(1+0j), [(1+0j)]]\n",
      "nf= [(1+0j), [(1+0j)]]\n",
      "list\n",
      "list\n",
      "nf= [2.00000000000000, [x2 + xn2/2]]\n",
      "weight0= 0\n",
      "weight1= 1\n",
      "nf= [0j, [0j]]\n",
      "nf= [(1+0j), [(1+0j)]]\n",
      "list\n",
      "list\n",
      "is_not_equal f1= [(1+0j), [(1+0j)]] f0= [0j, [0j]]\n",
      "nf= [1.00000000000000, [x2]]\n",
      "list\n",
      "list\n",
      "is_not_equal f1= [1.00000000000000, [x2]] f0= [2.00000000000000, [x2 + xn2/2]]\n",
      "nf= [1.00000000000000, [[x1, x2], '+', [2.00000000000000, [xn1, x2 + xn2/2]]]]\n",
      "[1.00000000000000, [[x1, x2], '+', [2.00000000000000, [xn1, x2 + xn2/2]]]]\n"
     ]
    }
   ],
   "source": [
    "weight=1\n",
    "expr0=weight*(xn1+x2)\n",
    "nf0=nf.normal_form.normal_form_init(expr0)\n",
    "\n",
    "# print(nf0)\n",
    "# print(nf0.weight)\n",
    "# print(nf0.primary_normal_form)\n",
    "print(nf0.data)\n",
    "\n",
    "# print(nf.normal_form.find_using_qubit_list(expr0))\n",
    "# print(nf0.find_using_qubit_list)\n"
   ]
  },
  {
   "cell_type": "code",
   "execution_count": 4,
   "metadata": {},
   "outputs": [
    {
     "name": "stdout",
     "output_type": "stream",
     "text": [
      "weight0= 6\n",
      "weight1= 6\n",
      "weight0= 2/3\n",
      "weight1= 1\n",
      "weight0= 1\n",
      "weight1= 0\n",
      "weight0= 1\n",
      "weight1= 1\n",
      "nf= [(1+0j), [(1+0j)]]\n",
      "nf= [(1+0j), [(1+0j)]]\n",
      "list\n",
      "list\n",
      "nf= [1.00000000000000, [(1+0j)]]\n",
      "nf= [0j, [0j]]\n",
      "list\n",
      "list\n",
      "nf= [1.00000000000000, [xn4]]\n",
      "weight0= 1\n",
      "weight1= 0\n",
      "weight0= 1\n",
      "weight1= 1\n",
      "nf= [(1+0j), [(1+0j)]]\n",
      "nf= [(1+0j), [(1+0j)]]\n",
      "list\n",
      "list\n",
      "nf= [1.00000000000000, [(1+0j)]]\n",
      "nf= [0j, [0j]]\n",
      "list\n",
      "list\n",
      "nf= [1.00000000000000, [xn4]]\n",
      "list\n",
      "list\n",
      "nf= [1.00000000000000, [x2 + 2*xn2/3, xn4]]\n",
      "weight0= 2/3\n",
      "weight1= 1\n",
      "weight0= 1\n",
      "weight1= 0\n",
      "weight0= 1\n",
      "weight1= 1\n",
      "nf= [(1+0j), [(1+0j)]]\n",
      "nf= [(1+0j), [(1+0j)]]\n",
      "list\n",
      "list\n",
      "nf= [1.00000000000000, [(1+0j)]]\n",
      "nf= [0j, [0j]]\n",
      "list\n",
      "list\n",
      "nf= [1.00000000000000, [xn4]]\n",
      "weight0= 1\n",
      "weight1= 0\n",
      "weight0= 1\n",
      "weight1= 1\n",
      "nf= [(1+0j), [(1+0j)]]\n",
      "nf= [(1+0j), [(1+0j)]]\n",
      "list\n",
      "list\n",
      "nf= [1.00000000000000, [(1+0j)]]\n",
      "nf= [0j, [0j]]\n",
      "list\n",
      "list\n",
      "nf= [1.00000000000000, [xn4]]\n",
      "list\n",
      "list\n",
      "nf= [1.00000000000000, [x2 + 2*xn2/3, xn4]]\n",
      "list\n",
      "list\n",
      "nf= [6.00000000000000, [x2 + 2*xn2/3, xn4]]\n",
      "(6+0j)\n",
      "[x2 + 2*xn2/3, xn4]\n"
     ]
    }
   ],
   "source": [
    "\n",
    "weight=2\n",
    "expr1=weight*(x1+1*xn1)*(3*x2+2*xn2)*(xn4)*(x5+xn5)\n",
    "nf1=nf.normal_form.normal_form_init(expr1)\n",
    "\n",
    "\n",
    "print(nf1.weight)\n",
    "print(nf1.primary_normal_form)\n",
    "# print(nf1.data)\n",
    "\n",
    "# print(nf.normal_form.find_using_qubit_list(expr1))\n",
    "# print(nf1.find_using_qubit_list)\n",
    "# print()\n",
    "\n",
    "\n"
   ]
  },
  {
   "cell_type": "code",
   "execution_count": 5,
   "metadata": {},
   "outputs": [
    {
     "name": "stdout",
     "output_type": "stream",
     "text": [
      "weight0= 12\n",
      "weight1= 4\n",
      "weight0= 1\n",
      "weight1= 3/4\n",
      "weight0= I\n",
      "weight1= 1\n",
      "nf= [(1+0j), [(1+0j)]]\n",
      "nf= [(1+0j), [(1+0j)]]\n",
      "list\n",
      "list\n",
      "nf= [1.00000000000000, [x3 + I*xn3]]\n",
      "weight0= I\n",
      "weight1= 1\n",
      "nf= [(1+0j), [(1+0j)]]\n",
      "nf= [(1+0j), [(1+0j)]]\n",
      "list\n",
      "list\n",
      "nf= [1.00000000000000, [x3 + I*xn3]]\n",
      "list\n",
      "list\n",
      "nf= [0.750000000000000, [x2 + 4*xn2/3, x3 + I*xn3]]\n",
      "weight0= 1\n",
      "weight1= 3/4\n",
      "weight0= I\n",
      "weight1= 1\n",
      "nf= [(1+0j), [(1+0j)]]\n",
      "nf= [(1+0j), [(1+0j)]]\n",
      "list\n",
      "list\n",
      "nf= [1.00000000000000, [x3 + I*xn3]]\n",
      "weight0= I\n",
      "weight1= 1\n",
      "nf= [(1+0j), [(1+0j)]]\n",
      "nf= [(1+0j), [(1+0j)]]\n",
      "list\n",
      "list\n",
      "nf= [1.00000000000000, [x3 + I*xn3]]\n",
      "list\n",
      "list\n",
      "nf= [0.750000000000000, [x2 + 4*xn2/3, x3 + I*xn3]]\n",
      "list\n",
      "list\n",
      "nf= [3.00000000000000, [x1 + 3*xn1, x2 + 4*xn2/3, x3 + I*xn3]]\n",
      "(3+0j)\n",
      "[x1 + 3*xn1, x2 + 4*xn2/3, x3 + I*xn3]\n",
      "[3.00000000000000, [x1 + 3*xn1, x2 + 4*xn2/3, x3 + I*xn3]]\n"
     ]
    }
   ],
   "source": [
    "weight=1\n",
    "expr2=weight*(x1+3*xn1)*(3*x2+4*xn2)*(x3+(sympy.I)*xn3)\n",
    "nf2=nf.normal_form.normal_form_init(expr2)\n",
    "\n",
    "print(nf2.weight)\n",
    "print(nf2.primary_normal_form)\n",
    "print(nf2.data)\n",
    "\n",
    "# print(nf.normal_form.find_using_qubit_list(expr2))\n",
    "# print(nf2.find_using_qubit_list)\n"
   ]
  },
  {
   "cell_type": "code",
   "execution_count": 6,
   "metadata": {},
   "outputs": [
    {
     "name": "stdout",
     "output_type": "stream",
     "text": [
      "weight0= 120\n",
      "weight1= 24\n",
      "weight0= 1\n",
      "weight1= 1/3\n",
      "weight0= 1\n",
      "weight1= 1/4\n",
      "weight0= 1\n",
      "weight1= 0\n",
      "weight0= 1\n",
      "weight1= 1/2\n",
      "nf= [(1+0j), [(1+0j)]]\n",
      "nf= [(1+0j), [(1+0j)]]\n",
      "list\n",
      "list\n",
      "nf= [0.500000000000000, [x5 + 2*xn5]]\n",
      "nf= [0j, [0j]]\n",
      "list\n",
      "list\n",
      "nf= [0.500000000000000, [xn3, x5 + 2*xn5]]\n",
      "weight0= 1\n",
      "weight1= 0\n",
      "weight0= 1\n",
      "weight1= 1/2\n",
      "nf= [(1+0j), [(1+0j)]]\n",
      "nf= [(1+0j), [(1+0j)]]\n",
      "list\n",
      "list\n",
      "nf= [0.500000000000000, [x5 + 2*xn5]]\n",
      "nf= [0j, [0j]]\n",
      "list\n",
      "list\n",
      "nf= [0.500000000000000, [xn3, x5 + 2*xn5]]\n",
      "list\n",
      "list\n",
      "nf= [0.125000000000000, [x2 + 4*xn2, xn3, x5 + 2*xn5]]\n",
      "weight0= 1\n",
      "weight1= 1/4\n",
      "weight0= 1\n",
      "weight1= 0\n",
      "weight0= 1\n",
      "weight1= 1/2\n",
      "nf= [(1+0j), [(1+0j)]]\n",
      "nf= [(1+0j), [(1+0j)]]\n",
      "list\n",
      "list\n",
      "nf= [0.500000000000000, [x5 + 2*xn5]]\n",
      "nf= [0j, [0j]]\n",
      "list\n",
      "list\n",
      "nf= [0.500000000000000, [xn3, x5 + 2*xn5]]\n",
      "weight0= 1\n",
      "weight1= 0\n",
      "weight0= 1\n",
      "weight1= 1/2\n",
      "nf= [(1+0j), [(1+0j)]]\n",
      "nf= [(1+0j), [(1+0j)]]\n",
      "list\n",
      "list\n",
      "nf= [0.500000000000000, [x5 + 2*xn5]]\n",
      "nf= [0j, [0j]]\n",
      "list\n",
      "list\n",
      "nf= [0.500000000000000, [xn3, x5 + 2*xn5]]\n",
      "list\n",
      "list\n",
      "nf= [0.125000000000000, [x2 + 4*xn2, xn3, x5 + 2*xn5]]\n",
      "list\n",
      "list\n",
      "nf= [0.0416666666666667, [x1 + 3*xn1, x2 + 4*xn2, xn3, x5 + 2*xn5]]\n",
      "weight0= 1\n",
      "weight1= 1/3\n",
      "weight0= 1\n",
      "weight1= 1/4\n",
      "weight0= 1\n",
      "weight1= 0\n",
      "weight0= 1\n",
      "weight1= 1/2\n",
      "nf= [(1+0j), [(1+0j)]]\n",
      "nf= [(1+0j), [(1+0j)]]\n",
      "list\n",
      "list\n",
      "nf= [0.500000000000000, [x5 + 2*xn5]]\n",
      "nf= [0j, [0j]]\n",
      "list\n",
      "list\n",
      "nf= [0.500000000000000, [xn3, x5 + 2*xn5]]\n",
      "weight0= 1\n",
      "weight1= 0\n",
      "weight0= 1\n",
      "weight1= 1/2\n",
      "nf= [(1+0j), [(1+0j)]]\n",
      "nf= [(1+0j), [(1+0j)]]\n",
      "list\n",
      "list\n",
      "nf= [0.500000000000000, [x5 + 2*xn5]]\n",
      "nf= [0j, [0j]]\n",
      "list\n",
      "list\n",
      "nf= [0.500000000000000, [xn3, x5 + 2*xn5]]\n",
      "list\n",
      "list\n",
      "nf= [0.125000000000000, [x2 + 4*xn2, xn3, x5 + 2*xn5]]\n",
      "weight0= 1\n",
      "weight1= 1/4\n",
      "weight0= 1\n",
      "weight1= 0\n",
      "weight0= 1\n",
      "weight1= 1/2\n",
      "nf= [(1+0j), [(1+0j)]]\n",
      "nf= [(1+0j), [(1+0j)]]\n",
      "list\n",
      "list\n",
      "nf= [0.500000000000000, [x5 + 2*xn5]]\n",
      "nf= [0j, [0j]]\n",
      "list\n",
      "list\n",
      "nf= [0.500000000000000, [xn3, x5 + 2*xn5]]\n",
      "weight0= 1\n",
      "weight1= 0\n",
      "weight0= 1\n",
      "weight1= 1/2\n",
      "nf= [(1+0j), [(1+0j)]]\n",
      "nf= [(1+0j), [(1+0j)]]\n",
      "list\n",
      "list\n",
      "nf= [0.500000000000000, [x5 + 2*xn5]]\n",
      "nf= [0j, [0j]]\n",
      "list\n",
      "list\n",
      "nf= [0.500000000000000, [xn3, x5 + 2*xn5]]\n",
      "list\n",
      "list\n",
      "nf= [0.125000000000000, [x2 + 4*xn2, xn3, x5 + 2*xn5]]\n",
      "list\n",
      "list\n",
      "nf= [0.0416666666666667, [x1 + 3*xn1, x2 + 4*xn2, xn3, x5 + 2*xn5]]\n",
      "list\n",
      "list\n",
      "nf= [1.00000000000000, [x0 + 5*xn0, x1 + 3*xn1, x2 + 4*xn2, xn3, x5 + 2*xn5]]\n",
      "[1.00000000000000, [x0 + 5*xn0, x1 + 3*xn1, x2 + 4*xn2, xn3, x5 + 2*xn5]]\n"
     ]
    }
   ],
   "source": [
    "weight=1\n",
    "expr4=weight*(x0+5*xn0)*(x1+3*xn1)*(x2+4*xn2)*(xn3)*(x5+2*xn5)\n",
    "nf4=nf.normal_form.normal_form_init(expr4)\n",
    "\n",
    "# print(nf4.weight)\n",
    "# print(nf4.primary_normal_form)\n",
    "print(nf4.data)\n",
    "\n",
    "# print(nf.normal_form.find_using_qubit_list(expr4))\n",
    "# print(nf4.find_using_qubit_list)"
   ]
  },
  {
   "cell_type": "code",
   "execution_count": 7,
   "metadata": {},
   "outputs": [
    {
     "name": "stdout",
     "output_type": "stream",
     "text": [
      "nf= [(5+0j), [(1+0j)]]\n",
      "(5+0j)\n",
      "[(1+0j)]\n",
      "[(5+0j), [(1+0j)]]\n",
      "[]\n",
      "[]\n"
     ]
    }
   ],
   "source": [
    "expr5=5\n",
    "nf5=nf.normal_form.normal_form_init(expr5)\n",
    "\n",
    "\n",
    "print(nf5.weight)\n",
    "print(nf5.primary_normal_form)\n",
    "print(nf5.data)\n",
    "\n",
    "print(nf.normal_form.find_using_qubit_list(expr5))\n",
    "print(nf5.using_qubit_list)"
   ]
  },
  {
   "cell_type": "code",
   "execution_count": 8,
   "metadata": {},
   "outputs": [
    {
     "name": "stdout",
     "output_type": "stream",
     "text": [
      "nf= [(1+6j), [(1+0j)]]\n",
      "(1+6j)\n",
      "[(1+0j)]\n",
      "[(1+6j), [(1+0j)]]\n",
      "[]\n",
      "[]\n"
     ]
    }
   ],
   "source": [
    "expr6=6*sympy.I+1\n",
    "nf6=nf.normal_form.normal_form_init(expr6)\n",
    "\n",
    "\n",
    "print(nf6.weight)\n",
    "print(nf6.primary_normal_form)\n",
    "print(nf6.data)\n",
    "\n",
    "print(nf.normal_form.find_using_qubit_list(expr6))\n",
    "print(nf.normal_form.find_using_qubit_list(nf6))"
   ]
  },
  {
   "cell_type": "code",
   "execution_count": 9,
   "metadata": {},
   "outputs": [
    {
     "name": "stdout",
     "output_type": "stream",
     "text": [
      "weight0= 2\n",
      "weight1= 1\n",
      "weight0= 1/2\n",
      "weight1= 1\n",
      "nf= [(1+0j), [(1+0j)]]\n",
      "nf= [(1+0j), [(1+0j)]]\n",
      "list\n",
      "list\n",
      "nf= [1.00000000000000, [x1 + xn1/2]]\n",
      "weight0= 0\n",
      "weight1= 1\n",
      "nf= [0j, [0j]]\n",
      "weight0= 0\n",
      "weight1= 1\n",
      "nf= [0j, [0j]]\n",
      "nf= [(1+0j), [(1+0j)]]\n",
      "list\n",
      "list\n",
      "is_not_equal f1= [(1+0j), [(1+0j)]] f0= [0j, [0j]]\n",
      "nf= [1.00000000000000, [x2]]\n",
      "list\n",
      "list\n",
      "is_not_equal f1= [1.00000000000000, [x2]] f0= [0j, [0j]]\n",
      "nf= [1.00000000000000, [x1, x2]]\n",
      "list\n",
      "list\n",
      "is_not_equal f1= [1.00000000000000, [x1, x2]] f0= [1.00000000000000, [x1 + xn1/2]]\n",
      "nf= [1.00000000000000, [[x0, x1, x2], '+', [2.00000000000000, [xn0, x1 + xn1/2]]]]\n",
      "[1.00000000000000, [[x0, x1, x2], '+', [2.00000000000000, [xn0, x1 + xn1/2]]]]\n"
     ]
    }
   ],
   "source": [
    "expr7=x0*x1*x2+2*xn0*x1+xn0*xn1\n",
    "nf7=nf.normal_form.normal_form_init(expr7)\n",
    "\n",
    "\n",
    "# print(expr7.free_symbols)\n",
    "# print(nf7.weight)\n",
    "# print(nf7.primary_normal_form)\n",
    "print(nf7.data)\n",
    "\n",
    "# print(nf.normal_form.find_using_qubit_list(expr7))\n",
    "# print(nf7.find_using_qubit_list)\n",
    "\n",
    "#output=x0*x1*x2+2*xn0(x1+0.5*xn1)"
   ]
  },
  {
   "cell_type": "code",
   "execution_count": 10,
   "metadata": {},
   "outputs": [
    {
     "name": "stdout",
     "output_type": "stream",
     "text": [
      "weight0= 1\n",
      "weight1= 1\n",
      "nf= [(1+0j), [(1+0j)]]\n",
      "weight0= 1\n",
      "weight1= 1\n",
      "nf= [(1+0j), [(1+0j)]]\n",
      "weight0= 0\n",
      "weight1= 1\n",
      "nf= [0j, [0j]]\n",
      "weight0= 0\n",
      "weight1= 1\n",
      "nf= [0j, [0j]]\n",
      "weight0= 1\n",
      "weight1= 0\n",
      "nf= [(1+0j), [(1+0j)]]\n",
      "nf= [0j, [0j]]\n",
      "list\n",
      "list\n",
      "nf= [1.00000000000000, [xn5]]\n",
      "list\n",
      "list\n",
      "is_not_equal f1= [1.00000000000000, [xn5]] f0= [0j, [0j]]\n",
      "nf= [1.00000000000000, [x4, xn5]]\n",
      "list\n",
      "list\n",
      "is_not_equal f1= [1.00000000000000, [x4, xn5]] f0= [0j, [0j]]\n",
      "nf= [1.00000000000000, [x3, x4, xn5]]\n",
      "list\n",
      "list\n",
      "is_not_equal f1= [1.00000000000000, [x3, x4, xn5]] f0= [(1+0j), [(1+0j)]]\n",
      "nf= [1.00000000000000, [[x2, x3, x4, xn5], '+', [xn2]]]\n",
      "list\n",
      "list\n",
      "is_not_equal f1= [1.00000000000000, [[x2, x3, x4, xn5], '+', [xn2]]] f0= [(1+0j), [(1+0j)]]\n",
      "nf= [1.00000000000000, [[x1, [x2, x3, x4, xn5], '+', [xn2]], '+', [xn1]]]\n",
      "[1.00000000000000, [[x1, [x2, x3, x4, xn5], '+', [xn2]], '+', [xn1]]]\n"
     ]
    }
   ],
   "source": [
    "expr8=x1*x2*x3*x4*xn5+x1*xn2+xn1\n",
    "nf8=nf.normal_form.normal_form_init(expr8)\n",
    "\n",
    "\n",
    "# print(expr7.free_symbols)\n",
    "# print(nf7.weight)\n",
    "# print(nf7.primary_normal_form)\n",
    "print(nf8.data)\n",
    "\n",
    "# print(nf.normal_form.find_using_qubit_list(expr7))\n",
    "# print(nf7.find_using_qubit_list)\n",
    "\n",
    "#output=x0*x1*x2+2*xn0(x1+0.5*xn1)"
   ]
  },
  {
   "cell_type": "code",
   "execution_count": 11,
   "metadata": {},
   "outputs": [
    {
     "data": {
      "text/plain": [
       "True"
      ]
     },
     "execution_count": 11,
     "metadata": {},
     "output_type": "execute_result"
    }
   ],
   "source": [
    "str(nf8.primary_normal_form)==str(nf8.primary_normal_form.primary_normal_form)"
   ]
  },
  {
   "cell_type": "code",
   "execution_count": 12,
   "metadata": {},
   "outputs": [
    {
     "name": "stdout",
     "output_type": "stream",
     "text": [
      "[[x1, [x2, x3, x4, xn5], '+', [xn2]], '+', [xn1]]\n"
     ]
    }
   ],
   "source": [
    "print(nf8.primary_normal_form.primary_normal_form)"
   ]
  },
  {
   "cell_type": "code",
   "execution_count": 13,
   "metadata": {},
   "outputs": [
    {
     "data": {
      "text/plain": [
       "[[x1, [x2, x3, x4, xn5], '+', [xn2]], '+', [xn1]]"
      ]
     },
     "execution_count": 13,
     "metadata": {},
     "output_type": "execute_result"
    }
   ],
   "source": [
    "eval(repr(nf8.primary_normal_form))"
   ]
  },
  {
   "cell_type": "code",
   "execution_count": 14,
   "metadata": {},
   "outputs": [
    {
     "ename": "UnboundLocalError",
     "evalue": "local variable 'primary_normal_form' referenced before assignment",
     "output_type": "error",
     "traceback": [
      "\u001b[0;31m---------------------------------------------------------------------------\u001b[0m",
      "\u001b[0;31mUnboundLocalError\u001b[0m                         Traceback (most recent call last)",
      "\u001b[0;32m/tmp/ipykernel_304773/537159672.py\u001b[0m in \u001b[0;36m<module>\u001b[0;34m\u001b[0m\n\u001b[0;32m----> 1\u001b[0;31m \u001b[0mnf\u001b[0m\u001b[0;34m.\u001b[0m\u001b[0mnormal_form\u001b[0m\u001b[0;34m.\u001b[0m\u001b[0madd\u001b[0m\u001b[0;34m(\u001b[0m\u001b[0mnf5\u001b[0m\u001b[0;34m,\u001b[0m\u001b[0mnf6\u001b[0m\u001b[0;34m)\u001b[0m\u001b[0;34m\u001b[0m\u001b[0;34m\u001b[0m\u001b[0m\n\u001b[0m",
      "\u001b[0;32m~/downloads/TDD/Symbol_TDD/TDD/normal_form.py\u001b[0m in \u001b[0;36madd\u001b[0;34m(nf1, nf2)\u001b[0m\n\u001b[1;32m    177\u001b[0m     \u001b[0;32mdef\u001b[0m \u001b[0madd\u001b[0m\u001b[0;34m(\u001b[0m\u001b[0mnf1\u001b[0m\u001b[0;34m:\u001b[0m\u001b[0mnormal_form\u001b[0m\u001b[0;34m|\u001b[0m\u001b[0mprimary_normal_form\u001b[0m\u001b[0;34m,\u001b[0m\u001b[0mnf2\u001b[0m\u001b[0;34m:\u001b[0m\u001b[0mnormal_form\u001b[0m\u001b[0;34m|\u001b[0m\u001b[0mprimary_normal_form\u001b[0m\u001b[0;34m)\u001b[0m\u001b[0;34m->\u001b[0m\u001b[0mnormal_form\u001b[0m\u001b[0;34m:\u001b[0m\u001b[0;34m\u001b[0m\u001b[0;34m\u001b[0m\u001b[0m\n\u001b[1;32m    178\u001b[0m \u001b[0;34m\u001b[0m\u001b[0m\n\u001b[0;32m--> 179\u001b[0;31m         \u001b[0;32mif\u001b[0m \u001b[0mtype\u001b[0m\u001b[0;34m(\u001b[0m\u001b[0mnf1\u001b[0m\u001b[0;34m)\u001b[0m\u001b[0;34m!=\u001b[0m\u001b[0mprimary_normal_form\u001b[0m \u001b[0;32mor\u001b[0m \u001b[0mtype\u001b[0m\u001b[0;34m(\u001b[0m\u001b[0mnf1\u001b[0m\u001b[0;34m)\u001b[0m\u001b[0;34m!=\u001b[0m\u001b[0mnormal_form\u001b[0m\u001b[0;34m:\u001b[0m\u001b[0;34m\u001b[0m\u001b[0;34m\u001b[0m\u001b[0m\n\u001b[0m\u001b[1;32m    180\u001b[0m             \u001b[0mnormal_form\u001b[0m\u001b[0;34m.\u001b[0m\u001b[0mnormal_form_init\u001b[0m\u001b[0;34m(\u001b[0m\u001b[0mnf1\u001b[0m\u001b[0;34m)\u001b[0m\u001b[0;34m\u001b[0m\u001b[0;34m\u001b[0m\u001b[0m\n\u001b[1;32m    181\u001b[0m         \u001b[0;32mif\u001b[0m \u001b[0mtype\u001b[0m\u001b[0;34m(\u001b[0m\u001b[0mnf2\u001b[0m\u001b[0;34m)\u001b[0m\u001b[0;34m!=\u001b[0m\u001b[0mprimary_normal_form\u001b[0m \u001b[0;32mor\u001b[0m \u001b[0mtype\u001b[0m\u001b[0;34m(\u001b[0m\u001b[0mnf2\u001b[0m\u001b[0;34m)\u001b[0m\u001b[0;34m!=\u001b[0m\u001b[0mnormal_form\u001b[0m\u001b[0;34m:\u001b[0m\u001b[0;34m\u001b[0m\u001b[0;34m\u001b[0m\u001b[0m\n",
      "\u001b[0;31mUnboundLocalError\u001b[0m: local variable 'primary_normal_form' referenced before assignment"
     ]
    }
   ],
   "source": [
    "nf.normal_form.add(nf5,nf6)\n"
   ]
  }
 ],
 "metadata": {
  "interpreter": {
   "hash": "06cba8887e6156d8cf780c05c96a3f62d3a6e417048d85a718fc61d158b1208c"
  },
  "kernelspec": {
   "display_name": "Python 3.9.7 ('qiskit': conda)",
   "language": "python",
   "name": "python3"
  },
  "language_info": {
   "codemirror_mode": {
    "name": "ipython",
    "version": 3
   },
   "file_extension": ".py",
   "mimetype": "text/x-python",
   "name": "python",
   "nbconvert_exporter": "python",
   "pygments_lexer": "ipython3",
   "version": "3.9.7"
  },
  "orig_nbformat": 4
 },
 "nbformat": 4,
 "nbformat_minor": 2
}
