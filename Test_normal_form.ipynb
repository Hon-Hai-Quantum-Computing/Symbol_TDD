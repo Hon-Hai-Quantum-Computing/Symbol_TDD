{
 "cells": [
  {
   "cell_type": "code",
   "execution_count": 1,
   "metadata": {},
   "outputs": [],
   "source": [
    "import numpy as np\n",
    "import sympy\n",
    "import TDD.normal_form as nf\n",
    "\n"
   ]
  },
  {
   "cell_type": "code",
   "execution_count": 2,
   "metadata": {},
   "outputs": [],
   "source": [
    "A=['x0','xn0','x1','xn1','x2','xn2','x3','xn3','x4R','xn4','x5','xn5']\n",
    "[x0,xn0,x1,xn1,x2,xn2,x3,xn3,x4,xn4,x5,xn5]=sympy.symbols(A)"
   ]
  },
  {
   "cell_type": "code",
   "execution_count": 3,
   "metadata": {},
   "outputs": [
    {
     "name": "stdout",
     "output_type": "stream",
     "text": [
      "weight0= 1\n",
      "weight1= 1\n",
      "weight0= 1\n",
      "weight1= 2\n"
     ]
    },
    {
     "ename": "TypeError",
     "evalue": "Value after * must be an iterable, not normal_form",
     "output_type": "error",
     "traceback": [
      "\u001b[0;31m---------------------------------------------------------------------------\u001b[0m",
      "\u001b[0;31mTypeError\u001b[0m                                 Traceback (most recent call last)",
      "\u001b[0;32m/tmp/ipykernel_225576/484473349.py\u001b[0m in \u001b[0;36m<module>\u001b[0;34m\u001b[0m\n\u001b[1;32m      2\u001b[0m \u001b[0mexpr0\u001b[0m\u001b[0;34m=\u001b[0m\u001b[0mweight\u001b[0m\u001b[0;34m*\u001b[0m\u001b[0;34m(\u001b[0m\u001b[0mxn1\u001b[0m\u001b[0;34m)\u001b[0m\u001b[0;34m+\u001b[0m\u001b[0mx2\u001b[0m\u001b[0;34m\u001b[0m\u001b[0;34m\u001b[0m\u001b[0m\n\u001b[1;32m      3\u001b[0m \u001b[0mtype\u001b[0m\u001b[0;34m(\u001b[0m\u001b[0mexpr0\u001b[0m\u001b[0;34m)\u001b[0m\u001b[0;34m\u001b[0m\u001b[0;34m\u001b[0m\u001b[0m\n\u001b[0;32m----> 4\u001b[0;31m \u001b[0mnf0\u001b[0m\u001b[0;34m=\u001b[0m\u001b[0mnf\u001b[0m\u001b[0;34m.\u001b[0m\u001b[0mnormal_form\u001b[0m\u001b[0;34m.\u001b[0m\u001b[0mnormal_form_init\u001b[0m\u001b[0;34m(\u001b[0m\u001b[0mexpr0\u001b[0m\u001b[0;34m)\u001b[0m\u001b[0;34m\u001b[0m\u001b[0;34m\u001b[0m\u001b[0m\n\u001b[0m\u001b[1;32m      5\u001b[0m \u001b[0;34m\u001b[0m\u001b[0m\n\u001b[1;32m      6\u001b[0m \u001b[0;31m# print(nf0)\u001b[0m\u001b[0;34m\u001b[0m\u001b[0;34m\u001b[0m\u001b[0m\n",
      "\u001b[0;32m~/downloads/TDD/Symbol_TDD/TDD/normal_form.py\u001b[0m in \u001b[0;36mnormal_form_init\u001b[0;34m(Bool_Poly)\u001b[0m\n\u001b[1;32m    140\u001b[0m             \u001b[0mf0\u001b[0m\u001b[0;34m=\u001b[0m\u001b[0mnormal_form\u001b[0m\u001b[0;34m.\u001b[0m\u001b[0mnormal_form_init\u001b[0m\u001b[0;34m(\u001b[0m\u001b[0;36m0\u001b[0m\u001b[0;34m)\u001b[0m\u001b[0;34m\u001b[0m\u001b[0;34m\u001b[0m\u001b[0m\n\u001b[1;32m    141\u001b[0m         \u001b[0;32melse\u001b[0m\u001b[0;34m:\u001b[0m\u001b[0;34m\u001b[0m\u001b[0;34m\u001b[0m\u001b[0m\n\u001b[0;32m--> 142\u001b[0;31m             \u001b[0mf0\u001b[0m\u001b[0;34m=\u001b[0m\u001b[0mnormal_form\u001b[0m\u001b[0;34m.\u001b[0m\u001b[0mnormal_form_init\u001b[0m\u001b[0;34m(\u001b[0m\u001b[0msympy\u001b[0m\u001b[0;34m.\u001b[0m\u001b[0msympify\u001b[0m\u001b[0;34m(\u001b[0m\u001b[0mf0\u001b[0m\u001b[0;34m[\u001b[0m\u001b[0;36m0\u001b[0m\u001b[0;34m]\u001b[0m\u001b[0;34m/\u001b[0m\u001b[0mweight0\u001b[0m\u001b[0;34m)\u001b[0m\u001b[0;34m)\u001b[0m\u001b[0;34m\u001b[0m\u001b[0;34m\u001b[0m\u001b[0m\n\u001b[0m\u001b[1;32m    143\u001b[0m \u001b[0;34m\u001b[0m\u001b[0m\n\u001b[1;32m    144\u001b[0m         \u001b[0;32mif\u001b[0m \u001b[0mweight1\u001b[0m\u001b[0;34m==\u001b[0m\u001b[0mcomplex\u001b[0m\u001b[0;34m(\u001b[0m\u001b[0;36m0\u001b[0m\u001b[0;34m)\u001b[0m\u001b[0;34m:\u001b[0m\u001b[0;34m\u001b[0m\u001b[0;34m\u001b[0m\u001b[0m\n",
      "\u001b[0;32m~/downloads/TDD/Symbol_TDD/TDD/normal_form.py\u001b[0m in \u001b[0;36mnormal_form_init\u001b[0;34m(Bool_Poly)\u001b[0m\n\u001b[1;32m    140\u001b[0m             \u001b[0mf0\u001b[0m\u001b[0;34m=\u001b[0m\u001b[0mnormal_form\u001b[0m\u001b[0;34m.\u001b[0m\u001b[0mnormal_form_init\u001b[0m\u001b[0;34m(\u001b[0m\u001b[0;36m0\u001b[0m\u001b[0;34m)\u001b[0m\u001b[0;34m\u001b[0m\u001b[0;34m\u001b[0m\u001b[0m\n\u001b[1;32m    141\u001b[0m         \u001b[0;32melse\u001b[0m\u001b[0;34m:\u001b[0m\u001b[0;34m\u001b[0m\u001b[0;34m\u001b[0m\u001b[0m\n\u001b[0;32m--> 142\u001b[0;31m             \u001b[0mf0\u001b[0m\u001b[0;34m=\u001b[0m\u001b[0mnormal_form\u001b[0m\u001b[0;34m.\u001b[0m\u001b[0mnormal_form_init\u001b[0m\u001b[0;34m(\u001b[0m\u001b[0msympy\u001b[0m\u001b[0;34m.\u001b[0m\u001b[0msympify\u001b[0m\u001b[0;34m(\u001b[0m\u001b[0mf0\u001b[0m\u001b[0;34m[\u001b[0m\u001b[0;36m0\u001b[0m\u001b[0;34m]\u001b[0m\u001b[0;34m/\u001b[0m\u001b[0mweight0\u001b[0m\u001b[0;34m)\u001b[0m\u001b[0;34m)\u001b[0m\u001b[0;34m\u001b[0m\u001b[0;34m\u001b[0m\u001b[0m\n\u001b[0m\u001b[1;32m    143\u001b[0m \u001b[0;34m\u001b[0m\u001b[0m\n\u001b[1;32m    144\u001b[0m         \u001b[0;32mif\u001b[0m \u001b[0mweight1\u001b[0m\u001b[0;34m==\u001b[0m\u001b[0mcomplex\u001b[0m\u001b[0;34m(\u001b[0m\u001b[0;36m0\u001b[0m\u001b[0;34m)\u001b[0m\u001b[0;34m:\u001b[0m\u001b[0;34m\u001b[0m\u001b[0;34m\u001b[0m\u001b[0m\n",
      "\u001b[0;32m~/downloads/TDD/Symbol_TDD/TDD/normal_form.py\u001b[0m in \u001b[0;36mnormal_form_init\u001b[0;34m(Bool_Poly)\u001b[0m\n\u001b[1;32m     77\u001b[0m             \u001b[0;32melse\u001b[0m\u001b[0;34m:\u001b[0m\u001b[0;34m\u001b[0m\u001b[0;34m\u001b[0m\u001b[0m\n\u001b[1;32m     78\u001b[0m                 \u001b[0mprimary_normal_form\u001b[0m\u001b[0;34m=\u001b[0m\u001b[0mnormal_form\u001b[0m\u001b[0;34m(\u001b[0m\u001b[0mweight\u001b[0m\u001b[0;34m=\u001b[0m\u001b[0mcomplex\u001b[0m\u001b[0;34m(\u001b[0m\u001b[0;36m1\u001b[0m\u001b[0;34m)\u001b[0m\u001b[0;34m,\u001b[0m\u001b[0mprimary_normal_form\u001b[0m\u001b[0;34m=\u001b[0m\u001b[0;34m[\u001b[0m\u001b[0mcomplex\u001b[0m\u001b[0;34m(\u001b[0m\u001b[0;36m1\u001b[0m\u001b[0;34m)\u001b[0m\u001b[0;34m]\u001b[0m\u001b[0;34m,\u001b[0m\u001b[0msymbol_information\u001b[0m\u001b[0;34m=\u001b[0m\u001b[0;34m[\u001b[0m\u001b[0msymbol_dic\u001b[0m\u001b[0;34m,\u001b[0m\u001b[0musing_qubit_list\u001b[0m\u001b[0;34m]\u001b[0m\u001b[0;34m)\u001b[0m\u001b[0;34m\u001b[0m\u001b[0;34m\u001b[0m\u001b[0m\n\u001b[0;32m---> 79\u001b[0;31m                 \u001b[0mnf\u001b[0m\u001b[0;34m=\u001b[0m\u001b[0mnormal_form\u001b[0m\u001b[0;34m(\u001b[0m\u001b[0mweight\u001b[0m\u001b[0;34m=\u001b[0m\u001b[0mcomplex\u001b[0m\u001b[0;34m(\u001b[0m\u001b[0mBool_Poly\u001b[0m\u001b[0;34m)\u001b[0m\u001b[0;34m,\u001b[0m\u001b[0mprimary_normal_form\u001b[0m\u001b[0;34m=\u001b[0m\u001b[0mprimary_normal_form\u001b[0m\u001b[0;34m,\u001b[0m\u001b[0msymbol_information\u001b[0m\u001b[0;34m=\u001b[0m\u001b[0;34m[\u001b[0m\u001b[0msymbol_dic\u001b[0m\u001b[0;34m,\u001b[0m\u001b[0musing_qubit_list\u001b[0m\u001b[0;34m]\u001b[0m\u001b[0;34m)\u001b[0m\u001b[0;34m\u001b[0m\u001b[0;34m\u001b[0m\u001b[0m\n\u001b[0m\u001b[1;32m     80\u001b[0m                 \u001b[0mprint\u001b[0m\u001b[0;34m(\u001b[0m\u001b[0;34m'nf='\u001b[0m\u001b[0;34m,\u001b[0m\u001b[0mnf\u001b[0m\u001b[0;34m)\u001b[0m\u001b[0;34m\u001b[0m\u001b[0;34m\u001b[0m\u001b[0m\n\u001b[1;32m     81\u001b[0m                 \u001b[0;32mreturn\u001b[0m \u001b[0mnf\u001b[0m\u001b[0;34m\u001b[0m\u001b[0;34m\u001b[0m\u001b[0m\n",
      "\u001b[0;32m~/downloads/TDD/Symbol_TDD/TDD/normal_form.py\u001b[0m in \u001b[0;36m__init__\u001b[0;34m(self, weight, primary_normal_form, symbol_information)\u001b[0m\n\u001b[1;32m     18\u001b[0m         \u001b[0mself\u001b[0m\u001b[0;34m.\u001b[0m\u001b[0m__weight\u001b[0m\u001b[0;34m:\u001b[0m \u001b[0mint\u001b[0m \u001b[0;34m=\u001b[0m\u001b[0mcomplex\u001b[0m\u001b[0;34m(\u001b[0m\u001b[0mweight\u001b[0m\u001b[0;34m)\u001b[0m\u001b[0;34m\u001b[0m\u001b[0;34m\u001b[0m\u001b[0m\n\u001b[1;32m     19\u001b[0m         \u001b[0mself\u001b[0m\u001b[0;34m.\u001b[0m\u001b[0m__primary_normal_form\u001b[0m\u001b[0;34m:\u001b[0m \u001b[0mlist\u001b[0m \u001b[0;34m=\u001b[0m\u001b[0mprimary_normal_form\u001b[0m\u001b[0;34m\u001b[0m\u001b[0;34m\u001b[0m\u001b[0m\n\u001b[0;32m---> 20\u001b[0;31m         \u001b[0mself\u001b[0m\u001b[0;34m.\u001b[0m\u001b[0m__data\u001b[0m\u001b[0;34m=\u001b[0m\u001b[0;34m[\u001b[0m\u001b[0mweight\u001b[0m\u001b[0;34m,\u001b[0m\u001b[0;34m*\u001b[0m\u001b[0mprimary_normal_form\u001b[0m\u001b[0;34m]\u001b[0m\u001b[0;34m\u001b[0m\u001b[0;34m\u001b[0m\u001b[0m\n\u001b[0m\u001b[1;32m     21\u001b[0m         \u001b[0mself\u001b[0m\u001b[0;34m.\u001b[0m\u001b[0m__symbol_information\u001b[0m\u001b[0;34m=\u001b[0m\u001b[0msymbol_information\u001b[0m\u001b[0;34m\u001b[0m\u001b[0;34m\u001b[0m\u001b[0m\n\u001b[1;32m     22\u001b[0m         '''\n",
      "\u001b[0;31mTypeError\u001b[0m: Value after * must be an iterable, not normal_form"
     ]
    }
   ],
   "source": [
    "weight=1\n",
    "expr0=weight*(xn1)+x2\n",
    "type(expr0)\n",
    "nf0=nf.normal_form.normal_form_init(expr0)\n",
    "\n",
    "# print(nf0)\n",
    "# print(nf0.weight)\n",
    "# print(nf0.primary_normal_form)\n",
    "print(nf0.data)\n",
    "\n",
    "# print(nf.normal_form.find_symbol_information(expr0))\n",
    "# print(nf0.symbol_information)\n"
   ]
  },
  {
   "cell_type": "code",
   "execution_count": 4,
   "metadata": {},
   "outputs": [
    {
     "name": "stdout",
     "output_type": "stream",
     "text": [
      "weight0= 6\n",
      "weight1= 6\n",
      "weight0= 2/3\n",
      "weight1= 1\n",
      "weight0= 1\n",
      "weight1= 0\n",
      "weight0= 1\n",
      "weight1= 1\n"
     ]
    },
    {
     "ename": "TypeError",
     "evalue": "Value after * must be an iterable, not normal_form",
     "output_type": "error",
     "traceback": [
      "\u001b[0;31m---------------------------------------------------------------------------\u001b[0m",
      "\u001b[0;31mTypeError\u001b[0m                                 Traceback (most recent call last)",
      "\u001b[0;32m/tmp/ipykernel_225576/3549677537.py\u001b[0m in \u001b[0;36m<module>\u001b[0;34m\u001b[0m\n\u001b[1;32m      1\u001b[0m \u001b[0mweight\u001b[0m\u001b[0;34m=\u001b[0m\u001b[0;36m2\u001b[0m\u001b[0;34m\u001b[0m\u001b[0;34m\u001b[0m\u001b[0m\n\u001b[1;32m      2\u001b[0m \u001b[0mexpr1\u001b[0m\u001b[0;34m=\u001b[0m\u001b[0mweight\u001b[0m\u001b[0;34m*\u001b[0m\u001b[0;34m(\u001b[0m\u001b[0mx1\u001b[0m\u001b[0;34m+\u001b[0m\u001b[0;36m1\u001b[0m\u001b[0;34m*\u001b[0m\u001b[0mxn1\u001b[0m\u001b[0;34m)\u001b[0m\u001b[0;34m*\u001b[0m\u001b[0;34m(\u001b[0m\u001b[0;36m3\u001b[0m\u001b[0;34m*\u001b[0m\u001b[0mx2\u001b[0m\u001b[0;34m+\u001b[0m\u001b[0;36m2\u001b[0m\u001b[0;34m*\u001b[0m\u001b[0mxn2\u001b[0m\u001b[0;34m)\u001b[0m\u001b[0;34m*\u001b[0m\u001b[0;34m(\u001b[0m\u001b[0mxn4\u001b[0m\u001b[0;34m)\u001b[0m\u001b[0;34m*\u001b[0m\u001b[0;34m(\u001b[0m\u001b[0mx5\u001b[0m\u001b[0;34m+\u001b[0m\u001b[0mxn5\u001b[0m\u001b[0;34m)\u001b[0m\u001b[0;34m\u001b[0m\u001b[0;34m\u001b[0m\u001b[0m\n\u001b[0;32m----> 3\u001b[0;31m \u001b[0mnf1\u001b[0m\u001b[0;34m=\u001b[0m\u001b[0mnf\u001b[0m\u001b[0;34m.\u001b[0m\u001b[0mnormal_form\u001b[0m\u001b[0;34m.\u001b[0m\u001b[0mnormal_form_init\u001b[0m\u001b[0;34m(\u001b[0m\u001b[0mexpr1\u001b[0m\u001b[0;34m)\u001b[0m\u001b[0;34m\u001b[0m\u001b[0;34m\u001b[0m\u001b[0m\n\u001b[0m\u001b[1;32m      4\u001b[0m \u001b[0;34m\u001b[0m\u001b[0m\n\u001b[1;32m      5\u001b[0m \u001b[0;34m\u001b[0m\u001b[0m\n",
      "\u001b[0;32m~/downloads/TDD/Symbol_TDD/TDD/normal_form.py\u001b[0m in \u001b[0;36mnormal_form_init\u001b[0;34m(Bool_Poly)\u001b[0m\n\u001b[1;32m    140\u001b[0m             \u001b[0mf0\u001b[0m\u001b[0;34m=\u001b[0m\u001b[0mnormal_form\u001b[0m\u001b[0;34m.\u001b[0m\u001b[0mnormal_form_init\u001b[0m\u001b[0;34m(\u001b[0m\u001b[0;36m0\u001b[0m\u001b[0;34m)\u001b[0m\u001b[0;34m\u001b[0m\u001b[0;34m\u001b[0m\u001b[0m\n\u001b[1;32m    141\u001b[0m         \u001b[0;32melse\u001b[0m\u001b[0;34m:\u001b[0m\u001b[0;34m\u001b[0m\u001b[0;34m\u001b[0m\u001b[0m\n\u001b[0;32m--> 142\u001b[0;31m             \u001b[0mf0\u001b[0m\u001b[0;34m=\u001b[0m\u001b[0mnormal_form\u001b[0m\u001b[0;34m.\u001b[0m\u001b[0mnormal_form_init\u001b[0m\u001b[0;34m(\u001b[0m\u001b[0msympy\u001b[0m\u001b[0;34m.\u001b[0m\u001b[0msympify\u001b[0m\u001b[0;34m(\u001b[0m\u001b[0mf0\u001b[0m\u001b[0;34m[\u001b[0m\u001b[0;36m0\u001b[0m\u001b[0;34m]\u001b[0m\u001b[0;34m/\u001b[0m\u001b[0mweight0\u001b[0m\u001b[0;34m)\u001b[0m\u001b[0;34m)\u001b[0m\u001b[0;34m\u001b[0m\u001b[0;34m\u001b[0m\u001b[0m\n\u001b[0m\u001b[1;32m    143\u001b[0m \u001b[0;34m\u001b[0m\u001b[0m\n\u001b[1;32m    144\u001b[0m         \u001b[0;32mif\u001b[0m \u001b[0mweight1\u001b[0m\u001b[0;34m==\u001b[0m\u001b[0mcomplex\u001b[0m\u001b[0;34m(\u001b[0m\u001b[0;36m0\u001b[0m\u001b[0;34m)\u001b[0m\u001b[0;34m:\u001b[0m\u001b[0;34m\u001b[0m\u001b[0;34m\u001b[0m\u001b[0m\n",
      "\u001b[0;32m~/downloads/TDD/Symbol_TDD/TDD/normal_form.py\u001b[0m in \u001b[0;36mnormal_form_init\u001b[0;34m(Bool_Poly)\u001b[0m\n\u001b[1;32m    140\u001b[0m             \u001b[0mf0\u001b[0m\u001b[0;34m=\u001b[0m\u001b[0mnormal_form\u001b[0m\u001b[0;34m.\u001b[0m\u001b[0mnormal_form_init\u001b[0m\u001b[0;34m(\u001b[0m\u001b[0;36m0\u001b[0m\u001b[0;34m)\u001b[0m\u001b[0;34m\u001b[0m\u001b[0;34m\u001b[0m\u001b[0m\n\u001b[1;32m    141\u001b[0m         \u001b[0;32melse\u001b[0m\u001b[0;34m:\u001b[0m\u001b[0;34m\u001b[0m\u001b[0;34m\u001b[0m\u001b[0m\n\u001b[0;32m--> 142\u001b[0;31m             \u001b[0mf0\u001b[0m\u001b[0;34m=\u001b[0m\u001b[0mnormal_form\u001b[0m\u001b[0;34m.\u001b[0m\u001b[0mnormal_form_init\u001b[0m\u001b[0;34m(\u001b[0m\u001b[0msympy\u001b[0m\u001b[0;34m.\u001b[0m\u001b[0msympify\u001b[0m\u001b[0;34m(\u001b[0m\u001b[0mf0\u001b[0m\u001b[0;34m[\u001b[0m\u001b[0;36m0\u001b[0m\u001b[0;34m]\u001b[0m\u001b[0;34m/\u001b[0m\u001b[0mweight0\u001b[0m\u001b[0;34m)\u001b[0m\u001b[0;34m)\u001b[0m\u001b[0;34m\u001b[0m\u001b[0;34m\u001b[0m\u001b[0m\n\u001b[0m\u001b[1;32m    143\u001b[0m \u001b[0;34m\u001b[0m\u001b[0m\n\u001b[1;32m    144\u001b[0m         \u001b[0;32mif\u001b[0m \u001b[0mweight1\u001b[0m\u001b[0;34m==\u001b[0m\u001b[0mcomplex\u001b[0m\u001b[0;34m(\u001b[0m\u001b[0;36m0\u001b[0m\u001b[0;34m)\u001b[0m\u001b[0;34m:\u001b[0m\u001b[0;34m\u001b[0m\u001b[0;34m\u001b[0m\u001b[0m\n",
      "\u001b[0;32m~/downloads/TDD/Symbol_TDD/TDD/normal_form.py\u001b[0m in \u001b[0;36mnormal_form_init\u001b[0;34m(Bool_Poly)\u001b[0m\n\u001b[1;32m    140\u001b[0m             \u001b[0mf0\u001b[0m\u001b[0;34m=\u001b[0m\u001b[0mnormal_form\u001b[0m\u001b[0;34m.\u001b[0m\u001b[0mnormal_form_init\u001b[0m\u001b[0;34m(\u001b[0m\u001b[0;36m0\u001b[0m\u001b[0;34m)\u001b[0m\u001b[0;34m\u001b[0m\u001b[0;34m\u001b[0m\u001b[0m\n\u001b[1;32m    141\u001b[0m         \u001b[0;32melse\u001b[0m\u001b[0;34m:\u001b[0m\u001b[0;34m\u001b[0m\u001b[0;34m\u001b[0m\u001b[0m\n\u001b[0;32m--> 142\u001b[0;31m             \u001b[0mf0\u001b[0m\u001b[0;34m=\u001b[0m\u001b[0mnormal_form\u001b[0m\u001b[0;34m.\u001b[0m\u001b[0mnormal_form_init\u001b[0m\u001b[0;34m(\u001b[0m\u001b[0msympy\u001b[0m\u001b[0;34m.\u001b[0m\u001b[0msympify\u001b[0m\u001b[0;34m(\u001b[0m\u001b[0mf0\u001b[0m\u001b[0;34m[\u001b[0m\u001b[0;36m0\u001b[0m\u001b[0;34m]\u001b[0m\u001b[0;34m/\u001b[0m\u001b[0mweight0\u001b[0m\u001b[0;34m)\u001b[0m\u001b[0;34m)\u001b[0m\u001b[0;34m\u001b[0m\u001b[0;34m\u001b[0m\u001b[0m\n\u001b[0m\u001b[1;32m    143\u001b[0m \u001b[0;34m\u001b[0m\u001b[0m\n\u001b[1;32m    144\u001b[0m         \u001b[0;32mif\u001b[0m \u001b[0mweight1\u001b[0m\u001b[0;34m==\u001b[0m\u001b[0mcomplex\u001b[0m\u001b[0;34m(\u001b[0m\u001b[0;36m0\u001b[0m\u001b[0;34m)\u001b[0m\u001b[0;34m:\u001b[0m\u001b[0;34m\u001b[0m\u001b[0;34m\u001b[0m\u001b[0m\n",
      "\u001b[0;32m~/downloads/TDD/Symbol_TDD/TDD/normal_form.py\u001b[0m in \u001b[0;36mnormal_form_init\u001b[0;34m(Bool_Poly)\u001b[0m\n\u001b[1;32m    140\u001b[0m             \u001b[0mf0\u001b[0m\u001b[0;34m=\u001b[0m\u001b[0mnormal_form\u001b[0m\u001b[0;34m.\u001b[0m\u001b[0mnormal_form_init\u001b[0m\u001b[0;34m(\u001b[0m\u001b[0;36m0\u001b[0m\u001b[0;34m)\u001b[0m\u001b[0;34m\u001b[0m\u001b[0;34m\u001b[0m\u001b[0m\n\u001b[1;32m    141\u001b[0m         \u001b[0;32melse\u001b[0m\u001b[0;34m:\u001b[0m\u001b[0;34m\u001b[0m\u001b[0;34m\u001b[0m\u001b[0m\n\u001b[0;32m--> 142\u001b[0;31m             \u001b[0mf0\u001b[0m\u001b[0;34m=\u001b[0m\u001b[0mnormal_form\u001b[0m\u001b[0;34m.\u001b[0m\u001b[0mnormal_form_init\u001b[0m\u001b[0;34m(\u001b[0m\u001b[0msympy\u001b[0m\u001b[0;34m.\u001b[0m\u001b[0msympify\u001b[0m\u001b[0;34m(\u001b[0m\u001b[0mf0\u001b[0m\u001b[0;34m[\u001b[0m\u001b[0;36m0\u001b[0m\u001b[0;34m]\u001b[0m\u001b[0;34m/\u001b[0m\u001b[0mweight0\u001b[0m\u001b[0;34m)\u001b[0m\u001b[0;34m)\u001b[0m\u001b[0;34m\u001b[0m\u001b[0;34m\u001b[0m\u001b[0m\n\u001b[0m\u001b[1;32m    143\u001b[0m \u001b[0;34m\u001b[0m\u001b[0m\n\u001b[1;32m    144\u001b[0m         \u001b[0;32mif\u001b[0m \u001b[0mweight1\u001b[0m\u001b[0;34m==\u001b[0m\u001b[0mcomplex\u001b[0m\u001b[0;34m(\u001b[0m\u001b[0;36m0\u001b[0m\u001b[0;34m)\u001b[0m\u001b[0;34m:\u001b[0m\u001b[0;34m\u001b[0m\u001b[0;34m\u001b[0m\u001b[0m\n",
      "\u001b[0;32m~/downloads/TDD/Symbol_TDD/TDD/normal_form.py\u001b[0m in \u001b[0;36mnormal_form_init\u001b[0;34m(Bool_Poly)\u001b[0m\n\u001b[1;32m     77\u001b[0m             \u001b[0;32melse\u001b[0m\u001b[0;34m:\u001b[0m\u001b[0;34m\u001b[0m\u001b[0;34m\u001b[0m\u001b[0m\n\u001b[1;32m     78\u001b[0m                 \u001b[0mprimary_normal_form\u001b[0m\u001b[0;34m=\u001b[0m\u001b[0mnormal_form\u001b[0m\u001b[0;34m(\u001b[0m\u001b[0mweight\u001b[0m\u001b[0;34m=\u001b[0m\u001b[0mcomplex\u001b[0m\u001b[0;34m(\u001b[0m\u001b[0;36m1\u001b[0m\u001b[0;34m)\u001b[0m\u001b[0;34m,\u001b[0m\u001b[0mprimary_normal_form\u001b[0m\u001b[0;34m=\u001b[0m\u001b[0;34m[\u001b[0m\u001b[0mcomplex\u001b[0m\u001b[0;34m(\u001b[0m\u001b[0;36m1\u001b[0m\u001b[0;34m)\u001b[0m\u001b[0;34m]\u001b[0m\u001b[0;34m,\u001b[0m\u001b[0msymbol_information\u001b[0m\u001b[0;34m=\u001b[0m\u001b[0;34m[\u001b[0m\u001b[0msymbol_dic\u001b[0m\u001b[0;34m,\u001b[0m\u001b[0musing_qubit_list\u001b[0m\u001b[0;34m]\u001b[0m\u001b[0;34m)\u001b[0m\u001b[0;34m\u001b[0m\u001b[0;34m\u001b[0m\u001b[0m\n\u001b[0;32m---> 79\u001b[0;31m                 \u001b[0mnf\u001b[0m\u001b[0;34m=\u001b[0m\u001b[0mnormal_form\u001b[0m\u001b[0;34m(\u001b[0m\u001b[0mweight\u001b[0m\u001b[0;34m=\u001b[0m\u001b[0mcomplex\u001b[0m\u001b[0;34m(\u001b[0m\u001b[0mBool_Poly\u001b[0m\u001b[0;34m)\u001b[0m\u001b[0;34m,\u001b[0m\u001b[0mprimary_normal_form\u001b[0m\u001b[0;34m=\u001b[0m\u001b[0mprimary_normal_form\u001b[0m\u001b[0;34m,\u001b[0m\u001b[0msymbol_information\u001b[0m\u001b[0;34m=\u001b[0m\u001b[0;34m[\u001b[0m\u001b[0msymbol_dic\u001b[0m\u001b[0;34m,\u001b[0m\u001b[0musing_qubit_list\u001b[0m\u001b[0;34m]\u001b[0m\u001b[0;34m)\u001b[0m\u001b[0;34m\u001b[0m\u001b[0;34m\u001b[0m\u001b[0m\n\u001b[0m\u001b[1;32m     80\u001b[0m                 \u001b[0mprint\u001b[0m\u001b[0;34m(\u001b[0m\u001b[0;34m'nf='\u001b[0m\u001b[0;34m,\u001b[0m\u001b[0mnf\u001b[0m\u001b[0;34m)\u001b[0m\u001b[0;34m\u001b[0m\u001b[0;34m\u001b[0m\u001b[0m\n\u001b[1;32m     81\u001b[0m                 \u001b[0;32mreturn\u001b[0m \u001b[0mnf\u001b[0m\u001b[0;34m\u001b[0m\u001b[0;34m\u001b[0m\u001b[0m\n",
      "\u001b[0;32m~/downloads/TDD/Symbol_TDD/TDD/normal_form.py\u001b[0m in \u001b[0;36m__init__\u001b[0;34m(self, weight, primary_normal_form, symbol_information)\u001b[0m\n\u001b[1;32m     18\u001b[0m         \u001b[0mself\u001b[0m\u001b[0;34m.\u001b[0m\u001b[0m__weight\u001b[0m\u001b[0;34m:\u001b[0m \u001b[0mint\u001b[0m \u001b[0;34m=\u001b[0m\u001b[0mcomplex\u001b[0m\u001b[0;34m(\u001b[0m\u001b[0mweight\u001b[0m\u001b[0;34m)\u001b[0m\u001b[0;34m\u001b[0m\u001b[0;34m\u001b[0m\u001b[0m\n\u001b[1;32m     19\u001b[0m         \u001b[0mself\u001b[0m\u001b[0;34m.\u001b[0m\u001b[0m__primary_normal_form\u001b[0m\u001b[0;34m:\u001b[0m \u001b[0mlist\u001b[0m \u001b[0;34m=\u001b[0m\u001b[0mprimary_normal_form\u001b[0m\u001b[0;34m\u001b[0m\u001b[0;34m\u001b[0m\u001b[0m\n\u001b[0;32m---> 20\u001b[0;31m         \u001b[0mself\u001b[0m\u001b[0;34m.\u001b[0m\u001b[0m__data\u001b[0m\u001b[0;34m=\u001b[0m\u001b[0;34m[\u001b[0m\u001b[0mweight\u001b[0m\u001b[0;34m,\u001b[0m\u001b[0;34m*\u001b[0m\u001b[0mprimary_normal_form\u001b[0m\u001b[0;34m]\u001b[0m\u001b[0;34m\u001b[0m\u001b[0;34m\u001b[0m\u001b[0m\n\u001b[0m\u001b[1;32m     21\u001b[0m         \u001b[0mself\u001b[0m\u001b[0;34m.\u001b[0m\u001b[0m__symbol_information\u001b[0m\u001b[0;34m=\u001b[0m\u001b[0msymbol_information\u001b[0m\u001b[0;34m\u001b[0m\u001b[0;34m\u001b[0m\u001b[0m\n\u001b[1;32m     22\u001b[0m         '''\n",
      "\u001b[0;31mTypeError\u001b[0m: Value after * must be an iterable, not normal_form"
     ]
    }
   ],
   "source": [
    "\n",
    "weight=2\n",
    "expr1=weight*(x1+1*xn1)*(3*x2+2*xn2)*(xn4)*(x5+xn5)\n",
    "nf1=nf.normal_form.normal_form_init(expr1)\n",
    "\n",
    "\n",
    "print(nf1.weight)\n",
    "print(nf1.primary_normal_form)\n",
    "# print(nf1.data)\n",
    "\n",
    "# print(nf.normal_form.find_symbol_information(expr1))\n",
    "# print(nf1.symbol_information)\n",
    "# print()\n",
    "\n",
    "\n"
   ]
  },
  {
   "cell_type": "code",
   "execution_count": null,
   "metadata": {},
   "outputs": [
    {
     "name": "stdout",
     "output_type": "stream",
     "text": [
      "weight0= 12\n",
      "weight1= 4\n",
      "weight0= 1\n",
      "weight1= 3/4\n",
      "weight0= I\n",
      "weight1= 1\n",
      "nf= [(1+0j), (1+0j)]\n",
      "nf= [(1+0j), (1+0j)]\n",
      "f0= [(1+0j), (1+0j)] <class 'TDD.normal_form.normal_form'>\n",
      "f1= [(1+0j), (1+0j)] <class 'TDD.normal_form.normal_form'>\n",
      "nf= [1, x3 + I*xn3]\n",
      "weight0= I\n",
      "weight1= 1\n",
      "nf= [(1+0j), (1+0j)]\n",
      "nf= [(1+0j), (1+0j)]\n",
      "f0= [(1+0j), (1+0j)] <class 'TDD.normal_form.normal_form'>\n",
      "f1= [(1+0j), (1+0j)] <class 'TDD.normal_form.normal_form'>\n",
      "nf= [1, x3 + I*xn3]\n",
      "f0= [1, x3 + I*xn3] <class 'TDD.normal_form.normal_form'>\n",
      "f1= [1, x3 + I*xn3] <class 'TDD.normal_form.normal_form'>\n",
      "nf= [3/4, x2 + 4*xn2/3, x3 + I*xn3]\n",
      "weight0= 1\n",
      "weight1= 3/4\n",
      "weight0= I\n",
      "weight1= 1\n",
      "nf= [(1+0j), (1+0j)]\n",
      "nf= [(1+0j), (1+0j)]\n",
      "f0= [(1+0j), (1+0j)] <class 'TDD.normal_form.normal_form'>\n",
      "f1= [(1+0j), (1+0j)] <class 'TDD.normal_form.normal_form'>\n",
      "nf= [1, x3 + I*xn3]\n",
      "weight0= I\n",
      "weight1= 1\n",
      "nf= [(1+0j), (1+0j)]\n",
      "nf= [(1+0j), (1+0j)]\n",
      "f0= [(1+0j), (1+0j)] <class 'TDD.normal_form.normal_form'>\n",
      "f1= [(1+0j), (1+0j)] <class 'TDD.normal_form.normal_form'>\n",
      "nf= [1, x3 + I*xn3]\n",
      "f0= [1, x3 + I*xn3] <class 'TDD.normal_form.normal_form'>\n",
      "f1= [1, x3 + I*xn3] <class 'TDD.normal_form.normal_form'>\n",
      "nf= [3/4, x2 + 4*xn2/3, x3 + I*xn3]\n",
      "f0= [3/4, x2 + 4*xn2/3, x3 + I*xn3] <class 'TDD.normal_form.normal_form'>\n",
      "f1= [3/4, x2 + 4*xn2/3, x3 + I*xn3] <class 'TDD.normal_form.normal_form'>\n",
      "nf= [4, x1 + 3*xn1, 3/4, x2 + 4*xn2/3, x3 + I*xn3]\n",
      "(4+0j)\n",
      "[x1 + 3*xn1, 3/4, x2 + 4*xn2/3, x3 + I*xn3]\n",
      "[4, x1 + 3*xn1, 3/4, x2 + 4*xn2/3, x3 + I*xn3]\n"
     ]
    }
   ],
   "source": [
    "weight=1\n",
    "expr2=weight*(x1+3*xn1)*(3*x2+4*xn2)*(x3+(sympy.I)*xn3)\n",
    "nf2=nf.normal_form.normal_form_init(expr2)\n",
    "\n",
    "print(nf2.weight)\n",
    "print(nf2.primary_normal_form)\n",
    "print(nf2.data)\n",
    "\n",
    "# print(nf.normal_form.find_symbol_information(expr2))\n",
    "# print(nf2.symbol_information)\n"
   ]
  },
  {
   "cell_type": "code",
   "execution_count": null,
   "metadata": {},
   "outputs": [
    {
     "name": "stdout",
     "output_type": "stream",
     "text": [
      "weight0= 120\n",
      "weight1= 24\n",
      "weight0= 1\n",
      "weight1= 1/3\n",
      "weight0= 1\n",
      "weight1= 1/4\n",
      "weight0= 1\n",
      "weight1= 0\n",
      "weight0= 1\n",
      "weight1= 1/2\n",
      "nf= [(1+0j), (1+0j)]\n",
      "nf= [(1+0j), (1+0j)]\n",
      "f0= [(1+0j), (1+0j)] <class 'TDD.normal_form.normal_form'>\n",
      "f1= [(1+0j), (1+0j)] <class 'TDD.normal_form.normal_form'>\n",
      "nf= [1/2, x5 + 2*xn5]\n",
      "nf= [0j, 0j]\n",
      "f0= [1/2, x5 + 2*xn5] <class 'TDD.normal_form.normal_form'>\n",
      "f1= [0j, 0j] <class 'TDD.normal_form.normal_form'>\n",
      "nf= [1, xn3, 1/2, x5 + 2*xn5]\n",
      "weight0= 1\n",
      "weight1= 0\n",
      "weight0= 1\n",
      "weight1= 1/2\n",
      "nf= [(1+0j), (1+0j)]\n",
      "nf= [(1+0j), (1+0j)]\n",
      "f0= [(1+0j), (1+0j)] <class 'TDD.normal_form.normal_form'>\n",
      "f1= [(1+0j), (1+0j)] <class 'TDD.normal_form.normal_form'>\n",
      "nf= [1/2, x5 + 2*xn5]\n",
      "nf= [0j, 0j]\n",
      "f0= [1/2, x5 + 2*xn5] <class 'TDD.normal_form.normal_form'>\n",
      "f1= [0j, 0j] <class 'TDD.normal_form.normal_form'>\n",
      "nf= [1, xn3, 1/2, x5 + 2*xn5]\n",
      "f0= [1, xn3, 1/2, x5 + 2*xn5] <class 'TDD.normal_form.normal_form'>\n",
      "f1= [1, xn3, 1/2, x5 + 2*xn5] <class 'TDD.normal_form.normal_form'>\n",
      "nf= [1/4, x2 + 4*xn2, xn3, 1/2, x5 + 2*xn5]\n",
      "weight0= 1\n",
      "weight1= 1/4\n",
      "weight0= 1\n",
      "weight1= 0\n",
      "weight0= 1\n",
      "weight1= 1/2\n",
      "nf= [(1+0j), (1+0j)]\n",
      "nf= [(1+0j), (1+0j)]\n",
      "f0= [(1+0j), (1+0j)] <class 'TDD.normal_form.normal_form'>\n",
      "f1= [(1+0j), (1+0j)] <class 'TDD.normal_form.normal_form'>\n",
      "nf= [1/2, x5 + 2*xn5]\n",
      "nf= [0j, 0j]\n",
      "f0= [1/2, x5 + 2*xn5] <class 'TDD.normal_form.normal_form'>\n",
      "f1= [0j, 0j] <class 'TDD.normal_form.normal_form'>\n",
      "nf= [1, xn3, 1/2, x5 + 2*xn5]\n",
      "weight0= 1\n",
      "weight1= 0\n",
      "weight0= 1\n",
      "weight1= 1/2\n",
      "nf= [(1+0j), (1+0j)]\n",
      "nf= [(1+0j), (1+0j)]\n",
      "f0= [(1+0j), (1+0j)] <class 'TDD.normal_form.normal_form'>\n",
      "f1= [(1+0j), (1+0j)] <class 'TDD.normal_form.normal_form'>\n",
      "nf= [1/2, x5 + 2*xn5]\n",
      "nf= [0j, 0j]\n",
      "f0= [1/2, x5 + 2*xn5] <class 'TDD.normal_form.normal_form'>\n",
      "f1= [0j, 0j] <class 'TDD.normal_form.normal_form'>\n",
      "nf= [1, xn3, 1/2, x5 + 2*xn5]\n",
      "f0= [1, xn3, 1/2, x5 + 2*xn5] <class 'TDD.normal_form.normal_form'>\n",
      "f1= [1, xn3, 1/2, x5 + 2*xn5] <class 'TDD.normal_form.normal_form'>\n",
      "nf= [1/4, x2 + 4*xn2, xn3, 1/2, x5 + 2*xn5]\n",
      "f0= [1/4, x2 + 4*xn2, xn3, 1/2, x5 + 2*xn5] <class 'TDD.normal_form.normal_form'>\n",
      "f1= [1/4, x2 + 4*xn2, xn3, 1/2, x5 + 2*xn5] <class 'TDD.normal_form.normal_form'>\n",
      "nf= [1/3, x1 + 3*xn1, 1/4, x2 + 4*xn2, xn3, 1/2, x5 + 2*xn5]\n",
      "weight0= 1\n",
      "weight1= 1/3\n",
      "weight0= 1\n",
      "weight1= 1/4\n",
      "weight0= 1\n",
      "weight1= 0\n",
      "weight0= 1\n",
      "weight1= 1/2\n",
      "nf= [(1+0j), (1+0j)]\n",
      "nf= [(1+0j), (1+0j)]\n",
      "f0= [(1+0j), (1+0j)] <class 'TDD.normal_form.normal_form'>\n",
      "f1= [(1+0j), (1+0j)] <class 'TDD.normal_form.normal_form'>\n",
      "nf= [1/2, x5 + 2*xn5]\n",
      "nf= [0j, 0j]\n",
      "f0= [1/2, x5 + 2*xn5] <class 'TDD.normal_form.normal_form'>\n",
      "f1= [0j, 0j] <class 'TDD.normal_form.normal_form'>\n",
      "nf= [1, xn3, 1/2, x5 + 2*xn5]\n",
      "weight0= 1\n",
      "weight1= 0\n",
      "weight0= 1\n",
      "weight1= 1/2\n",
      "nf= [(1+0j), (1+0j)]\n",
      "nf= [(1+0j), (1+0j)]\n",
      "f0= [(1+0j), (1+0j)] <class 'TDD.normal_form.normal_form'>\n",
      "f1= [(1+0j), (1+0j)] <class 'TDD.normal_form.normal_form'>\n",
      "nf= [1/2, x5 + 2*xn5]\n",
      "nf= [0j, 0j]\n",
      "f0= [1/2, x5 + 2*xn5] <class 'TDD.normal_form.normal_form'>\n",
      "f1= [0j, 0j] <class 'TDD.normal_form.normal_form'>\n",
      "nf= [1, xn3, 1/2, x5 + 2*xn5]\n",
      "f0= [1, xn3, 1/2, x5 + 2*xn5] <class 'TDD.normal_form.normal_form'>\n",
      "f1= [1, xn3, 1/2, x5 + 2*xn5] <class 'TDD.normal_form.normal_form'>\n",
      "nf= [1/4, x2 + 4*xn2, xn3, 1/2, x5 + 2*xn5]\n",
      "weight0= 1\n",
      "weight1= 1/4\n",
      "weight0= 1\n",
      "weight1= 0\n",
      "weight0= 1\n",
      "weight1= 1/2\n",
      "nf= [(1+0j), (1+0j)]\n",
      "nf= [(1+0j), (1+0j)]\n",
      "f0= [(1+0j), (1+0j)] <class 'TDD.normal_form.normal_form'>\n",
      "f1= [(1+0j), (1+0j)] <class 'TDD.normal_form.normal_form'>\n",
      "nf= [1/2, x5 + 2*xn5]\n",
      "nf= [0j, 0j]\n",
      "f0= [1/2, x5 + 2*xn5] <class 'TDD.normal_form.normal_form'>\n",
      "f1= [0j, 0j] <class 'TDD.normal_form.normal_form'>\n",
      "nf= [1, xn3, 1/2, x5 + 2*xn5]\n",
      "weight0= 1\n",
      "weight1= 0\n",
      "weight0= 1\n",
      "weight1= 1/2\n",
      "nf= [(1+0j), (1+0j)]\n",
      "nf= [(1+0j), (1+0j)]\n",
      "f0= [(1+0j), (1+0j)] <class 'TDD.normal_form.normal_form'>\n",
      "f1= [(1+0j), (1+0j)] <class 'TDD.normal_form.normal_form'>\n",
      "nf= [1/2, x5 + 2*xn5]\n",
      "nf= [0j, 0j]\n",
      "f0= [1/2, x5 + 2*xn5] <class 'TDD.normal_form.normal_form'>\n",
      "f1= [0j, 0j] <class 'TDD.normal_form.normal_form'>\n",
      "nf= [1, xn3, 1/2, x5 + 2*xn5]\n",
      "f0= [1, xn3, 1/2, x5 + 2*xn5] <class 'TDD.normal_form.normal_form'>\n",
      "f1= [1, xn3, 1/2, x5 + 2*xn5] <class 'TDD.normal_form.normal_form'>\n",
      "nf= [1/4, x2 + 4*xn2, xn3, 1/2, x5 + 2*xn5]\n",
      "f0= [1/4, x2 + 4*xn2, xn3, 1/2, x5 + 2*xn5] <class 'TDD.normal_form.normal_form'>\n",
      "f1= [1/4, x2 + 4*xn2, xn3, 1/2, x5 + 2*xn5] <class 'TDD.normal_form.normal_form'>\n",
      "nf= [1/3, x1 + 3*xn1, 1/4, x2 + 4*xn2, xn3, 1/2, x5 + 2*xn5]\n",
      "f0= [1/3, x1 + 3*xn1, 1/4, x2 + 4*xn2, xn3, 1/2, x5 + 2*xn5] <class 'TDD.normal_form.normal_form'>\n",
      "f1= [1/3, x1 + 3*xn1, 1/4, x2 + 4*xn2, xn3, 1/2, x5 + 2*xn5] <class 'TDD.normal_form.normal_form'>\n",
      "nf= [24, x0 + 5*xn0, 1/3, x1 + 3*xn1, 1/4, x2 + 4*xn2, xn3, 1/2, x5 + 2*xn5]\n",
      "[24, x0 + 5*xn0, 1/3, x1 + 3*xn1, 1/4, x2 + 4*xn2, xn3, 1/2, x5 + 2*xn5]\n"
     ]
    }
   ],
   "source": [
    "weight=1\n",
    "expr4=weight*(x0+5*xn0)*(x1+3*xn1)*(x2+4*xn2)*(xn3)*(x5+2*xn5)\n",
    "nf4=nf.normal_form.normal_form_init(expr4)\n",
    "\n",
    "# print(nf4.weight)\n",
    "# print(nf4.primary_normal_form)\n",
    "print(nf4.data)\n",
    "\n",
    "# print(nf.normal_form.find_symbol_information(expr4))\n",
    "# print(nf4.symbol_information)"
   ]
  },
  {
   "cell_type": "code",
   "execution_count": null,
   "metadata": {},
   "outputs": [
    {
     "name": "stdout",
     "output_type": "stream",
     "text": [
      "nf= [(5+0j), (1+0j)]\n",
      "(5+0j)\n",
      "[(1+0j)]\n",
      "[(5+0j), (1+0j)]\n",
      "[{}, []]\n",
      "[{}, []]\n"
     ]
    }
   ],
   "source": [
    "expr5=5\n",
    "nf5=nf.normal_form.normal_form_init(expr5)\n",
    "\n",
    "\n",
    "print(nf5.weight)\n",
    "print(nf5.primary_normal_form)\n",
    "print(nf5.data)\n",
    "\n",
    "print(nf.normal_form.find_symbol_information(expr5))\n",
    "print(nf5.symbol_information)"
   ]
  },
  {
   "cell_type": "code",
   "execution_count": null,
   "metadata": {},
   "outputs": [
    {
     "name": "stdout",
     "output_type": "stream",
     "text": [
      "nf= [(1+6j), (1+0j)]\n",
      "(1+6j)\n",
      "[(1+0j)]\n",
      "[(1+6j), (1+0j)]\n",
      "[{}, []]\n",
      "[{}, []]\n"
     ]
    }
   ],
   "source": [
    "expr6=6*sympy.I+1\n",
    "nf6=nf.normal_form.normal_form_init(expr6)\n",
    "\n",
    "\n",
    "print(nf6.weight)\n",
    "print(nf6.primary_normal_form)\n",
    "print(nf6.data)\n",
    "\n",
    "print(nf.normal_form.find_symbol_information(expr6))\n",
    "print(nf6.symbol_information)"
   ]
  },
  {
   "cell_type": "code",
   "execution_count": null,
   "metadata": {},
   "outputs": [
    {
     "name": "stdout",
     "output_type": "stream",
     "text": [
      "nf= [(1+6j), (1+0j)]\n",
      "[(1+6j), (1+0j)]\n"
     ]
    }
   ],
   "source": [
    "expr7=x0*x1*x2+2*xn0*x1+xn0*xn1\n",
    "nf7=nf.normal_form.normal_form_init(expr6)\n",
    "\n",
    "\n",
    "# print(expr7.free_symbols)\n",
    "# print(nf7.weight)\n",
    "# print(nf7.primary_normal_form)\n",
    "print(nf7.data)\n",
    "\n",
    "# print(nf.normal_form.find_symbol_information(expr7))\n",
    "# print(nf7.symbol_information)\n",
    "\n",
    "#output=x0*x1*x2+2*xn0(x1+0.5*xn1)"
   ]
  },
  {
   "cell_type": "code",
   "execution_count": null,
   "metadata": {},
   "outputs": [],
   "source": [
    "nf.normal_form.add(nf5,nf6)\n"
   ]
  }
 ],
 "metadata": {
  "interpreter": {
   "hash": "06cba8887e6156d8cf780c05c96a3f62d3a6e417048d85a718fc61d158b1208c"
  },
  "kernelspec": {
   "display_name": "Python 3.9.7 ('qiskit': conda)",
   "language": "python",
   "name": "python3"
  },
  "language_info": {
   "codemirror_mode": {
    "name": "ipython",
    "version": 3
   },
   "file_extension": ".py",
   "mimetype": "text/x-python",
   "name": "python",
   "nbconvert_exporter": "python",
   "pygments_lexer": "ipython3",
   "version": "3.9.7"
  },
  "orig_nbformat": 4
 },
 "nbformat": 4,
 "nbformat_minor": 2
}
