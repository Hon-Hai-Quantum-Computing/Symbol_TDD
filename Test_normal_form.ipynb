{
 "cells": [
  {
   "cell_type": "code",
   "execution_count": 1,
   "metadata": {},
   "outputs": [],
   "source": [
    "import numpy as np\n",
    "import sympy\n",
    "import TDD.normal_form as nf\n",
    "\n"
   ]
  },
  {
   "cell_type": "code",
   "execution_count": 2,
   "metadata": {},
   "outputs": [],
   "source": [
    "A=['x0','xn0','x1','xn1','x2','xn2','x3','xn3','x4','xn4','x5','xn5']\n",
    "[x0,xn0,x1,xn1,x2,xn2,x3,xn3,x4,xn4,x5,xn5]=sympy.symbols(A)"
   ]
  },
  {
   "cell_type": "code",
   "execution_count": 5,
   "metadata": {},
   "outputs": [
    {
     "name": "stdout",
     "output_type": "stream",
     "text": [
      "[(2+0j), [xn0, (1+0j)]]\n",
      "(2+0j)\n",
      "[xn0, (1+0j)]\n",
      "[(2+0j), [xn0, (1+0j)]]\n"
     ]
    }
   ],
   "source": [
    "weight=2\n",
    "expr0=weight*xn0\n",
    "nf0=nf.normal_form.normal_form_init(expr0)\n",
    "\n",
    "print(nf0)\n",
    "print(nf0.weight)\n",
    "print(nf0.primary_normal_form)\n",
    "print(nf0.data)\n",
    "\n",
    "# print(nf.normal_form.find_symbol_information(expr0))\n",
    "# print(nf0.symbol_information)\n",
    "\n"
   ]
  },
  {
   "cell_type": "code",
   "execution_count": 6,
   "metadata": {},
   "outputs": [
    {
     "name": "stdout",
     "output_type": "stream",
     "text": [
      "(6+0j)\n",
      "[[x2 + 2*xn2/3], [xn4, (1+0j)]]\n"
     ]
    }
   ],
   "source": [
    "\n",
    "weight=2\n",
    "expr1=weight*(x1+1*xn1)*(3*x2+2*xn2)*(xn4)*(x5+xn5)\n",
    "nf1=nf.normal_form.normal_form_init(expr1)\n",
    "\n",
    "\n",
    "print(nf1.weight)\n",
    "print(nf1.primary_normal_form)\n",
    "# print(nf1.data)\n",
    "\n",
    "# print(nf.normal_form.find_symbol_information(expr1))\n",
    "# print(nf1.symbol_information)\n",
    "# print()\n",
    "\n",
    "\n"
   ]
  },
  {
   "cell_type": "code",
   "execution_count": 6,
   "metadata": {},
   "outputs": [
    {
     "name": "stdout",
     "output_type": "stream",
     "text": [
      "(4+0j)\n",
      "[[x1 + 3*xn1], [[x2 + 4*xn2/3], [[x3 + 1.0*I*xn3], (1+0j)]]]\n",
      "[4, [[x1 + 3*xn1], [[x2 + 4*xn2/3], [[x3 + 1.0*I*xn3], (1+0j)]]]]\n"
     ]
    }
   ],
   "source": [
    "weight=1\n",
    "expr2=weight*(x1+3*xn1)*(3*x2+4*xn2)*(x3+(sympy.I)*xn3)\n",
    "nf2=nf.normal_form.normal_form_init(expr2)\n",
    "\n",
    "print(nf2.weight)\n",
    "print(nf2.primary_normal_form)\n",
    "print(nf2.data)\n",
    "\n",
    "# print(nf.normal_form.find_symbol_information(expr2))\n",
    "# print(nf2.symbol_information)\n"
   ]
  },
  {
   "cell_type": "code",
   "execution_count": 17,
   "metadata": {},
   "outputs": [
    {
     "data": {
      "text/plain": [
       "[3, 15 + 3*I, 4, 20 + 4*I, 9, 45 + 9*I, 12, 60 + 12*I]"
      ]
     },
     "execution_count": 17,
     "metadata": {},
     "output_type": "execute_result"
    }
   ],
   "source": [
    "sympy.Poly(expr2).coeffs()"
   ]
  },
  {
   "cell_type": "code",
   "execution_count": null,
   "metadata": {},
   "outputs": [
    {
     "name": "stdout",
     "output_type": "stream",
     "text": [
      "[1, x0 + 5*xn0, x1 + 3*xn1, x2 + 4*xn2, xn3, x5 + 2*xn5]\n"
     ]
    }
   ],
   "source": [
    "weight=1\n",
    "expr4=weight*(x0+5*xn0)*(x1+3*xn1)*(x2+4*xn2)*(xn3)*(x5+2*xn5)\n",
    "nf4=nf.normal_form.normal_form_init(expr4)\n",
    "\n",
    "# print(nf4.weight)\n",
    "# print(nf4.primary_normal_form)\n",
    "print(nf4.data)\n",
    "\n",
    "# print(nf.normal_form.find_symbol_information(expr4))\n",
    "# print(nf4.symbol_information)"
   ]
  },
  {
   "cell_type": "code",
   "execution_count": null,
   "metadata": {},
   "outputs": [
    {
     "name": "stdout",
     "output_type": "stream",
     "text": [
      "5\n",
      "[]\n",
      "[5]\n",
      "[{}, []]\n",
      "[{}, []]\n"
     ]
    }
   ],
   "source": [
    "expr5=5\n",
    "nf5=nf.normal_form.normal_form_init(expr5)\n",
    "\n",
    "\n",
    "print(nf5.weight)\n",
    "print(nf5.primary_normal_form)\n",
    "print(nf5.data)\n",
    "\n",
    "print(nf.normal_form.find_symbol_information(expr5))\n",
    "print(nf5.symbol_information)"
   ]
  },
  {
   "cell_type": "code",
   "execution_count": null,
   "metadata": {},
   "outputs": [
    {
     "name": "stdout",
     "output_type": "stream",
     "text": [
      "set()\n",
      "1 + 6*I\n",
      "[]\n",
      "[1 + 6*I]\n",
      "[{}, []]\n",
      "[{}, []]\n"
     ]
    }
   ],
   "source": [
    "expr6=6*sympy.I+1\n",
    "nf6=nf.normal_form.normal_form_init(expr6)\n",
    "\n",
    "\n",
    "print(expr6.free_symbols)\n",
    "print(nf6.weight)\n",
    "print(nf6.primary_normal_form)\n",
    "print(nf6.data)\n",
    "\n",
    "print(nf.normal_form.find_symbol_information(expr6))\n",
    "print(nf6.symbol_information)"
   ]
  },
  {
   "cell_type": "code",
   "execution_count": null,
   "metadata": {},
   "outputs": [
    {
     "name": "stdout",
     "output_type": "stream",
     "text": [
      "[1 + 6*I]\n"
     ]
    }
   ],
   "source": [
    "expr7=x0*x1*x2+2*xn0*x1+xn0*xn1\n",
    "nf7=nf.normal_form.normal_form_init(expr6)\n",
    "\n",
    "\n",
    "# print(expr7.free_symbols)\n",
    "# print(nf7.weight)\n",
    "# print(nf7.primary_normal_form)\n",
    "print(nf7.data)\n",
    "\n",
    "# print(nf.normal_form.find_symbol_information(expr7))\n",
    "# print(nf7.symbol_information)\n",
    "\n",
    "#output=x0*x1*x2+2*xn0(x1+0.5*xn1)"
   ]
  },
  {
   "cell_type": "code",
   "execution_count": null,
   "metadata": {},
   "outputs": [],
   "source": []
  },
  {
   "cell_type": "code",
   "execution_count": null,
   "metadata": {},
   "outputs": [],
   "source": [
    "def add(nf1,nf2):\n",
    "    if len(nf1.data)==1 and len(nf2.data)==1:\n",
    "        # print(nf1.weight+nf2.weight)\n",
    "        return nf.normal_form(weight=nf1.weight+nf2.weight,primary_normal_form=[],symbol_information=[{},[]])\n",
    "\n",
    "    if nf1.weight==0:\n",
    "        # print(nf2)\n",
    "        return nf2\n",
    "\n",
    "    if nf2.weight==0:\n",
    "        # print(nf1)\n",
    "        return nf1\n",
    "        \n",
    "    [symbol_dic1,using_qubit_list1]=nf1.symbol_information\n",
    "    [symbol_dic2,using_qubit_list2]=nf2.symbol_information\n",
    "\n",
    "    first_using_qubit=sorted(list(set(using_qubit_list1+using_qubit_list2)))[0]\n",
    "    # print(first_using_qubit)\n",
    "    symbol_dic={**symbol_dic1,**symbol_dic2}\n",
    "    # print(symbol_dic)\n",
    "    x=symbol_dic['x%i'%first_using_qubit]\n",
    "    xn=symbol_dic['xn%i'%first_using_qubit]\n",
    "\n",
    "    # print('x%i'%first_using_qubit,'xn%i'%first_using_qubit)\n",
    "\n",
    "#Get f property\n",
    "    # f1 area\n",
    "    nf11=nf1.sub_normal_form(first_using_qubit,1)\n",
    "    nf21=nf2.sub_normal_form(first_using_qubit,1)\n",
    "    f1=add(nf11,nf21)\n",
    "    # f0 area\n",
    "    nf10=nf1.sub_normal_form(first_using_qubit,0)\n",
    "    nf20=nf2.sub_normal_form(first_using_qubit,0)\n",
    "    f0=add(nf10,nf20)\n",
    "\n",
    "    if f1.weight==0:\n",
    "        #initialize\n",
    "        primary_normal_form=list(f0.primary_normal_form)\n",
    "        symbol_dic=dict(f0.symbol_information[0])\n",
    "        using_qubit_list=list(f0.symbol_information[1])\n",
    "        #adjust\n",
    "        weight=f0.weight\n",
    "        primary_normal_form.insert(xn,0)\n",
    "        symbol_dic['xn%i'%first_using_qubit]=xn\n",
    "        using_qubit_list.insert(first_using_qubit,0)\n",
    "\n",
    "        nf= nf.normal_form(weight=weight,primary_normal_form=primary_normal_form,symbol_information=[symbol_dic,using_qubit_list])\n",
    "        print(nf.data,nf.symbol_information)  \n",
    "        return nf\n",
    "    if f0.primary_normal_form==f1.primary_normal_form:\n",
    "        if f0.weight==f1.weight:\n",
    "            return f0\n",
    "        else:\n",
    "            #initialize\n",
    "            primary_normal_form=list(f0.primary_normal_form)\n",
    "            symbol_dic=dict(f0.symbol_information[0])\n",
    "            using_qubit_list=list(f0.symbol_information[1])\n",
    "            #adjust\n",
    "            weight=f1.weight\n",
    "            primary_normal_form.insert(x+f0.weight/f1.weight*xn,0)\n",
    "\n",
    "            symbol_dic['x%i'%first_using_qubit]=x\n",
    "            symbol_dic['xn%i'%first_using_qubit]=xn\n",
    "            using_qubit_list.insert(first_using_qubit,0)\n",
    "\n",
    "            nf= nf.normal_form(weight=weight,primary_normal_form=primary_normal_form,symbol_information=[symbol_dic,using_qubit_list])\n",
    "            print(nf.data,nf.symbol_information)  \n",
    "            return nf\n",
    "    else:\n",
    "        \n",
    "        #initialize\n",
    "\n",
    "        primary_normal_form_1=list(f1.primary_normal_form)\n",
    "        primary_normal_form_0=list(f0.primary_normal_form)\n",
    "\n",
    "        #adjust\n",
    "        weight=f1.weight\n",
    "        insert=\n",
    "        primary_normal_form.insert(x+f0.weight/f1.weight*xn,0)\n",
    "\n",
    "        symbol_dic['x%i'%first_using_qubit]=x\n",
    "        symbol_dic['xn%i'%first_using_qubit]=xn\n",
    "        using_qubit_list.insert(first_using_qubit,0)\n",
    "\n",
    "        nf= nf.normal_form(weight=weight,primary_normal_form=primary_normal_form,symbol_information=[symbol_dic,using_qubit_list])\n",
    "        print(nf.data,nf.symbol_information)  \n",
    "        return nf\n",
    "\n",
    "\n",
    "\n",
    "\n",
    "\n",
    "\n"
   ]
  },
  {
   "cell_type": "code",
   "execution_count": null,
   "metadata": {},
   "outputs": [],
   "source": [
    "\n"
   ]
  },
  {
   "cell_type": "code",
   "execution_count": null,
   "metadata": {},
   "outputs": [],
   "source": []
  },
  {
   "cell_type": "code",
   "execution_count": null,
   "metadata": {},
   "outputs": [],
   "source": [
    "\n",
    "\n",
    "\n",
    "# [0] [{}, []]\n",
    "# [9, x2 + 4*xn2/3, xn3, x5 + I*xn5] [{'x5': x5, 'xn2': xn2, 'x2': x2, 'xn1': xn1, 'xn3': xn3, 'xn5': xn5}, [2, 3, 5]]\n",
    "# [54]\n"
   ]
  },
  {
   "cell_type": "code",
   "execution_count": null,
   "metadata": {},
   "outputs": [
    {
     "data": {
      "text/plain": [
       "False"
      ]
     },
     "execution_count": 11,
     "metadata": {},
     "output_type": "execute_result"
    }
   ],
   "source": [
    "type(sympy.Poly(nf2.primary_normal_form[0],x1).coeffs()[0])==sympy.core.numbers"
   ]
  }
 ],
 "metadata": {
  "interpreter": {
   "hash": "06cba8887e6156d8cf780c05c96a3f62d3a6e417048d85a718fc61d158b1208c"
  },
  "kernelspec": {
   "display_name": "Python 3.9.7 ('qiskit': conda)",
   "language": "python",
   "name": "python3"
  },
  "language_info": {
   "codemirror_mode": {
    "name": "ipython",
    "version": 3
   },
   "file_extension": ".py",
   "mimetype": "text/x-python",
   "name": "python",
   "nbconvert_exporter": "python",
   "pygments_lexer": "ipython3",
   "version": "3.9.7"
  },
  "orig_nbformat": 4
 },
 "nbformat": 4,
 "nbformat_minor": 2
}
