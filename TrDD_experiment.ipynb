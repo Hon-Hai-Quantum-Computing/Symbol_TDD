{
 "cells": [
  {
   "cell_type": "code",
   "execution_count": 1,
   "metadata": {},
   "outputs": [],
   "source": [
    "import time,csv\n",
    "import numpy as np\n",
    "from TDD.TDD import global_norm"
   ]
  },
  {
   "cell_type": "code",
   "execution_count": 2,
   "metadata": {},
   "outputs": [],
   "source": [
    "from TDD.TDD import Ini_TDD\n",
    "from TDD.TDD_Q import cir_2_tn,get_real_qubit_num\n",
    "\n",
    "def STDD_simulation(cir, Benchmark_Name=None, unique_table_reset=True, add_inputs_list=None, optimizer=None):\n",
    "    n=get_real_qubit_num(cir)\n",
    "    tn,indices=cir_2_tn(cir)\n",
    "    Parameter_num=len(cir.parameters)\n",
    "    #add y indices\n",
    "    indices2=[]\n",
    "    for i, item in enumerate(indices):\n",
    "        indices2.append(item)\n",
    "        if item[0]=='y':\n",
    "            num=int(item.replace('y',''))\n",
    "            # indices2.append('z%i'%num)\n",
    "    t_start=time.time()\n",
    "    #add sin cos indices\n",
    "\n",
    "    '''\n",
    "    TrDD process start\n",
    "    '''\n",
    "    sin_str=set()\n",
    "    cos_str=set()\n",
    "    for tensor in tn.tensors:\n",
    "        for element in tensor.data.flatten(): \n",
    "            from sympy.core.expr import Expr \n",
    "            if isinstance(element,Expr):\n",
    "                for symbol in element.free_symbols:\n",
    "                    if '[' in str(element.free_symbols):\n",
    "                        if '[' in str(symbol):\n",
    "                            sin_str.add('sin('+str(symbol)+')')\n",
    "                            cos_str.add('cos('+str(symbol)+')')\n",
    "                    else:\n",
    "                        sin_str.add('sin('+str(symbol)+')')\n",
    "                        cos_str.add('cos('+str(symbol)+')')\n",
    "    def get_numbers(s):\n",
    "        import re\n",
    "        # 使用正則表達式找到所有匹配\"\\d+\"的子串，即連續的一個或多個數字\n",
    "        numbers = re.findall(\"\\d+\", s)\n",
    "        return int(numbers[0])\n",
    "\n",
    "    sin_str=list(sin_str)\n",
    "    sin_str.sort(key=get_numbers)\n",
    "    cos_str=list(cos_str)\n",
    "    cos_str.sort(key=get_numbers)\n",
    "    sym_str=[]\n",
    "    for i in range(len(sin_str)):\n",
    "        sym_str.append(sin_str[i])\n",
    "        sym_str.append(cos_str[i])\n",
    "    # TDD process\n",
    "    Ini_TDD(indices2,sym_str,type='TrDD',unique_table_reset=unique_table_reset)\n",
    "\n",
    "    '''\n",
    "    TrDD process end\n",
    "    '''\n",
    "\n",
    "    '''\n",
    "    EXP process start \n",
    "    '''\n",
    "    # from sympy import Symbol\n",
    "    # parameters_dict=dict((Symbol(v.name.replace(\"[\",\"\").replace(\"]\",\"\")),k) for k, v in dict(enumerate(cir.parameters)).items())\n",
    "    # Ini_TDD(indices2,type='Exp',var=parameters_dict,unique_table_reset=unique_table_reset)\n",
    "    '''\n",
    "    EXP process end \n",
    "    '''\n",
    "\n",
    "    if add_inputs_list:\n",
    "        from TDD.TDD_Q import add_inputs\n",
    "        # add_inputs(tn,[0]*n,n)\n",
    "        add_inputs(tn,add_inputs_list)\n",
    "\n",
    "    start_cont=time.time()-t_start\n",
    "    print('start cont ',start_cont)\n",
    "    tdd, Max_node_num=tn.cont(optimizer=optimizer,max_node=True)\n",
    "    cont_time=time.time()-start_cont-t_start\n",
    "    print('cont complete',cont_time)\n",
    "\n",
    "    from TDD.TDD import get_unique_table_num as gu1\n",
    "    from TDD.TrDD.BDD import get_unique_table_num as gu2\n",
    "    output_dict={'Benchmark Name':Benchmark_Name,\n",
    "            'Parameter num': Parameter_num,\n",
    "            'Qubit num.':tn.qubits_num,\n",
    "            'Gate num.':len(cir.data),\n",
    "            'Time':cont_time,\n",
    "            'Node num. max':Max_node_num,\n",
    "            'Node num. final':tdd.node_number(),\n",
    "            'gu1':gu1(),\n",
    "            'gu2':gu2()\n",
    "    }\n",
    "    return tdd, output_dict"
   ]
  },
  {
   "cell_type": "code",
   "execution_count": 3,
   "metadata": {},
   "outputs": [],
   "source": [
    "def STDD_verify(cir, cir2, Benchmark_Name=None, unique_table_reset=True, add_inputs_list=None, optimizer=None):\n",
    "    n=get_real_qubit_num(cir)\n",
    "    tn, indices = cir_2_tn(cir.compose(cir2.inverse()))\n",
    "    Parameter_num=len(cir.parameters)\n",
    "    t_start=time.time()\n",
    "\n",
    "    '''\n",
    "    TrDD process start\n",
    "    '''\n",
    "    #add sin cos indices\n",
    "    sin_str=set()\n",
    "    cos_str=set()\n",
    "    for tensor in tn.tensors:\n",
    "        for element in tensor.data.flatten(): \n",
    "            from sympy.core.expr import Expr \n",
    "            if isinstance(element,Expr):\n",
    "                for symbol in element.free_symbols:\n",
    "                    if '[' in str(element.free_symbols):\n",
    "                        if '[' in str(symbol):\n",
    "                            sin_str.add('sin('+str(symbol)+')')\n",
    "                            cos_str.add('cos('+str(symbol)+')')\n",
    "                    else:\n",
    "                        sin_str.add('sin('+str(symbol)+')')\n",
    "                        cos_str.add('cos('+str(symbol)+')')\n",
    "    def get_numbers(s):\n",
    "        import re\n",
    "        # 使用正則表達式找到所有匹配\"\\d+\"的子串，即連續的一個或多個數字\n",
    "        numbers = re.findall(\"\\d+\", s)\n",
    "        return int(numbers[0])\n",
    "\n",
    "    sin_str=list(sin_str)\n",
    "    sin_str.sort(key=get_numbers)\n",
    "    cos_str=list(cos_str)\n",
    "    cos_str.sort(key=get_numbers)\n",
    "    sym_str=[]\n",
    "    for i in range(len(sin_str)):\n",
    "        sym_str.append(sin_str[i])\n",
    "        sym_str.append(cos_str[i])\n",
    "\n",
    "    # TDD process\n",
    "    Ini_TDD(indices,sym_str,type='TrDD',unique_table_reset=unique_table_reset)\n",
    "\n",
    "    '''\n",
    "    TrDD process end\n",
    "    '''\n",
    "\n",
    "    '''\n",
    "    EXP process start \n",
    "    '''\n",
    "    # from sympy import Symbol\n",
    "    # parameters_dict=dict((Symbol(v.name.replace(\"[\",\"\").replace(\"]\",\"\")),k) for k, v in dict(enumerate(cir.parameters)).items())\n",
    "    # Ini_TDD(indices,type='Exp',var=parameters_dict,unique_table_reset=unique_table_reset)\n",
    "    '''\n",
    "    EXP process end \n",
    "    '''\n",
    "\n",
    "    if add_inputs_list:\n",
    "        from TDD.TDD_Q import add_inputs\n",
    "        # add_inputs(tn,[0]*n,n)\n",
    "        add_inputs(tn,add_inputs_list)\n",
    "\n",
    "    def cont2(tn,l1):\n",
    "        from TDD.TDD import cont, get_identity_tdd\n",
    "        max_node_num=0\n",
    "        tdd=get_identity_tdd()\n",
    "        l2=len(tn.tensors)-l1\n",
    "        l=min(l1,l2)\n",
    "        d=l1-l2\n",
    "        r=int(l1/l2) if d>0 else int(l2/l1)\n",
    "        if r == 1:\n",
    "            for i in range(l):\n",
    "                tdd1=tn.tensors[-(i+1)+l1].tdd()\n",
    "                tdd=cont(tdd1,tdd)\n",
    "                max_node_num=max(max_node_num,tdd.node_number())\n",
    "                tdd2=tn.tensors[i+l1].tdd()\n",
    "                tdd=cont(tdd,tdd2)\n",
    "                max_node_num=max(max_node_num,tdd.node_number())\n",
    "            if d>0:\n",
    "                for i in range(d):\n",
    "                    tdd1=tn.tensors[-(i+l+1)+l1].tdd()\n",
    "                    tdd=cont(tdd1,tdd)\n",
    "                    max_node_num=max(max_node_num,tdd.node_number())\n",
    "            elif d<0:\n",
    "                for i in range(abs(d)):\n",
    "                    tdd2=tn.tensors[i+l+l1].tdd()\n",
    "                    tdd=cont(tdd,tdd2)\n",
    "                    max_node_num=max(max_node_num,tdd.node_number())\n",
    "        elif d>0:\n",
    "            for i in range(l2):\n",
    "                for j in range(r):\n",
    "                    tdd1=tn.tensors[-(r*i+j+1)+l1].tdd()\n",
    "                    tdd=cont(tdd1,tdd)\n",
    "                    max_node_num=max(max_node_num,tdd.node_number())\n",
    "                tdd2=tn.tensors[i+l1].tdd()\n",
    "                tdd=cont(tdd,tdd2)\n",
    "                max_node_num=max(max_node_num,tdd.node_number())\n",
    "            d2=l1-r*l2\n",
    "            if d2 !=0:\n",
    "                for i in range (d2):\n",
    "                    tdd1=tn.tensors[-(i+r*l2+1)+l1].tdd()\n",
    "                    tdd=cont(tdd1,tdd)\n",
    "                    max_node_num=max(max_node_num,tdd.node_number())\n",
    "        elif d<0:\n",
    "            for i in range(l1):\n",
    "                tdd1=tn.tensors[-(i+1)+l1].tdd()\n",
    "                tdd=cont(tdd1,tdd)\n",
    "                max_node_num=max(max_node_num,tdd.node_number())\n",
    "                for j in range(r):\n",
    "                    tdd2=tn.tensors[r*i+j+l1].tdd()\n",
    "                    tdd=cont(tdd,tdd2)\n",
    "                    max_node_num=max(max_node_num,tdd.node_number())\n",
    "            d2=l2-r*l1\n",
    "            if d2 !=0:\n",
    "                for i in range(d2):\n",
    "                    tdd2=tn.tensors[i+(r+1)*l1].tdd()\n",
    "                    tdd=cont(tdd,tdd2)\n",
    "                    max_node_num=max(max_node_num,tdd.node_number())\n",
    "        return tdd, max_node_num\n",
    "\n",
    "    l1=len(cir.data)\n",
    "\n",
    "    start_cont=time.time()-t_start\n",
    "    print('start cont ',start_cont)\n",
    "    tdd, Max_node_num= cont2(tn,l1)\n",
    "    cont_time=time.time()-start_cont-t_start\n",
    "    print('cont complete',cont_time)\n",
    "\n",
    "    from TDD.TDD import get_unique_table_num as gu1\n",
    "    from TDD.TrDD.BDD import get_unique_table_num as gu2\n",
    "    output_dict={'Benchmark Name':Benchmark_Name,\n",
    "            'Parameter num': Parameter_num,\n",
    "            'Qubit num.':tn.qubits_num,\n",
    "            'Gate num.':len(cir.data),\n",
    "            'Time':cont_time,\n",
    "            'Node num. max':Max_node_num,\n",
    "            'Node num. final':tdd.node_number(),\n",
    "            'gu1':gu1(),\n",
    "            'gu2':gu2()\n",
    "    }\n",
    "    return tdd, output_dict"
   ]
  },
  {
   "cell_type": "code",
   "execution_count": 4,
   "metadata": {},
   "outputs": [],
   "source": [
    "def verify(tdd1,tdd2):\n",
    "    start_time= time.time()\n",
    "    # equivalent without global_norm\n",
    "    if tdd1==tdd2:\n",
    "        check_time=time.time()-start_time\n",
    "        output_dict={\"check_time\":check_time,\"equivalence\":\"equivalent\"}\n",
    "        print(output_dict)\n",
    "        return output_dict\n",
    "    elif tdd1.node==tdd2.node:\n",
    "        check_time=time.time()-start_time\n",
    "        output_dict={\"check_time\":check_time,\"equivalence\":\"equivalent_up_to_global_phase\"}\n",
    "        print(output_dict)\n",
    "        return output_dict\n",
    "    tddn=global_norm(tdd1)\n",
    "    tddn2=global_norm(tdd2)\n",
    "    # equivalent with global_norm\n",
    "    if tddn==tddn2:\n",
    "        check_time=time.time()-start_time\n",
    "        output_dict={\"check_time\":check_time,\"equivalence\":\"equivalent\"}\n",
    "        print('global_norm',output_dict)\n",
    "        return output_dict\n",
    "    elif tddn.node==tdd2.node:\n",
    "        check_time=time.time()-start_time\n",
    "        output_dict={\"check_time\":check_time,\"equivalence\":\"equivalent_up_to_global_phase\"}\n",
    "        print('global_norm',output_dict)\n",
    "        return output_dict\n",
    "    # not equivalent \n",
    "    else:\n",
    "        check_time=time.time()-start_time\n",
    "        output_dict={\"check_time\":check_time,\"equivalence\":\"not_equivalent\"}\n",
    "        print(output_dict)\n",
    "        return output_dict"
   ]
  },
  {
   "cell_type": "code",
   "execution_count": 5,
   "metadata": {},
   "outputs": [],
   "source": [
    "from qiskit import transpile\n",
    "from qiskit.circuit import Parameter, QuantumCircuit, library\n",
    "\n",
    "def circuit_generator(qubit_num=1,reps=1,function_name='TwoLocal'\n",
    "                    ,basis_gates1=['id', 'rz', 'sx', 'x', 'cx']\n",
    "                    ,basis_gates2=['rx','ry','h','cx']):\n",
    "\n",
    "    if function_name=='TwoLocal':\n",
    "        cir = library.TwoLocal(qubit_num, ['ry'],'cx', entanglement='circular', reps=reps)\n",
    "    if function_name=='ExcitationPreserving':\n",
    "        cir = library.ExcitationPreserving(qubit_num, mode='fsim', entanglement='full', reps=reps)\n",
    "    if function_name=='RealAmplitudes':\n",
    "        cir = library.RealAmplitudes(qubit_num, entanglement='full', reps=reps)\n",
    "    if function_name=='EfficientSU2':\n",
    "        cir = library.EfficientSU2(qubit_num, ['rx','h'], entanglement='circular', reps=reps)\n",
    "\n",
    "    cir1=transpile(cir,basis_gates=basis_gates1)\n",
    "    cir2=transpile(cir,basis_gates=basis_gates2)\n",
    "\n",
    "    return cir1,cir2,'%s_%i_%i'%(function_name,qubit_num,reps)"
   ]
  },
  {
   "cell_type": "code",
   "execution_count": 6,
   "metadata": {},
   "outputs": [
    {
     "data": {
      "image/png": "[encoded data removed]",
      "text/plain": [
       "<Figure size 1040x284.278 with 1 Axes>"
      ]
     },
     "execution_count": 6,
     "metadata": {},
     "output_type": "execute_result"
    }
   ],
   "source": [
    "cir3=QuantumCircuit(3)\n",
    "cir3.ccx(0,1,2)\n",
    "cir3=transpile(cir3,basis_gates=['h', 't', 'tdg', 'cx'])\n",
    "cir3.draw('mpl')"
   ]
  },
  {
   "cell_type": "code",
   "execution_count": 7,
   "metadata": {},
   "outputs": [
    {
     "data": {
      "image/png": "[encoded data removed]",
      "text/plain": [
       "<Figure size 1207.22x284.278 with 1 Axes>"
      ]
     },
     "execution_count": 7,
     "metadata": {},
     "output_type": "execute_result"
    }
   ],
   "source": [
    "cir4=transpile(cir3,basis_gates=['id', 'rz', 'sx', 'x', 'cx'])\n",
    "cir4.draw('mpl')"
   ]
  },
  {
   "cell_type": "code",
   "execution_count": 8,
   "metadata": {},
   "outputs": [
    {
     "data": {
      "image/png": "[encoded data removed]",
      "text/plain": [
       "<Figure size 185.453x117.056 with 1 Axes>"
      ]
     },
     "execution_count": 8,
     "metadata": {},
     "output_type": "execute_result"
    }
   ],
   "source": [
    "s0=Parameter('s%i'%0)\n",
    "simple=QuantumCircuit(1)\n",
    "# simple.rz(s0,0)\n",
    "\n",
    "# simple.rz(-s0,0)\n",
    "\n",
    "# simple.rx(s0,0)\n",
    "\n",
    "simple.ry(s0,0)\n",
    "\n",
    "simple.draw('mpl')"
   ]
  },
  {
   "cell_type": "code",
   "execution_count": 9,
   "metadata": {},
   "outputs": [
    {
     "data": {
      "image/png": "[encoded data removed]",
      "text/plain": [
       "<Figure size 352.675x117.056 with 1 Axes>"
      ]
     },
     "execution_count": 9,
     "metadata": {},
     "output_type": "execute_result"
    }
   ],
   "source": [
    "simple2=QuantumCircuit(1)\n",
    "\n",
    "# simple2.rx(np.pi/2,0)\n",
    "# simple2.ry(s0,0)\n",
    "# simple2.rx(-np.pi/2,0)\n",
    "\n",
    "# simple2.ry(np.pi/2,0)\n",
    "# simple2.rx(s0,0)\n",
    "# simple2.ry(-np.pi/2,0)\n",
    "\n",
    "# simple2.ry(np.pi/2,0)\n",
    "# simple2.rz(s0,0)\n",
    "# simple2.ry(-np.pi/2,0)\n",
    "\n",
    "simple2.rz(np.pi/2,0)\n",
    "simple2.rx(s0,0)\n",
    "simple2.rz(-np.pi/2,0)\n",
    "simple2.draw('mpl')"
   ]
  },
  {
   "cell_type": "code",
   "execution_count": 10,
   "metadata": {},
   "outputs": [],
   "source": [
    "def experiment(qubit_num=2,reps=1,function='RealAmplitudes', optimizer=None, file_name=None):\n",
    "        cir1,cir2,circuit_nam=circuit_generator(qubit_num=qubit_num,reps=reps,function_name=function)\n",
    "        tdd1,output_dict1=STDD_simulation(cir1, unique_table_reset=True, optimizer=optimizer)\n",
    "        tdd2,output_dict2=STDD_simulation(cir2, unique_table_reset=False, optimizer=optimizer)\n",
    "        output_dict3=verify(tdd1,tdd2)\n",
    "        if file_name:\n",
    "                with open(file_name, 'a', newline='') as csvfile:\n",
    "                        fieldnames = ['Benchmark Name','Parameter num.','Qubit num.'\n",
    "                                ,'Gate num._1','Time_1','Node num. max_1','Node num. final_1','gu1_1','gu2_1'\n",
    "                                ,'Gate num._2','Time_2','Node num. max_2','Node num. final_2','gu1_2','gu2_2'\n",
    "                                ,'Check_time','Totol_time','Equivalent']\n",
    "                        writer = csv.DictWriter(csvfile, fieldnames=fieldnames)\n",
    "                        writer.writerow({'Benchmark Name':circuit_nam,'Parameter num.':output_dict1['Parameter num'],'Qubit num.':output_dict1['Qubit num.']\n",
    "                        ,'Gate num._1':output_dict1['Gate num.'],'Time_1':output_dict1['Time'],'Node num. max_1':output_dict1['Node num. max']\n",
    "                        ,'Node num. final_1':output_dict1['Node num. final'],'gu1_1':output_dict1['gu1'],'gu2_1':output_dict1['gu2']\n",
    "                        ,'Gate num._2':output_dict2['Gate num.'],'Time_2':output_dict2['Time'],'Node num. max_2':output_dict2['Node num. max']\n",
    "                        ,'Node num. final_2':output_dict2['Node num. final'],'gu1_2':output_dict2['gu1'],'gu2_2':output_dict2['gu2']\n",
    "                        ,'Check_time':output_dict3['check_time'],'Totol_time':output_dict1['Time']+output_dict2['Time']+output_dict3['check_time']\n",
    "                        ,'Equivalent':output_dict3['equivalence']})\n",
    "        return {'Benchmark Name':circuit_nam,'Parameter num.':output_dict1['Parameter num'],'Qubit num.':output_dict1['Qubit num.']\n",
    "                ,'Gate num._1':output_dict1['Gate num.'],'Time_1':output_dict1['Time'],'Node num. max_1':output_dict1['Node num. max']\n",
    "                ,'Node num. final_1':output_dict1['Node num. final'],'gu1_1':output_dict1['gu1'],'gu2_1':output_dict1['gu2']\n",
    "                ,'Gate num._2':output_dict2['Gate num.'],'Time_2':output_dict2['Time'],'Node num. max_2':output_dict2['Node num. max']\n",
    "                ,'Node num. final_2':output_dict2['Node num. final'],'gu1_2':output_dict2['gu1'],'gu2_2':output_dict2['gu2']\n",
    "                ,'Check_time':output_dict3['check_time'],'Totol_time':output_dict1['Time']+output_dict2['Time']+output_dict3['check_time']\n",
    "                ,'Equivalent':output_dict3['equivalence']}\n",
    "\n"
   ]
  },
  {
   "cell_type": "code",
   "execution_count": 11,
   "metadata": {},
   "outputs": [
    {
     "name": "stdout",
     "output_type": "stream",
     "text": [
      "start cont  0.016666173934936523\n",
      "BDD 861 {-1} {-1}\n",
      "BDD 849 [-1] {0: 'sin(s0)', 1: 'cos(s0)', inf: -1} {'sin(s0)': 0, 'cos(s0)': 1, -1: inf}\n",
      "BDD 853 None\n",
      "BDD 889 [[], []]\n",
      "BDD 906 -1 -1 [[], []] [[inf], [inf]]\n",
      "BDD 861 {-1} {'sin(s0)', 'cos(s0)', -1}\n",
      "BDD 849 ['sin(s0)', 'cos(s0)', -1] {0: 'sin(s0)', 1: 'cos(s0)', inf: -1} {'sin(s0)': 0, 'cos(s0)': 1, -1: inf}\n",
      "BDD 853 None\n",
      "BDD 889 [[], [1, 0]]\n",
      "BDD 906 -1 0 [[], [1, 0]] [[inf], [0, 1, inf]]\n",
      "BDD 861 {-1} {-1}\n",
      "BDD 849 [-1] {0: 'sin(s0)', 1: 'cos(s0)', inf: -1} {'sin(s0)': 0, 'cos(s0)': 1, -1: inf}\n",
      "BDD 853 None\n",
      "BDD 889 [[], []]\n",
      "BDD 906 -1 -1 [[], []] [[inf], [inf]]\n",
      "cont complete 0.0014276504516601562\n",
      "start cont  0.0003104209899902344\n",
      "BDD 861 {-1} {-1}\n",
      "BDD 849 [-1] {0: 'sin(s0)', 1: 'cos(s0)', inf: -1} {'sin(s0)': 0, 'cos(s0)': 1, -1: inf}\n",
      "BDD 853 None\n",
      "BDD 889 [[], []]\n",
      "BDD 906 -1 -1 [[], []] [[inf], [inf]]\n",
      "BDD 861 {-1} {-1}\n",
      "BDD 849 [-1] {0: 'sin(s0)', 1: 'cos(s0)', inf: -1} {'sin(s0)': 0, 'cos(s0)': 1, -1: inf}\n",
      "BDD 853 None\n",
      "BDD 889 [[], []]\n",
      "BDD 906 -1 -1 [[], []] [[inf], [inf]]\n",
      "BDD 861 {-1} {-1}\n",
      "BDD 849 [-1] {0: 'sin(s0)', 1: 'cos(s0)', inf: -1} {'sin(s0)': 0, 'cos(s0)': 1, -1: inf}\n",
      "BDD 853 None\n",
      "BDD 889 [[], []]\n",
      "BDD 906 -1 -1 [[], []] [[inf], [inf]]\n",
      "BDD 861 {-1} {'sin(s0)', 'cos(s0)', -1}\n",
      "BDD 849 ['sin(s0)', 'cos(s0)', -1] {0: 'sin(s0)', 1: 'cos(s0)', inf: -1} {'sin(s0)': 0, 'cos(s0)': 1, -1: inf}\n",
      "BDD 853 None\n",
      "BDD 889 [[], [1, 0]]\n",
      "BDD 906 -1 0 [[], [1, 0]] [[inf], [0, 1, inf]]\n",
      "BDD 861 {-1} {-1}\n",
      "BDD 849 [-1] {0: 'sin(s0)', 1: 'cos(s0)', inf: -1} {'sin(s0)': 0, 'cos(s0)': 1, -1: inf}\n",
      "BDD 853 None\n",
      "BDD 889 [[], []]\n",
      "BDD 906 -1 -1 [[], []] [[inf], [inf]]\n",
      "BDD 861 {-1} {-1}\n",
      "BDD 849 [-1] {0: 'sin(s0)', 1: 'cos(s0)', inf: -1} {'sin(s0)': 0, 'cos(s0)': 1, -1: inf}\n",
      "BDD 853 None\n",
      "BDD 889 [[], []]\n",
      "BDD 906 -1 -1 [[], []] [[inf], [inf]]\n",
      "BDD 861 {-1} {'sin(s0)', 'cos(s0)', -1}\n",
      "BDD 849 ['sin(s0)', 'cos(s0)', -1] {0: 'sin(s0)', 1: 'cos(s0)', inf: -1} {'sin(s0)': 0, 'cos(s0)': 1, -1: inf}\n",
      "BDD 853 None\n",
      "BDD 889 [[], [1, 0]]\n",
      "BDD 906 -1 0 [[], [1, 0]] [[inf], [0, 1, inf]]\n",
      "BDD 861 {-1} {-1}\n",
      "BDD 849 [-1] {0: 'sin(s0)', 1: 'cos(s0)', inf: -1} {'sin(s0)': 0, 'cos(s0)': 1, -1: inf}\n",
      "BDD 853 None\n",
      "BDD 889 [[], []]\n",
      "BDD 906 -1 -1 [[], []] [[inf], [inf]]\n",
      "BDD 861 {-1} {-1}\n",
      "BDD 849 [-1] {0: 'sin(s0)', 1: 'cos(s0)', inf: -1} {'sin(s0)': 0, 'cos(s0)': 1, -1: inf}\n",
      "BDD 853 None\n",
      "BDD 889 [[], []]\n",
      "BDD 906 -1 -1 [[], []] [[inf], [inf]]\n",
      "BDD 861 {-1} {-1}\n",
      "BDD 849 [-1] {0: 'sin(s0)', 1: 'cos(s0)', inf: -1} {'sin(s0)': 0, 'cos(s0)': 1, -1: inf}\n",
      "BDD 853 None\n",
      "BDD 889 [[], []]\n",
      "BDD 906 -1 -1 [[], []] [[inf], [inf]]\n",
      "BDD 861 {-1} {-1}\n",
      "BDD 849 [-1] {0: 'sin(s0)', 1: 'cos(s0)', inf: -1} {'sin(s0)': 0, 'cos(s0)': 1, -1: inf}\n",
      "BDD 853 None\n",
      "BDD 889 [[], []]\n",
      "BDD 906 -1 -1 [[], []] [[inf], [inf]]\n",
      "BDD 861 {-1} {-1}\n",
      "BDD 849 [-1] {0: 'sin(s0)', 1: 'cos(s0)', inf: -1} {'sin(s0)': 0, 'cos(s0)': 1, -1: inf}\n",
      "BDD 853 None\n",
      "BDD 889 [[], []]\n",
      "BDD 906 -1 -1 [[], []] [[inf], [inf]]\n",
      "BDD 861 {-1} {-1}\n",
      "BDD 849 [-1] {0: 'sin(s0)', 1: 'cos(s0)', inf: -1} {'sin(s0)': 0, 'cos(s0)': 1, -1: inf}\n",
      "BDD 853 None\n",
      "BDD 889 [[], []]\n",
      "BDD 906 -1 -1 [[], []] [[inf], [inf]]\n",
      "BDD 861 {-1} {-1}\n",
      "BDD 849 [-1] {0: 'sin(s0)', 1: 'cos(s0)', inf: -1} {'sin(s0)': 0, 'cos(s0)': 1, -1: inf}\n",
      "BDD 853 None\n",
      "BDD 889 [[], []]\n",
      "BDD 906 -1 -1 [[], []] [[inf], [inf]]\n",
      "BDD 861 {-1} {-1}\n",
      "BDD 849 [-1] {0: 'sin(s0)', 1: 'cos(s0)', inf: -1} {'sin(s0)': 0, 'cos(s0)': 1, -1: inf}\n",
      "BDD 853 None\n",
      "BDD 889 [[], []]\n",
      "BDD 906 -1 -1 [[], []] [[inf], [inf]]\n",
      "BDD 861 {-1} {-1}\n",
      "BDD 849 [-1] {0: 'sin(s0)', 1: 'cos(s0)', inf: -1} {'sin(s0)': 0, 'cos(s0)': 1, -1: inf}\n",
      "BDD 853 None\n",
      "BDD 889 [[], []]\n",
      "BDD 906 1 -1 [[], []] [[inf], [inf]]\n",
      "BDD 861 {-1} {-1}\n",
      "BDD 849 [-1] {0: 'sin(s0)', 1: 'cos(s0)', inf: -1} {'sin(s0)': 0, 'cos(s0)': 1, -1: inf}\n",
      "BDD 853 None\n",
      "BDD 889 [[], []]\n",
      "BDD 906 0 -1 [[], []] [[inf], [inf]]\n",
      "BDD 861 {-1} {-1}\n",
      "BDD 849 [-1] {0: 'sin(s0)', 1: 'cos(s0)', inf: -1} {'sin(s0)': 0, 'cos(s0)': 1, -1: inf}\n",
      "BDD 853 None\n",
      "BDD 889 [[], []]\n",
      "BDD 906 1 -1 [[], []] [[inf], [inf]]\n",
      "BDD 861 {-1} {-1}\n",
      "BDD 849 [-1] {0: 'sin(s0)', 1: 'cos(s0)', inf: -1} {'sin(s0)': 0, 'cos(s0)': 1, -1: inf}\n",
      "BDD 853 None\n",
      "BDD 889 [[], []]\n",
      "BDD 906 0 -1 [[], []] [[inf], [inf]]\n",
      "BDD 861 {-1} {-1}\n",
      "BDD 849 [-1] {0: 'sin(s0)', 1: 'cos(s0)', inf: -1} {'sin(s0)': 0, 'cos(s0)': 1, -1: inf}\n",
      "BDD 853 None\n",
      "BDD 889 [[], []]\n",
      "BDD 906 1 -1 [[], []] [[inf], [inf]]\n",
      "BDD 861 {-1} {-1}\n",
      "BDD 849 [-1] {0: 'sin(s0)', 1: 'cos(s0)', inf: -1} {'sin(s0)': 0, 'cos(s0)': 1, -1: inf}\n",
      "BDD 853 None\n",
      "BDD 889 [[], []]\n",
      "BDD 906 0 -1 [[], []] [[inf], [inf]]\n",
      "BDD 861 {-1} {-1}\n",
      "BDD 849 [-1] {0: 'sin(s0)', 1: 'cos(s0)', inf: -1} {'sin(s0)': 0, 'cos(s0)': 1, -1: inf}\n",
      "BDD 853 None\n",
      "BDD 889 [[], []]\n",
      "BDD 906 -1 -1 [[], []] [[inf], [inf]]\n",
      "BDD 861 {-1} {-1}\n",
      "BDD 849 [-1] {0: 'sin(s0)', 1: 'cos(s0)', inf: -1} {'sin(s0)': 0, 'cos(s0)': 1, -1: inf}\n",
      "BDD 853 None\n",
      "BDD 889 [[], []]\n",
      "BDD 906 -1 -1 [[], []] [[inf], [inf]]\n",
      "BDD 861 {-1} {-1}\n",
      "BDD 849 [-1] {0: 'sin(s0)', 1: 'cos(s0)', inf: -1} {'sin(s0)': 0, 'cos(s0)': 1, -1: inf}\n",
      "BDD 853 None\n",
      "BDD 889 [[], []]\n",
      "BDD 906 0 -1 [[], []] [[inf], [inf]]\n",
      "BDD 861 {-1} {-1}\n",
      "BDD 849 [-1] {0: 'sin(s0)', 1: 'cos(s0)', inf: -1} {'sin(s0)': 0, 'cos(s0)': 1, -1: inf}\n",
      "BDD 853 None\n",
      "BDD 889 [[], []]\n",
      "BDD 906 1 -1 [[], []] [[inf], [inf]]\n",
      "BDD 861 {-1} {-1}\n",
      "BDD 849 [-1] {0: 'sin(s0)', 1: 'cos(s0)', inf: -1} {'sin(s0)': 0, 'cos(s0)': 1, -1: inf}\n",
      "BDD 853 None\n",
      "BDD 889 [[], []]\n",
      "BDD 906 0 -1 [[], []] [[inf], [inf]]\n",
      "BDD 861 {-1} {-1}\n",
      "BDD 849 [-1] {0: 'sin(s0)', 1: 'cos(s0)', inf: -1} {'sin(s0)': 0, 'cos(s0)': 1, -1: inf}\n",
      "BDD 853 None\n",
      "BDD 889 [[], []]\n",
      "BDD 906 1 -1 [[], []] [[inf], [inf]]\n",
      "BDD 861 {-1} {-1}\n",
      "BDD 849 [-1] {0: 'sin(s0)', 1: 'cos(s0)', inf: -1} {'sin(s0)': 0, 'cos(s0)': 1, -1: inf}\n",
      "BDD 853 None\n",
      "BDD 889 [[], []]\n",
      "BDD 906 0 -1 [[], []] [[inf], [inf]]\n",
      "BDD 861 {-1} {-1}\n",
      "BDD 849 [-1] {0: 'sin(s0)', 1: 'cos(s0)', inf: -1} {'sin(s0)': 0, 'cos(s0)': 1, -1: inf}\n",
      "BDD 853 None\n",
      "BDD 889 [[], []]\n",
      "BDD 906 1 -1 [[], []] [[inf], [inf]]\n",
      "BDD 861 {-1} {-1}\n",
      "BDD 849 [-1] {0: 'sin(s0)', 1: 'cos(s0)', inf: -1} {'sin(s0)': 0, 'cos(s0)': 1, -1: inf}\n",
      "BDD 853 None\n",
      "BDD 889 [[], []]\n",
      "BDD 906 -1 -1 [[], []] [[inf], [inf]]\n",
      "BDD 861 {-1} {-1}\n",
      "BDD 849 [-1] {0: 'sin(s0)', 1: 'cos(s0)', inf: -1} {'sin(s0)': 0, 'cos(s0)': 1, -1: inf}\n",
      "BDD 853 None\n",
      "BDD 889 [[], []]\n",
      "BDD 906 -1 -1 [[], []] [[inf], [inf]]\n",
      "BDD 861 {-1} {-1}\n",
      "BDD 849 [-1] {0: 'sin(s0)', 1: 'cos(s0)', inf: -1} {'sin(s0)': 0, 'cos(s0)': 1, -1: inf}\n",
      "BDD 853 None\n",
      "BDD 889 [[], []]\n",
      "BDD 906 -1 -1 [[], []] [[inf], [inf]]\n",
      "BDD 861 {-1} {-1}\n",
      "BDD 849 [-1] {0: 'sin(s0)', 1: 'cos(s0)', inf: -1} {'sin(s0)': 0, 'cos(s0)': 1, -1: inf}\n",
      "BDD 853 None\n",
      "BDD 889 [[], []]\n",
      "BDD 906 -1 -1 [[], []] [[inf], [inf]]\n",
      "cont complete 0.0060007572174072266\n",
      "{'check_time': 2.6226043701171875e-06, 'equivalence': 'equivalent'}\n"
     ]
    },
    {
     "data": {
      "text/plain": [
       "{'check_time': 2.6226043701171875e-06, 'equivalence': 'equivalent'}"
      ]
     },
     "execution_count": 11,
     "metadata": {},
     "output_type": "execute_result"
    }
   ],
   "source": [
    "tdd1, output_dict=STDD_simulation(simple)\n",
    "tdd2, output_dict=STDD_simulation(simple2,unique_table_reset=False)\n",
    "\n",
    "verify(tdd1,tdd2)"
   ]
  },
  {
   "cell_type": "code",
   "execution_count": 12,
   "metadata": {},
   "outputs": [
    {
     "name": "stdout",
     "output_type": "stream",
     "text": [
      "add: 0 / 2 / 0.0\n",
      "cont: 0 / 6 / 0.0\n"
     ]
    }
   ],
   "source": [
    "from TDD.TDD import get_count\n",
    "get_count()"
   ]
  },
  {
   "cell_type": "code",
   "execution_count": 13,
   "metadata": {},
   "outputs": [
    {
     "data": {
      "image/png": "[encoded data removed]",
      "text/plain": [
       "<IPython.core.display.Image object>"
      ]
     },
     "execution_count": 13,
     "metadata": {},
     "output_type": "execute_result"
    }
   ],
   "source": [
    "tdd1.show()"
   ]
  },
  {
   "cell_type": "code",
   "execution_count": 14,
   "metadata": {},
   "outputs": [
    {
     "data": {
      "image/png": "[encoded data removed]",
      "text/plain": [
       "<IPython.core.display.Image object>"
      ]
     },
     "execution_count": 14,
     "metadata": {},
     "output_type": "execute_result"
    }
   ],
   "source": [
    "tdd2.show()"
   ]
  },
  {
   "cell_type": "code",
   "execution_count": 15,
   "metadata": {},
   "outputs": [
    {
     "name": "stdout",
     "output_type": "stream",
     "text": [
      "start cont  0.0006544589996337891\n",
      "BDD 861 {-1} {-1}\n",
      "BDD 849 [-1] {0: 'sin(s0)', 1: 'cos(s0)', inf: -1} {'sin(s0)': 0, 'cos(s0)': 1, -1: inf}\n",
      "BDD 853 None\n",
      "BDD 889 [[], []]\n",
      "BDD 906 -1 -1 [[], []] [[inf], [inf]]\n",
      "BDD 861 {-1} {'sin(s0)', 'cos(s0)', -1}\n",
      "BDD 849 ['sin(s0)', 'cos(s0)', -1] {0: 'sin(s0)', 1: 'cos(s0)', inf: -1} {'sin(s0)': 0, 'cos(s0)': 1, -1: inf}\n",
      "BDD 853 None\n",
      "BDD 889 [[], [1, 0]]\n",
      "BDD 906 -1 0 [[], [1, 0]] [[inf], [0, 1, inf]]\n",
      "BDD 861 {-1} {-1}\n",
      "BDD 849 [-1] {0: 'sin(s0)', 1: 'cos(s0)', inf: -1} {'sin(s0)': 0, 'cos(s0)': 1, -1: inf}\n",
      "BDD 853 None\n",
      "BDD 889 [[], []]\n",
      "BDD 906 -1 -1 [[], []] [[inf], [inf]]\n",
      "BDD 861 {-1} {-1}\n",
      "BDD 849 [-1] {0: 'sin(s0)', 1: 'cos(s0)', inf: -1} {'sin(s0)': 0, 'cos(s0)': 1, -1: inf}\n",
      "BDD 853 None\n",
      "BDD 889 [[], []]\n",
      "BDD 906 1 -1 [[], []] [[inf], [inf]]\n",
      "BDD 861 {-1} {-1}\n",
      "BDD 849 [-1] {0: 'sin(s0)', 1: 'cos(s0)', inf: -1} {'sin(s0)': 0, 'cos(s0)': 1, -1: inf}\n",
      "BDD 853 None\n",
      "BDD 889 [[], []]\n",
      "BDD 906 0 -1 [[], []] [[inf], [inf]]\n",
      "BDD 861 {-1} {-1}\n",
      "BDD 849 [-1] {0: 'sin(s0)', 1: 'cos(s0)', inf: -1} {'sin(s0)': 0, 'cos(s0)': 1, -1: inf}\n",
      "BDD 853 None\n",
      "BDD 889 [[], []]\n",
      "BDD 906 -1 -1 [[], []] [[inf], [inf]]\n",
      "BDD 861 {-1} {-1}\n",
      "BDD 849 [-1] {0: 'sin(s0)', 1: 'cos(s0)', inf: -1} {'sin(s0)': 0, 'cos(s0)': 1, -1: inf}\n",
      "BDD 853 None\n",
      "BDD 889 [[], []]\n",
      "BDD 906 -1 -1 [[], []] [[inf], [inf]]\n",
      "BDD 861 {-1} {-1}\n",
      "BDD 849 [-1] {0: 'sin(s0)', 1: 'cos(s0)', inf: -1} {'sin(s0)': 0, 'cos(s0)': 1, -1: inf}\n",
      "BDD 853 None\n",
      "BDD 889 [[], []]\n",
      "BDD 906 0 -1 [[], []] [[inf], [inf]]\n",
      "BDD 861 {-1} {-1}\n",
      "BDD 849 [-1] {0: 'sin(s0)', 1: 'cos(s0)', inf: -1} {'sin(s0)': 0, 'cos(s0)': 1, -1: inf}\n",
      "BDD 853 None\n",
      "BDD 889 [[], []]\n",
      "BDD 906 1 -1 [[], []] [[inf], [inf]]\n",
      "BDD 861 {-1} {-1}\n",
      "BDD 849 [-1] {0: 'sin(s0)', 1: 'cos(s0)', inf: -1} {'sin(s0)': 0, 'cos(s0)': 1, -1: inf}\n",
      "BDD 853 None\n",
      "BDD 889 [[], []]\n",
      "BDD 906 -1 -1 [[], []] [[inf], [inf]]\n",
      "BDD 861 {-1} {-1}\n",
      "BDD 849 [-1] {0: 'sin(s0)', 1: 'cos(s0)', inf: -1} {'sin(s0)': 0, 'cos(s0)': 1, -1: inf}\n",
      "BDD 853 None\n",
      "BDD 889 [[], []]\n",
      "BDD 906 -1 -1 [[], []] [[inf], [inf]]\n",
      "BDD 861 {-1} {-1}\n",
      "BDD 849 [-1] {0: 'sin(s0)', 1: 'cos(s0)', inf: -1} {'sin(s0)': 0, 'cos(s0)': 1, -1: inf}\n",
      "BDD 853 None\n",
      "BDD 889 [[], []]\n",
      "BDD 906 -1 -1 [[], []] [[inf], [inf]]\n",
      "BDD 861 {-1} {-1}\n",
      "BDD 849 [-1] {0: 'sin(s0)', 1: 'cos(s0)', inf: -1} {'sin(s0)': 0, 'cos(s0)': 1, -1: inf}\n",
      "BDD 853 None\n",
      "BDD 889 [[], []]\n",
      "BDD 906 -1 -1 [[], []] [[inf], [inf]]\n",
      "BDD 861 {-1} {-1}\n",
      "BDD 849 [-1] {0: 'sin(s0)', 1: 'cos(s0)', inf: -1} {'sin(s0)': 0, 'cos(s0)': 1, -1: inf}\n",
      "BDD 853 None\n",
      "BDD 889 [[], []]\n",
      "BDD 906 -1 -1 [[], []] [[inf], [inf]]\n",
      "BDD 861 {-1} {-1}\n",
      "BDD 849 [-1] {0: 'sin(s0)', 1: 'cos(s0)', inf: -1} {'sin(s0)': 0, 'cos(s0)': 1, -1: inf}\n",
      "BDD 853 None\n",
      "BDD 889 [[], []]\n",
      "BDD 906 -1 -1 [[], []] [[inf], [inf]]\n",
      "BDD 861 {-1} {'sin(s0)', 'cos(s0)', -1}\n",
      "BDD 849 ['sin(s0)', 'cos(s0)', -1] {0: 'sin(s0)', 1: 'cos(s0)', inf: -1} {'sin(s0)': 0, 'cos(s0)': 1, -1: inf}\n",
      "BDD 853 None\n",
      "BDD 889 [[], [1, 0]]\n",
      "BDD 906 -1 0 [[], [1, 0]] [[inf], [0, 1, inf]]\n",
      "BDD 861 {-1} {-1}\n",
      "BDD 849 [-1] {0: 'sin(s0)', 1: 'cos(s0)', inf: -1} {'sin(s0)': 0, 'cos(s0)': 1, -1: inf}\n",
      "BDD 853 None\n",
      "BDD 889 [[], []]\n",
      "BDD 906 -1 -1 [[], []] [[inf], [inf]]\n",
      "BDD 861 {-1} {-1}\n",
      "BDD 849 [-1] {0: 'sin(s0)', 1: 'cos(s0)', inf: -1} {'sin(s0)': 0, 'cos(s0)': 1, -1: inf}\n",
      "BDD 853 None\n",
      "BDD 889 [[], []]\n",
      "BDD 906 -1 -1 [[], []] [[inf], [inf]]\n",
      "BDD 861 {-1} {'sin(s0)', 'cos(s0)', -1}\n",
      "BDD 849 ['sin(s0)', 'cos(s0)', -1] {0: 'sin(s0)', 1: 'cos(s0)', inf: -1} {'sin(s0)': 0, 'cos(s0)': 1, -1: inf}\n",
      "BDD 853 None\n",
      "BDD 889 [[], [1, 0]]\n",
      "BDD 906 -1 0 [[], [1, 0]] [[inf], [0, 1, inf]]\n",
      "BDD 861 {-1} {-1}\n",
      "BDD 849 [-1] {0: 'sin(s0)', 1: 'cos(s0)', inf: -1} {'sin(s0)': 0, 'cos(s0)': 1, -1: inf}\n",
      "BDD 853 None\n",
      "BDD 889 [[], []]\n",
      "BDD 906 1 -1 [[], []] [[inf], [inf]]\n",
      "BDD 861 {-1} {-1}\n",
      "BDD 849 [-1] {0: 'sin(s0)', 1: 'cos(s0)', inf: -1} {'sin(s0)': 0, 'cos(s0)': 1, -1: inf}\n",
      "BDD 853 None\n",
      "BDD 889 [[], []]\n",
      "BDD 906 0 -1 [[], []] [[inf], [inf]]\n",
      "BDD 861 {-1} {-1}\n",
      "BDD 849 [-1] {0: 'sin(s0)', 1: 'cos(s0)', inf: -1} {'sin(s0)': 0, 'cos(s0)': 1, -1: inf}\n",
      "BDD 853 None\n",
      "BDD 889 [[], []]\n",
      "BDD 906 1 1 [[], []] [[inf], [inf]]\n",
      "BDD 962 [(), ()] [[inf], [inf]] 1 1\n",
      "BDD 906 -1 -1 [[], []] [[inf], [inf]]\n",
      "BDD 978 [[], []] 1\n",
      "BDD 861 {-1} {-1}\n",
      "BDD 849 [-1] {0: 'sin(s0)', 1: 'cos(s0)', inf: -1} {'sin(s0)': 0, 'cos(s0)': 1, -1: inf}\n",
      "BDD 853 None\n",
      "BDD 889 [[], []]\n",
      "BDD 906 0 0 [[], []] [[inf], [inf]]\n",
      "BDD 962 [(), ()] [[inf], [inf]] 0 0\n",
      "BDD 906 -1 -1 [[], []] [[inf], [inf]]\n",
      "BDD 978 [[], []] 0\n",
      "BDD 906 1 -1 [[], []] [[inf], [inf]]\n",
      "BDD 1041 -1 1 [[], []] [[inf], [inf]]\n"
     ]
    },
    {
     "ename": "IndexError",
     "evalue": "list index out of range",
     "output_type": "error",
     "traceback": [
      "\u001b[0;31m---------------------------------------------------------------------------\u001b[0m",
      "\u001b[0;31mIndexError\u001b[0m                                Traceback (most recent call last)",
      "\u001b[1;32m/home/Wei-Jia/downloads/TDD/TDD_new/Symbol_TDD/TrDD_experiment.ipynb 儲存格 15\u001b[0m in \u001b[0;36m1\n\u001b[0;32m----> <a href='vscode-notebook-cell://ssh-remote%2B20.205.236.55/home/Wei-Jia/downloads/TDD/TDD_new/Symbol_TDD/TrDD_experiment.ipynb#X20sdnNjb2RlLXJlbW90ZQ%3D%3D?line=0'>1</a>\u001b[0m tdd, output_dict\u001b[39m=\u001b[39mSTDD_verify(simple, simple2)\n\u001b[1;32m      <a href='vscode-notebook-cell://ssh-remote%2B20.205.236.55/home/Wei-Jia/downloads/TDD/TDD_new/Symbol_TDD/TrDD_experiment.ipynb#X20sdnNjb2RlLXJlbW90ZQ%3D%3D?line=1'>2</a>\u001b[0m output_dict\n",
      "\u001b[1;32m/home/Wei-Jia/downloads/TDD/TDD_new/Symbol_TDD/TrDD_experiment.ipynb 儲存格 15\u001b[0m in \u001b[0;36m1\n\u001b[1;32m    <a href='vscode-notebook-cell://ssh-remote%2B20.205.236.55/home/Wei-Jia/downloads/TDD/TDD_new/Symbol_TDD/TrDD_experiment.ipynb#X20sdnNjb2RlLXJlbW90ZQ%3D%3D?line=121'>122</a>\u001b[0m start_cont\u001b[39m=\u001b[39mtime\u001b[39m.\u001b[39mtime()\u001b[39m-\u001b[39mt_start\n\u001b[1;32m    <a href='vscode-notebook-cell://ssh-remote%2B20.205.236.55/home/Wei-Jia/downloads/TDD/TDD_new/Symbol_TDD/TrDD_experiment.ipynb#X20sdnNjb2RlLXJlbW90ZQ%3D%3D?line=122'>123</a>\u001b[0m \u001b[39mprint\u001b[39m(\u001b[39m'\u001b[39m\u001b[39mstart cont \u001b[39m\u001b[39m'\u001b[39m,start_cont)\n\u001b[0;32m--> <a href='vscode-notebook-cell://ssh-remote%2B20.205.236.55/home/Wei-Jia/downloads/TDD/TDD_new/Symbol_TDD/TrDD_experiment.ipynb#X20sdnNjb2RlLXJlbW90ZQ%3D%3D?line=123'>124</a>\u001b[0m tdd, Max_node_num\u001b[39m=\u001b[39m cont2(tn,l1)\n\u001b[1;32m    <a href='vscode-notebook-cell://ssh-remote%2B20.205.236.55/home/Wei-Jia/downloads/TDD/TDD_new/Symbol_TDD/TrDD_experiment.ipynb#X20sdnNjb2RlLXJlbW90ZQ%3D%3D?line=124'>125</a>\u001b[0m cont_time\u001b[39m=\u001b[39mtime\u001b[39m.\u001b[39mtime()\u001b[39m-\u001b[39mstart_cont\u001b[39m-\u001b[39mt_start\n\u001b[1;32m    <a href='vscode-notebook-cell://ssh-remote%2B20.205.236.55/home/Wei-Jia/downloads/TDD/TDD_new/Symbol_TDD/TrDD_experiment.ipynb#X20sdnNjb2RlLXJlbW90ZQ%3D%3D?line=125'>126</a>\u001b[0m \u001b[39mprint\u001b[39m(\u001b[39m'\u001b[39m\u001b[39mcont complete\u001b[39m\u001b[39m'\u001b[39m,cont_time)\n",
      "\u001b[1;32m/home/Wei-Jia/downloads/TDD/TDD_new/Symbol_TDD/TrDD_experiment.ipynb 儲存格 15\u001b[0m in \u001b[0;36m1\n\u001b[1;32m    <a href='vscode-notebook-cell://ssh-remote%2B20.205.236.55/home/Wei-Jia/downloads/TDD/TDD_new/Symbol_TDD/TrDD_experiment.ipynb#X20sdnNjb2RlLXJlbW90ZQ%3D%3D?line=107'>108</a>\u001b[0m     \u001b[39mfor\u001b[39;00m j \u001b[39min\u001b[39;00m \u001b[39mrange\u001b[39m(r):\n\u001b[1;32m    <a href='vscode-notebook-cell://ssh-remote%2B20.205.236.55/home/Wei-Jia/downloads/TDD/TDD_new/Symbol_TDD/TrDD_experiment.ipynb#X20sdnNjb2RlLXJlbW90ZQ%3D%3D?line=108'>109</a>\u001b[0m         tdd2\u001b[39m=\u001b[39mtn\u001b[39m.\u001b[39mtensors[r\u001b[39m*\u001b[39mi\u001b[39m+\u001b[39mj\u001b[39m+\u001b[39ml1]\u001b[39m.\u001b[39mtdd()\n\u001b[0;32m--> <a href='vscode-notebook-cell://ssh-remote%2B20.205.236.55/home/Wei-Jia/downloads/TDD/TDD_new/Symbol_TDD/TrDD_experiment.ipynb#X20sdnNjb2RlLXJlbW90ZQ%3D%3D?line=109'>110</a>\u001b[0m         tdd\u001b[39m=\u001b[39mcont(tdd,tdd2)\n\u001b[1;32m    <a href='vscode-notebook-cell://ssh-remote%2B20.205.236.55/home/Wei-Jia/downloads/TDD/TDD_new/Symbol_TDD/TrDD_experiment.ipynb#X20sdnNjb2RlLXJlbW90ZQ%3D%3D?line=110'>111</a>\u001b[0m         max_node_num\u001b[39m=\u001b[39m\u001b[39mmax\u001b[39m(max_node_num,tdd\u001b[39m.\u001b[39mnode_number())\n\u001b[1;32m    <a href='vscode-notebook-cell://ssh-remote%2B20.205.236.55/home/Wei-Jia/downloads/TDD/TDD_new/Symbol_TDD/TrDD_experiment.ipynb#X20sdnNjb2RlLXJlbW90ZQ%3D%3D?line=111'>112</a>\u001b[0m d2\u001b[39m=\u001b[39ml2\u001b[39m-\u001b[39mr\u001b[39m*\u001b[39ml1\n",
      "File \u001b[0;32m~/downloads/TDD/TDD_new/Symbol_TDD/TDD/TDD.py:819\u001b[0m, in \u001b[0;36mcont\u001b[0;34m(tdd1, tdd2)\u001b[0m\n\u001b[1;32m    813\u001b[0m cont_order[\u001b[39m1\u001b[39m]\u001b[39m.\u001b[39mappend(\u001b[39mfloat\u001b[39m(\u001b[39m'\u001b[39m\u001b[39minf\u001b[39m\u001b[39m'\u001b[39m))\n\u001b[1;32m    815\u001b[0m \u001b[39m# create two lists of new keys for each TDD object by replacing the common variable keys with 'c'\u001b[39;00m\n\u001b[1;32m    816\u001b[0m \u001b[39m# create two lists of order values for each TDD object by using a global index order dictionary (not defined here)\u001b[39;00m\n\u001b[1;32m    817\u001b[0m \u001b[39m# append infinity to both order lists\u001b[39;00m\n\u001b[1;32m    818\u001b[0m \u001b[39m# print(\"TDD 818\", key_2_new_key)\u001b[39;00m\n\u001b[0;32m--> 819\u001b[0m tdd\u001b[39m=\u001b[39mcontract(tdd1,tdd2,key_2_new_key,cont_order,\u001b[39mlen\u001b[39;49m(\u001b[39mset\u001b[39;49m(var_cont_idx)))\n\u001b[1;32m    821\u001b[0m tdd\u001b[39m.\u001b[39mindex_set\u001b[39m=\u001b[39mvar_out \u001b[39m# set the index set of the output TDD object to be the list of unique variables\u001b[39;00m\n\u001b[1;32m    822\u001b[0m tdd\u001b[39m.\u001b[39mindex_2_key\u001b[39m=\u001b[39midx_2_key \u001b[39m# set the index attribute of the output TDD object to be a dictionary mapping indices to keys\u001b[39;00m\n",
      "File \u001b[0;32m~/downloads/TDD/TDD_new/Symbol_TDD/TDD/TDD.py:916\u001b[0m, in \u001b[0;36mcontract\u001b[0;34m(tdd1, tdd2, key_2_new_key, cont_order, cont_num)\u001b[0m\n\u001b[1;32m    914\u001b[0m the_successors\u001b[39m=\u001b[39m[]\n\u001b[1;32m    915\u001b[0m \u001b[39mfor\u001b[39;00m k \u001b[39min\u001b[39;00m \u001b[39mrange\u001b[39m(tdd1\u001b[39m.\u001b[39mnode\u001b[39m.\u001b[39msucc_num):\n\u001b[0;32m--> 916\u001b[0m     res\u001b[39m=\u001b[39mcontract(Slicing(tdd1,k1,k),tdd2,key_2_new_key,cont_order,cont_num)\n\u001b[1;32m    917\u001b[0m     the_successors\u001b[39m.\u001b[39mappend(res)\n\u001b[1;32m    918\u001b[0m tdd\u001b[39m=\u001b[39mnormalize(the_key,the_successors)\n",
      "File \u001b[0;32m~/downloads/TDD/TDD_new/Symbol_TDD/TDD/TDD.py:944\u001b[0m, in \u001b[0;36mcontract\u001b[0;34m(tdd1, tdd2, key_2_new_key, cont_order, cont_num)\u001b[0m\n\u001b[1;32m    942\u001b[0m \u001b[39mfor\u001b[39;00m k \u001b[39min\u001b[39;00m \u001b[39mrange\u001b[39m(tdd1\u001b[39m.\u001b[39mnode\u001b[39m.\u001b[39msucc_num):\n\u001b[1;32m    943\u001b[0m     res\u001b[39m=\u001b[39mcontract(Slicing(tdd1,k1,k),Slicing(tdd2,k2,k),key_2_new_key,cont_order,cont_num\u001b[39m-\u001b[39m\u001b[39m1\u001b[39m)           \n\u001b[0;32m--> 944\u001b[0m     tdd\u001b[39m=\u001b[39madd(tdd,res)\n\u001b[1;32m    945\u001b[0m insert_2_computed_table([\u001b[39m'\u001b[39m\u001b[39m*\u001b[39m\u001b[39m'\u001b[39m,tdd1,tdd2,temp_key_2_new_key,cont_num],tdd)\n\u001b[1;32m    946\u001b[0m tdd\u001b[39m.\u001b[39mweight\u001b[39m=\u001b[39mmul_weight(tdd\u001b[39m.\u001b[39mweight,mul_weight(w1,w2))\n",
      "File \u001b[0;32m~/downloads/TDD/TDD_new/Symbol_TDD/TDD/TDD.py:1048\u001b[0m, in \u001b[0;36madd\u001b[0;34m(tdd1, tdd2)\u001b[0m\n\u001b[1;32m   1046\u001b[0m     x\u001b[39m=\u001b[39mk1\n\u001b[1;32m   1047\u001b[0m     \u001b[39mfor\u001b[39;00m k \u001b[39min\u001b[39;00m \u001b[39mrange\u001b[39m(tdd1\u001b[39m.\u001b[39mnode\u001b[39m.\u001b[39msucc_num):\n\u001b[0;32m-> 1048\u001b[0m         res\u001b[39m=\u001b[39madd(Slicing2(tdd1,x,k),Slicing2(tdd2,x,k))\n\u001b[1;32m   1049\u001b[0m         the_successors\u001b[39m.\u001b[39mappend(res)        \n\u001b[1;32m   1050\u001b[0m \u001b[39melse\u001b[39;00m:\n",
      "File \u001b[0;32m~/downloads/TDD/TDD_new/Symbol_TDD/TDD/TDD.py:1005\u001b[0m, in \u001b[0;36mSlicing2\u001b[0;34m(tdd, x, c)\u001b[0m\n\u001b[1;32m   1003\u001b[0m         res\u001b[39m=\u001b[39mTDD(tdd\u001b[39m.\u001b[39mnode\u001b[39m.\u001b[39msuccessor[c])\n\u001b[1;32m   1004\u001b[0m \u001b[39m#         res.weight=simplify(tdd.node.out_weight[c]*tdd.weight)\u001b[39;00m\n\u001b[0;32m-> 1005\u001b[0m         res\u001b[39m.\u001b[39mweight\u001b[39m=\u001b[39mmul_weight(tdd\u001b[39m.\u001b[39;49mweight,tdd\u001b[39m.\u001b[39;49mnode\u001b[39m.\u001b[39;49mout_weight[c])\n\u001b[1;32m   1006\u001b[0m         \u001b[39mreturn\u001b[39;00m res\n\u001b[1;32m   1007\u001b[0m     \u001b[39melse\u001b[39;00m:\n",
      "File \u001b[0;32m~/downloads/TDD/TDD_new/Symbol_TDD/TDD/TDD.py:838\u001b[0m, in \u001b[0;36mmul_weight\u001b[0;34m(weight1, weight2)\u001b[0m\n\u001b[1;32m    837\u001b[0m \u001b[39mdef\u001b[39;00m \u001b[39mmul_weight\u001b[39m(weight1, weight2):\n\u001b[0;32m--> 838\u001b[0m     res\u001b[39m=\u001b[39mweight1 \u001b[39m*\u001b[39;49m weight2\n\u001b[1;32m    839\u001b[0m     \u001b[39mreturn\u001b[39;00m res\n",
      "File \u001b[0;32m~/downloads/TDD/TDD_new/Symbol_TDD/TDD/TrDD/BDD.py:145\u001b[0m, in \u001b[0;36mBDD.__mul__\u001b[0;34m(self, g)\u001b[0m\n\u001b[1;32m    143\u001b[0m \u001b[39mdef\u001b[39;00m \u001b[39m__mul__\u001b[39m(\u001b[39mself\u001b[39m, g):\n\u001b[1;32m    144\u001b[0m     \u001b[39m# return mul(self,g)\u001b[39;00m\n\u001b[0;32m--> 145\u001b[0m     \u001b[39mreturn\u001b[39;00m cont(\u001b[39m'\u001b[39;49m\u001b[39mmul\u001b[39;49m\u001b[39m'\u001b[39;49m,\u001b[39mself\u001b[39;49m, g)\n",
      "File \u001b[0;32m~/downloads/TDD/TDD_new/Symbol_TDD/TDD/TrDD/BDD.py:910\u001b[0m, in \u001b[0;36mcont\u001b[0;34m(mode, bdd1, bdd2)\u001b[0m\n\u001b[1;32m    908\u001b[0m \u001b[39mprint\u001b[39m(\u001b[39m'\u001b[39m\u001b[39mBDD 889\u001b[39m\u001b[39m'\u001b[39m,key_2_new_key)\n\u001b[1;32m    909\u001b[0m \u001b[39mif\u001b[39;00m mode \u001b[39m==\u001b[39m\u001b[39m'\u001b[39m\u001b[39mmul\u001b[39m\u001b[39m'\u001b[39m:\n\u001b[0;32m--> 910\u001b[0m     bdd\u001b[39m=\u001b[39mmul2(bdd1,bdd2,key_2_new_key,cont_order)\n\u001b[1;32m    911\u001b[0m \u001b[39mif\u001b[39;00m mode \u001b[39m==\u001b[39m\u001b[39m'\u001b[39m\u001b[39madd\u001b[39m\u001b[39m'\u001b[39m:\n\u001b[1;32m    912\u001b[0m     bdd\u001b[39m=\u001b[39madd2(bdd1,bdd2,key_2_new_key,cont_order)\n",
      "File \u001b[0;32m~/downloads/TDD/TDD_new/Symbol_TDD/TDD/TrDD/BDD.py:996\u001b[0m, in \u001b[0;36mmul2\u001b[0;34m(bdd1, bdd2, key_2_new_key, cont_order)\u001b[0m\n\u001b[1;32m    994\u001b[0m     temp_res1\u001b[39m=\u001b[39mmul2(temp_res1,temp_res,key_2_new_key,cont_order)\n\u001b[1;32m    995\u001b[0m     \u001b[39m# temp_res=add(temp_res,temp_res1)\u001b[39;00m\n\u001b[0;32m--> 996\u001b[0m     temp_res\u001b[39m=\u001b[39madd2(temp_res,temp_res1,key_2_new_key,cont_order)\n\u001b[1;32m    997\u001b[0m \u001b[39melse\u001b[39;00m:\n\u001b[1;32m    998\u001b[0m     temp_res\u001b[39m=\u001b[39mnormalize(k1 ,[[succ1[\u001b[39m0\u001b[39m]\u001b[39m+\u001b[39msucc2[\u001b[39m0\u001b[39m],temp_res\u001b[39m.\u001b[39mweight,temp_res\u001b[39m.\u001b[39mnode]])\n",
      "File \u001b[0;32m~/downloads/TDD/TDD_new/Symbol_TDD/TDD/TrDD/BDD.py:1050\u001b[0m, in \u001b[0;36madd2\u001b[0;34m(bdd1, bdd2, key_2_new_key, cont_order)\u001b[0m\n\u001b[1;32m   1048\u001b[0m the_successor\u001b[39m=\u001b[39m[]\n\u001b[1;32m   1049\u001b[0m cont_order_len \u001b[39m=\u001b[39m \u001b[39mlen\u001b[39m(cont_order)\n\u001b[0;32m-> 1050\u001b[0m cont_order0 \u001b[39m=\u001b[39m  cont_order[\u001b[39m0\u001b[39m][k1] \u001b[39mif\u001b[39;00m k1 \u001b[39m>\u001b[39m cont_order_len \u001b[39melse\u001b[39;00m cont_order[\u001b[39m0\u001b[39;49m][k1\u001b[39m-\u001b[39;49m\u001b[39m1\u001b[39;49m]\n\u001b[1;32m   1051\u001b[0m cont_order1 \u001b[39m=\u001b[39m  cont_order[\u001b[39m1\u001b[39m][k2] \u001b[39mif\u001b[39;00m k2 \u001b[39m>\u001b[39m cont_order_len \u001b[39melse\u001b[39;00m cont_order[\u001b[39m0\u001b[39m][k2\u001b[39m-\u001b[39m\u001b[39m1\u001b[39m]\n\u001b[1;32m   1052\u001b[0m \u001b[39m\"\"\"worng\"\"\"\u001b[39;00m\n",
      "\u001b[0;31mIndexError\u001b[0m: list index out of range"
     ]
    }
   ],
   "source": [
    "tdd, output_dict=STDD_verify(simple, simple2)\n",
    "output_dict"
   ]
  },
  {
   "cell_type": "code",
   "execution_count": null,
   "metadata": {},
   "outputs": [],
   "source": [
    "tdd.show()"
   ]
  },
  {
   "cell_type": "code",
   "execution_count": null,
   "metadata": {},
   "outputs": [],
   "source": [
    "experiment(qubit_num=2,reps=1,function='EfficientSU2')"
   ]
  },
  {
   "cell_type": "code",
   "execution_count": null,
   "metadata": {},
   "outputs": [],
   "source": [
    "cir,cir2,data=circuit_generator(qubit_num=2,reps=1, function_name='EfficientSU2'\n",
    "                                ,basis_gates1=['id', 'rz', 'sx', 'x', 'cx']\n",
    "                                ,basis_gates2=['rx','ry','h','cx'])"
   ]
  },
  {
   "cell_type": "code",
   "execution_count": null,
   "metadata": {},
   "outputs": [],
   "source": [
    "cir.draw()"
   ]
  },
  {
   "cell_type": "code",
   "execution_count": null,
   "metadata": {},
   "outputs": [],
   "source": [
    "cir.draw()"
   ]
  },
  {
   "cell_type": "code",
   "execution_count": null,
   "metadata": {},
   "outputs": [],
   "source": [
    "tdd1, output_dict=STDD_simulation(cir)\n",
    "get_count()"
   ]
  },
  {
   "cell_type": "code",
   "execution_count": null,
   "metadata": {},
   "outputs": [],
   "source": [
    "# tdd1.show()"
   ]
  },
  {
   "cell_type": "code",
   "execution_count": null,
   "metadata": {},
   "outputs": [],
   "source": [
    "weight=tdd1.node.successor[0].out_weight[0]\n",
    "weight.show()"
   ]
  },
  {
   "cell_type": "code",
   "execution_count": null,
   "metadata": {},
   "outputs": [],
   "source": [
    "# from TDD.TrDD.BDD import get_value_node\n",
    "# import sympy as sp\n",
    "# sym_base = sp.IndexedBase('θ')\n",
    "# get_value_node(weight,1,sym_base[2])"
   ]
  },
  {
   "cell_type": "code",
   "execution_count": null,
   "metadata": {},
   "outputs": [],
   "source": [
    "# cir.draw()"
   ]
  },
  {
   "cell_type": "code",
   "execution_count": null,
   "metadata": {},
   "outputs": [],
   "source": [
    "# cir2.draw()"
   ]
  },
  {
   "cell_type": "code",
   "execution_count": null,
   "metadata": {},
   "outputs": [],
   "source": [
    "tdd, output_dict=STDD_verify(cir, cir2)\n",
    "output_dict"
   ]
  },
  {
   "cell_type": "code",
   "execution_count": null,
   "metadata": {},
   "outputs": [],
   "source": [
    "tdd, output_dict=STDD_verify(simple, simple2)\n",
    "output_dict"
   ]
  },
  {
   "cell_type": "code",
   "execution_count": null,
   "metadata": {},
   "outputs": [],
   "source": [
    "a=tdd.show()"
   ]
  },
  {
   "cell_type": "code",
   "execution_count": null,
   "metadata": {},
   "outputs": [],
   "source": [
    "from mqt import qcec\n",
    "\n",
    "qcec.verify(cir, cir2)"
   ]
  },
  {
   "cell_type": "code",
   "execution_count": null,
   "metadata": {},
   "outputs": [],
   "source": [
    "qcec.verify(simple, simple2\n",
    "            # , additional_instantiations=10\n",
    "            )"
   ]
  },
  {
   "cell_type": "code",
   "execution_count": null,
   "metadata": {},
   "outputs": [],
   "source": [
    "# tdd.show()"
   ]
  },
  {
   "attachments": {},
   "cell_type": "markdown",
   "metadata": {},
   "source": [
    "# Compare"
   ]
  },
  {
   "cell_type": "code",
   "execution_count": null,
   "metadata": {},
   "outputs": [],
   "source": [
    "s0=Parameter('s%i'%0)\n",
    "s1=Parameter('s%i'%1)\n",
    "test=QuantumCircuit(1)\n",
    "test.rx(np.pi/3,0)\n",
    "test.rz(s0,0)\n",
    "test.rz(np.pi/2,0)\n",
    "test.rx(np.pi/3,0)\n",
    "test.rz(s1,0)\n",
    "test.rz(-np.pi/2,0)\n",
    "\n",
    "test.draw('mpl')"
   ]
  },
  {
   "cell_type": "code",
   "execution_count": null,
   "metadata": {},
   "outputs": [],
   "source": [
    "test2=QuantumCircuit(1)\n",
    "test2.rx(np.pi/3,0)\n",
    "test2.rz(s0,0)\n",
    "test2.ry(np.pi/3,0)\n",
    "test2.rz(s1,0)\n",
    "\n",
    "test2.draw('mpl')"
   ]
  },
  {
   "cell_type": "code",
   "execution_count": null,
   "metadata": {},
   "outputs": [],
   "source": [
    "tdd, output_dict=STDD_verify(test, test2)\n",
    "output_dict"
   ]
  },
  {
   "cell_type": "code",
   "execution_count": null,
   "metadata": {},
   "outputs": [],
   "source": [
    "tdd.show()"
   ]
  },
  {
   "cell_type": "code",
   "execution_count": null,
   "metadata": {},
   "outputs": [],
   "source": [
    "qcec.verify(test, test2)"
   ]
  },
  {
   "cell_type": "code",
   "execution_count": null,
   "metadata": {},
   "outputs": [],
   "source": [
    "import sympy\n",
    "\n",
    "x = sympy.Symbol('x')\n",
    "y = sympy.Symbol('y')\n",
    "epi=1e-10\n",
    "expr = (1e-15 + 2j)*x + (3 + 4j)*x*y\n",
    "\n",
    "new_expr=0\n",
    "for term in expr.args:\n",
    "    # print(term)\n",
    "    free_symbols=term.free_symbols\n",
    "    for i in range(len(free_symbols)):\n",
    "        if i==0:\n",
    "            coeff = term.coeff(free_symbols.pop())\n",
    "        else:\n",
    "            coeff = coeff.coeff(free_symbols.pop())\n",
    "    if abs(coeff)-abs(coeff.as_real_imag()[0]) < epi:\n",
    "        coeff=coeff.as_real_imag()[0]\n",
    "    elif abs(coeff)-abs(coeff.as_real_imag()[1]) < epi:\n",
    "        coeff=coeff.as_real_imag()[1] * sympy.I\n",
    "    symbols = term.free_symbols\n",
    "    terms=1 \n",
    "    for symbol in symbols:\n",
    "        terms*=symbol\n",
    "    # print('term',coeff*terms)\n",
    "    new_expr+=coeff*terms\n",
    "print('solution',new_expr)\n"
   ]
  },
  {
   "cell_type": "code",
   "execution_count": null,
   "metadata": {},
   "outputs": [],
   "source": [
    "\n",
    "class Tensor:\n",
    "    def __init__(self,data=[],index=[],name=None,qubits=None):\n",
    "        self.data=data\n",
    "        self.index_set=index\n",
    "        self.name=name\n",
    "        self.qubits=qubits #This is used only when it represent a quantum gate \n",
    "        self._tdd=None\n",
    "    @property\n",
    "    def tdd(self):\n",
    "        return self._tdd\n",
    "    @tdd.setter\n",
    "    def tdd(self):\n",
    "        from TDD.TDD import get_tdd\n",
    "        return get_tdd(self.data,self.index_set)  "
   ]
  },
  {
   "cell_type": "code",
   "execution_count": null,
   "metadata": {},
   "outputs": [],
   "source": [
    "# function_list=['RealAmplitudes','EfficientSU2']\n",
    "# experiment_setup=[(5,3)]\n",
    "    \n",
    "# for qubit_num,reps in experiment_setup:\n",
    "#     for function in function_list:\n",
    "#             experiment(qubit_num=qubit_num, reps=reps, function=function, optimizer=None, file_name='STDD benchmark.csv')\n",
    "        "
   ]
  },
  {
   "cell_type": "code",
   "execution_count": null,
   "metadata": {},
   "outputs": [],
   "source": [
    "\n",
    "# with open('STDD cir_partition2 benchmark.csv', 'w', newline='') as csvfile:\n",
    "#     fieldnames=['Benchmark Name','Parameter num.','Qubit num.'\n",
    "# ,'Gate num._1','Time_1','Node num. max_1','Node num. final_1','gu1_1','gu2_1'\n",
    "# ,'Gate num._2','Time_2','Node num. max_2','Node num. final_2','gu1_2','gu2_2'\n",
    "# ,'Check_time','Totol_time','Equivalent']\n",
    "#     writer = csv.DictWriter(csvfile, fieldnames=fieldnames)\n",
    "#     writer.writeheader()\n"
   ]
  }
 ],
 "metadata": {
  "kernelspec": {
   "display_name": "qcec",
   "language": "python",
   "name": "python3"
  },
  "language_info": {
   "codemirror_mode": {
    "name": "ipython",
    "version": 3
   },
   "file_extension": ".py",
   "mimetype": "text/x-python",
   "name": "python",
   "nbconvert_exporter": "python",
   "pygments_lexer": "ipython3",
   "version": "3.9.0"
  },
  "orig_nbformat": 4,
  "vscode": {
   "interpreter": {
    "hash": "0b9ef09a9a3250f999e7cf7647bb92657449fd8a8bc05aa98b9630ea0804629e"
   }
  }
 },
 "nbformat": 4,
 "nbformat_minor": 2
}
