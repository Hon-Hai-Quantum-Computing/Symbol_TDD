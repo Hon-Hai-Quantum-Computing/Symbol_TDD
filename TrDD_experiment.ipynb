{
 "cells": [
  {
   "cell_type": "code",
   "execution_count": 1,
   "metadata": {},
   "outputs": [],
   "source": [
    "import time,csv\n",
    "import numpy as np"
   ]
  },
  {
   "cell_type": "code",
   "execution_count": 2,
   "metadata": {},
   "outputs": [],
   "source": [
    "from TDD.TDD import global_norm\n",
    "# from TDD.TDD import TDD\n",
    "# def global_norm(tdd):\n",
    "#     node=tdd.node\n",
    "#     weight=tdd.weight\n",
    "\n",
    "#     if node.key==-1:\n",
    "#         return tdd\n",
    "\n",
    "#     h=weight\n",
    "#     tdd_list=[]\n",
    "#     for i in range (len(node.out_weight)):\n",
    "#         tdd_list.append(TDD(node.successor[i]))\n",
    "#         tdd_list[i].weight=h*node.out_weight[i]\n",
    "#         tdd_list[i]=global_norm(tdd_list[i])\n",
    "\n",
    "#     from TDD.TDD import normalize\n",
    "#     new_tdd=normalize(node.key,tdd_list)\n",
    "#     return new_tdd"
   ]
  },
  {
   "cell_type": "code",
   "execution_count": 3,
   "metadata": {},
   "outputs": [],
   "source": [
    "from TDD.TDD import Ini_TDD\n",
    "from TDD.TDD_Q import cir_2_tn,get_real_qubit_num\n",
    "\n",
    "def STDD_simulation(cir, Benchmark_Name=None, unique_table_reset=True, add_inputs_list=None, optimizer=None):\n",
    "    n=get_real_qubit_num(cir)\n",
    "    tn,indices=cir_2_tn(cir)\n",
    "    Parameter_num=len(cir.parameters)\n",
    "    #add y indices\n",
    "    indices2=[]\n",
    "    for i, item in enumerate(indices):\n",
    "        indices2.append(item)\n",
    "        if item[0]=='y':\n",
    "            num=int(item.replace('y',''))\n",
    "            # indices2.append('z%i'%num)\n",
    "    t_start=time.time()\n",
    "    #add sin cos indices\n",
    "\n",
    "    '''\n",
    "    TrDD process start\n",
    "    '''\n",
    "    # sin_str=set()\n",
    "    # cos_str=set()\n",
    "    # for tensor in tn.tensors:\n",
    "    #     for element in tensor.data.flatten(): \n",
    "    #         from sympy.core.expr import Expr \n",
    "    #         if isinstance(element,Expr):\n",
    "    #             for symbol in element.free_symbols:\n",
    "    #                 sin_str.add('sin('+str(symbol)+')')\n",
    "    #                 cos_str.add('cos('+str(symbol)+')')\n",
    "    # sin_str=list(sin_str)\n",
    "    # sin_str.sort()\n",
    "    # cos_str=list(cos_str)\n",
    "    # cos_str.sort()\n",
    "    # sym_str=[]\n",
    "    # for i in range(len(sin_str)):\n",
    "    #     sym_str.append(sin_str[i])\n",
    "    #     sym_str.append(cos_str[i])\n",
    "\n",
    "    # TDD process\n",
    "    # Ini_TDD(indices2,sym_str,type='TrDD',unique_table_reset=unique_table_reset)\n",
    "\n",
    "    '''\n",
    "    TrDD process end\n",
    "    '''\n",
    "\n",
    "    '''\n",
    "    EXP process start \n",
    "    '''\n",
    "    parameters_dict=dict((v,k) for k, v in dict(enumerate(cir.parameters)).items())\n",
    "    Ini_TDD(indices2,type='Exp',Exp_parameters_dict=parameters_dict,unique_table_reset=unique_table_reset)\n",
    "    '''\n",
    "    EXP process end \n",
    "    '''\n",
    "\n",
    "    if add_inputs_list:\n",
    "        from TDD.TDD_Q import add_inputs\n",
    "        # add_inputs(tn,[0]*n,n)\n",
    "        add_inputs(tn,add_inputs_list)\n",
    "\n",
    "    start_cont=time.time()-t_start\n",
    "    print('start cont ',start_cont)\n",
    "    tdd, Max_node_num=tn.cont(optimizer=optimizer,max_node=True)\n",
    "    cont_time=time.time()-start_cont-t_start\n",
    "    print('cont complete',cont_time)\n",
    "\n",
    "    from TDD.TDD import get_unique_table_num as gu1\n",
    "    from TDD.TrDD.BDD import get_unique_table_num as gu2\n",
    "    output_dict={'Benchmark Name':Benchmark_Name,\n",
    "            'Parameter num': Parameter_num,\n",
    "            'Qubit num.':tn.qubits_num,\n",
    "            'Gate num.':len(cir.data),\n",
    "            'Time':cont_time,\n",
    "            'Node num. max':Max_node_num,\n",
    "            'Node num. final':tdd.node_number(),\n",
    "            'gu1':gu1(),\n",
    "            'gu2':gu2()\n",
    "    }\n",
    "    return tdd, output_dict"
   ]
  },
  {
   "cell_type": "code",
   "execution_count": 4,
   "metadata": {},
   "outputs": [],
   "source": [
    "def STDD_verify(cir, cir2, Benchmark_Name=None, unique_table_reset=True, add_inputs_list=None, optimizer=None):\n",
    "    n=get_real_qubit_num(cir)\n",
    "    tn, indices = cir_2_tn(cir.compose(cir2.inverse()))\n",
    "\n",
    "    t_start=time.time()\n",
    "    #add sin cos indices\n",
    "    sin_str=set()\n",
    "    cos_str=set()\n",
    "    for tensor in tn.tensors:\n",
    "        for element in tensor.data.flatten(): \n",
    "            from sympy.core.expr import Expr \n",
    "            if isinstance(element,Expr):\n",
    "                for symbol in element.free_symbols:\n",
    "                    sin_str.add('sin('+str(symbol)+')')\n",
    "                    cos_str.add('cos('+str(symbol)+')')\n",
    "    sin_str=list(sin_str)\n",
    "    sin_str.sort()\n",
    "    cos_str=list(cos_str)\n",
    "    cos_str.sort()\n",
    "    sym_str=[]\n",
    "    for i in range(len(sin_str)):\n",
    "        sym_str.append(sin_str[i])\n",
    "        sym_str.append(cos_str[i])\n",
    "\n",
    "    # TDD process\n",
    "    Ini_TDD(indices,sym_str,type='TrDD',unique_table_reset=unique_table_reset)\n",
    "\n",
    "    if add_inputs_list:\n",
    "        from TDD.TDD_Q import add_inputs\n",
    "        # add_inputs(tn,[0]*n,n)\n",
    "        add_inputs(tn,add_inputs_list)\n",
    "\n",
    "    def cont2(tn,l1):\n",
    "        from TDD.TDD import cont, get_identity_tdd\n",
    "        max_node_num=0\n",
    "        tdd=get_identity_tdd()\n",
    "        l2=len(tn.tensors)-l1\n",
    "        l=min(l1,l2)\n",
    "        d=l1-l2\n",
    "        r=int(l1/l2) if d>0 else int(l2/l1)\n",
    "        if r == 1:\n",
    "            for i in range(l):\n",
    "                tdd1=tn.tensors[-(i+1)+l1].tdd()\n",
    "                tdd=cont(tdd1,tdd)\n",
    "                max_node_num=max(max_node_num,tdd.node_number())\n",
    "                tdd2=tn.tensors[i+l1].tdd()\n",
    "                tdd=cont(tdd,tdd2)\n",
    "                max_node_num=max(max_node_num,tdd.node_number())\n",
    "            if d>0:\n",
    "                for i in range(d):\n",
    "                    tdd1=tn.tensors[-(i+l+1)+l1].tdd()\n",
    "                    tdd=cont(tdd1,tdd)\n",
    "                    max_node_num=max(max_node_num,tdd.node_number())\n",
    "            elif d<0:\n",
    "                for i in range(abs(d)):\n",
    "                    tdd2=tn.tensors[i+l+l1].tdd()\n",
    "                    tdd=cont(tdd,tdd2)\n",
    "                    max_node_num=max(max_node_num,tdd.node_number())\n",
    "        elif d>0:\n",
    "            for i in range(l2):\n",
    "                for j in range(r):\n",
    "                    tdd1=tn.tensors[-(r*i+j+1)+l1].tdd()\n",
    "                    tdd=cont(tdd1,tdd)\n",
    "                    max_node_num=max(max_node_num,tdd.node_number())\n",
    "                tdd2=tn.tensors[i+l1].tdd()\n",
    "                tdd=cont(tdd,tdd2)\n",
    "                max_node_num=max(max_node_num,tdd.node_number())\n",
    "            d2=l1-r*l2\n",
    "            if d2 !=0:\n",
    "                for i in range (d2):\n",
    "                    tdd1=tn.tensors[-(i+r*l2+1)+l1].tdd()\n",
    "                    tdd=cont(tdd1,tdd)\n",
    "                    max_node_num=max(max_node_num,tdd.node_number())\n",
    "        elif d<0:\n",
    "            for i in range(l1):\n",
    "                tdd1=tn.tensors[-(i+1)+l1].tdd()\n",
    "                tdd=cont(tdd1,tdd)\n",
    "                max_node_num=max(max_node_num,tdd.node_number())\n",
    "                for j in range(r):\n",
    "                    tdd2=tn.tensors[r*i+j+l1].tdd()\n",
    "                    tdd=cont(tdd,tdd2)\n",
    "                    max_node_num=max(max_node_num,tdd.node_number())\n",
    "            d2=l2-r*l1\n",
    "            if d2 !=0:\n",
    "                for i in range(d2):\n",
    "                    tdd2=tn.tensors[i+(r+1)*l1].tdd()\n",
    "                    tdd=cont(tdd,tdd2)\n",
    "                    max_node_num=max(max_node_num,tdd.node_number())\n",
    "        return tdd, max_node_num\n",
    "\n",
    "    l1=len(cir.data)\n",
    "\n",
    "    start_cont=time.time()-t_start\n",
    "    print('start cont ',start_cont)\n",
    "    tdd, Max_node_num= cont2(tn,l1)\n",
    "    cont_time=time.time()-start_cont-t_start\n",
    "    print('cont complete',cont_time)\n",
    "\n",
    "    from TDD.TDD import get_unique_table_num as gu1\n",
    "    from TDD.TrDD.BDD import get_unique_table_num as gu2\n",
    "    output_dict={'Benchmark Name':Benchmark_Name,\n",
    "            'Parameter num': len(sin_str),\n",
    "            'Qubit num.':tn.qubits_num,\n",
    "            'Gate num.':len(cir.data),\n",
    "            'Time':cont_time,\n",
    "            'Node num. max':Max_node_num,\n",
    "            'Node num. final':tdd.node_number(),\n",
    "            'gu1':gu1(),\n",
    "            'gu2':gu2()\n",
    "    }\n",
    "    return tdd, output_dict"
   ]
  },
  {
   "cell_type": "code",
   "execution_count": 5,
   "metadata": {},
   "outputs": [],
   "source": [
    "def verify(tdd1,tdd2):\n",
    "    start_time= time.time()\n",
    "    # equivalent without global_norm\n",
    "    if tdd1==tdd2:\n",
    "        check_time=time.time()-start_time\n",
    "        output_dict={\"check_time\":check_time,\"equivalence\":\"equivalent\"}\n",
    "        print(output_dict)\n",
    "        return output_dict\n",
    "    elif tdd1.node==tdd2.node:\n",
    "        check_time=time.time()-start_time\n",
    "        output_dict={\"check_time\":check_time,\"equivalence\":\"equivalent_up_to_global_phase\"}\n",
    "        print(output_dict)\n",
    "        return output_dict\n",
    "    tddn=global_norm(tdd1)\n",
    "    tddn2=global_norm(tdd2)\n",
    "    # equivalent with global_norm\n",
    "    if tddn==tddn2:\n",
    "        check_time=time.time()-start_time\n",
    "        output_dict={\"check_time\":check_time,\"equivalence\":\"equivalent\"}\n",
    "        print('global_norm',output_dict)\n",
    "        return output_dict\n",
    "    elif tddn.node==tdd2.node:\n",
    "        check_time=time.time()-start_time\n",
    "        output_dict={\"check_time\":check_time,\"equivalence\":\"equivalent_up_to_global_phase\"}\n",
    "        print('global_norm',output_dict)\n",
    "        return output_dict\n",
    "    # not equivalent \n",
    "    else:\n",
    "        check_time=time.time()-start_time\n",
    "        output_dict={\"check_time\":check_time,\"equivalence\":\"not_equivalent\"}\n",
    "        print(output_dict)\n",
    "        return output_dict"
   ]
  },
  {
   "cell_type": "code",
   "execution_count": 6,
   "metadata": {},
   "outputs": [],
   "source": [
    "from qiskit import transpile\n",
    "from qiskit.circuit import Parameter, QuantumCircuit, library\n",
    "\n",
    "def circuit_generator(qubit_num=1,reps=1,function_name='TwoLocal'\n",
    "                    ,basis_gates1=['id', 'rz', 'sx', 'x', 'cx']\n",
    "                    ,basis_gates2=['rx','ry','h','cx']):\n",
    "\n",
    "    if function_name=='TwoLocal':\n",
    "        cir = library.TwoLocal(qubit_num, ['ry'],'cx', entanglement='circular', reps=reps)\n",
    "    if function_name=='ExcitationPreserving':\n",
    "        cir = library.ExcitationPreserving(qubit_num, mode='fsim', entanglement='full', reps=reps)\n",
    "    if function_name=='RealAmplitudes':\n",
    "        cir = library.RealAmplitudes(qubit_num, entanglement='full', reps=reps)\n",
    "    if function_name=='EfficientSU2':\n",
    "        cir = library.EfficientSU2(qubit_num, ['rx','h'], entanglement='circular', reps=reps)\n",
    "\n",
    "    cir1=transpile(cir,basis_gates=basis_gates1)\n",
    "    cir2=transpile(cir,basis_gates=basis_gates2)\n",
    "\n",
    "    return cir1,cir2,'%s_%i_%i'%(function_name,qubit_num,reps)"
   ]
  },
  {
   "cell_type": "code",
   "execution_count": 7,
   "metadata": {},
   "outputs": [
    {
     "data": {
      "image/png": "[encoded data removed]",
      "text/plain": [
       "<Figure size 1040x284.278 with 1 Axes>"
      ]
     },
     "execution_count": 7,
     "metadata": {},
     "output_type": "execute_result"
    }
   ],
   "source": [
    "cir3=QuantumCircuit(3)\n",
    "cir3.ccx(0,1,2)\n",
    "cir3=transpile(cir3,basis_gates=['h', 't', 'tdg', 'cx'])\n",
    "cir3.draw('mpl')"
   ]
  },
  {
   "cell_type": "code",
   "execution_count": 8,
   "metadata": {},
   "outputs": [
    {
     "data": {
      "image/png": "[encoded data removed]",
      "text/plain": [
       "<Figure size 1207.22x284.278 with 1 Axes>"
      ]
     },
     "execution_count": 8,
     "metadata": {},
     "output_type": "execute_result"
    }
   ],
   "source": [
    "cir4=transpile(cir3,basis_gates=['id', 'rz', 'sx', 'x', 'cx'])\n",
    "cir4.draw('mpl')"
   ]
  },
  {
   "cell_type": "code",
   "execution_count": 9,
   "metadata": {},
   "outputs": [
    {
     "data": {
      "image/png": "[encoded data removed]",
      "text/plain": [
       "<Figure size 185.453x117.056 with 1 Axes>"
      ]
     },
     "execution_count": 9,
     "metadata": {},
     "output_type": "execute_result"
    }
   ],
   "source": [
    "s0=Parameter('s%i'%0)\n",
    "simple=QuantumCircuit(1)\n",
    "# simple.rz(s0,0)\n",
    "\n",
    "# simple.rz(-s0,0)\n",
    "\n",
    "# simple.rx(s0,0)\n",
    "\n",
    "simple.ry(s0,0)\n",
    "\n",
    "\n",
    "simple.draw('mpl')"
   ]
  },
  {
   "cell_type": "code",
   "execution_count": 10,
   "metadata": {},
   "outputs": [
    {
     "data": {
      "image/png": "[encoded data removed]",
      "text/plain": [
       "<Figure size 352.675x117.056 with 1 Axes>"
      ]
     },
     "execution_count": 10,
     "metadata": {},
     "output_type": "execute_result"
    }
   ],
   "source": [
    "simple2=QuantumCircuit(1)\n",
    "\n",
    "# simple2.rx(np.pi/2,0)\n",
    "# simple2.ry(s0,0)\n",
    "# simple2.rx(-np.pi/2,0)\n",
    "\n",
    "# simple2.ry(np.pi/2,0)\n",
    "# simple2.rx(s0,0)\n",
    "# simple2.ry(-np.pi/2,0)\n",
    "\n",
    "# simple2.ry(np.pi/2,0)\n",
    "# simple2.rz(s0,0)\n",
    "# simple2.ry(-np.pi/2,0)\n",
    "\n",
    "simple2.rz(np.pi/2,0)\n",
    "simple2.rx(s0,0)\n",
    "simple2.rz(-np.pi/2,0)\n",
    "simple2.draw('mpl')"
   ]
  },
  {
   "cell_type": "code",
   "execution_count": 11,
   "metadata": {},
   "outputs": [],
   "source": [
    "def experiment(qubit_num=2,reps=1,function='RealAmplitudes', optimizer=None, file_name=None):\n",
    "        cir1,cir2,circuit_nam=circuit_generator(qubit_num=qubit_num,reps=reps,function_name=function)\n",
    "        tdd1,output_dict1=STDD_simulation(cir1, unique_table_reset=True, optimizer=optimizer)\n",
    "        tdd2,output_dict2=STDD_simulation(cir2, unique_table_reset=False, optimizer=optimizer)\n",
    "        output_dict3=verify(tdd1,tdd2)\n",
    "        if file_name:\n",
    "                with open(file_name, 'a', newline='') as csvfile:\n",
    "                        fieldnames = ['Benchmark Name','Parameter num.','Qubit num.'\n",
    "                                ,'Gate num._1','Time_1','Node num. max_1','Node num. final_1','gu1_1','gu2_1'\n",
    "                                ,'Gate num._2','Time_2','Node num. max_2','Node num. final_2','gu1_2','gu2_2'\n",
    "                                ,'Check_time','Totol_time','Equivalent']\n",
    "                        writer = csv.DictWriter(csvfile, fieldnames=fieldnames)\n",
    "                        writer.writerow({'Benchmark Name':circuit_nam,'Parameter num.':output_dict1['Parameter num'],'Qubit num.':output_dict1['Qubit num.']\n",
    "                        ,'Gate num._1':output_dict1['Gate num.'],'Time_1':output_dict1['Time'],'Node num. max_1':output_dict1['Node num. max']\n",
    "                        ,'Node num. final_1':output_dict1['Node num. final'],'gu1_1':output_dict1['gu1'],'gu2_1':output_dict1['gu2']\n",
    "                        ,'Gate num._2':output_dict2['Gate num.'],'Time_2':output_dict2['Time'],'Node num. max_2':output_dict2['Node num. max']\n",
    "                        ,'Node num. final_2':output_dict2['Node num. final'],'gu1_2':output_dict2['gu1'],'gu2_2':output_dict2['gu2']\n",
    "                        ,'Check_time':output_dict3['check_time'],'Totol_time':output_dict1['Time']+output_dict2['Time']+output_dict3['check_time']\n",
    "                        ,'Equivalent':output_dict3['equivalence']})\n",
    "        return {'Benchmark Name':circuit_nam,'Parameter num.':output_dict1['Parameter num'],'Qubit num.':output_dict1['Qubit num.']\n",
    "                ,'Gate num._1':output_dict1['Gate num.'],'Time_1':output_dict1['Time'],'Node num. max_1':output_dict1['Node num. max']\n",
    "                ,'Node num. final_1':output_dict1['Node num. final'],'gu1_1':output_dict1['gu1'],'gu2_1':output_dict1['gu2']\n",
    "                ,'Gate num._2':output_dict2['Gate num.'],'Time_2':output_dict2['Time'],'Node num. max_2':output_dict2['Node num. max']\n",
    "                ,'Node num. final_2':output_dict2['Node num. final'],'gu1_2':output_dict2['gu1'],'gu2_2':output_dict2['gu2']\n",
    "                ,'Check_time':output_dict3['check_time'],'Totol_time':output_dict1['Time']+output_dict2['Time']+output_dict3['check_time']\n",
    "                ,'Equivalent':output_dict3['equivalence']}\n",
    "\n"
   ]
  },
  {
   "cell_type": "code",
   "execution_count": 12,
   "metadata": {},
   "outputs": [
    {
     "name": "stdout",
     "output_type": "stream",
     "text": [
      "[[exp(0.5*I*s0)/2 + exp(-0.5*I*s0)/2\n",
      "  1.0*I*(exp(0.5*I*s0)/2 - exp(-0.5*I*s0)/2)*exp(1.5707963267949*I)]\n",
      " [-1.0*I*(exp(0.5*I*s0)/2 - exp(-0.5*I*s0)/2)*exp(-1.5707963267949*I)\n",
      "  exp(0.5*I*s0)/2 + exp(-0.5*I*s0)/2]]\n",
      "start cont  0.0036993026733398438\n",
      "{(0, -0.7853981633974483): 1.0} <class 'TDD.Exp.EXP.BDD'>\n",
      "{(0, 0.0): 0.0} <class 'TDD.Exp.EXP.BDD'>\n",
      "{(0, 0.0): 0.0} <class 'TDD.Exp.EXP.BDD'>\n",
      "{(0, 0.7853981633974483): 1.0} <class 'TDD.Exp.EXP.BDD'>\n",
      "{(0, 0): 1} <class 'TDD.Exp.EXP.BDD'>\n",
      "{(0, 0): 1} <class 'TDD.Exp.EXP.BDD'>\n",
      "exp(0.5*I*s0)/2 + exp(-0.5*I*s0)/2\n",
      "1.0*I*(exp(0.5*I*s0)/2 - exp(-0.5*I*s0)/2)*exp(1.5707963267949*I)\n",
      "exp(0.5*I*s0)/2 + exp(-0.5*I*s0)/2 <class 'TDD.Exp.EXP.BDD'>\n"
     ]
    },
    {
     "ename": "AttributeError",
     "evalue": "'Add' object has no attribute 'keys'",
     "output_type": "error",
     "traceback": [
      "\u001b[0;31m---------------------------------------------------------------------------\u001b[0m",
      "\u001b[0;31mAttributeError\u001b[0m                            Traceback (most recent call last)",
      "\u001b[1;32m/home/Wei-Jia/downloads/TDD/TDD_new/Symbol_TDD/TrDD_experiment.ipynb 儲存格 12\u001b[0m in \u001b[0;36m1\n\u001b[0;32m----> <a href='vscode-notebook-cell://ssh-remote%2B20.205.236.55/home/Wei-Jia/downloads/TDD/TDD_new/Symbol_TDD/TrDD_experiment.ipynb#X14sdnNjb2RlLXJlbW90ZQ%3D%3D?line=0'>1</a>\u001b[0m tdd1, output_dict\u001b[39m=\u001b[39mSTDD_simulation(simple2)\n\u001b[1;32m      <a href='vscode-notebook-cell://ssh-remote%2B20.205.236.55/home/Wei-Jia/downloads/TDD/TDD_new/Symbol_TDD/TrDD_experiment.ipynb#X14sdnNjb2RlLXJlbW90ZQ%3D%3D?line=1'>2</a>\u001b[0m tdd2, output_dict\u001b[39m=\u001b[39mSTDD_simulation(simple,unique_table_reset\u001b[39m=\u001b[39m\u001b[39mFalse\u001b[39;00m)\n\u001b[1;32m      <a href='vscode-notebook-cell://ssh-remote%2B20.205.236.55/home/Wei-Jia/downloads/TDD/TDD_new/Symbol_TDD/TrDD_experiment.ipynb#X14sdnNjb2RlLXJlbW90ZQ%3D%3D?line=3'>4</a>\u001b[0m verify(tdd1,tdd2)\n",
      "\u001b[1;32m/home/Wei-Jia/downloads/TDD/TDD_new/Symbol_TDD/TrDD_experiment.ipynb 儲存格 12\u001b[0m in \u001b[0;36m6\n\u001b[1;32m     <a href='vscode-notebook-cell://ssh-remote%2B20.205.236.55/home/Wei-Jia/downloads/TDD/TDD_new/Symbol_TDD/TrDD_experiment.ipynb#X14sdnNjb2RlLXJlbW90ZQ%3D%3D?line=59'>60</a>\u001b[0m start_cont\u001b[39m=\u001b[39mtime\u001b[39m.\u001b[39mtime()\u001b[39m-\u001b[39mt_start\n\u001b[1;32m     <a href='vscode-notebook-cell://ssh-remote%2B20.205.236.55/home/Wei-Jia/downloads/TDD/TDD_new/Symbol_TDD/TrDD_experiment.ipynb#X14sdnNjb2RlLXJlbW90ZQ%3D%3D?line=60'>61</a>\u001b[0m \u001b[39mprint\u001b[39m(\u001b[39m'\u001b[39m\u001b[39mstart cont \u001b[39m\u001b[39m'\u001b[39m,start_cont)\n\u001b[0;32m---> <a href='vscode-notebook-cell://ssh-remote%2B20.205.236.55/home/Wei-Jia/downloads/TDD/TDD_new/Symbol_TDD/TrDD_experiment.ipynb#X14sdnNjb2RlLXJlbW90ZQ%3D%3D?line=61'>62</a>\u001b[0m tdd, Max_node_num\u001b[39m=\u001b[39mtn\u001b[39m.\u001b[39;49mcont(optimizer\u001b[39m=\u001b[39;49moptimizer,max_node\u001b[39m=\u001b[39;49m\u001b[39mTrue\u001b[39;49;00m)\n\u001b[1;32m     <a href='vscode-notebook-cell://ssh-remote%2B20.205.236.55/home/Wei-Jia/downloads/TDD/TDD_new/Symbol_TDD/TrDD_experiment.ipynb#X14sdnNjb2RlLXJlbW90ZQ%3D%3D?line=62'>63</a>\u001b[0m cont_time\u001b[39m=\u001b[39mtime\u001b[39m.\u001b[39mtime()\u001b[39m-\u001b[39mstart_cont\u001b[39m-\u001b[39mt_start\n\u001b[1;32m     <a href='vscode-notebook-cell://ssh-remote%2B20.205.236.55/home/Wei-Jia/downloads/TDD/TDD_new/Symbol_TDD/TrDD_experiment.ipynb#X14sdnNjb2RlLXJlbW90ZQ%3D%3D?line=63'>64</a>\u001b[0m \u001b[39mprint\u001b[39m(\u001b[39m'\u001b[39m\u001b[39mcont complete\u001b[39m\u001b[39m'\u001b[39m,cont_time)\n",
      "File \u001b[0;32m~/downloads/TDD/TDD_new/Symbol_TDD/TDD/TN.py:97\u001b[0m, in \u001b[0;36mTensorNetwork.cont\u001b[0;34m(self, optimizer, max_node)\u001b[0m\n\u001b[1;32m     94\u001b[0m     \u001b[39mreturn\u001b[39;00m tdd,max_node_num   \n\u001b[1;32m     96\u001b[0m \u001b[39mfor\u001b[39;00m ts \u001b[39min\u001b[39;00m \u001b[39mself\u001b[39m\u001b[39m.\u001b[39mtensors:\n\u001b[0;32m---> 97\u001b[0m     temp_tdd\u001b[39m=\u001b[39mts\u001b[39m.\u001b[39;49mtdd()\n\u001b[1;32m     98\u001b[0m     tdd\u001b[39m=\u001b[39mcont(tdd,temp_tdd)\n\u001b[1;32m     99\u001b[0m     \u001b[39mif\u001b[39;00m max_node:\n",
      "File \u001b[0;32m~/downloads/TDD/TDD_new/Symbol_TDD/TDD/TN.py:16\u001b[0m, in \u001b[0;36mTensor.tdd\u001b[0;34m(self)\u001b[0m\n\u001b[1;32m     14\u001b[0m \u001b[39mdef\u001b[39;00m \u001b[39mtdd\u001b[39m(\u001b[39mself\u001b[39m):\n\u001b[1;32m     15\u001b[0m     \u001b[39mfrom\u001b[39;00m \u001b[39mTDD\u001b[39;00m\u001b[39m.\u001b[39;00m\u001b[39mTDD\u001b[39;00m \u001b[39mimport\u001b[39;00m get_tdd\n\u001b[0;32m---> 16\u001b[0m     \u001b[39mreturn\u001b[39;00m get_tdd(\u001b[39mself\u001b[39;49m\u001b[39m.\u001b[39;49mdata,\u001b[39mself\u001b[39;49m\u001b[39m.\u001b[39;49mindex_set)\n",
      "File \u001b[0;32m~/downloads/TDD/TDD_new/Symbol_TDD/TDD/TDD.py:689\u001b[0m, in \u001b[0;36mget_tdd\u001b[0;34m(U, var)\u001b[0m\n\u001b[1;32m    687\u001b[0m \u001b[39mfor\u001b[39;00m idx \u001b[39min\u001b[39;00m var:\n\u001b[1;32m    688\u001b[0m     order\u001b[39m.\u001b[39mappend(idx_2_key[idx\u001b[39m.\u001b[39mkey])\n\u001b[0;32m--> 689\u001b[0m tdd \u001b[39m=\u001b[39m np_2_tdd(U,order)\n\u001b[1;32m    690\u001b[0m tdd\u001b[39m.\u001b[39mindex_2_key\u001b[39m=\u001b[39midx_2_key\n\u001b[1;32m    691\u001b[0m tdd\u001b[39m.\u001b[39mkey_2_index\u001b[39m=\u001b[39mkey_2_idx\n",
      "File \u001b[0;32m~/downloads/TDD/TDD_new/Symbol_TDD/TDD/TDD.py:753\u001b[0m, in \u001b[0;36mnp_2_tdd\u001b[0;34m(U, order, key_width)\u001b[0m\n\u001b[1;32m    751\u001b[0m the_successors\u001b[39m=\u001b[39m[]\n\u001b[1;32m    752\u001b[0m \u001b[39mfor\u001b[39;00m k \u001b[39min\u001b[39;00m \u001b[39mrange\u001b[39m(U_shape[split_pos]):\n\u001b[0;32m--> 753\u001b[0m     res\u001b[39m=\u001b[39mnp_2_tdd(split_U[k],copy\u001b[39m.\u001b[39;49mcopy(order),\u001b[39mFalse\u001b[39;49;00m)\n\u001b[1;32m    754\u001b[0m     the_successors\u001b[39m.\u001b[39mappend(res)\n\u001b[1;32m    755\u001b[0m tdd \u001b[39m=\u001b[39m normalize(x,the_successors)\n",
      "File \u001b[0;32m~/downloads/TDD/TDD_new/Symbol_TDD/TDD/TDD.py:755\u001b[0m, in \u001b[0;36mnp_2_tdd\u001b[0;34m(U, order, key_width)\u001b[0m\n\u001b[1;32m    753\u001b[0m     res\u001b[39m=\u001b[39mnp_2_tdd(split_U[k],copy\u001b[39m.\u001b[39mcopy(order),\u001b[39mFalse\u001b[39;00m)\n\u001b[1;32m    754\u001b[0m     the_successors\u001b[39m.\u001b[39mappend(res)\n\u001b[0;32m--> 755\u001b[0m tdd \u001b[39m=\u001b[39m normalize(x,the_successors)\n\u001b[1;32m    757\u001b[0m \u001b[39mif\u001b[39;00m key_width:\n\u001b[1;32m    758\u001b[0m     tdd\u001b[39m.\u001b[39mkey_width\u001b[39m=\u001b[39mthe_width\n",
      "File \u001b[0;32m~/downloads/TDD/TDD_new/Symbol_TDD/TDD/TDD.py:602\u001b[0m, in \u001b[0;36mnormalize\u001b[0;34m(x, the_successors, combine)\u001b[0m\n\u001b[1;32m    598\u001b[0m \u001b[39m# [a,b,c]=[S_one,the_successors[0].weight,the_successors[1].weight]\u001b[39;00m\n\u001b[1;32m    601\u001b[0m succ_nodes\u001b[39m=\u001b[39m[succ\u001b[39m.\u001b[39mnode \u001b[39mfor\u001b[39;00m succ \u001b[39min\u001b[39;00m the_successors]\n\u001b[0;32m--> 602\u001b[0m node\u001b[39m=\u001b[39mFind_Or_Add_Unique_table(x,[b,c],succ_nodes)\n\u001b[1;32m    603\u001b[0m res\u001b[39m=\u001b[39mTDD(node)\n\u001b[1;32m    604\u001b[0m res\u001b[39m.\u001b[39mweight\u001b[39m=\u001b[39ma\n",
      "File \u001b[0;32m~/downloads/TDD/TDD_new/Symbol_TDD/TDD/TDD.py:263\u001b[0m, in \u001b[0;36mFind_Or_Add_Unique_table\u001b[0;34m(x, weigs, succ_nodes)\u001b[0m\n\u001b[1;32m    261\u001b[0m temp_key\u001b[39m=\u001b[39m[x]\n\u001b[1;32m    262\u001b[0m \u001b[39mfor\u001b[39;00m k \u001b[39min\u001b[39;00m \u001b[39mrange\u001b[39m(\u001b[39mlen\u001b[39m(weigs)):\n\u001b[0;32m--> 263\u001b[0m     temp_key\u001b[39m.\u001b[39mappend(get_weight(weigs[k]))\n\u001b[1;32m    264\u001b[0m     temp_key\u001b[39m.\u001b[39mappend(succ_nodes[k])\n\u001b[1;32m    266\u001b[0m temp_key\u001b[39m=\u001b[39m\u001b[39mtuple\u001b[39m(temp_key)\n",
      "File \u001b[0;32m~/downloads/TDD/TDD_new/Symbol_TDD/TDD/TDD.py:247\u001b[0m, in \u001b[0;36mget_weight\u001b[0;34m(sl)\u001b[0m\n\u001b[1;32m    246\u001b[0m \u001b[39mdef\u001b[39;00m \u001b[39mget_weight\u001b[39m(sl):\n\u001b[0;32m--> 247\u001b[0m     \u001b[39mreturn\u001b[39;00m (get_int_key(sl\u001b[39m.\u001b[39mweight),sl\u001b[39m.\u001b[39;49mnode)\n",
      "File \u001b[0;32m~/downloads/TDD/TDD_new/Symbol_TDD/TDD/Exp/EXP.py:34\u001b[0m, in \u001b[0;36mBDD.node\u001b[0;34m(self)\u001b[0m\n\u001b[1;32m     32\u001b[0m \u001b[39mprint\u001b[39m(\u001b[39mself\u001b[39m\u001b[39m.\u001b[39mdata,\u001b[39mtype\u001b[39m(\u001b[39mself\u001b[39m))\n\u001b[1;32m     33\u001b[0m \u001b[39mfrom\u001b[39;00m \u001b[39mfunctools\u001b[39;00m \u001b[39mimport\u001b[39;00m reduce\n\u001b[0;32m---> 34\u001b[0m \u001b[39mreturn\u001b[39;00m reduce(\u001b[39mlambda\u001b[39;00m a,b:a\u001b[39m+\u001b[39mb , \u001b[39mself\u001b[39;49m\u001b[39m.\u001b[39;49mdata\u001b[39m.\u001b[39;49mkeys())\n",
      "\u001b[0;31mAttributeError\u001b[0m: 'Add' object has no attribute 'keys'"
     ]
    }
   ],
   "source": [
    "tdd1, output_dict=STDD_simulation(simple2)\n",
    "tdd2, output_dict=STDD_simulation(simple,unique_table_reset=False)\n",
    "\n",
    "verify(tdd1,tdd2)"
   ]
  },
  {
   "cell_type": "code",
   "execution_count": null,
   "metadata": {},
   "outputs": [
    {
     "data": {
      "text/plain": [
       "{(0.5j, 0.0): 0.0, (-0.5j, 0.0): 0.0}"
      ]
     },
     "execution_count": 16,
     "metadata": {},
     "output_type": "execute_result"
    }
   ],
   "source": [
    "tdd2.weight.data"
   ]
  },
  {
   "cell_type": "code",
   "execution_count": null,
   "metadata": {},
   "outputs": [
    {
     "data": {
      "text/plain": [
       "{(0,\n",
       "  0,\n",
       "  0,\n",
       "  0,\n",
       "  0,\n",
       "  0,\n",
       "  0,\n",
       "  0,\n",
       "  0,\n",
       "  0,\n",
       "  0,\n",
       "  0,\n",
       "  0,\n",
       "  0,\n",
       "  0,\n",
       "  0,\n",
       "  0,\n",
       "  0,\n",
       "  0,\n",
       "  0,\n",
       "  0,\n",
       "  0,\n",
       "  0,\n",
       "  0,\n",
       "  0,\n",
       "  0,\n",
       "  0,\n",
       "  0,\n",
       "  0,\n",
       "  0,\n",
       "  0,\n",
       "  0,\n",
       "  0,\n",
       "  0,\n",
       "  0,\n",
       "  0,\n",
       "  0,\n",
       "  0,\n",
       "  0,\n",
       "  0,\n",
       "  0,\n",
       "  0,\n",
       "  0,\n",
       "  0,\n",
       "  0,\n",
       "  0,\n",
       "  0,\n",
       "  0,\n",
       "  0,\n",
       "  0,\n",
       "  0.0): 1}"
      ]
     },
     "execution_count": 17,
     "metadata": {},
     "output_type": "execute_result"
    }
   ],
   "source": [
    "tdd1.weight.data"
   ]
  },
  {
   "cell_type": "code",
   "execution_count": null,
   "metadata": {},
   "outputs": [
    {
     "data": {
      "image/png": "[encoded data removed]",
      "text/plain": [
       "<IPython.core.display.Image object>"
      ]
     },
     "execution_count": 13,
     "metadata": {},
     "output_type": "execute_result"
    }
   ],
   "source": [
    "tdd2.show()"
   ]
  },
  {
   "cell_type": "code",
   "execution_count": null,
   "metadata": {},
   "outputs": [
    {
     "name": "stdout",
     "output_type": "stream",
     "text": [
      "start cont  0.0002899169921875\n"
     ]
    },
    {
     "ename": "TypeError",
     "evalue": "complex() first argument must be a string or a number, not 'BDD'",
     "output_type": "error",
     "traceback": [
      "\u001b[0;31m---------------------------------------------------------------------------\u001b[0m",
      "\u001b[0;31mAttributeError\u001b[0m                            Traceback (most recent call last)",
      "File \u001b[0;32m~/downloads/TDD/TDD_new/Symbol_TDD/TDD/TrDD/BDD.py:431\u001b[0m, in \u001b[0;36mget_bdd\u001b[0;34m(f)\u001b[0m\n\u001b[1;32m    429\u001b[0m \u001b[39mtry\u001b[39;00m:\n\u001b[1;32m    430\u001b[0m     \u001b[39m# print(f.args)\u001b[39;00m\n\u001b[0;32m--> 431\u001b[0m     f\u001b[39m.\u001b[39;49margs\n\u001b[1;32m    432\u001b[0m \u001b[39mexcept\u001b[39;00m:\n",
      "\u001b[0;31mAttributeError\u001b[0m: 'BDD' object has no attribute 'args'",
      "\nDuring handling of the above exception, another exception occurred:\n",
      "\u001b[0;31mTypeError\u001b[0m                                 Traceback (most recent call last)",
      "\u001b[1;32m/home/Wei-Jia/downloads/TDD/TDD_new/Symbol_TDD/TrDD_experiment.ipynb 儲存格 14\u001b[0m in \u001b[0;36m1\n\u001b[0;32m----> <a href='vscode-notebook-cell://ssh-remote%2B20.205.236.55/home/Wei-Jia/downloads/TDD/TDD_new/Symbol_TDD/TrDD_experiment.ipynb#X16sdnNjb2RlLXJlbW90ZQ%3D%3D?line=0'>1</a>\u001b[0m tdd, output_dict\u001b[39m=\u001b[39mSTDD_verify(simple, simple2)\n\u001b[1;32m      <a href='vscode-notebook-cell://ssh-remote%2B20.205.236.55/home/Wei-Jia/downloads/TDD/TDD_new/Symbol_TDD/TrDD_experiment.ipynb#X16sdnNjb2RlLXJlbW90ZQ%3D%3D?line=1'>2</a>\u001b[0m output_dict\n",
      "\u001b[1;32m/home/Wei-Jia/downloads/TDD/TDD_new/Symbol_TDD/TrDD_experiment.ipynb 儲存格 14\u001b[0m in \u001b[0;36m9\n\u001b[1;32m     <a href='vscode-notebook-cell://ssh-remote%2B20.205.236.55/home/Wei-Jia/downloads/TDD/TDD_new/Symbol_TDD/TrDD_experiment.ipynb#X16sdnNjb2RlLXJlbW90ZQ%3D%3D?line=92'>93</a>\u001b[0m start_cont\u001b[39m=\u001b[39mtime\u001b[39m.\u001b[39mtime()\u001b[39m-\u001b[39mt_start\n\u001b[1;32m     <a href='vscode-notebook-cell://ssh-remote%2B20.205.236.55/home/Wei-Jia/downloads/TDD/TDD_new/Symbol_TDD/TrDD_experiment.ipynb#X16sdnNjb2RlLXJlbW90ZQ%3D%3D?line=93'>94</a>\u001b[0m \u001b[39mprint\u001b[39m(\u001b[39m'\u001b[39m\u001b[39mstart cont \u001b[39m\u001b[39m'\u001b[39m,start_cont)\n\u001b[0;32m---> <a href='vscode-notebook-cell://ssh-remote%2B20.205.236.55/home/Wei-Jia/downloads/TDD/TDD_new/Symbol_TDD/TrDD_experiment.ipynb#X16sdnNjb2RlLXJlbW90ZQ%3D%3D?line=94'>95</a>\u001b[0m tdd, Max_node_num\u001b[39m=\u001b[39m cont2(tn,l1)\n\u001b[1;32m     <a href='vscode-notebook-cell://ssh-remote%2B20.205.236.55/home/Wei-Jia/downloads/TDD/TDD_new/Symbol_TDD/TrDD_experiment.ipynb#X16sdnNjb2RlLXJlbW90ZQ%3D%3D?line=95'>96</a>\u001b[0m cont_time\u001b[39m=\u001b[39mtime\u001b[39m.\u001b[39mtime()\u001b[39m-\u001b[39mstart_cont\u001b[39m-\u001b[39mt_start\n\u001b[1;32m     <a href='vscode-notebook-cell://ssh-remote%2B20.205.236.55/home/Wei-Jia/downloads/TDD/TDD_new/Symbol_TDD/TrDD_experiment.ipynb#X16sdnNjb2RlLXJlbW90ZQ%3D%3D?line=96'>97</a>\u001b[0m \u001b[39mprint\u001b[39m(\u001b[39m'\u001b[39m\u001b[39mcont complete\u001b[39m\u001b[39m'\u001b[39m,cont_time)\n",
      "\u001b[1;32m/home/Wei-Jia/downloads/TDD/TDD_new/Symbol_TDD/TrDD_experiment.ipynb 儲存格 14\u001b[0m in \u001b[0;36m7\n\u001b[1;32m     <a href='vscode-notebook-cell://ssh-remote%2B20.205.236.55/home/Wei-Jia/downloads/TDD/TDD_new/Symbol_TDD/TrDD_experiment.ipynb#X16sdnNjb2RlLXJlbW90ZQ%3D%3D?line=73'>74</a>\u001b[0m \u001b[39melif\u001b[39;00m d\u001b[39m<\u001b[39m\u001b[39m0\u001b[39m:\n\u001b[1;32m     <a href='vscode-notebook-cell://ssh-remote%2B20.205.236.55/home/Wei-Jia/downloads/TDD/TDD_new/Symbol_TDD/TrDD_experiment.ipynb#X16sdnNjb2RlLXJlbW90ZQ%3D%3D?line=74'>75</a>\u001b[0m     \u001b[39mfor\u001b[39;00m i \u001b[39min\u001b[39;00m \u001b[39mrange\u001b[39m(l1):\n\u001b[0;32m---> <a href='vscode-notebook-cell://ssh-remote%2B20.205.236.55/home/Wei-Jia/downloads/TDD/TDD_new/Symbol_TDD/TrDD_experiment.ipynb#X16sdnNjb2RlLXJlbW90ZQ%3D%3D?line=75'>76</a>\u001b[0m         tdd1\u001b[39m=\u001b[39mtn\u001b[39m.\u001b[39;49mtensors[\u001b[39m-\u001b[39;49m(i\u001b[39m+\u001b[39;49m\u001b[39m1\u001b[39;49m)\u001b[39m+\u001b[39;49ml1]\u001b[39m.\u001b[39;49mtdd()\n\u001b[1;32m     <a href='vscode-notebook-cell://ssh-remote%2B20.205.236.55/home/Wei-Jia/downloads/TDD/TDD_new/Symbol_TDD/TrDD_experiment.ipynb#X16sdnNjb2RlLXJlbW90ZQ%3D%3D?line=76'>77</a>\u001b[0m         tdd\u001b[39m=\u001b[39mcont(tdd1,tdd)\n\u001b[1;32m     <a href='vscode-notebook-cell://ssh-remote%2B20.205.236.55/home/Wei-Jia/downloads/TDD/TDD_new/Symbol_TDD/TrDD_experiment.ipynb#X16sdnNjb2RlLXJlbW90ZQ%3D%3D?line=77'>78</a>\u001b[0m         max_node_num\u001b[39m=\u001b[39m\u001b[39mmax\u001b[39m(max_node_num,tdd\u001b[39m.\u001b[39mnode_number())\n",
      "File \u001b[0;32m~/downloads/TDD/TDD_new/Symbol_TDD/TDD/TN.py:16\u001b[0m, in \u001b[0;36mTensor.tdd\u001b[0;34m(self)\u001b[0m\n\u001b[1;32m     14\u001b[0m \u001b[39mdef\u001b[39;00m \u001b[39mtdd\u001b[39m(\u001b[39mself\u001b[39m):\n\u001b[1;32m     15\u001b[0m     \u001b[39mfrom\u001b[39;00m \u001b[39mTDD\u001b[39;00m\u001b[39m.\u001b[39;00m\u001b[39mTDD\u001b[39;00m \u001b[39mimport\u001b[39;00m get_tdd\n\u001b[0;32m---> 16\u001b[0m     \u001b[39mreturn\u001b[39;00m get_tdd(\u001b[39mself\u001b[39;49m\u001b[39m.\u001b[39;49mdata,\u001b[39mself\u001b[39;49m\u001b[39m.\u001b[39;49mindex_set)\n",
      "File \u001b[0;32m~/downloads/TDD/TDD_new/Symbol_TDD/TDD/TDD.py:685\u001b[0m, in \u001b[0;36mget_tdd\u001b[0;34m(U, var)\u001b[0m\n\u001b[1;32m    683\u001b[0m \u001b[39mfor\u001b[39;00m idx \u001b[39min\u001b[39;00m var:\n\u001b[1;32m    684\u001b[0m     order\u001b[39m.\u001b[39mappend(idx_2_key[idx\u001b[39m.\u001b[39mkey])\n\u001b[0;32m--> 685\u001b[0m tdd \u001b[39m=\u001b[39m np_2_tdd(U,order)\n\u001b[1;32m    686\u001b[0m tdd\u001b[39m.\u001b[39mindex_2_key\u001b[39m=\u001b[39midx_2_key\n\u001b[1;32m    687\u001b[0m tdd\u001b[39m.\u001b[39mkey_2_index\u001b[39m=\u001b[39mkey_2_idx\n",
      "File \u001b[0;32m~/downloads/TDD/TDD_new/Symbol_TDD/TDD/TDD.py:749\u001b[0m, in \u001b[0;36mnp_2_tdd\u001b[0;34m(U, order, key_width)\u001b[0m\n\u001b[1;32m    747\u001b[0m the_successors\u001b[39m=\u001b[39m[]\n\u001b[1;32m    748\u001b[0m \u001b[39mfor\u001b[39;00m k \u001b[39min\u001b[39;00m \u001b[39mrange\u001b[39m(U_shape[split_pos]):\n\u001b[0;32m--> 749\u001b[0m     res\u001b[39m=\u001b[39mnp_2_tdd(split_U[k],copy\u001b[39m.\u001b[39;49mcopy(order),\u001b[39mFalse\u001b[39;49;00m)\n\u001b[1;32m    750\u001b[0m     the_successors\u001b[39m.\u001b[39mappend(res)\n\u001b[1;32m    751\u001b[0m tdd \u001b[39m=\u001b[39m normalize(x,the_successors)\n",
      "File \u001b[0;32m~/downloads/TDD/TDD_new/Symbol_TDD/TDD/TDD.py:749\u001b[0m, in \u001b[0;36mnp_2_tdd\u001b[0;34m(U, order, key_width)\u001b[0m\n\u001b[1;32m    747\u001b[0m the_successors\u001b[39m=\u001b[39m[]\n\u001b[1;32m    748\u001b[0m \u001b[39mfor\u001b[39;00m k \u001b[39min\u001b[39;00m \u001b[39mrange\u001b[39m(U_shape[split_pos]):\n\u001b[0;32m--> 749\u001b[0m     res\u001b[39m=\u001b[39mnp_2_tdd(split_U[k],copy\u001b[39m.\u001b[39;49mcopy(order),\u001b[39mFalse\u001b[39;49;00m)\n\u001b[1;32m    750\u001b[0m     the_successors\u001b[39m.\u001b[39mappend(res)\n\u001b[1;32m    751\u001b[0m tdd \u001b[39m=\u001b[39m normalize(x,the_successors)\n",
      "File \u001b[0;32m~/downloads/TDD/TDD_new/Symbol_TDD/TDD/TDD.py:722\u001b[0m, in \u001b[0;36mnp_2_tdd\u001b[0;34m(U, order, key_width)\u001b[0m\n\u001b[1;32m    719\u001b[0m                 r2\u001b[39m=\u001b[39mU\u001b[39m.\u001b[39mimag             \n\u001b[1;32m    720\u001b[0m             U\u001b[39m=\u001b[39m\u001b[39mcomplex\u001b[39m(r1,r2)\n\u001b[0;32m--> 722\u001b[0m         res\u001b[39m.\u001b[39mweight\u001b[39m=\u001b[39mget_bdd(U)\n\u001b[1;32m    724\u001b[0m \u001b[39m#         print(res.weight.weight)\u001b[39;00m\n\u001b[1;32m    725\u001b[0m         \u001b[39mreturn\u001b[39;00m res\n",
      "File \u001b[0;32m~/downloads/TDD/TDD_new/Symbol_TDD/TDD/TrDD/BDD.py:434\u001b[0m, in \u001b[0;36mget_bdd\u001b[0;34m(f)\u001b[0m\n\u001b[1;32m    432\u001b[0m     \u001b[39mexcept\u001b[39;00m:\n\u001b[1;32m    433\u001b[0m         tdd\u001b[39m=\u001b[39mget_one_state()\n\u001b[0;32m--> 434\u001b[0m         tdd\u001b[39m.\u001b[39mweight\u001b[39m=\u001b[39m\u001b[39mcomplex\u001b[39;49m(f)\n\u001b[1;32m    435\u001b[0m         \u001b[39mreturn\u001b[39;00m tdd\n\u001b[1;32m    437\u001b[0m \u001b[39m#     print(f)\u001b[39;00m\n\u001b[1;32m    438\u001b[0m \u001b[39m#     print(f,f.args,len(f.args))\u001b[39;00m\n",
      "\u001b[0;31mTypeError\u001b[0m: complex() first argument must be a string or a number, not 'BDD'"
     ]
    }
   ],
   "source": [
    "tdd, output_dict=STDD_verify(simple, simple2)\n",
    "output_dict"
   ]
  },
  {
   "cell_type": "code",
   "execution_count": null,
   "metadata": {},
   "outputs": [
    {
     "data": {
      "image/png": "[encoded data removed]",
      "text/plain": [
       "<IPython.core.display.Image object>"
      ]
     },
     "execution_count": 15,
     "metadata": {},
     "output_type": "execute_result"
    }
   ],
   "source": [
    "tdd.show()"
   ]
  },
  {
   "cell_type": "code",
   "execution_count": null,
   "metadata": {},
   "outputs": [
    {
     "name": "stdout",
     "output_type": "stream",
     "text": [
      "start cont  0.0018384456634521484\n",
      "cont complete 1.2804241180419922\n",
      "start cont  0.0017192363739013672\n",
      "cont complete 0.6164236068725586\n",
      "{'check_time': 5.0067901611328125e-06, 'equivalence': 'equivalent'}\n"
     ]
    },
    {
     "data": {
      "text/plain": [
       "{'Benchmark Name': 'TwoLocal_3_3',\n",
       " 'Parameter num.': 12,\n",
       " 'Qubit num.': 3,\n",
       " 'Gate num._1': 57,\n",
       " 'Time_1': 1.2804241180419922,\n",
       " 'Node num. max_1': 64,\n",
       " 'Node num. final_1': 64,\n",
       " 'gu1_1': 1905,\n",
       " 'gu2_1': 6993,\n",
       " 'Gate num._2': 21,\n",
       " 'Time_2': 0.6164236068725586,\n",
       " 'Node num. max_2': 64,\n",
       " 'Node num. final_2': 64,\n",
       " 'gu1_2': 1992,\n",
       " 'gu2_2': 10133,\n",
       " 'Check_time': 5.0067901611328125e-06,\n",
       " 'Totol_time': 1.896852731704712,\n",
       " 'Equivalent': 'equivalent'}"
      ]
     },
     "execution_count": 16,
     "metadata": {},
     "output_type": "execute_result"
    }
   ],
   "source": [
    "experiment(qubit_num=3,reps=3,function='TwoLocal')"
   ]
  },
  {
   "cell_type": "code",
   "execution_count": null,
   "metadata": {},
   "outputs": [],
   "source": [
    "cir,cir2,data=circuit_generator(qubit_num=5,reps=4, function_name='EfficientSU2'\n",
    "                                ,basis_gates1=['rx', 'ry', 'rz','cz']\n",
    "                                ,basis_gates2=['rx','ry','rz','cx'])"
   ]
  },
  {
   "cell_type": "code",
   "execution_count": null,
   "metadata": {},
   "outputs": [
    {
     "data": {
      "text/html": [
       "<pre style=\"word-wrap: normal;white-space: pre;background: #fff0;line-height: 1.1;font-family: &quot;Courier New&quot;,Courier,monospace\">global phase: π/2\n",
       "     ┌──────────┐                       ┌─────────┐┌───────┐   ┌──────────┐»\n",
       "q_0: ┤ Rx(θ[0]) ├─────────────────────■─┤ Ry(π/2) ├┤ Rx(π) ├─■─┤ Rx(θ[5]) ├»\n",
       "     ├──────────┤                     │ └─────────┘└───────┘ │ ├─────────┬┘»\n",
       "q_1: ┤ Rx(θ[1]) ├─────────────────────┼──────────────────────■─┤ Ry(π/2) ├─»\n",
       "     ├──────────┤                     │                        └─────────┘ »\n",
       "q_2: ┤ Rx(θ[2]) ├─────────────────────┼────────────────────────────────────»\n",
       "     ├──────────┤                     │                                    »\n",
       "q_3: ┤ Rx(θ[3]) ├─────────────────────┼────────────────────────────────────»\n",
       "     ├──────────┤┌─────────┐┌───────┐ │ ┌─────────┐┌───────┐               »\n",
       "q_4: ┤ Rx(θ[4]) ├┤ Ry(π/2) ├┤ Rx(π) ├─■─┤ Ry(π/2) ├┤ Rx(π) ├───────────────»\n",
       "     └──────────┘└─────────┘└───────┘   └─────────┘└───────┘               »\n",
       "«                                                                             »\n",
       "«q_0: ────────────────────────────────────────────────────────────────────────»\n",
       "«     ┌───────┐   ┌──────────┐                                                »\n",
       "«q_1: ┤ Rx(π) ├─■─┤ Rx(θ[6]) ├────────────────────────────────────────────────»\n",
       "«     └───────┘ │ ├─────────┬┘┌───────┐   ┌──────────┐                        »\n",
       "«q_2: ──────────■─┤ Ry(π/2) ├─┤ Rx(π) ├─■─┤ Rx(θ[7]) ├────────────────────────»\n",
       "«                 └─────────┘ └───────┘ │ ├─────────┬┘┌───────┐   ┌──────────┐»\n",
       "«q_3: ──────────────────────────────────■─┤ Ry(π/2) ├─┤ Rx(π) ├─■─┤ Rx(θ[8]) ├»\n",
       "«                                         └─────────┘ └───────┘ │ ├─────────┬┘»\n",
       "«q_4: ──────────────────────────────────────────────────────────■─┤ Ry(π/2) ├─»\n",
       "«                                                                 └─────────┘ »\n",
       "«                                                 ┌─────────┐┌───────┐   »\n",
       "«q_0: ──────────────────────────────────────────■─┤ Ry(π/2) ├┤ Rx(π) ├─■─»\n",
       "«                                               │ └─────────┘└───────┘ │ »\n",
       "«q_1: ──────────────────────────────────────────┼──────────────────────■─»\n",
       "«                                               │                        »\n",
       "«q_2: ──────────────────────────────────────────┼────────────────────────»\n",
       "«                                               │                        »\n",
       "«q_3: ──────────────────────────────────────────┼────────────────────────»\n",
       "«     ┌───────┐┌──────────┐┌─────────┐┌───────┐ │ ┌─────────┐┌───────┐   »\n",
       "«q_4: ┤ Rx(π) ├┤ Rx(θ[9]) ├┤ Ry(π/2) ├┤ Rx(π) ├─■─┤ Ry(π/2) ├┤ Rx(π) ├───»\n",
       "«     └───────┘└──────────┘└─────────┘└───────┘   └─────────┘└───────┘   »\n",
       "«     ┌───────────┐                                                           »\n",
       "«q_0: ┤ Rx(θ[10]) ├───────────────────────────────────────────────────────────»\n",
       "«     └┬─────────┬┘┌───────┐   ┌───────────┐                                  »\n",
       "«q_1: ─┤ Ry(π/2) ├─┤ Rx(π) ├─■─┤ Rx(θ[11]) ├──────────────────────────────────»\n",
       "«      └─────────┘ └───────┘ │ └┬─────────┬┘┌───────┐   ┌───────────┐         »\n",
       "«q_2: ───────────────────────■──┤ Ry(π/2) ├─┤ Rx(π) ├─■─┤ Rx(θ[12]) ├─────────»\n",
       "«                               └─────────┘ └───────┘ │ └┬─────────┬┘┌───────┐»\n",
       "«q_3: ────────────────────────────────────────────────■──┤ Ry(π/2) ├─┤ Rx(π) ├»\n",
       "«                                                        └─────────┘ └───────┘»\n",
       "«q_4: ────────────────────────────────────────────────────────────────────────»\n",
       "«                                                                             »\n",
       "«                                                                  ┌─────────┐»\n",
       "«q_0: ───────────────────────────────────────────────────────────■─┤ Ry(π/2) ├»\n",
       "«                                                                │ └─────────┘»\n",
       "«q_1: ───────────────────────────────────────────────────────────┼────────────»\n",
       "«                                                                │            »\n",
       "«q_2: ───────────────────────────────────────────────────────────┼────────────»\n",
       "«        ┌───────────┐                                           │            »\n",
       "«q_3: ─■─┤ Rx(θ[13]) ├───────────────────────────────────────────┼────────────»\n",
       "«      │ └┬─────────┬┘┌───────┐┌───────────┐┌─────────┐┌───────┐ │ ┌─────────┐»\n",
       "«q_4: ─■──┤ Ry(π/2) ├─┤ Rx(π) ├┤ Rx(θ[14]) ├┤ Ry(π/2) ├┤ Rx(π) ├─■─┤ Ry(π/2) ├»\n",
       "«         └─────────┘ └───────┘└───────────┘└─────────┘└───────┘   └─────────┘»\n",
       "«     ┌───────┐   ┌───────────┐                                     »\n",
       "«q_0: ┤ Rx(π) ├─■─┤ Rx(θ[15]) ├─────────────────────────────────────»\n",
       "«     └───────┘ │ └┬─────────┬┘┌───────┐   ┌───────────┐            »\n",
       "«q_1: ──────────■──┤ Ry(π/2) ├─┤ Rx(π) ├─■─┤ Rx(θ[16]) ├────────────»\n",
       "«                  └─────────┘ └───────┘ │ └┬─────────┬┘┌───────┐   »\n",
       "«q_2: ───────────────────────────────────■──┤ Ry(π/2) ├─┤ Rx(π) ├─■─»\n",
       "«                                           └─────────┘ └───────┘ │ »\n",
       "«q_3: ────────────────────────────────────────────────────────────■─»\n",
       "«     ┌───────┐                                                     »\n",
       "«q_4: ┤ Rx(π) ├─────────────────────────────────────────────────────»\n",
       "«     └───────┘                                                     »\n",
       "«                                                                            »\n",
       "«q_0: ───────────────────────────────────────────────────────────────────────»\n",
       "«                                                                            »\n",
       "«q_1: ───────────────────────────────────────────────────────────────────────»\n",
       "«     ┌───────────┐                                                          »\n",
       "«q_2: ┤ Rx(θ[17]) ├──────────────────────────────────────────────────────────»\n",
       "«     └┬─────────┬┘┌───────┐   ┌───────────┐                                 »\n",
       "«q_3: ─┤ Ry(π/2) ├─┤ Rx(π) ├─■─┤ Rx(θ[18]) ├─────────────────────────────────»\n",
       "«      └─────────┘ └───────┘ │ └┬─────────┬┘┌───────┐┌───────────┐┌─────────┐»\n",
       "«q_4: ───────────────────────■──┤ Ry(π/2) ├─┤ Rx(π) ├┤ Rx(θ[19]) ├┤ Ry(π/2) ├»\n",
       "«                               └─────────┘ └───────┘└───────────┘└─────────┘»\n",
       "«                 ┌─────────┐┌───────┐   ┌───────────┐┌─────────┐┌───────┐»\n",
       "«q_0: ──────────■─┤ Ry(π/2) ├┤ Rx(π) ├─■─┤ Rx(θ[20]) ├┤ Ry(π/2) ├┤ Rx(π) ├»\n",
       "«               │ └─────────┘└───────┘ │ └┬─────────┬┘└┬───────┬┘└───────┘»\n",
       "«q_1: ──────────┼──────────────────────■──┤ Ry(π/2) ├──┤ Rx(π) ├─────■────»\n",
       "«               │                         └─────────┘  └───────┘     │    »\n",
       "«q_2: ──────────┼────────────────────────────────────────────────────■────»\n",
       "«               │                                                         »\n",
       "«q_3: ──────────┼─────────────────────────────────────────────────────────»\n",
       "«     ┌───────┐ │ ┌─────────┐┌───────┐                                    »\n",
       "«q_4: ┤ Rx(π) ├─■─┤ Ry(π/2) ├┤ Rx(π) ├────────────────────────────────────»\n",
       "«     └───────┘   └─────────┘└───────┘                                    »\n",
       "«                                                                       »\n",
       "«q_0: ──────────────────────────────────────────────────────────────────»\n",
       "«     ┌───────────┐┌─────────┐┌───────┐                                 »\n",
       "«q_1: ┤ Rx(θ[21]) ├┤ Ry(π/2) ├┤ Rx(π) ├─────────────────────────────────»\n",
       "«     └┬─────────┬┘└┬───────┬┘└───────┘┌───────────┐┌─────────┐┌───────┐»\n",
       "«q_2: ─┤ Ry(π/2) ├──┤ Rx(π) ├─────■────┤ Rx(θ[22]) ├┤ Ry(π/2) ├┤ Rx(π) ├»\n",
       "«      └─────────┘  └───────┘     │    └┬─────────┬┘└┬───────┬┘└───────┘»\n",
       "«q_3: ────────────────────────────■─────┤ Ry(π/2) ├──┤ Rx(π) ├─────■────»\n",
       "«                                       └─────────┘  └───────┘     │    »\n",
       "«q_4: ─────────────────────────────────────────────────────────────■────»\n",
       "«                                                                       »\n",
       "«                                                              \n",
       "«q_0: ─────────────────────────────────────────────────────────\n",
       "«                                                              \n",
       "«q_1: ─────────────────────────────────────────────────────────\n",
       "«                                                              \n",
       "«q_2: ─────────────────────────────────────────────────────────\n",
       "«     ┌───────────┐┌─────────┐  ┌───────┐                      \n",
       "«q_3: ┤ Rx(θ[23]) ├┤ Ry(π/2) ├──┤ Rx(π) ├──────────────────────\n",
       "«     └┬─────────┬┘└┬───────┬┘┌─┴───────┴─┐┌─────────┐┌───────┐\n",
       "«q_4: ─┤ Ry(π/2) ├──┤ Rx(π) ├─┤ Rx(θ[24]) ├┤ Ry(π/2) ├┤ Rx(π) ├\n",
       "«      └─────────┘  └───────┘ └───────────┘└─────────┘└───────┘</pre>"
      ],
      "text/plain": [
       "global phase: π/2\n",
       "     ┌──────────┐                       ┌─────────┐┌───────┐   ┌──────────┐»\n",
       "q_0: ┤ Rx(θ[0]) ├─────────────────────■─┤ Ry(π/2) ├┤ Rx(π) ├─■─┤ Rx(θ[5]) ├»\n",
       "     ├──────────┤                     │ └─────────┘└───────┘ │ ├─────────┬┘»\n",
       "q_1: ┤ Rx(θ[1]) ├─────────────────────┼──────────────────────■─┤ Ry(π/2) ├─»\n",
       "     ├──────────┤                     │                        └─────────┘ »\n",
       "q_2: ┤ Rx(θ[2]) ├─────────────────────┼────────────────────────────────────»\n",
       "     ├──────────┤                     │                                    »\n",
       "q_3: ┤ Rx(θ[3]) ├─────────────────────┼────────────────────────────────────»\n",
       "     ├──────────┤┌─────────┐┌───────┐ │ ┌─────────┐┌───────┐               »\n",
       "q_4: ┤ Rx(θ[4]) ├┤ Ry(π/2) ├┤ Rx(π) ├─■─┤ Ry(π/2) ├┤ Rx(π) ├───────────────»\n",
       "     └──────────┘└─────────┘└───────┘   └─────────┘└───────┘               »\n",
       "«                                                                             »\n",
       "«q_0: ────────────────────────────────────────────────────────────────────────»\n",
       "«     ┌───────┐   ┌──────────┐                                                »\n",
       "«q_1: ┤ Rx(π) ├─■─┤ Rx(θ[6]) ├────────────────────────────────────────────────»\n",
       "«     └───────┘ │ ├─────────┬┘┌───────┐   ┌──────────┐                        »\n",
       "«q_2: ──────────■─┤ Ry(π/2) ├─┤ Rx(π) ├─■─┤ Rx(θ[7]) ├────────────────────────»\n",
       "«                 └─────────┘ └───────┘ │ ├─────────┬┘┌───────┐   ┌──────────┐»\n",
       "«q_3: ──────────────────────────────────■─┤ Ry(π/2) ├─┤ Rx(π) ├─■─┤ Rx(θ[8]) ├»\n",
       "«                                         └─────────┘ └───────┘ │ ├─────────┬┘»\n",
       "«q_4: ──────────────────────────────────────────────────────────■─┤ Ry(π/2) ├─»\n",
       "«                                                                 └─────────┘ »\n",
       "«                                                 ┌─────────┐┌───────┐   »\n",
       "«q_0: ──────────────────────────────────────────■─┤ Ry(π/2) ├┤ Rx(π) ├─■─»\n",
       "«                                               │ └─────────┘└───────┘ │ »\n",
       "«q_1: ──────────────────────────────────────────┼──────────────────────■─»\n",
       "«                                               │                        »\n",
       "«q_2: ──────────────────────────────────────────┼────────────────────────»\n",
       "«                                               │                        »\n",
       "«q_3: ──────────────────────────────────────────┼────────────────────────»\n",
       "«     ┌───────┐┌──────────┐┌─────────┐┌───────┐ │ ┌─────────┐┌───────┐   »\n",
       "«q_4: ┤ Rx(π) ├┤ Rx(θ[9]) ├┤ Ry(π/2) ├┤ Rx(π) ├─■─┤ Ry(π/2) ├┤ Rx(π) ├───»\n",
       "«     └───────┘└──────────┘└─────────┘└───────┘   └─────────┘└───────┘   »\n",
       "«     ┌───────────┐                                                           »\n",
       "«q_0: ┤ Rx(θ[10]) ├───────────────────────────────────────────────────────────»\n",
       "«     └┬─────────┬┘┌───────┐   ┌───────────┐                                  »\n",
       "«q_1: ─┤ Ry(π/2) ├─┤ Rx(π) ├─■─┤ Rx(θ[11]) ├──────────────────────────────────»\n",
       "«      └─────────┘ └───────┘ │ └┬─────────┬┘┌───────┐   ┌───────────┐         »\n",
       "«q_2: ───────────────────────■──┤ Ry(π/2) ├─┤ Rx(π) ├─■─┤ Rx(θ[12]) ├─────────»\n",
       "«                               └─────────┘ └───────┘ │ └┬─────────┬┘┌───────┐»\n",
       "«q_3: ────────────────────────────────────────────────■──┤ Ry(π/2) ├─┤ Rx(π) ├»\n",
       "«                                                        └─────────┘ └───────┘»\n",
       "«q_4: ────────────────────────────────────────────────────────────────────────»\n",
       "«                                                                             »\n",
       "«                                                                  ┌─────────┐»\n",
       "«q_0: ───────────────────────────────────────────────────────────■─┤ Ry(π/2) ├»\n",
       "«                                                                │ └─────────┘»\n",
       "«q_1: ───────────────────────────────────────────────────────────┼────────────»\n",
       "«                                                                │            »\n",
       "«q_2: ───────────────────────────────────────────────────────────┼────────────»\n",
       "«        ┌───────────┐                                           │            »\n",
       "«q_3: ─■─┤ Rx(θ[13]) ├───────────────────────────────────────────┼────────────»\n",
       "«      │ └┬─────────┬┘┌───────┐┌───────────┐┌─────────┐┌───────┐ │ ┌─────────┐»\n",
       "«q_4: ─■──┤ Ry(π/2) ├─┤ Rx(π) ├┤ Rx(θ[14]) ├┤ Ry(π/2) ├┤ Rx(π) ├─■─┤ Ry(π/2) ├»\n",
       "«         └─────────┘ └───────┘└───────────┘└─────────┘└───────┘   └─────────┘»\n",
       "«     ┌───────┐   ┌───────────┐                                     »\n",
       "«q_0: ┤ Rx(π) ├─■─┤ Rx(θ[15]) ├─────────────────────────────────────»\n",
       "«     └───────┘ │ └┬─────────┬┘┌───────┐   ┌───────────┐            »\n",
       "«q_1: ──────────■──┤ Ry(π/2) ├─┤ Rx(π) ├─■─┤ Rx(θ[16]) ├────────────»\n",
       "«                  └─────────┘ └───────┘ │ └┬─────────┬┘┌───────┐   »\n",
       "«q_2: ───────────────────────────────────■──┤ Ry(π/2) ├─┤ Rx(π) ├─■─»\n",
       "«                                           └─────────┘ └───────┘ │ »\n",
       "«q_3: ────────────────────────────────────────────────────────────■─»\n",
       "«     ┌───────┐                                                     »\n",
       "«q_4: ┤ Rx(π) ├─────────────────────────────────────────────────────»\n",
       "«     └───────┘                                                     »\n",
       "«                                                                            »\n",
       "«q_0: ───────────────────────────────────────────────────────────────────────»\n",
       "«                                                                            »\n",
       "«q_1: ───────────────────────────────────────────────────────────────────────»\n",
       "«     ┌───────────┐                                                          »\n",
       "«q_2: ┤ Rx(θ[17]) ├──────────────────────────────────────────────────────────»\n",
       "«     └┬─────────┬┘┌───────┐   ┌───────────┐                                 »\n",
       "«q_3: ─┤ Ry(π/2) ├─┤ Rx(π) ├─■─┤ Rx(θ[18]) ├─────────────────────────────────»\n",
       "«      └─────────┘ └───────┘ │ └┬─────────┬┘┌───────┐┌───────────┐┌─────────┐»\n",
       "«q_4: ───────────────────────■──┤ Ry(π/2) ├─┤ Rx(π) ├┤ Rx(θ[19]) ├┤ Ry(π/2) ├»\n",
       "«                               └─────────┘ └───────┘└───────────┘└─────────┘»\n",
       "«                 ┌─────────┐┌───────┐   ┌───────────┐┌─────────┐┌───────┐»\n",
       "«q_0: ──────────■─┤ Ry(π/2) ├┤ Rx(π) ├─■─┤ Rx(θ[20]) ├┤ Ry(π/2) ├┤ Rx(π) ├»\n",
       "«               │ └─────────┘└───────┘ │ └┬─────────┬┘└┬───────┬┘└───────┘»\n",
       "«q_1: ──────────┼──────────────────────■──┤ Ry(π/2) ├──┤ Rx(π) ├─────■────»\n",
       "«               │                         └─────────┘  └───────┘     │    »\n",
       "«q_2: ──────────┼────────────────────────────────────────────────────■────»\n",
       "«               │                                                         »\n",
       "«q_3: ──────────┼─────────────────────────────────────────────────────────»\n",
       "«     ┌───────┐ │ ┌─────────┐┌───────┐                                    »\n",
       "«q_4: ┤ Rx(π) ├─■─┤ Ry(π/2) ├┤ Rx(π) ├────────────────────────────────────»\n",
       "«     └───────┘   └─────────┘└───────┘                                    »\n",
       "«                                                                       »\n",
       "«q_0: ──────────────────────────────────────────────────────────────────»\n",
       "«     ┌───────────┐┌─────────┐┌───────┐                                 »\n",
       "«q_1: ┤ Rx(θ[21]) ├┤ Ry(π/2) ├┤ Rx(π) ├─────────────────────────────────»\n",
       "«     └┬─────────┬┘└┬───────┬┘└───────┘┌───────────┐┌─────────┐┌───────┐»\n",
       "«q_2: ─┤ Ry(π/2) ├──┤ Rx(π) ├─────■────┤ Rx(θ[22]) ├┤ Ry(π/2) ├┤ Rx(π) ├»\n",
       "«      └─────────┘  └───────┘     │    └┬─────────┬┘└┬───────┬┘└───────┘»\n",
       "«q_3: ────────────────────────────■─────┤ Ry(π/2) ├──┤ Rx(π) ├─────■────»\n",
       "«                                       └─────────┘  └───────┘     │    »\n",
       "«q_4: ─────────────────────────────────────────────────────────────■────»\n",
       "«                                                                       »\n",
       "«                                                              \n",
       "«q_0: ─────────────────────────────────────────────────────────\n",
       "«                                                              \n",
       "«q_1: ─────────────────────────────────────────────────────────\n",
       "«                                                              \n",
       "«q_2: ─────────────────────────────────────────────────────────\n",
       "«     ┌───────────┐┌─────────┐  ┌───────┐                      \n",
       "«q_3: ┤ Rx(θ[23]) ├┤ Ry(π/2) ├──┤ Rx(π) ├──────────────────────\n",
       "«     └┬─────────┬┘└┬───────┬┘┌─┴───────┴─┐┌─────────┐┌───────┐\n",
       "«q_4: ─┤ Ry(π/2) ├──┤ Rx(π) ├─┤ Rx(θ[24]) ├┤ Ry(π/2) ├┤ Rx(π) ├\n",
       "«      └─────────┘  └───────┘ └───────────┘└─────────┘└───────┘"
      ]
     },
     "execution_count": 18,
     "metadata": {},
     "output_type": "execute_result"
    }
   ],
   "source": [
    "cir.draw()"
   ]
  },
  {
   "cell_type": "code",
   "execution_count": null,
   "metadata": {},
   "outputs": [
    {
     "data": {
      "text/html": [
       "<pre style=\"word-wrap: normal;white-space: pre;background: #fff0;line-height: 1.1;font-family: &quot;Courier New&quot;,Courier,monospace\">global phase: π/2\n",
       "     ┌──────────┐┌─────────┐┌───────┐┌───┐     ┌──────────┐┌─────────┐ »\n",
       "q_0: ┤ Rx(θ[0]) ├┤ Ry(π/2) ├┤ Rx(π) ├┤ X ├──■──┤ Rx(θ[5]) ├┤ Ry(π/2) ├─»\n",
       "     ├──────────┤├─────────┤├───────┤└─┬─┘┌─┴─┐└──────────┘├─────────┴┐»\n",
       "q_1: ┤ Rx(θ[1]) ├┤ Ry(π/2) ├┤ Rx(π) ├──┼──┤ X ├─────■──────┤ Rx(θ[6]) ├»\n",
       "     ├──────────┤├─────────┤├───────┤  │  └───┘   ┌─┴─┐    └──────────┘»\n",
       "q_2: ┤ Rx(θ[2]) ├┤ Ry(π/2) ├┤ Rx(π) ├──┼──────────┤ X ├─────────■──────»\n",
       "     ├──────────┤├─────────┤├───────┤  │          └───┘       ┌─┴─┐    »\n",
       "q_3: ┤ Rx(θ[3]) ├┤ Ry(π/2) ├┤ Rx(π) ├──┼──────────────────────┤ X ├────»\n",
       "     ├──────────┤├─────────┤├───────┤  │                      └───┘    »\n",
       "q_4: ┤ Rx(θ[4]) ├┤ Ry(π/2) ├┤ Rx(π) ├──■───────────────────────────────»\n",
       "     └──────────┘└─────────┘└───────┘                                  »\n",
       "«      ┌───────┐                                  ┌───┐     ┌───────────┐»\n",
       "«q_0: ─┤ Rx(π) ├──────────────────────────────────┤ X ├──■──┤ Rx(θ[10]) ├»\n",
       "«     ┌┴───────┴┐  ┌───────┐                      └─┬─┘┌─┴─┐└───────────┘»\n",
       "«q_1: ┤ Ry(π/2) ├──┤ Rx(π) ├────────────────────────┼──┤ X ├──────■──────»\n",
       "«     ├─────────┴┐┌┴───────┴┐  ┌───────┐            │  └───┘    ┌─┴─┐    »\n",
       "«q_2: ┤ Rx(θ[7]) ├┤ Ry(π/2) ├──┤ Rx(π) ├────────────┼───────────┤ X ├────»\n",
       "«     └──────────┘├─────────┴┐┌┴───────┴┐┌───────┐  │           └───┘    »\n",
       "«q_3: ─────■──────┤ Rx(θ[8]) ├┤ Ry(π/2) ├┤ Rx(π) ├──┼────────────────────»\n",
       "«        ┌─┴─┐    ├──────────┤├─────────┤├───────┤  │                    »\n",
       "«q_4: ───┤ X ├────┤ Rx(θ[9]) ├┤ Ry(π/2) ├┤ Rx(π) ├──■────────────────────»\n",
       "«        └───┘    └──────────┘└─────────┘└───────┘                       »\n",
       "«      ┌─────────┐   ┌───────┐                                   ┌───┐     »\n",
       "«q_0: ─┤ Ry(π/2) ├───┤ Rx(π) ├───────────────────────────────────┤ X ├──■──»\n",
       "«     ┌┴─────────┴┐ ┌┴───────┴┐   ┌───────┐                      └─┬─┘┌─┴─┐»\n",
       "«q_1: ┤ Rx(θ[11]) ├─┤ Ry(π/2) ├───┤ Rx(π) ├────────────────────────┼──┤ X ├»\n",
       "«     └───────────┘┌┴─────────┴┐ ┌┴───────┴┐  ┌───────┐            │  └───┘»\n",
       "«q_2: ──────■──────┤ Rx(θ[12]) ├─┤ Ry(π/2) ├──┤ Rx(π) ├────────────┼───────»\n",
       "«         ┌─┴─┐    └───────────┘┌┴─────────┴┐┌┴───────┴┐┌───────┐  │       »\n",
       "«q_3: ────┤ X ├──────────■──────┤ Rx(θ[13]) ├┤ Ry(π/2) ├┤ Rx(π) ├──┼───────»\n",
       "«         └───┘        ┌─┴─┐    ├───────────┤├─────────┤├───────┤  │       »\n",
       "«q_4: ─────────────────┤ X ├────┤ Rx(θ[14]) ├┤ Ry(π/2) ├┤ Rx(π) ├──■───────»\n",
       "«                      └───┘    └───────────┘└─────────┘└───────┘          »\n",
       "«     ┌───────────┐ ┌─────────┐   ┌───────┐                                   »\n",
       "«q_0: ┤ Rx(θ[15]) ├─┤ Ry(π/2) ├───┤ Rx(π) ├───────────────────────────────────»\n",
       "«     └───────────┘┌┴─────────┴┐ ┌┴───────┴┐   ┌───────┐                      »\n",
       "«q_1: ──────■──────┤ Rx(θ[16]) ├─┤ Ry(π/2) ├───┤ Rx(π) ├──────────────────────»\n",
       "«         ┌─┴─┐    └───────────┘┌┴─────────┴┐ ┌┴───────┴┐  ┌───────┐          »\n",
       "«q_2: ────┤ X ├──────────■──────┤ Rx(θ[17]) ├─┤ Ry(π/2) ├──┤ Rx(π) ├──────────»\n",
       "«         └───┘        ┌─┴─┐    └───────────┘┌┴─────────┴┐┌┴───────┴┐┌───────┐»\n",
       "«q_3: ─────────────────┤ X ├──────────■──────┤ Rx(θ[18]) ├┤ Ry(π/2) ├┤ Rx(π) ├»\n",
       "«                      └───┘        ┌─┴─┐    ├───────────┤├─────────┤├───────┤»\n",
       "«q_4: ──────────────────────────────┤ X ├────┤ Rx(θ[19]) ├┤ Ry(π/2) ├┤ Rx(π) ├»\n",
       "«                                   └───┘    └───────────┘└─────────┘└───────┘»\n",
       "«     ┌───┐     ┌───────────┐ ┌─────────┐   ┌───────┐                          »\n",
       "«q_0: ┤ X ├──■──┤ Rx(θ[20]) ├─┤ Ry(π/2) ├───┤ Rx(π) ├──────────────────────────»\n",
       "«     └─┬─┘┌─┴─┐└───────────┘┌┴─────────┴┐ ┌┴───────┴┐   ┌───────┐             »\n",
       "«q_1: ──┼──┤ X ├──────■──────┤ Rx(θ[21]) ├─┤ Ry(π/2) ├───┤ Rx(π) ├─────────────»\n",
       "«       │  └───┘    ┌─┴─┐    └───────────┘┌┴─────────┴┐ ┌┴───────┴┐  ┌───────┐ »\n",
       "«q_2: ──┼───────────┤ X ├──────────■──────┤ Rx(θ[22]) ├─┤ Ry(π/2) ├──┤ Rx(π) ├─»\n",
       "«       │           └───┘        ┌─┴─┐    └───────────┘┌┴─────────┴┐┌┴───────┴┐»\n",
       "«q_3: ──┼────────────────────────┤ X ├──────────■──────┤ Rx(θ[23]) ├┤ Ry(π/2) ├»\n",
       "«       │                        └───┘        ┌─┴─┐    ├───────────┤├─────────┤»\n",
       "«q_4: ──■─────────────────────────────────────┤ X ├────┤ Rx(θ[24]) ├┤ Ry(π/2) ├»\n",
       "«                                             └───┘    └───────────┘└─────────┘»\n",
       "«              \n",
       "«q_0: ─────────\n",
       "«              \n",
       "«q_1: ─────────\n",
       "«              \n",
       "«q_2: ─────────\n",
       "«     ┌───────┐\n",
       "«q_3: ┤ Rx(π) ├\n",
       "«     ├───────┤\n",
       "«q_4: ┤ Rx(π) ├\n",
       "«     └───────┘</pre>"
      ],
      "text/plain": [
       "global phase: π/2\n",
       "     ┌──────────┐┌─────────┐┌───────┐┌───┐     ┌──────────┐┌─────────┐ »\n",
       "q_0: ┤ Rx(θ[0]) ├┤ Ry(π/2) ├┤ Rx(π) ├┤ X ├──■──┤ Rx(θ[5]) ├┤ Ry(π/2) ├─»\n",
       "     ├──────────┤├─────────┤├───────┤└─┬─┘┌─┴─┐└──────────┘├─────────┴┐»\n",
       "q_1: ┤ Rx(θ[1]) ├┤ Ry(π/2) ├┤ Rx(π) ├──┼──┤ X ├─────■──────┤ Rx(θ[6]) ├»\n",
       "     ├──────────┤├─────────┤├───────┤  │  └───┘   ┌─┴─┐    └──────────┘»\n",
       "q_2: ┤ Rx(θ[2]) ├┤ Ry(π/2) ├┤ Rx(π) ├──┼──────────┤ X ├─────────■──────»\n",
       "     ├──────────┤├─────────┤├───────┤  │          └───┘       ┌─┴─┐    »\n",
       "q_3: ┤ Rx(θ[3]) ├┤ Ry(π/2) ├┤ Rx(π) ├──┼──────────────────────┤ X ├────»\n",
       "     ├──────────┤├─────────┤├───────┤  │                      └───┘    »\n",
       "q_4: ┤ Rx(θ[4]) ├┤ Ry(π/2) ├┤ Rx(π) ├──■───────────────────────────────»\n",
       "     └──────────┘└─────────┘└───────┘                                  »\n",
       "«      ┌───────┐                                  ┌───┐     ┌───────────┐»\n",
       "«q_0: ─┤ Rx(π) ├──────────────────────────────────┤ X ├──■──┤ Rx(θ[10]) ├»\n",
       "«     ┌┴───────┴┐  ┌───────┐                      └─┬─┘┌─┴─┐└───────────┘»\n",
       "«q_1: ┤ Ry(π/2) ├──┤ Rx(π) ├────────────────────────┼──┤ X ├──────■──────»\n",
       "«     ├─────────┴┐┌┴───────┴┐  ┌───────┐            │  └───┘    ┌─┴─┐    »\n",
       "«q_2: ┤ Rx(θ[7]) ├┤ Ry(π/2) ├──┤ Rx(π) ├────────────┼───────────┤ X ├────»\n",
       "«     └──────────┘├─────────┴┐┌┴───────┴┐┌───────┐  │           └───┘    »\n",
       "«q_3: ─────■──────┤ Rx(θ[8]) ├┤ Ry(π/2) ├┤ Rx(π) ├──┼────────────────────»\n",
       "«        ┌─┴─┐    ├──────────┤├─────────┤├───────┤  │                    »\n",
       "«q_4: ───┤ X ├────┤ Rx(θ[9]) ├┤ Ry(π/2) ├┤ Rx(π) ├──■────────────────────»\n",
       "«        └───┘    └──────────┘└─────────┘└───────┘                       »\n",
       "«      ┌─────────┐   ┌───────┐                                   ┌───┐     »\n",
       "«q_0: ─┤ Ry(π/2) ├───┤ Rx(π) ├───────────────────────────────────┤ X ├──■──»\n",
       "«     ┌┴─────────┴┐ ┌┴───────┴┐   ┌───────┐                      └─┬─┘┌─┴─┐»\n",
       "«q_1: ┤ Rx(θ[11]) ├─┤ Ry(π/2) ├───┤ Rx(π) ├────────────────────────┼──┤ X ├»\n",
       "«     └───────────┘┌┴─────────┴┐ ┌┴───────┴┐  ┌───────┐            │  └───┘»\n",
       "«q_2: ──────■──────┤ Rx(θ[12]) ├─┤ Ry(π/2) ├──┤ Rx(π) ├────────────┼───────»\n",
       "«         ┌─┴─┐    └───────────┘┌┴─────────┴┐┌┴───────┴┐┌───────┐  │       »\n",
       "«q_3: ────┤ X ├──────────■──────┤ Rx(θ[13]) ├┤ Ry(π/2) ├┤ Rx(π) ├──┼───────»\n",
       "«         └───┘        ┌─┴─┐    ├───────────┤├─────────┤├───────┤  │       »\n",
       "«q_4: ─────────────────┤ X ├────┤ Rx(θ[14]) ├┤ Ry(π/2) ├┤ Rx(π) ├──■───────»\n",
       "«                      └───┘    └───────────┘└─────────┘└───────┘          »\n",
       "«     ┌───────────┐ ┌─────────┐   ┌───────┐                                   »\n",
       "«q_0: ┤ Rx(θ[15]) ├─┤ Ry(π/2) ├───┤ Rx(π) ├───────────────────────────────────»\n",
       "«     └───────────┘┌┴─────────┴┐ ┌┴───────┴┐   ┌───────┐                      »\n",
       "«q_1: ──────■──────┤ Rx(θ[16]) ├─┤ Ry(π/2) ├───┤ Rx(π) ├──────────────────────»\n",
       "«         ┌─┴─┐    └───────────┘┌┴─────────┴┐ ┌┴───────┴┐  ┌───────┐          »\n",
       "«q_2: ────┤ X ├──────────■──────┤ Rx(θ[17]) ├─┤ Ry(π/2) ├──┤ Rx(π) ├──────────»\n",
       "«         └───┘        ┌─┴─┐    └───────────┘┌┴─────────┴┐┌┴───────┴┐┌───────┐»\n",
       "«q_3: ─────────────────┤ X ├──────────■──────┤ Rx(θ[18]) ├┤ Ry(π/2) ├┤ Rx(π) ├»\n",
       "«                      └───┘        ┌─┴─┐    ├───────────┤├─────────┤├───────┤»\n",
       "«q_4: ──────────────────────────────┤ X ├────┤ Rx(θ[19]) ├┤ Ry(π/2) ├┤ Rx(π) ├»\n",
       "«                                   └───┘    └───────────┘└─────────┘└───────┘»\n",
       "«     ┌───┐     ┌───────────┐ ┌─────────┐   ┌───────┐                          »\n",
       "«q_0: ┤ X ├──■──┤ Rx(θ[20]) ├─┤ Ry(π/2) ├───┤ Rx(π) ├──────────────────────────»\n",
       "«     └─┬─┘┌─┴─┐└───────────┘┌┴─────────┴┐ ┌┴───────┴┐   ┌───────┐             »\n",
       "«q_1: ──┼──┤ X ├──────■──────┤ Rx(θ[21]) ├─┤ Ry(π/2) ├───┤ Rx(π) ├─────────────»\n",
       "«       │  └───┘    ┌─┴─┐    └───────────┘┌┴─────────┴┐ ┌┴───────┴┐  ┌───────┐ »\n",
       "«q_2: ──┼───────────┤ X ├──────────■──────┤ Rx(θ[22]) ├─┤ Ry(π/2) ├──┤ Rx(π) ├─»\n",
       "«       │           └───┘        ┌─┴─┐    └───────────┘┌┴─────────┴┐┌┴───────┴┐»\n",
       "«q_3: ──┼────────────────────────┤ X ├──────────■──────┤ Rx(θ[23]) ├┤ Ry(π/2) ├»\n",
       "«       │                        └───┘        ┌─┴─┐    ├───────────┤├─────────┤»\n",
       "«q_4: ──■─────────────────────────────────────┤ X ├────┤ Rx(θ[24]) ├┤ Ry(π/2) ├»\n",
       "«                                             └───┘    └───────────┘└─────────┘»\n",
       "«              \n",
       "«q_0: ─────────\n",
       "«              \n",
       "«q_1: ─────────\n",
       "«              \n",
       "«q_2: ─────────\n",
       "«     ┌───────┐\n",
       "«q_3: ┤ Rx(π) ├\n",
       "«     ├───────┤\n",
       "«q_4: ┤ Rx(π) ├\n",
       "«     └───────┘"
      ]
     },
     "execution_count": 19,
     "metadata": {},
     "output_type": "execute_result"
    }
   ],
   "source": [
    "cir2.draw()"
   ]
  },
  {
   "cell_type": "code",
   "execution_count": null,
   "metadata": {},
   "outputs": [
    {
     "name": "stdout",
     "output_type": "stream",
     "text": [
      "start cont  0.029517412185668945\n",
      "cont complete 3.26554799079895\n"
     ]
    },
    {
     "data": {
      "text/plain": [
       "{'Benchmark Name': None,\n",
       " 'Parameter num': 25,\n",
       " 'Qubit num.': 5,\n",
       " 'Gate num.': 111,\n",
       " 'Time': 3.26554799079895,\n",
       " 'Node num. max': 297,\n",
       " 'Node num. final': 16,\n",
       " 'gu1': 8629,\n",
       " 'gu2': 7263}"
      ]
     },
     "execution_count": 20,
     "metadata": {},
     "output_type": "execute_result"
    }
   ],
   "source": [
    "tdd, output_dict=STDD_verify(cir, cir2)\n",
    "output_dict"
   ]
  },
  {
   "cell_type": "code",
   "execution_count": null,
   "metadata": {},
   "outputs": [
    {
     "name": "stdout",
     "output_type": "stream",
     "text": [
      "start cont  0.04848647117614746\n",
      "cont complete 0.0040662288665771484\n"
     ]
    },
    {
     "data": {
      "text/plain": [
       "{'Benchmark Name': None,\n",
       " 'Parameter num': 1,\n",
       " 'Qubit num.': 1,\n",
       " 'Gate num.': 1,\n",
       " 'Time': 0.0040662288665771484,\n",
       " 'Node num. max': 4,\n",
       " 'Node num. final': 4,\n",
       " 'gu1': 16,\n",
       " 'gu2': 6}"
      ]
     },
     "execution_count": 21,
     "metadata": {},
     "output_type": "execute_result"
    }
   ],
   "source": [
    "tdd, output_dict=STDD_verify(simple, simple2)\n",
    "output_dict"
   ]
  },
  {
   "cell_type": "code",
   "execution_count": null,
   "metadata": {},
   "outputs": [],
   "source": [
    "a=tdd.show()"
   ]
  },
  {
   "cell_type": "code",
   "execution_count": null,
   "metadata": {},
   "outputs": [
    {
     "data": {
      "text/plain": [
       "{\n",
       "  \"check_time\": 0.001948522,\n",
       "  \"equivalence\": \"equivalent\",\n",
       "  \"parameterized\": {\n",
       "    \"performed_instantiations\": 0\n",
       "  },\n",
       "  \"preprocessing_time\": 0.000408305\n",
       "}"
      ]
     },
     "execution_count": 23,
     "metadata": {},
     "output_type": "execute_result"
    }
   ],
   "source": [
    "from mqt import qcec\n",
    "\n",
    "qcec.verify(cir, cir2)"
   ]
  },
  {
   "cell_type": "code",
   "execution_count": null,
   "metadata": {},
   "outputs": [
    {
     "data": {
      "text/plain": [
       "{\n",
       "  \"check_time\": 0.012276538,\n",
       "  \"equivalence\": \"not_equivalent\",\n",
       "  \"parameterized\": {\n",
       "    \"performed_instantiations\": 2\n",
       "  },\n",
       "  \"preprocessing_time\": 0.001336714,\n",
       "  \"simulations\": {\n",
       "    \"performed\": 1,\n",
       "    \"started\": 4\n",
       "  }\n",
       "}"
      ]
     },
     "execution_count": 24,
     "metadata": {},
     "output_type": "execute_result"
    }
   ],
   "source": [
    "qcec.verify(simple, simple2\n",
    "            # , additional_instantiations=10\n",
    "            )"
   ]
  },
  {
   "cell_type": "code",
   "execution_count": null,
   "metadata": {},
   "outputs": [],
   "source": [
    "# tdd.show()"
   ]
  },
  {
   "attachments": {},
   "cell_type": "markdown",
   "metadata": {},
   "source": [
    "# Compare"
   ]
  },
  {
   "cell_type": "code",
   "execution_count": null,
   "metadata": {},
   "outputs": [
    {
     "data": {
      "image/png": "[encoded data removed]",
      "text/plain": [
       "<Figure size 603.508x117.056 with 1 Axes>"
      ]
     },
     "execution_count": 26,
     "metadata": {},
     "output_type": "execute_result"
    }
   ],
   "source": [
    "s0=Parameter('s%i'%0)\n",
    "s1=Parameter('s%i'%1)\n",
    "test=QuantumCircuit(1)\n",
    "test.rx(np.pi/3,0)\n",
    "test.rz(s0,0)\n",
    "test.rz(np.pi/2,0)\n",
    "test.rx(np.pi/3,0)\n",
    "test.rz(s1,0)\n",
    "test.rz(-np.pi/2,0)\n",
    "\n",
    "test.draw('mpl')"
   ]
  },
  {
   "cell_type": "code",
   "execution_count": null,
   "metadata": {},
   "outputs": [
    {
     "data": {
      "image/png": "[encoded data removed]",
      "text/plain": [
       "<Figure size 436.286x117.056 with 1 Axes>"
      ]
     },
     "execution_count": 27,
     "metadata": {},
     "output_type": "execute_result"
    }
   ],
   "source": [
    "test2=QuantumCircuit(1)\n",
    "test2.rx(np.pi/3,0)\n",
    "test2.rz(s0,0)\n",
    "test2.ry(np.pi/3,0)\n",
    "test2.rz(s1,0)\n",
    "\n",
    "test2.draw('mpl')"
   ]
  },
  {
   "cell_type": "code",
   "execution_count": null,
   "metadata": {},
   "outputs": [
    {
     "name": "stdout",
     "output_type": "stream",
     "text": [
      "start cont  0.0006866455078125\n",
      "cont complete 0.008696317672729492\n"
     ]
    },
    {
     "data": {
      "text/plain": [
       "{'Benchmark Name': None,\n",
       " 'Parameter num': 2,\n",
       " 'Qubit num.': 1,\n",
       " 'Gate num.': 6,\n",
       " 'Time': 0.008696317672729492,\n",
       " 'Node num. max': 4,\n",
       " 'Node num. final': 4,\n",
       " 'gu1': 25,\n",
       " 'gu2': 17}"
      ]
     },
     "execution_count": 28,
     "metadata": {},
     "output_type": "execute_result"
    }
   ],
   "source": [
    "tdd, output_dict=STDD_verify(test, test2)\n",
    "output_dict"
   ]
  },
  {
   "cell_type": "code",
   "execution_count": null,
   "metadata": {},
   "outputs": [
    {
     "data": {
      "image/png": "[encoded data removed]",
      "text/plain": [
       "<IPython.core.display.Image object>"
      ]
     },
     "execution_count": 29,
     "metadata": {},
     "output_type": "execute_result"
    }
   ],
   "source": [
    "tdd.show()"
   ]
  },
  {
   "cell_type": "code",
   "execution_count": null,
   "metadata": {},
   "outputs": [
    {
     "data": {
      "text/plain": [
       "{\n",
       "  \"check_time\": 0.004292149,\n",
       "  \"equivalence\": \"not_equivalent\",\n",
       "  \"parameterized\": {\n",
       "    \"performed_instantiations\": 1\n",
       "  },\n",
       "  \"preprocessing_time\": 0.000766208,\n",
       "  \"simulations\": {\n",
       "    \"performed\": 0,\n",
       "    \"started\": 2\n",
       "  }\n",
       "}"
      ]
     },
     "execution_count": 30,
     "metadata": {},
     "output_type": "execute_result"
    }
   ],
   "source": [
    "qcec.verify(test, test2)"
   ]
  },
  {
   "cell_type": "code",
   "execution_count": null,
   "metadata": {},
   "outputs": [
    {
     "name": "stdout",
     "output_type": "stream",
     "text": [
      "solution x*y*(3.0 + 4.0*I) + 2.0*I*x\n"
     ]
    }
   ],
   "source": [
    "import sympy\n",
    "\n",
    "x = sympy.Symbol('x')\n",
    "y = sympy.Symbol('y')\n",
    "epi=1e-10\n",
    "expr = (1e-15 + 2j)*x + (3 + 4j)*x*y\n",
    "\n",
    "new_expr=0\n",
    "for term in expr.args:\n",
    "    # print(term)\n",
    "    free_symbols=term.free_symbols\n",
    "    for i in range(len(free_symbols)):\n",
    "        if i==0:\n",
    "            coeff = term.coeff(free_symbols.pop())\n",
    "        else:\n",
    "            coeff = coeff.coeff(free_symbols.pop())\n",
    "    if abs(coeff)-abs(coeff.as_real_imag()[0]) < epi:\n",
    "        coeff=coeff.as_real_imag()[0]\n",
    "    elif abs(coeff)-abs(coeff.as_real_imag()[1]) < epi:\n",
    "        coeff=coeff.as_real_imag()[1] * sympy.I\n",
    "    symbols = term.free_symbols\n",
    "    terms=1 \n",
    "    for symbol in symbols:\n",
    "        terms*=symbol\n",
    "    # print('term',coeff*terms)\n",
    "    new_expr+=coeff*terms\n",
    "print('solution',new_expr)\n"
   ]
  },
  {
   "cell_type": "code",
   "execution_count": null,
   "metadata": {},
   "outputs": [],
   "source": [
    "\n",
    "class Tensor:\n",
    "    def __init__(self,data=[],index=[],name=None,qubits=None):\n",
    "        self.data=data\n",
    "        self.index_set=index\n",
    "        self.name=name\n",
    "        self.qubits=qubits #This is used only when it represent a quantum gate \n",
    "        self._tdd=None\n",
    "    @property\n",
    "    def tdd(self):\n",
    "        return self._tdd\n",
    "    @tdd.setter\n",
    "    def tdd(self):\n",
    "        from TDD.TDD import get_tdd\n",
    "        return get_tdd(self.data,self.index_set)  "
   ]
  },
  {
   "cell_type": "code",
   "execution_count": null,
   "metadata": {},
   "outputs": [],
   "source": [
    "# function_list=['RealAmplitudes','EfficientSU2']\n",
    "# experiment_setup=[(5,3)]\n",
    "    \n",
    "# for qubit_num,reps in experiment_setup:\n",
    "#     for function in function_list:\n",
    "#             experiment(qubit_num=qubit_num, reps=reps, function=function, optimizer=None, file_name='STDD benchmark.csv')\n",
    "        "
   ]
  },
  {
   "cell_type": "code",
   "execution_count": null,
   "metadata": {},
   "outputs": [],
   "source": [
    "\n",
    "# with open('STDD cir_partition2 benchmark.csv', 'w', newline='') as csvfile:\n",
    "#     fieldnames=['Benchmark Name','Parameter num.','Qubit num.'\n",
    "# ,'Gate num._1','Time_1','Node num. max_1','Node num. final_1','gu1_1','gu2_1'\n",
    "# ,'Gate num._2','Time_2','Node num. max_2','Node num. final_2','gu1_2','gu2_2'\n",
    "# ,'Check_time','Totol_time','Equivalent']\n",
    "#     writer = csv.DictWriter(csvfile, fieldnames=fieldnames)\n",
    "#     writer.writeheader()\n"
   ]
  }
 ],
 "metadata": {
  "kernelspec": {
   "display_name": "qcec",
   "language": "python",
   "name": "python3"
  },
  "language_info": {
   "codemirror_mode": {
    "name": "ipython",
    "version": 3
   },
   "file_extension": ".py",
   "mimetype": "text/x-python",
   "name": "python",
   "nbconvert_exporter": "python",
   "pygments_lexer": "ipython3",
   "version": "3.9.0"
  },
  "orig_nbformat": 4,
  "vscode": {
   "interpreter": {
    "hash": "0b9ef09a9a3250f999e7cf7647bb92657449fd8a8bc05aa98b9630ea0804629e"
   }
  }
 },
 "nbformat": 4,
 "nbformat_minor": 2
}
