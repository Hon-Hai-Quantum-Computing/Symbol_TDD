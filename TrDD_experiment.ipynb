{
 "cells": [
  {
   "cell_type": "code",
   "execution_count": 1,
   "metadata": {},
   "outputs": [],
   "source": [
    "import time,csv\n",
    "import numpy as np\n",
    "from TDD.TDD import global_norm"
   ]
  },
  {
   "cell_type": "code",
   "execution_count": 2,
   "metadata": {},
   "outputs": [],
   "source": [
    "from TDD.TDD import Ini_TDD\n",
    "from TDD.TDD_Q import cir_2_tn,get_real_qubit_num\n",
    "\n",
    "def STDD_simulation(cir, Benchmark_Name=None, unique_table_reset=True, add_inputs_list=None, optimizer=None):\n",
    "    n=get_real_qubit_num(cir)\n",
    "    tn,indices=cir_2_tn(cir)\n",
    "    Parameter_num=len(cir.parameters)\n",
    "    #add y indices\n",
    "    indices2=[]\n",
    "    for i, item in enumerate(indices):\n",
    "        indices2.append(item)\n",
    "        if item[0]=='y':\n",
    "            num=int(item.replace('y',''))\n",
    "            # indices2.append('z%i'%num)\n",
    "    t_start=time.time()\n",
    "    #add sin cos indices\n",
    "\n",
    "    '''\n",
    "    TrDD process start\n",
    "    '''\n",
    "    sin_str=set()\n",
    "    cos_str=set()\n",
    "    for tensor in tn.tensors:\n",
    "        for element in tensor.data.flatten(): \n",
    "            from sympy.core.expr import Expr \n",
    "            if isinstance(element,Expr):\n",
    "                for symbol in element.free_symbols:\n",
    "                    if '[' in str(element.free_symbols):\n",
    "                        if '[' in str(symbol):\n",
    "                            sin_str.add('sin('+str(symbol)+')')\n",
    "                            cos_str.add('cos('+str(symbol)+')')\n",
    "                    else:\n",
    "                        sin_str.add('sin('+str(symbol)+')')\n",
    "                        cos_str.add('cos('+str(symbol)+')')\n",
    "    def get_numbers(s):\n",
    "        import re\n",
    "        # 使用正則表達式找到所有匹配\"\\d+\"的子串，即連續的一個或多個數字\n",
    "        numbers = re.findall(\"\\d+\", s)\n",
    "        return int(numbers[0])\n",
    "\n",
    "    sin_str=list(sin_str)\n",
    "    sin_str.sort(key=get_numbers)\n",
    "    cos_str=list(cos_str)\n",
    "    cos_str.sort(key=get_numbers)\n",
    "    sym_str=[]\n",
    "    for i in range(len(sin_str)):\n",
    "        sym_str.append(sin_str[i])\n",
    "        sym_str.append(cos_str[i])\n",
    "    # TDD process\n",
    "    Ini_TDD(indices2,sym_str,type='TrDD',unique_table_reset=unique_table_reset)\n",
    "\n",
    "    '''\n",
    "    TrDD process end\n",
    "    '''\n",
    "\n",
    "    '''\n",
    "    EXP process start \n",
    "    '''\n",
    "    # from sympy import Symbol\n",
    "    # parameters_dict=dict((Symbol(v.name.replace(\"[\",\"\").replace(\"]\",\"\")),k) for k, v in dict(enumerate(cir.parameters)).items())\n",
    "    # Ini_TDD(indices2,type='Exp',var=parameters_dict,unique_table_reset=unique_table_reset)\n",
    "    '''\n",
    "    EXP process end \n",
    "    '''\n",
    "\n",
    "    if add_inputs_list:\n",
    "        from TDD.TDD_Q import add_inputs\n",
    "        # add_inputs(tn,[0]*n,n)\n",
    "        add_inputs(tn,add_inputs_list)\n",
    "\n",
    "    start_cont=time.time()-t_start\n",
    "    print('start cont ',start_cont)\n",
    "    tdd, Max_node_num=tn.cont(optimizer=optimizer,max_node=True)\n",
    "    cont_time=time.time()-start_cont-t_start\n",
    "    print('cont complete',cont_time)\n",
    "\n",
    "    from TDD.TDD import get_unique_table_num as gu1\n",
    "    from TDD.TrDD.BDD import get_unique_table_num as gu2\n",
    "    output_dict={'Benchmark Name':Benchmark_Name,\n",
    "            'Parameter num': Parameter_num,\n",
    "            'Qubit num.':tn.qubits_num,\n",
    "            'Gate num.':len(cir.data),\n",
    "            'Time':cont_time,\n",
    "            'Node num. max':Max_node_num,\n",
    "            'Node num. final':tdd.node_number(),\n",
    "            'gu1':gu1(),\n",
    "            'gu2':gu2()\n",
    "    }\n",
    "    return tdd, output_dict"
   ]
  },
  {
   "cell_type": "code",
   "execution_count": 3,
   "metadata": {},
   "outputs": [],
   "source": [
    "def STDD_verify(cir, cir2, Benchmark_Name=None, unique_table_reset=True, add_inputs_list=None, optimizer=None):\n",
    "    n=get_real_qubit_num(cir)\n",
    "    tn, indices = cir_2_tn(cir.compose(cir2.inverse()))\n",
    "    Parameter_num=len(cir.parameters)\n",
    "    t_start=time.time()\n",
    "\n",
    "    '''\n",
    "    TrDD process start\n",
    "    '''\n",
    "    #add sin cos indices\n",
    "    sin_str=set()\n",
    "    cos_str=set()\n",
    "    for tensor in tn.tensors:\n",
    "        for element in tensor.data.flatten(): \n",
    "            from sympy.core.expr import Expr \n",
    "            if isinstance(element,Expr):\n",
    "                for symbol in element.free_symbols:\n",
    "                    if '[' in str(element.free_symbols):\n",
    "                        if '[' in str(symbol):\n",
    "                            sin_str.add('sin('+str(symbol)+')')\n",
    "                            cos_str.add('cos('+str(symbol)+')')\n",
    "                    else:\n",
    "                        sin_str.add('sin('+str(symbol)+')')\n",
    "                        cos_str.add('cos('+str(symbol)+')')\n",
    "    def get_numbers(s):\n",
    "        import re\n",
    "        # 使用正則表達式找到所有匹配\"\\d+\"的子串，即連續的一個或多個數字\n",
    "        numbers = re.findall(\"\\d+\", s)\n",
    "        return int(numbers[0])\n",
    "\n",
    "    sin_str=list(sin_str)\n",
    "    sin_str.sort(key=get_numbers)\n",
    "    cos_str=list(cos_str)\n",
    "    cos_str.sort(key=get_numbers)\n",
    "    sym_str=[]\n",
    "    for i in range(len(sin_str)):\n",
    "        sym_str.append(sin_str[i])\n",
    "        sym_str.append(cos_str[i])\n",
    "\n",
    "    # TDD process\n",
    "    Ini_TDD(indices,sym_str,type='TrDD',unique_table_reset=unique_table_reset)\n",
    "\n",
    "    '''\n",
    "    TrDD process end\n",
    "    '''\n",
    "\n",
    "    '''\n",
    "    EXP process start \n",
    "    '''\n",
    "    # from sympy import Symbol\n",
    "    # parameters_dict=dict((Symbol(v.name.replace(\"[\",\"\").replace(\"]\",\"\")),k) for k, v in dict(enumerate(cir.parameters)).items())\n",
    "    # Ini_TDD(indices,type='Exp',var=parameters_dict,unique_table_reset=unique_table_reset)\n",
    "    '''\n",
    "    EXP process end \n",
    "    '''\n",
    "\n",
    "    if add_inputs_list:\n",
    "        from TDD.TDD_Q import add_inputs\n",
    "        # add_inputs(tn,[0]*n,n)\n",
    "        add_inputs(tn,add_inputs_list)\n",
    "\n",
    "    def cont2(tn,l1):\n",
    "        from TDD.TDD import cont, get_identity_tdd\n",
    "        max_node_num=0\n",
    "        tdd=get_identity_tdd()\n",
    "        l2=len(tn.tensors)-l1\n",
    "        l=min(l1,l2)\n",
    "        d=l1-l2\n",
    "        r=int(l1/l2) if d>0 else int(l2/l1)\n",
    "        if r == 1:\n",
    "            for i in range(l):\n",
    "                tdd1=tn.tensors[-(i+1)+l1].tdd()\n",
    "                tdd=cont(tdd1,tdd)\n",
    "                max_node_num=max(max_node_num,tdd.node_number())\n",
    "                tdd2=tn.tensors[i+l1].tdd()\n",
    "                tdd=cont(tdd,tdd2)\n",
    "                max_node_num=max(max_node_num,tdd.node_number())\n",
    "            if d>0:\n",
    "                for i in range(d):\n",
    "                    tdd1=tn.tensors[-(i+l+1)+l1].tdd()\n",
    "                    tdd=cont(tdd1,tdd)\n",
    "                    max_node_num=max(max_node_num,tdd.node_number())\n",
    "            elif d<0:\n",
    "                for i in range(abs(d)):\n",
    "                    tdd2=tn.tensors[i+l+l1].tdd()\n",
    "                    tdd=cont(tdd,tdd2)\n",
    "                    max_node_num=max(max_node_num,tdd.node_number())\n",
    "        elif d>0:\n",
    "            for i in range(l2):\n",
    "                for j in range(r):\n",
    "                    tdd1=tn.tensors[-(r*i+j+1)+l1].tdd()\n",
    "                    tdd=cont(tdd1,tdd)\n",
    "                    max_node_num=max(max_node_num,tdd.node_number())\n",
    "                tdd2=tn.tensors[i+l1].tdd()\n",
    "                tdd=cont(tdd,tdd2)\n",
    "                max_node_num=max(max_node_num,tdd.node_number())\n",
    "            d2=l1-r*l2\n",
    "            if d2 !=0:\n",
    "                for i in range (d2):\n",
    "                    tdd1=tn.tensors[-(i+r*l2+1)+l1].tdd()\n",
    "                    tdd=cont(tdd1,tdd)\n",
    "                    max_node_num=max(max_node_num,tdd.node_number())\n",
    "        elif d<0:\n",
    "            for i in range(l1):\n",
    "                tdd1=tn.tensors[-(i+1)+l1].tdd()\n",
    "                tdd=cont(tdd1,tdd)\n",
    "                max_node_num=max(max_node_num,tdd.node_number())\n",
    "                for j in range(r):\n",
    "                    tdd2=tn.tensors[r*i+j+l1].tdd()\n",
    "                    tdd=cont(tdd,tdd2)\n",
    "                    max_node_num=max(max_node_num,tdd.node_number())\n",
    "            d2=l2-r*l1\n",
    "            if d2 !=0:\n",
    "                for i in range(d2):\n",
    "                    tdd2=tn.tensors[i+(r+1)*l1].tdd()\n",
    "                    tdd=cont(tdd,tdd2)\n",
    "                    max_node_num=max(max_node_num,tdd.node_number())\n",
    "        return tdd, max_node_num\n",
    "\n",
    "    l1=len(cir.data)\n",
    "\n",
    "    start_cont=time.time()-t_start\n",
    "    print('start cont ',start_cont)\n",
    "    tdd, Max_node_num= cont2(tn,l1)\n",
    "    cont_time=time.time()-start_cont-t_start\n",
    "    print('cont complete',cont_time)\n",
    "\n",
    "    from TDD.TDD import get_unique_table_num as gu1\n",
    "    from TDD.TrDD.BDD import get_unique_table_num as gu2\n",
    "    output_dict={'Benchmark Name':Benchmark_Name,\n",
    "            'Parameter num': Parameter_num,\n",
    "            'Qubit num.':tn.qubits_num,\n",
    "            'Gate num.':len(cir.data),\n",
    "            'Time':cont_time,\n",
    "            'Node num. max':Max_node_num,\n",
    "            'Node num. final':tdd.node_number(),\n",
    "            'gu1':gu1(),\n",
    "            'gu2':gu2()\n",
    "    }\n",
    "    return tdd, output_dict"
   ]
  },
  {
   "cell_type": "code",
   "execution_count": 4,
   "metadata": {},
   "outputs": [],
   "source": [
    "def verify(tdd1,tdd2):\n",
    "    start_time= time.time()\n",
    "    # equivalent without global_norm\n",
    "    if tdd1==tdd2:\n",
    "        check_time=time.time()-start_time\n",
    "        output_dict={\"check_time\":check_time,\"equivalence\":\"equivalent\"}\n",
    "        print(output_dict)\n",
    "        return output_dict\n",
    "    elif tdd1.node==tdd2.node:\n",
    "        check_time=time.time()-start_time\n",
    "        output_dict={\"check_time\":check_time,\"equivalence\":\"equivalent_up_to_global_phase\"}\n",
    "        print(output_dict)\n",
    "        return output_dict\n",
    "    tddn=global_norm(tdd1)\n",
    "    tddn2=global_norm(tdd2)\n",
    "    # equivalent with global_norm\n",
    "    if tddn==tddn2:\n",
    "        check_time=time.time()-start_time\n",
    "        output_dict={\"check_time\":check_time,\"equivalence\":\"equivalent\"}\n",
    "        print('global_norm',output_dict)\n",
    "        return output_dict\n",
    "    elif tddn.node==tdd2.node:\n",
    "        check_time=time.time()-start_time\n",
    "        output_dict={\"check_time\":check_time,\"equivalence\":\"equivalent_up_to_global_phase\"}\n",
    "        print('global_norm',output_dict)\n",
    "        return output_dict\n",
    "    # not equivalent \n",
    "    else:\n",
    "        check_time=time.time()-start_time\n",
    "        output_dict={\"check_time\":check_time,\"equivalence\":\"not_equivalent\"}\n",
    "        print(output_dict)\n",
    "        return output_dict"
   ]
  },
  {
   "cell_type": "code",
   "execution_count": 5,
   "metadata": {},
   "outputs": [],
   "source": [
    "from qiskit import transpile\n",
    "from qiskit.circuit import Parameter, QuantumCircuit, library\n",
    "\n",
    "def circuit_generator(qubit_num=1,reps=1,function_name='TwoLocal'\n",
    "                    ,basis_gates1=['id', 'rz', 'sx', 'x', 'cx']\n",
    "                    ,basis_gates2=['rx','ry','h','cx']):\n",
    "\n",
    "    if function_name=='TwoLocal':\n",
    "        cir = library.TwoLocal(qubit_num, ['ry'],'cx', entanglement='circular', reps=reps)\n",
    "    if function_name=='ExcitationPreserving':\n",
    "        cir = library.ExcitationPreserving(qubit_num, mode='fsim', entanglement='full', reps=reps)\n",
    "    if function_name=='RealAmplitudes':\n",
    "        cir = library.RealAmplitudes(qubit_num, entanglement='full', reps=reps)\n",
    "    if function_name=='EfficientSU2':\n",
    "        cir = library.EfficientSU2(qubit_num, ['rx','h'], entanglement='circular', reps=reps)\n",
    "\n",
    "    cir1=transpile(cir,basis_gates=basis_gates1)\n",
    "    cir2=transpile(cir,basis_gates=basis_gates2)\n",
    "\n",
    "    return cir1,cir2,'%s_%i_%i'%(function_name,qubit_num,reps)"
   ]
  },
  {
   "cell_type": "code",
   "execution_count": 6,
   "metadata": {},
   "outputs": [
    {
     "data": {
      "image/png": "[encoded data removed]",
      "text/plain": [
       "<Figure size 1040x284.278 with 1 Axes>"
      ]
     },
     "execution_count": 6,
     "metadata": {},
     "output_type": "execute_result"
    }
   ],
   "source": [
    "cir3=QuantumCircuit(3)\n",
    "cir3.ccx(0,1,2)\n",
    "cir3=transpile(cir3,basis_gates=['h', 't', 'tdg', 'cx'])\n",
    "cir3.draw('mpl')"
   ]
  },
  {
   "cell_type": "code",
   "execution_count": 7,
   "metadata": {},
   "outputs": [
    {
     "data": {
      "image/png": "[encoded data removed]",
      "text/plain": [
       "<Figure size 1207.22x284.278 with 1 Axes>"
      ]
     },
     "execution_count": 7,
     "metadata": {},
     "output_type": "execute_result"
    }
   ],
   "source": [
    "cir4=transpile(cir3,basis_gates=['id', 'rz', 'sx', 'x', 'cx'])\n",
    "cir4.draw('mpl')"
   ]
  },
  {
   "cell_type": "code",
   "execution_count": 8,
   "metadata": {},
   "outputs": [
    {
     "data": {
      "image/png": "[encoded data removed]",
      "text/plain": [
       "<Figure size 185.453x117.056 with 1 Axes>"
      ]
     },
     "execution_count": 8,
     "metadata": {},
     "output_type": "execute_result"
    }
   ],
   "source": [
    "s0=Parameter('s%i'%0)\n",
    "simple=QuantumCircuit(1)\n",
    "# simple.rz(s0,0)\n",
    "\n",
    "# simple.rz(-s0,0)\n",
    "\n",
    "# simple.rx(s0,0)\n",
    "\n",
    "simple.ry(s0,0)\n",
    "\n",
    "simple.draw('mpl')"
   ]
  },
  {
   "cell_type": "code",
   "execution_count": 9,
   "metadata": {},
   "outputs": [
    {
     "data": {
      "image/png": "[encoded data removed]",
      "text/plain": [
       "<Figure size 352.675x117.056 with 1 Axes>"
      ]
     },
     "execution_count": 9,
     "metadata": {},
     "output_type": "execute_result"
    }
   ],
   "source": [
    "simple2=QuantumCircuit(1)\n",
    "\n",
    "# simple2.rx(np.pi/2,0)\n",
    "# simple2.ry(s0,0)\n",
    "# simple2.rx(-np.pi/2,0)\n",
    "\n",
    "# simple2.ry(np.pi/2,0)\n",
    "# simple2.rx(s0,0)\n",
    "# simple2.ry(-np.pi/2,0)\n",
    "\n",
    "# simple2.ry(np.pi/2,0)\n",
    "# simple2.rz(s0,0)\n",
    "# simple2.ry(-np.pi/2,0)\n",
    "\n",
    "simple2.rz(np.pi/2,0)\n",
    "simple2.rx(s0,0)\n",
    "simple2.rz(-np.pi/2,0)\n",
    "simple2.draw('mpl')"
   ]
  },
  {
   "cell_type": "code",
   "execution_count": 10,
   "metadata": {},
   "outputs": [],
   "source": [
    "def experiment(qubit_num=2,reps=1,function='RealAmplitudes', optimizer=None, file_name=None):\n",
    "        cir1,cir2,circuit_nam=circuit_generator(qubit_num=qubit_num,reps=reps,function_name=function)\n",
    "        tdd1,output_dict1=STDD_simulation(cir1, unique_table_reset=True, optimizer=optimizer)\n",
    "        tdd2,output_dict2=STDD_simulation(cir2, unique_table_reset=False, optimizer=optimizer)\n",
    "        output_dict3=verify(tdd1,tdd2)\n",
    "        if file_name:\n",
    "                with open(file_name, 'a', newline='') as csvfile:\n",
    "                        fieldnames = ['Benchmark Name','Parameter num.','Qubit num.'\n",
    "                                ,'Gate num._1','Time_1','Node num. max_1','Node num. final_1','gu1_1','gu2_1'\n",
    "                                ,'Gate num._2','Time_2','Node num. max_2','Node num. final_2','gu1_2','gu2_2'\n",
    "                                ,'Check_time','Totol_time','Equivalent']\n",
    "                        writer = csv.DictWriter(csvfile, fieldnames=fieldnames)\n",
    "                        writer.writerow({'Benchmark Name':circuit_nam,'Parameter num.':output_dict1['Parameter num'],'Qubit num.':output_dict1['Qubit num.']\n",
    "                        ,'Gate num._1':output_dict1['Gate num.'],'Time_1':output_dict1['Time'],'Node num. max_1':output_dict1['Node num. max']\n",
    "                        ,'Node num. final_1':output_dict1['Node num. final'],'gu1_1':output_dict1['gu1'],'gu2_1':output_dict1['gu2']\n",
    "                        ,'Gate num._2':output_dict2['Gate num.'],'Time_2':output_dict2['Time'],'Node num. max_2':output_dict2['Node num. max']\n",
    "                        ,'Node num. final_2':output_dict2['Node num. final'],'gu1_2':output_dict2['gu1'],'gu2_2':output_dict2['gu2']\n",
    "                        ,'Check_time':output_dict3['check_time'],'Totol_time':output_dict1['Time']+output_dict2['Time']+output_dict3['check_time']\n",
    "                        ,'Equivalent':output_dict3['equivalence']})\n",
    "        return {'Benchmark Name':circuit_nam,'Parameter num.':output_dict1['Parameter num'],'Qubit num.':output_dict1['Qubit num.']\n",
    "                ,'Gate num._1':output_dict1['Gate num.'],'Time_1':output_dict1['Time'],'Node num. max_1':output_dict1['Node num. max']\n",
    "                ,'Node num. final_1':output_dict1['Node num. final'],'gu1_1':output_dict1['gu1'],'gu2_1':output_dict1['gu2']\n",
    "                ,'Gate num._2':output_dict2['Gate num.'],'Time_2':output_dict2['Time'],'Node num. max_2':output_dict2['Node num. max']\n",
    "                ,'Node num. final_2':output_dict2['Node num. final'],'gu1_2':output_dict2['gu1'],'gu2_2':output_dict2['gu2']\n",
    "                ,'Check_time':output_dict3['check_time'],'Totol_time':output_dict1['Time']+output_dict2['Time']+output_dict3['check_time']\n",
    "                ,'Equivalent':output_dict3['equivalence']}\n",
    "\n"
   ]
  },
  {
   "cell_type": "code",
   "execution_count": 11,
   "metadata": {},
   "outputs": [
    {
     "name": "stdout",
     "output_type": "stream",
     "text": [
      "start cont  0.013985395431518555\n",
      "cont complete 0.0011966228485107422\n",
      "start cont  0.00046563148498535156\n",
      "cont complete 0.005182743072509766\n",
      "{'check_time': 5.7220458984375e-06, 'equivalence': 'equivalent'}\n"
     ]
    },
    {
     "data": {
      "text/plain": [
       "{'check_time': 5.7220458984375e-06, 'equivalence': 'equivalent'}"
      ]
     },
     "execution_count": 11,
     "metadata": {},
     "output_type": "execute_result"
    }
   ],
   "source": [
    "tdd1, output_dict=STDD_simulation(simple)\n",
    "tdd2, output_dict=STDD_simulation(simple2,unique_table_reset=False)\n",
    "\n",
    "verify(tdd1,tdd2)"
   ]
  },
  {
   "cell_type": "code",
   "execution_count": 12,
   "metadata": {},
   "outputs": [
    {
     "name": "stdout",
     "output_type": "stream",
     "text": [
      "add: 0 / 2 / 0.0\n",
      "cont: 0 / 6 / 0.0\n"
     ]
    }
   ],
   "source": [
    "from TDD.TDD import get_count\n",
    "get_count()"
   ]
  },
  {
   "cell_type": "code",
   "execution_count": 13,
   "metadata": {},
   "outputs": [
    {
     "data": {
      "image/png": "[encoded data removed]",
      "text/plain": [
       "<IPython.core.display.Image object>"
      ]
     },
     "execution_count": 13,
     "metadata": {},
     "output_type": "execute_result"
    }
   ],
   "source": [
    "tdd1.show()"
   ]
  },
  {
   "cell_type": "code",
   "execution_count": 14,
   "metadata": {},
   "outputs": [
    {
     "data": {
      "image/png": "[encoded data removed]",
      "text/plain": [
       "<IPython.core.display.Image object>"
      ]
     },
     "execution_count": 14,
     "metadata": {},
     "output_type": "execute_result"
    }
   ],
   "source": [
    "tdd2.show()"
   ]
  },
  {
   "cell_type": "code",
   "execution_count": 15,
   "metadata": {},
   "outputs": [
    {
     "name": "stdout",
     "output_type": "stream",
     "text": [
      "start cont  0.0006608963012695312\n",
      "BDD 942 cos(s0)\n"
     ]
    },
    {
     "ename": "TypeError",
     "evalue": "can only concatenate str (not \"int\") to str",
     "output_type": "error",
     "traceback": [
      "\u001b[0;31m---------------------------------------------------------------------------\u001b[0m",
      "\u001b[0;31mTypeError\u001b[0m                                 Traceback (most recent call last)",
      "\u001b[1;32m/home/Wei-Jia/downloads/TDD/TDD_new/Symbol_TDD/TrDD_experiment.ipynb 儲存格 15\u001b[0m in \u001b[0;36m1\n\u001b[0;32m----> <a href='vscode-notebook-cell://ssh-remote%2B20.205.236.55/home/Wei-Jia/downloads/TDD/TDD_new/Symbol_TDD/TrDD_experiment.ipynb#X20sdnNjb2RlLXJlbW90ZQ%3D%3D?line=0'>1</a>\u001b[0m tdd, output_dict\u001b[39m=\u001b[39mSTDD_verify(simple, simple2)\n\u001b[1;32m      <a href='vscode-notebook-cell://ssh-remote%2B20.205.236.55/home/Wei-Jia/downloads/TDD/TDD_new/Symbol_TDD/TrDD_experiment.ipynb#X20sdnNjb2RlLXJlbW90ZQ%3D%3D?line=1'>2</a>\u001b[0m output_dict\n",
      "\u001b[1;32m/home/Wei-Jia/downloads/TDD/TDD_new/Symbol_TDD/TrDD_experiment.ipynb 儲存格 15\u001b[0m in \u001b[0;36m1\n\u001b[1;32m    <a href='vscode-notebook-cell://ssh-remote%2B20.205.236.55/home/Wei-Jia/downloads/TDD/TDD_new/Symbol_TDD/TrDD_experiment.ipynb#X20sdnNjb2RlLXJlbW90ZQ%3D%3D?line=121'>122</a>\u001b[0m start_cont\u001b[39m=\u001b[39mtime\u001b[39m.\u001b[39mtime()\u001b[39m-\u001b[39mt_start\n\u001b[1;32m    <a href='vscode-notebook-cell://ssh-remote%2B20.205.236.55/home/Wei-Jia/downloads/TDD/TDD_new/Symbol_TDD/TrDD_experiment.ipynb#X20sdnNjb2RlLXJlbW90ZQ%3D%3D?line=122'>123</a>\u001b[0m \u001b[39mprint\u001b[39m(\u001b[39m'\u001b[39m\u001b[39mstart cont \u001b[39m\u001b[39m'\u001b[39m,start_cont)\n\u001b[0;32m--> <a href='vscode-notebook-cell://ssh-remote%2B20.205.236.55/home/Wei-Jia/downloads/TDD/TDD_new/Symbol_TDD/TrDD_experiment.ipynb#X20sdnNjb2RlLXJlbW90ZQ%3D%3D?line=123'>124</a>\u001b[0m tdd, Max_node_num\u001b[39m=\u001b[39m cont2(tn,l1)\n\u001b[1;32m    <a href='vscode-notebook-cell://ssh-remote%2B20.205.236.55/home/Wei-Jia/downloads/TDD/TDD_new/Symbol_TDD/TrDD_experiment.ipynb#X20sdnNjb2RlLXJlbW90ZQ%3D%3D?line=124'>125</a>\u001b[0m cont_time\u001b[39m=\u001b[39mtime\u001b[39m.\u001b[39mtime()\u001b[39m-\u001b[39mstart_cont\u001b[39m-\u001b[39mt_start\n\u001b[1;32m    <a href='vscode-notebook-cell://ssh-remote%2B20.205.236.55/home/Wei-Jia/downloads/TDD/TDD_new/Symbol_TDD/TrDD_experiment.ipynb#X20sdnNjb2RlLXJlbW90ZQ%3D%3D?line=125'>126</a>\u001b[0m \u001b[39mprint\u001b[39m(\u001b[39m'\u001b[39m\u001b[39mcont complete\u001b[39m\u001b[39m'\u001b[39m,cont_time)\n",
      "\u001b[1;32m/home/Wei-Jia/downloads/TDD/TDD_new/Symbol_TDD/TrDD_experiment.ipynb 儲存格 15\u001b[0m in \u001b[0;36m1\n\u001b[1;32m    <a href='vscode-notebook-cell://ssh-remote%2B20.205.236.55/home/Wei-Jia/downloads/TDD/TDD_new/Symbol_TDD/TrDD_experiment.ipynb#X20sdnNjb2RlLXJlbW90ZQ%3D%3D?line=107'>108</a>\u001b[0m     \u001b[39mfor\u001b[39;00m j \u001b[39min\u001b[39;00m \u001b[39mrange\u001b[39m(r):\n\u001b[1;32m    <a href='vscode-notebook-cell://ssh-remote%2B20.205.236.55/home/Wei-Jia/downloads/TDD/TDD_new/Symbol_TDD/TrDD_experiment.ipynb#X20sdnNjb2RlLXJlbW90ZQ%3D%3D?line=108'>109</a>\u001b[0m         tdd2\u001b[39m=\u001b[39mtn\u001b[39m.\u001b[39mtensors[r\u001b[39m*\u001b[39mi\u001b[39m+\u001b[39mj\u001b[39m+\u001b[39ml1]\u001b[39m.\u001b[39mtdd()\n\u001b[0;32m--> <a href='vscode-notebook-cell://ssh-remote%2B20.205.236.55/home/Wei-Jia/downloads/TDD/TDD_new/Symbol_TDD/TrDD_experiment.ipynb#X20sdnNjb2RlLXJlbW90ZQ%3D%3D?line=109'>110</a>\u001b[0m         tdd\u001b[39m=\u001b[39mcont(tdd,tdd2)\n\u001b[1;32m    <a href='vscode-notebook-cell://ssh-remote%2B20.205.236.55/home/Wei-Jia/downloads/TDD/TDD_new/Symbol_TDD/TrDD_experiment.ipynb#X20sdnNjb2RlLXJlbW90ZQ%3D%3D?line=110'>111</a>\u001b[0m         max_node_num\u001b[39m=\u001b[39m\u001b[39mmax\u001b[39m(max_node_num,tdd\u001b[39m.\u001b[39mnode_number())\n\u001b[1;32m    <a href='vscode-notebook-cell://ssh-remote%2B20.205.236.55/home/Wei-Jia/downloads/TDD/TDD_new/Symbol_TDD/TrDD_experiment.ipynb#X20sdnNjb2RlLXJlbW90ZQ%3D%3D?line=111'>112</a>\u001b[0m d2\u001b[39m=\u001b[39ml2\u001b[39m-\u001b[39mr\u001b[39m*\u001b[39ml1\n",
      "File \u001b[0;32m~/downloads/TDD/TDD_new/Symbol_TDD/TDD/TDD.py:819\u001b[0m, in \u001b[0;36mcont\u001b[0;34m(tdd1, tdd2)\u001b[0m\n\u001b[1;32m    813\u001b[0m cont_order[\u001b[39m1\u001b[39m]\u001b[39m.\u001b[39mappend(\u001b[39mfloat\u001b[39m(\u001b[39m'\u001b[39m\u001b[39minf\u001b[39m\u001b[39m'\u001b[39m))\n\u001b[1;32m    815\u001b[0m \u001b[39m# create two lists of new keys for each TDD object by replacing the common variable keys with 'c'\u001b[39;00m\n\u001b[1;32m    816\u001b[0m \u001b[39m# create two lists of order values for each TDD object by using a global index order dictionary (not defined here)\u001b[39;00m\n\u001b[1;32m    817\u001b[0m \u001b[39m# append infinity to both order lists\u001b[39;00m\n\u001b[0;32m--> 819\u001b[0m tdd\u001b[39m=\u001b[39mcontract(tdd1,tdd2,key_2_new_key,cont_order,\u001b[39mlen\u001b[39;49m(\u001b[39mset\u001b[39;49m(var_cont_idx)))\n\u001b[1;32m    821\u001b[0m tdd\u001b[39m.\u001b[39mindex_set\u001b[39m=\u001b[39mvar_out \u001b[39m# set the index set of the output TDD object to be the list of unique variables\u001b[39;00m\n\u001b[1;32m    822\u001b[0m tdd\u001b[39m.\u001b[39mindex_2_key\u001b[39m=\u001b[39midx_2_key \u001b[39m# set the index attribute of the output TDD object to be a dictionary mapping indices to keys\u001b[39;00m\n",
      "File \u001b[0;32m~/downloads/TDD/TDD_new/Symbol_TDD/TDD/TDD.py:915\u001b[0m, in \u001b[0;36mcontract\u001b[0;34m(tdd1, tdd2, key_2_new_key, cont_order, cont_num)\u001b[0m\n\u001b[1;32m    913\u001b[0m the_successors\u001b[39m=\u001b[39m[]\n\u001b[1;32m    914\u001b[0m \u001b[39mfor\u001b[39;00m k \u001b[39min\u001b[39;00m \u001b[39mrange\u001b[39m(tdd1\u001b[39m.\u001b[39mnode\u001b[39m.\u001b[39msucc_num):\n\u001b[0;32m--> 915\u001b[0m     res\u001b[39m=\u001b[39mcontract(Slicing(tdd1,k1,k),tdd2,key_2_new_key,cont_order,cont_num)\n\u001b[1;32m    916\u001b[0m     the_successors\u001b[39m.\u001b[39mappend(res)\n\u001b[1;32m    917\u001b[0m tdd\u001b[39m=\u001b[39mnormalize(the_key,the_successors)\n",
      "File \u001b[0;32m~/downloads/TDD/TDD_new/Symbol_TDD/TDD/TDD.py:943\u001b[0m, in \u001b[0;36mcontract\u001b[0;34m(tdd1, tdd2, key_2_new_key, cont_order, cont_num)\u001b[0m\n\u001b[1;32m    941\u001b[0m \u001b[39mfor\u001b[39;00m k \u001b[39min\u001b[39;00m \u001b[39mrange\u001b[39m(tdd1\u001b[39m.\u001b[39mnode\u001b[39m.\u001b[39msucc_num):\n\u001b[1;32m    942\u001b[0m     res\u001b[39m=\u001b[39mcontract(Slicing(tdd1,k1,k),Slicing(tdd2,k2,k),key_2_new_key,cont_order,cont_num\u001b[39m-\u001b[39m\u001b[39m1\u001b[39m)           \n\u001b[0;32m--> 943\u001b[0m     tdd\u001b[39m=\u001b[39madd(tdd,res)\n\u001b[1;32m    944\u001b[0m insert_2_computed_table([\u001b[39m'\u001b[39m\u001b[39m*\u001b[39m\u001b[39m'\u001b[39m,tdd1,tdd2,temp_key_2_new_key,cont_num],tdd)\n\u001b[1;32m    945\u001b[0m tdd\u001b[39m.\u001b[39mweight\u001b[39m=\u001b[39mmul_weight(tdd\u001b[39m.\u001b[39mweight,mul_weight(w1,w2))\n",
      "File \u001b[0;32m~/downloads/TDD/TDD_new/Symbol_TDD/TDD/TDD.py:1047\u001b[0m, in \u001b[0;36madd\u001b[0;34m(tdd1, tdd2)\u001b[0m\n\u001b[1;32m   1045\u001b[0m     x\u001b[39m=\u001b[39mk1\n\u001b[1;32m   1046\u001b[0m     \u001b[39mfor\u001b[39;00m k \u001b[39min\u001b[39;00m \u001b[39mrange\u001b[39m(tdd1\u001b[39m.\u001b[39mnode\u001b[39m.\u001b[39msucc_num):\n\u001b[0;32m-> 1047\u001b[0m         res\u001b[39m=\u001b[39madd(Slicing2(tdd1,x,k),Slicing2(tdd2,x,k))\n\u001b[1;32m   1048\u001b[0m         the_successors\u001b[39m.\u001b[39mappend(res)        \n\u001b[1;32m   1049\u001b[0m \u001b[39melse\u001b[39;00m:\n",
      "File \u001b[0;32m~/downloads/TDD/TDD_new/Symbol_TDD/TDD/TDD.py:1004\u001b[0m, in \u001b[0;36mSlicing2\u001b[0;34m(tdd, x, c)\u001b[0m\n\u001b[1;32m   1002\u001b[0m         res\u001b[39m=\u001b[39mTDD(tdd\u001b[39m.\u001b[39mnode\u001b[39m.\u001b[39msuccessor[c])\n\u001b[1;32m   1003\u001b[0m \u001b[39m#         res.weight=simplify(tdd.node.out_weight[c]*tdd.weight)\u001b[39;00m\n\u001b[0;32m-> 1004\u001b[0m         res\u001b[39m.\u001b[39mweight\u001b[39m=\u001b[39mmul_weight(tdd\u001b[39m.\u001b[39;49mweight,tdd\u001b[39m.\u001b[39;49mnode\u001b[39m.\u001b[39;49mout_weight[c])\n\u001b[1;32m   1005\u001b[0m         \u001b[39mreturn\u001b[39;00m res\n\u001b[1;32m   1006\u001b[0m     \u001b[39melse\u001b[39;00m:\n",
      "File \u001b[0;32m~/downloads/TDD/TDD_new/Symbol_TDD/TDD/TDD.py:838\u001b[0m, in \u001b[0;36mmul_weight\u001b[0;34m(weight1, weight2)\u001b[0m\n\u001b[1;32m    837\u001b[0m \u001b[39mdef\u001b[39;00m \u001b[39mmul_weight\u001b[39m(weight1, weight2):\n\u001b[0;32m--> 838\u001b[0m     res\u001b[39m=\u001b[39mweight1 \u001b[39m*\u001b[39;49m weight2\n\u001b[1;32m    839\u001b[0m     \u001b[39mreturn\u001b[39;00m res\n",
      "File \u001b[0;32m~/downloads/TDD/TDD_new/Symbol_TDD/TDD/TrDD/BDD.py:128\u001b[0m, in \u001b[0;36mBDD.__mul__\u001b[0;34m(self, g)\u001b[0m\n\u001b[1;32m    126\u001b[0m \u001b[39mdef\u001b[39;00m \u001b[39m__mul__\u001b[39m(\u001b[39mself\u001b[39m, g):\n\u001b[1;32m    127\u001b[0m     \u001b[39m# return mul(self,g)\u001b[39;00m\n\u001b[0;32m--> 128\u001b[0m     \u001b[39mreturn\u001b[39;00m cont(\u001b[39mself\u001b[39;49m, g)\n",
      "File \u001b[0;32m~/downloads/TDD/TDD_new/Symbol_TDD/TDD/TrDD/BDD.py:890\u001b[0m, in \u001b[0;36mcont\u001b[0;34m(bdd1, bdd2)\u001b[0m\n\u001b[1;32m    887\u001b[0m     cont_order[\u001b[39m1\u001b[39m]\u001b[39m.\u001b[39mappend(global_index_order[v])\n\u001b[1;32m    888\u001b[0m cont_order[\u001b[39m1\u001b[39m]\u001b[39m.\u001b[39mappend(\u001b[39mfloat\u001b[39m(\u001b[39m'\u001b[39m\u001b[39minf\u001b[39m\u001b[39m'\u001b[39m))\n\u001b[0;32m--> 890\u001b[0m bdd\u001b[39m=\u001b[39mmul2(bdd1,bdd2,key_2_new_key,cont_order)\n\u001b[1;32m    891\u001b[0m bdd\u001b[39m.\u001b[39mindex_set\u001b[39m=\u001b[39mvar_out\n\u001b[1;32m    892\u001b[0m bdd\u001b[39m.\u001b[39mindex_2_key\u001b[39m=\u001b[39midx_2_key\n",
      "File \u001b[0;32m~/downloads/TDD/TDD_new/Symbol_TDD/TDD/TrDD/BDD.py:943\u001b[0m, in \u001b[0;36mmul2\u001b[0;34m(bdd1, bdd2, key_2_new_key, cont_order)\u001b[0m\n\u001b[1;32m    941\u001b[0m \u001b[39mprint\u001b[39m(\u001b[39m'\u001b[39m\u001b[39mBDD 942\u001b[39m\u001b[39m'\u001b[39m, k1)\n\u001b[1;32m    942\u001b[0m temp_key_2_new_key\u001b[39m=\u001b[39m[]\n\u001b[0;32m--> 943\u001b[0m temp_key_2_new_key\u001b[39m.\u001b[39mappend(\u001b[39mtuple\u001b[39m([k \u001b[39mfor\u001b[39;00m k \u001b[39min\u001b[39;00m key_2_new_key[\u001b[39m0\u001b[39m][:(k1\u001b[39m+\u001b[39;49m\u001b[39m1\u001b[39;49m)]]))\n\u001b[1;32m    944\u001b[0m temp_key_2_new_key\u001b[39m.\u001b[39mappend(\u001b[39mtuple\u001b[39m([k \u001b[39mfor\u001b[39;00m k \u001b[39min\u001b[39;00m key_2_new_key[\u001b[39m1\u001b[39m][:(k2\u001b[39m+\u001b[39m\u001b[39m1\u001b[39m)]]))\n\u001b[1;32m    946\u001b[0m tdd\u001b[39m=\u001b[39mfind_computed_table([\u001b[39m'\u001b[39m\u001b[39m*\u001b[39m\u001b[39m'\u001b[39m,bdd1,bdd2,temp_key_2_new_key])\n",
      "\u001b[0;31mTypeError\u001b[0m: can only concatenate str (not \"int\") to str"
     ]
    }
   ],
   "source": [
    "tdd, output_dict=STDD_verify(simple, simple2)\n",
    "output_dict"
   ]
  },
  {
   "cell_type": "code",
   "execution_count": null,
   "metadata": {},
   "outputs": [
    {
     "data": {
      "image/png": "[encoded data removed]",
      "text/plain": [
       "<IPython.core.display.Image object>"
      ]
     },
     "execution_count": 16,
     "metadata": {},
     "output_type": "execute_result"
    }
   ],
   "source": [
    "tdd.show()"
   ]
  },
  {
   "cell_type": "code",
   "execution_count": null,
   "metadata": {},
   "outputs": [
    {
     "name": "stdout",
     "output_type": "stream",
     "text": [
      "start cont  0.00647425651550293\n",
      "BDD 840 []\n",
      "BDD 840 []\n",
      "BDD 840 []\n",
      "BDD 840 [-1, -1]\n"
     ]
    },
    {
     "ename": "KeyError",
     "evalue": "inf",
     "output_type": "error",
     "traceback": [
      "\u001b[0;31m---------------------------------------------------------------------------\u001b[0m",
      "\u001b[0;31mKeyError\u001b[0m                                  Traceback (most recent call last)",
      "\u001b[1;32m/home/Wei-Jia/downloads/TDD/TDD_new/Symbol_TDD/TrDD_experiment.ipynb 儲存格 17\u001b[0m in \u001b[0;36m1\n\u001b[0;32m----> <a href='vscode-notebook-cell://ssh-remote%2B20.205.236.55/home/Wei-Jia/downloads/TDD/TDD_new/Symbol_TDD/TrDD_experiment.ipynb#X22sdnNjb2RlLXJlbW90ZQ%3D%3D?line=0'>1</a>\u001b[0m experiment(qubit_num\u001b[39m=\u001b[39;49m\u001b[39m3\u001b[39;49m,reps\u001b[39m=\u001b[39;49m\u001b[39m3\u001b[39;49m,function\u001b[39m=\u001b[39;49m\u001b[39m'\u001b[39;49m\u001b[39mEfficientSU2\u001b[39;49m\u001b[39m'\u001b[39;49m)\n",
      "\u001b[1;32m/home/Wei-Jia/downloads/TDD/TDD_new/Symbol_TDD/TrDD_experiment.ipynb 儲存格 17\u001b[0m in \u001b[0;36m3\n\u001b[1;32m      <a href='vscode-notebook-cell://ssh-remote%2B20.205.236.55/home/Wei-Jia/downloads/TDD/TDD_new/Symbol_TDD/TrDD_experiment.ipynb#X22sdnNjb2RlLXJlbW90ZQ%3D%3D?line=0'>1</a>\u001b[0m \u001b[39mdef\u001b[39;00m \u001b[39mexperiment\u001b[39m(qubit_num\u001b[39m=\u001b[39m\u001b[39m2\u001b[39m,reps\u001b[39m=\u001b[39m\u001b[39m1\u001b[39m,function\u001b[39m=\u001b[39m\u001b[39m'\u001b[39m\u001b[39mRealAmplitudes\u001b[39m\u001b[39m'\u001b[39m, optimizer\u001b[39m=\u001b[39m\u001b[39mNone\u001b[39;00m, file_name\u001b[39m=\u001b[39m\u001b[39mNone\u001b[39;00m):\n\u001b[1;32m      <a href='vscode-notebook-cell://ssh-remote%2B20.205.236.55/home/Wei-Jia/downloads/TDD/TDD_new/Symbol_TDD/TrDD_experiment.ipynb#X22sdnNjb2RlLXJlbW90ZQ%3D%3D?line=1'>2</a>\u001b[0m         cir1,cir2,circuit_nam\u001b[39m=\u001b[39mcircuit_generator(qubit_num\u001b[39m=\u001b[39mqubit_num,reps\u001b[39m=\u001b[39mreps,function_name\u001b[39m=\u001b[39mfunction)\n\u001b[0;32m----> <a href='vscode-notebook-cell://ssh-remote%2B20.205.236.55/home/Wei-Jia/downloads/TDD/TDD_new/Symbol_TDD/TrDD_experiment.ipynb#X22sdnNjb2RlLXJlbW90ZQ%3D%3D?line=2'>3</a>\u001b[0m         tdd1,output_dict1\u001b[39m=\u001b[39mSTDD_simulation(cir1, unique_table_reset\u001b[39m=\u001b[39;49m\u001b[39mTrue\u001b[39;49;00m, optimizer\u001b[39m=\u001b[39;49moptimizer)\n\u001b[1;32m      <a href='vscode-notebook-cell://ssh-remote%2B20.205.236.55/home/Wei-Jia/downloads/TDD/TDD_new/Symbol_TDD/TrDD_experiment.ipynb#X22sdnNjb2RlLXJlbW90ZQ%3D%3D?line=3'>4</a>\u001b[0m         tdd2,output_dict2\u001b[39m=\u001b[39mSTDD_simulation(cir2, unique_table_reset\u001b[39m=\u001b[39m\u001b[39mFalse\u001b[39;00m, optimizer\u001b[39m=\u001b[39moptimizer)\n\u001b[1;32m      <a href='vscode-notebook-cell://ssh-remote%2B20.205.236.55/home/Wei-Jia/downloads/TDD/TDD_new/Symbol_TDD/TrDD_experiment.ipynb#X22sdnNjb2RlLXJlbW90ZQ%3D%3D?line=4'>5</a>\u001b[0m         output_dict3\u001b[39m=\u001b[39mverify(tdd1,tdd2)\n",
      "\u001b[1;32m/home/Wei-Jia/downloads/TDD/TDD_new/Symbol_TDD/TrDD_experiment.ipynb 儲存格 17\u001b[0m in \u001b[0;36m7\n\u001b[1;32m     <a href='vscode-notebook-cell://ssh-remote%2B20.205.236.55/home/Wei-Jia/downloads/TDD/TDD_new/Symbol_TDD/TrDD_experiment.ipynb#X22sdnNjb2RlLXJlbW90ZQ%3D%3D?line=70'>71</a>\u001b[0m start_cont\u001b[39m=\u001b[39mtime\u001b[39m.\u001b[39mtime()\u001b[39m-\u001b[39mt_start\n\u001b[1;32m     <a href='vscode-notebook-cell://ssh-remote%2B20.205.236.55/home/Wei-Jia/downloads/TDD/TDD_new/Symbol_TDD/TrDD_experiment.ipynb#X22sdnNjb2RlLXJlbW90ZQ%3D%3D?line=71'>72</a>\u001b[0m \u001b[39mprint\u001b[39m(\u001b[39m'\u001b[39m\u001b[39mstart cont \u001b[39m\u001b[39m'\u001b[39m,start_cont)\n\u001b[0;32m---> <a href='vscode-notebook-cell://ssh-remote%2B20.205.236.55/home/Wei-Jia/downloads/TDD/TDD_new/Symbol_TDD/TrDD_experiment.ipynb#X22sdnNjb2RlLXJlbW90ZQ%3D%3D?line=72'>73</a>\u001b[0m tdd, Max_node_num\u001b[39m=\u001b[39mtn\u001b[39m.\u001b[39;49mcont(optimizer\u001b[39m=\u001b[39;49moptimizer,max_node\u001b[39m=\u001b[39;49m\u001b[39mTrue\u001b[39;49;00m)\n\u001b[1;32m     <a href='vscode-notebook-cell://ssh-remote%2B20.205.236.55/home/Wei-Jia/downloads/TDD/TDD_new/Symbol_TDD/TrDD_experiment.ipynb#X22sdnNjb2RlLXJlbW90ZQ%3D%3D?line=73'>74</a>\u001b[0m cont_time\u001b[39m=\u001b[39mtime\u001b[39m.\u001b[39mtime()\u001b[39m-\u001b[39mstart_cont\u001b[39m-\u001b[39mt_start\n\u001b[1;32m     <a href='vscode-notebook-cell://ssh-remote%2B20.205.236.55/home/Wei-Jia/downloads/TDD/TDD_new/Symbol_TDD/TrDD_experiment.ipynb#X22sdnNjb2RlLXJlbW90ZQ%3D%3D?line=74'>75</a>\u001b[0m \u001b[39mprint\u001b[39m(\u001b[39m'\u001b[39m\u001b[39mcont complete\u001b[39m\u001b[39m'\u001b[39m,cont_time)\n",
      "File \u001b[0;32m~/downloads/TDD/TDD_new/Symbol_TDD/TDD/TN.py:98\u001b[0m, in \u001b[0;36mTensorNetwork.cont\u001b[0;34m(self, optimizer, max_node)\u001b[0m\n\u001b[1;32m     96\u001b[0m \u001b[39mfor\u001b[39;00m ts \u001b[39min\u001b[39;00m \u001b[39mself\u001b[39m\u001b[39m.\u001b[39mtensors:\n\u001b[1;32m     97\u001b[0m     temp_tdd\u001b[39m=\u001b[39mts\u001b[39m.\u001b[39mtdd()\n\u001b[0;32m---> 98\u001b[0m     tdd\u001b[39m=\u001b[39mcont(tdd,temp_tdd)\n\u001b[1;32m     99\u001b[0m     \u001b[39mif\u001b[39;00m max_node:\n\u001b[1;32m    100\u001b[0m         max_node_num\u001b[39m=\u001b[39m\u001b[39mmax\u001b[39m(max_node_num,tdd\u001b[39m.\u001b[39mnode_number())\n",
      "File \u001b[0;32m~/downloads/TDD/TDD_new/Symbol_TDD/TDD/TDD.py:819\u001b[0m, in \u001b[0;36mcont\u001b[0;34m(tdd1, tdd2)\u001b[0m\n\u001b[1;32m    813\u001b[0m cont_order[\u001b[39m1\u001b[39m]\u001b[39m.\u001b[39mappend(\u001b[39mfloat\u001b[39m(\u001b[39m'\u001b[39m\u001b[39minf\u001b[39m\u001b[39m'\u001b[39m))\n\u001b[1;32m    815\u001b[0m \u001b[39m# create two lists of new keys for each TDD object by replacing the common variable keys with 'c'\u001b[39;00m\n\u001b[1;32m    816\u001b[0m \u001b[39m# create two lists of order values for each TDD object by using a global index order dictionary (not defined here)\u001b[39;00m\n\u001b[1;32m    817\u001b[0m \u001b[39m# append infinity to both order lists\u001b[39;00m\n\u001b[0;32m--> 819\u001b[0m tdd\u001b[39m=\u001b[39mcontract(tdd1,tdd2,key_2_new_key,cont_order,\u001b[39mlen\u001b[39;49m(\u001b[39mset\u001b[39;49m(var_cont_idx)))\n\u001b[1;32m    821\u001b[0m tdd\u001b[39m.\u001b[39mindex_set\u001b[39m=\u001b[39mvar_out \u001b[39m# set the index set of the output TDD object to be the list of unique variables\u001b[39;00m\n\u001b[1;32m    822\u001b[0m tdd\u001b[39m.\u001b[39mindex_2_key\u001b[39m=\u001b[39midx_2_key \u001b[39m# set the index attribute of the output TDD object to be a dictionary mapping indices to keys\u001b[39;00m\n",
      "File \u001b[0;32m~/downloads/TDD/TDD_new/Symbol_TDD/TDD/TDD.py:915\u001b[0m, in \u001b[0;36mcontract\u001b[0;34m(tdd1, tdd2, key_2_new_key, cont_order, cont_num)\u001b[0m\n\u001b[1;32m    913\u001b[0m the_successors\u001b[39m=\u001b[39m[]\n\u001b[1;32m    914\u001b[0m \u001b[39mfor\u001b[39;00m k \u001b[39min\u001b[39;00m \u001b[39mrange\u001b[39m(tdd1\u001b[39m.\u001b[39mnode\u001b[39m.\u001b[39msucc_num):\n\u001b[0;32m--> 915\u001b[0m     res\u001b[39m=\u001b[39mcontract(Slicing(tdd1,k1,k),tdd2,key_2_new_key,cont_order,cont_num)\n\u001b[1;32m    916\u001b[0m     the_successors\u001b[39m.\u001b[39mappend(res)\n\u001b[1;32m    917\u001b[0m tdd\u001b[39m=\u001b[39mnormalize(the_key,the_successors)\n",
      "File \u001b[0;32m~/downloads/TDD/TDD_new/Symbol_TDD/TDD/TDD.py:945\u001b[0m, in \u001b[0;36mcontract\u001b[0;34m(tdd1, tdd2, key_2_new_key, cont_order, cont_num)\u001b[0m\n\u001b[1;32m    943\u001b[0m             tdd\u001b[39m=\u001b[39madd(tdd,res)\n\u001b[1;32m    944\u001b[0m         insert_2_computed_table([\u001b[39m'\u001b[39m\u001b[39m*\u001b[39m\u001b[39m'\u001b[39m,tdd1,tdd2,temp_key_2_new_key,cont_num],tdd)\n\u001b[0;32m--> 945\u001b[0m         tdd\u001b[39m.\u001b[39mweight\u001b[39m=\u001b[39mmul_weight(tdd\u001b[39m.\u001b[39;49mweight,mul_weight(w1,w2))\n\u001b[1;32m    946\u001b[0m \u001b[39melse\u001b[39;00m:\n\u001b[1;32m    947\u001b[0m     the_key\u001b[39m=\u001b[39mkey_2_new_key[\u001b[39m1\u001b[39m][k2]\n",
      "File \u001b[0;32m~/downloads/TDD/TDD_new/Symbol_TDD/TDD/TDD.py:838\u001b[0m, in \u001b[0;36mmul_weight\u001b[0;34m(weight1, weight2)\u001b[0m\n\u001b[1;32m    837\u001b[0m \u001b[39mdef\u001b[39;00m \u001b[39mmul_weight\u001b[39m(weight1, weight2):\n\u001b[0;32m--> 838\u001b[0m     res\u001b[39m=\u001b[39mweight1 \u001b[39m*\u001b[39;49m weight2\n\u001b[1;32m    839\u001b[0m     \u001b[39mreturn\u001b[39;00m res\n",
      "File \u001b[0;32m~/downloads/TDD/TDD_new/Symbol_TDD/TDD/TrDD/BDD.py:128\u001b[0m, in \u001b[0;36mBDD.__mul__\u001b[0;34m(self, g)\u001b[0m\n\u001b[1;32m    126\u001b[0m \u001b[39mdef\u001b[39;00m \u001b[39m__mul__\u001b[39m(\u001b[39mself\u001b[39m, g):\n\u001b[1;32m    127\u001b[0m     \u001b[39m# return mul(self,g)\u001b[39;00m\n\u001b[0;32m--> 128\u001b[0m     \u001b[39mreturn\u001b[39;00m cont(\u001b[39mself\u001b[39;49m, g)\n",
      "File \u001b[0;32m~/downloads/TDD/TDD_new/Symbol_TDD/TDD/TrDD/BDD.py:851\u001b[0m, in \u001b[0;36mcont\u001b[0;34m(bdd1, bdd2)\u001b[0m\n\u001b[1;32m    848\u001b[0m var_out2\u001b[39m=\u001b[39m[var \u001b[39mfor\u001b[39;00m var \u001b[39min\u001b[39;00m bdd2\u001b[39m.\u001b[39mkey_2_index\u001b[39m.\u001b[39mkeys() ]\n\u001b[1;32m    850\u001b[0m var_out\u001b[39m=\u001b[39mvar_out1\u001b[39m+\u001b[39mvar_out2\n\u001b[0;32m--> 851\u001b[0m var_out\u001b[39m=\u001b[39mvar_sort(var_out) \u001b[39m#Index 已含有比較大小的函數\u001b[39;00m\n\u001b[1;32m    853\u001b[0m \u001b[39m# var_out_idx=[var.key for var in var_out]\u001b[39;00m\n\u001b[1;32m    854\u001b[0m \u001b[39m# var_cont_idx=[var.key for var in var_cont]\u001b[39;00m\n\u001b[1;32m    855\u001b[0m \u001b[39m# var_cont_idx=[var for var in var_cont_idx if not var in var_out_idx]\u001b[39;00m\n\u001b[1;32m    857\u001b[0m idx_2_key\u001b[39m=\u001b[39m{\u001b[39m-\u001b[39m\u001b[39m1\u001b[39m:\u001b[39m-\u001b[39m\u001b[39m1\u001b[39m}\n",
      "File \u001b[0;32m~/downloads/TDD/TDD_new/Symbol_TDD/TDD/TrDD/BDD.py:841\u001b[0m, in \u001b[0;36mvar_sort\u001b[0;34m(var)\u001b[0m\n\u001b[1;32m    839\u001b[0m idx\u001b[39m.\u001b[39msort( )\n\u001b[1;32m    840\u001b[0m \u001b[39mprint\u001b[39m(\u001b[39m'\u001b[39m\u001b[39mBDD 840\u001b[39m\u001b[39m'\u001b[39m,var)\n\u001b[0;32m--> 841\u001b[0m var_sort\u001b[39m=\u001b[39m [inverse_global_index_order[k] \u001b[39mfor\u001b[39;00m k \u001b[39min\u001b[39;00m idx]\n\u001b[1;32m    843\u001b[0m \u001b[39mreturn\u001b[39;00m var_sort\n",
      "File \u001b[0;32m~/downloads/TDD/TDD_new/Symbol_TDD/TDD/TrDD/BDD.py:841\u001b[0m, in \u001b[0;36m<listcomp>\u001b[0;34m(.0)\u001b[0m\n\u001b[1;32m    839\u001b[0m idx\u001b[39m.\u001b[39msort( )\n\u001b[1;32m    840\u001b[0m \u001b[39mprint\u001b[39m(\u001b[39m'\u001b[39m\u001b[39mBDD 840\u001b[39m\u001b[39m'\u001b[39m,var)\n\u001b[0;32m--> 841\u001b[0m var_sort\u001b[39m=\u001b[39m [inverse_global_index_order[k] \u001b[39mfor\u001b[39;00m k \u001b[39min\u001b[39;00m idx]\n\u001b[1;32m    843\u001b[0m \u001b[39mreturn\u001b[39;00m var_sort\n",
      "\u001b[0;31mKeyError\u001b[0m: inf"
     ]
    }
   ],
   "source": [
    "experiment(qubit_num=3,reps=3,function='EfficientSU2')"
   ]
  },
  {
   "cell_type": "code",
   "execution_count": null,
   "metadata": {},
   "outputs": [],
   "source": [
    "cir,cir2,data=circuit_generator(qubit_num=2,reps=1, function_name='EfficientSU2'\n",
    "                                ,basis_gates1=['id', 'rz', 'sx', 'x', 'cx']\n",
    "                                ,basis_gates2=['rx','ry','h','cx'])"
   ]
  },
  {
   "cell_type": "code",
   "execution_count": null,
   "metadata": {},
   "outputs": [
    {
     "data": {
      "text/html": [
       "<pre style=\"word-wrap: normal;white-space: pre;background: #fff0;line-height: 1.1;font-family: &quot;Courier New&quot;,Courier,monospace\">global phase: π\n",
       "     ┌─────────┐┌────┐┌──────────────┐┌──────────┐     ┌─────────┐┌────┐»\n",
       "q_0: ┤ Rz(π/2) ├┤ √X ├┤ Rz(θ[0] + π) ├┤ Rz(-π/2) ├──■──┤ Rz(π/2) ├┤ √X ├»\n",
       "     ├─────────┤├────┤├──────────────┤├──────────┤┌─┴─┐├─────────┤├────┤»\n",
       "q_1: ┤ Rz(π/2) ├┤ √X ├┤ Rz(θ[1] + π) ├┤ Rz(-π/2) ├┤ X ├┤ Rz(π/2) ├┤ √X ├»\n",
       "     └─────────┘└────┘└──────────────┘└──────────┘└───┘└─────────┘└────┘»\n",
       "«     ┌──────────────┐┌──────────┐\n",
       "«q_0: ┤ Rz(θ[2] + π) ├┤ Rz(-π/2) ├\n",
       "«     ├──────────────┤├──────────┤\n",
       "«q_1: ┤ Rz(θ[3] + π) ├┤ Rz(-π/2) ├\n",
       "«     └──────────────┘└──────────┘</pre>"
      ],
      "text/plain": [
       "global phase: π\n",
       "     ┌─────────┐┌────┐┌──────────────┐┌──────────┐     ┌─────────┐┌────┐»\n",
       "q_0: ┤ Rz(π/2) ├┤ √X ├┤ Rz(θ[0] + π) ├┤ Rz(-π/2) ├──■──┤ Rz(π/2) ├┤ √X ├»\n",
       "     ├─────────┤├────┤├──────────────┤├──────────┤┌─┴─┐├─────────┤├────┤»\n",
       "q_1: ┤ Rz(π/2) ├┤ √X ├┤ Rz(θ[1] + π) ├┤ Rz(-π/2) ├┤ X ├┤ Rz(π/2) ├┤ √X ├»\n",
       "     └─────────┘└────┘└──────────────┘└──────────┘└───┘└─────────┘└────┘»\n",
       "«     ┌──────────────┐┌──────────┐\n",
       "«q_0: ┤ Rz(θ[2] + π) ├┤ Rz(-π/2) ├\n",
       "«     ├──────────────┤├──────────┤\n",
       "«q_1: ┤ Rz(θ[3] + π) ├┤ Rz(-π/2) ├\n",
       "«     └──────────────┘└──────────┘"
      ]
     },
     "execution_count": 19,
     "metadata": {},
     "output_type": "execute_result"
    }
   ],
   "source": [
    "cir.draw()"
   ]
  },
  {
   "cell_type": "code",
   "execution_count": null,
   "metadata": {},
   "outputs": [
    {
     "name": "stdout",
     "output_type": "stream",
     "text": [
      "start cont  0.033989906311035156\n",
      "BDD 463 {'sin(θ[0])': 0, 'cos(θ[0])': 1}\n",
      "BDD 463 {'sin(θ[0])': 0, 'cos(θ[0])': 1}\n",
      "BDD 463 {'sin(θ[0])': 0, 'cos(θ[0])': 1}\n",
      "BDD 463 {'sin(θ[0])': 0, 'cos(θ[0])': 1}\n",
      "BDD 463 {'sin(θ[0])': 0, 'cos(θ[0])': 1}\n",
      "BDD 463 {'sin(θ[0])': 0, 'cos(θ[0])': 1}\n",
      "BDD 463 {'sin(θ[0])': 0, 'cos(θ[0])': 1}\n",
      "BDD 463 {'sin(θ[0])': 0, 'cos(θ[0])': 1}\n",
      "BDD 463 {'sin(θ[1])': 2, 'cos(θ[1])': 3}\n",
      "BDD 463 {'sin(θ[1])': 2, 'cos(θ[1])': 3}\n",
      "BDD 463 {'sin(θ[1])': 2, 'cos(θ[1])': 3}\n",
      "BDD 463 {'sin(θ[1])': 2, 'cos(θ[1])': 3}\n",
      "BDD 463 {'sin(θ[1])': 2, 'cos(θ[1])': 3}\n",
      "BDD 463 {'sin(θ[1])': 2, 'cos(θ[1])': 3}\n",
      "BDD 463 {'sin(θ[1])': 2, 'cos(θ[1])': 3}\n",
      "BDD 463 {'sin(θ[1])': 2, 'cos(θ[1])': 3}\n",
      "BDD 463 {'sin(θ[2])': 4, 'cos(θ[2])': 5}\n",
      "BDD 463 {'sin(θ[2])': 4, 'cos(θ[2])': 5}\n",
      "BDD 463 {'sin(θ[2])': 4, 'cos(θ[2])': 5}\n",
      "BDD 463 {'sin(θ[2])': 4, 'cos(θ[2])': 5}\n",
      "BDD 463 {'sin(θ[2])': 4, 'cos(θ[2])': 5}\n",
      "BDD 463 {'sin(θ[2])': 4, 'cos(θ[2])': 5}\n",
      "BDD 463 {'sin(θ[2])': 4, 'cos(θ[2])': 5}\n",
      "BDD 463 {'sin(θ[2])': 4, 'cos(θ[2])': 5}\n",
      "BDD 463 {'sin(θ[3])': 6, 'cos(θ[3])': 7}\n",
      "BDD 463 {'sin(θ[3])': 6, 'cos(θ[3])': 7}\n",
      "BDD 463 {'sin(θ[3])': 6, 'cos(θ[3])': 7}\n",
      "BDD 463 {'sin(θ[3])': 6, 'cos(θ[3])': 7}\n",
      "BDD 463 {'sin(θ[3])': 6, 'cos(θ[3])': 7}\n",
      "BDD 463 {'sin(θ[3])': 6, 'cos(θ[3])': 7}\n",
      "BDD 463 {'sin(θ[3])': 6, 'cos(θ[3])': 7}\n",
      "BDD 463 {'sin(θ[3])': 6, 'cos(θ[3])': 7}\n",
      "cont complete 0.029650211334228516\n",
      "add: 0 / 28 / 0.0\n",
      "cont: 22 / 112 / 0.19642857142857142\n"
     ]
    }
   ],
   "source": [
    "tdd1, output_dict=STDD_simulation(cir)\n",
    "get_count()"
   ]
  },
  {
   "cell_type": "code",
   "execution_count": null,
   "metadata": {},
   "outputs": [],
   "source": [
    "# tdd1.show()"
   ]
  },
  {
   "cell_type": "code",
   "execution_count": null,
   "metadata": {},
   "outputs": [
    {
     "data": {
      "image/png": "[encoded data removed]",
      "text/plain": [
       "<IPython.core.display.Image object>"
      ]
     },
     "execution_count": 22,
     "metadata": {},
     "output_type": "execute_result"
    }
   ],
   "source": [
    "weight=tdd1.node.successor[0].out_weight[0]\n",
    "weight.show()"
   ]
  },
  {
   "cell_type": "code",
   "execution_count": null,
   "metadata": {},
   "outputs": [],
   "source": [
    "# from TDD.TrDD.BDD import get_value_node\n",
    "# import sympy as sp\n",
    "# sym_base = sp.IndexedBase('θ')\n",
    "# get_value_node(weight,1,sym_base[2])"
   ]
  },
  {
   "cell_type": "code",
   "execution_count": null,
   "metadata": {},
   "outputs": [],
   "source": [
    "# cir.draw()"
   ]
  },
  {
   "cell_type": "code",
   "execution_count": null,
   "metadata": {},
   "outputs": [],
   "source": [
    "# cir2.draw()"
   ]
  },
  {
   "cell_type": "code",
   "execution_count": null,
   "metadata": {},
   "outputs": [
    {
     "name": "stdout",
     "output_type": "stream",
     "text": [
      "start cont  0.005723714828491211\n",
      "BDD 463 {'sin(θ[3])': 6, 'cos(θ[3])': 7}\n",
      "BDD 463 {'sin(θ[3])': 6, 'cos(θ[3])': 7}\n",
      "BDD 463 {'sin(θ[3])': 6, 'cos(θ[3])': 7}\n",
      "BDD 463 {'sin(θ[3])': 6, 'cos(θ[3])': 7}\n",
      "BDD 463 {'sin(θ[3])': 6, 'cos(θ[3])': 7}\n",
      "BDD 463 {'sin(θ[3])': 6, 'cos(θ[3])': 7}\n",
      "BDD 463 {'sin(θ[3])': 6, 'cos(θ[3])': 7}\n",
      "BDD 463 {'sin(θ[3])': 6, 'cos(θ[3])': 7}\n",
      "BDD 463 {'sin(θ[3])': 6, 'cos(θ[3])': 7}\n",
      "BDD 463 {'sin(θ[3])': 6, 'cos(θ[3])': 7}\n",
      "BDD 463 {'sin(θ[3])': 6, 'cos(θ[3])': 7}\n",
      "BDD 463 {'sin(θ[3])': 6, 'cos(θ[3])': 7}\n",
      "BDD 463 {'sin(θ[2])': 4, 'cos(θ[2])': 5}\n",
      "BDD 463 {'sin(θ[2])': 4, 'cos(θ[2])': 5}\n",
      "BDD 463 {'sin(θ[2])': 4, 'cos(θ[2])': 5}\n",
      "BDD 463 {'sin(θ[2])': 4, 'cos(θ[2])': 5}\n",
      "BDD 463 {'sin(θ[2])': 4, 'cos(θ[2])': 5}\n",
      "BDD 463 {'sin(θ[2])': 4, 'cos(θ[2])': 5}\n",
      "BDD 463 {'sin(θ[2])': 4, 'cos(θ[2])': 5}\n",
      "BDD 463 {'sin(θ[2])': 4, 'cos(θ[2])': 5}\n",
      "BDD 463 {'sin(θ[2])': 4, 'cos(θ[2])': 5}\n",
      "BDD 463 {'sin(θ[2])': 4, 'cos(θ[2])': 5}\n",
      "BDD 463 {'sin(θ[2])': 4, 'cos(θ[2])': 5}\n",
      "BDD 463 {'sin(θ[2])': 4, 'cos(θ[2])': 5}\n",
      "BDD 463 {'sin(θ[1])': 2, 'cos(θ[1])': 3}\n",
      "BDD 463 {'sin(θ[1])': 2, 'cos(θ[1])': 3}\n",
      "BDD 463 {'sin(θ[1])': 2, 'cos(θ[1])': 3}\n",
      "BDD 463 {'sin(θ[1])': 2, 'cos(θ[1])': 3}\n",
      "BDD 463 {'sin(θ[0])': 0, 'cos(θ[0])': 1}\n",
      "BDD 463 {'sin(θ[0])': 0, 'cos(θ[0])': 1}\n",
      "BDD 463 {'sin(θ[0])': 0, 'cos(θ[0])': 1}\n",
      "BDD 463 {'sin(θ[0])': 0, 'cos(θ[0])': 1}\n",
      "BDD 463 {'sin(θ[1])': 2, 'cos(θ[1])': 3}\n",
      "BDD 463 {'sin(θ[1])': 2, 'cos(θ[1])': 3}\n",
      "BDD 463 {'sin(θ[1])': 2, 'cos(θ[1])': 3}\n",
      "BDD 463 {'sin(θ[1])': 2, 'cos(θ[1])': 3}\n",
      "BDD 463 {'sin(θ[1])': 2, 'cos(θ[1])': 3}\n",
      "BDD 463 {'sin(θ[1])': 2, 'cos(θ[1])': 3}\n",
      "BDD 463 {'sin(θ[1])': 2, 'cos(θ[1])': 3}\n",
      "BDD 463 {'sin(θ[1])': 2, 'cos(θ[1])': 3}\n",
      "BDD 463 {'sin(θ[0])': 0, 'cos(θ[0])': 1}\n",
      "BDD 463 {'sin(θ[0])': 0, 'cos(θ[0])': 1}\n",
      "BDD 463 {'sin(θ[0])': 0, 'cos(θ[0])': 1}\n",
      "BDD 463 {'sin(θ[0])': 0, 'cos(θ[0])': 1}\n",
      "BDD 463 {'sin(θ[0])': 0, 'cos(θ[0])': 1}\n",
      "BDD 463 {'sin(θ[0])': 0, 'cos(θ[0])': 1}\n",
      "BDD 463 {'sin(θ[0])': 0, 'cos(θ[0])': 1}\n",
      "BDD 463 {'sin(θ[0])': 0, 'cos(θ[0])': 1}\n",
      "cont complete 0.036402225494384766\n"
     ]
    },
    {
     "data": {
      "text/plain": [
       "{'Benchmark Name': None,\n",
       " 'Parameter num': 4,\n",
       " 'Qubit num.': 2,\n",
       " 'Gate num.': 17,\n",
       " 'Time': 0.036402225494384766,\n",
       " 'Node num. max': 8,\n",
       " 'Node num. final': 7,\n",
       " 'gu1': 76,\n",
       " 'gu2': 33}"
      ]
     },
     "execution_count": 26,
     "metadata": {},
     "output_type": "execute_result"
    }
   ],
   "source": [
    "tdd, output_dict=STDD_verify(cir, cir2)\n",
    "output_dict"
   ]
  },
  {
   "cell_type": "code",
   "execution_count": null,
   "metadata": {},
   "outputs": [
    {
     "name": "stdout",
     "output_type": "stream",
     "text": [
      "start cont  0.0008394718170166016\n",
      "BDD 463 {'sin(s0)': 0, 'cos(s0)': 1}\n",
      "BDD 463 {'sin(s0)': 0, 'cos(s0)': 1}\n",
      "BDD 463 {'sin(s0)': 0, 'cos(s0)': 1}\n",
      "BDD 463 {'sin(s0)': 0, 'cos(s0)': 1}\n",
      "BDD 463 {'sin(s0)': 0, 'cos(s0)': 1}\n",
      "BDD 463 {'sin(s0)': 0, 'cos(s0)': 1}\n",
      "BDD 463 {'sin(s0)': 0, 'cos(s0)': 1}\n",
      "BDD 463 {'sin(s0)': 0, 'cos(s0)': 1}\n",
      "cont complete 0.004400730133056641\n"
     ]
    },
    {
     "data": {
      "text/plain": [
       "{'Benchmark Name': None,\n",
       " 'Parameter num': 1,\n",
       " 'Qubit num.': 1,\n",
       " 'Gate num.': 1,\n",
       " 'Time': 0.004400730133056641,\n",
       " 'Node num. max': 4,\n",
       " 'Node num. final': 4,\n",
       " 'gu1': 16,\n",
       " 'gu2': 6}"
      ]
     },
     "execution_count": 27,
     "metadata": {},
     "output_type": "execute_result"
    }
   ],
   "source": [
    "tdd, output_dict=STDD_verify(simple, simple2)\n",
    "output_dict"
   ]
  },
  {
   "cell_type": "code",
   "execution_count": null,
   "metadata": {},
   "outputs": [],
   "source": [
    "a=tdd.show()"
   ]
  },
  {
   "cell_type": "code",
   "execution_count": null,
   "metadata": {},
   "outputs": [
    {
     "data": {
      "text/plain": [
       "{\n",
       "  \"check_time\": 0.000213621,\n",
       "  \"equivalence\": \"equivalent_up_to_global_phase\",\n",
       "  \"parameterized\": {\n",
       "    \"performed_instantiations\": 0\n",
       "  },\n",
       "  \"preprocessing_time\": 0.000214922\n",
       "}"
      ]
     },
     "execution_count": 29,
     "metadata": {},
     "output_type": "execute_result"
    }
   ],
   "source": [
    "from mqt import qcec\n",
    "\n",
    "qcec.verify(cir, cir2)"
   ]
  },
  {
   "cell_type": "code",
   "execution_count": null,
   "metadata": {},
   "outputs": [
    {
     "data": {
      "text/plain": [
       "{\n",
       "  \"check_time\": 0.012821667000000002,\n",
       "  \"equivalence\": \"not_equivalent\",\n",
       "  \"parameterized\": {\n",
       "    \"performed_instantiations\": 2\n",
       "  },\n",
       "  \"preprocessing_time\": 0.000733772,\n",
       "  \"simulations\": {\n",
       "    \"performed\": 2,\n",
       "    \"started\": 4\n",
       "  }\n",
       "}"
      ]
     },
     "execution_count": 30,
     "metadata": {},
     "output_type": "execute_result"
    }
   ],
   "source": [
    "qcec.verify(simple, simple2\n",
    "            # , additional_instantiations=10\n",
    "            )"
   ]
  },
  {
   "cell_type": "code",
   "execution_count": null,
   "metadata": {},
   "outputs": [],
   "source": [
    "# tdd.show()"
   ]
  },
  {
   "attachments": {},
   "cell_type": "markdown",
   "metadata": {},
   "source": [
    "# Compare"
   ]
  },
  {
   "cell_type": "code",
   "execution_count": null,
   "metadata": {},
   "outputs": [
    {
     "data": {
      "image/png": "[encoded data removed]",
      "text/plain": [
       "<Figure size 603.508x117.056 with 1 Axes>"
      ]
     },
     "execution_count": 32,
     "metadata": {},
     "output_type": "execute_result"
    }
   ],
   "source": [
    "s0=Parameter('s%i'%0)\n",
    "s1=Parameter('s%i'%1)\n",
    "test=QuantumCircuit(1)\n",
    "test.rx(np.pi/3,0)\n",
    "test.rz(s0,0)\n",
    "test.rz(np.pi/2,0)\n",
    "test.rx(np.pi/3,0)\n",
    "test.rz(s1,0)\n",
    "test.rz(-np.pi/2,0)\n",
    "\n",
    "test.draw('mpl')"
   ]
  },
  {
   "cell_type": "code",
   "execution_count": null,
   "metadata": {},
   "outputs": [
    {
     "data": {
      "image/png": "[encoded data removed]",
      "text/plain": [
       "<Figure size 436.286x117.056 with 1 Axes>"
      ]
     },
     "execution_count": 33,
     "metadata": {},
     "output_type": "execute_result"
    }
   ],
   "source": [
    "test2=QuantumCircuit(1)\n",
    "test2.rx(np.pi/3,0)\n",
    "test2.rz(s0,0)\n",
    "test2.ry(np.pi/3,0)\n",
    "test2.rz(s1,0)\n",
    "\n",
    "test2.draw('mpl')"
   ]
  },
  {
   "cell_type": "code",
   "execution_count": null,
   "metadata": {},
   "outputs": [
    {
     "name": "stdout",
     "output_type": "stream",
     "text": [
      "start cont  0.0029544830322265625\n",
      "BDD 463 {'sin(s1)': 2, 'cos(s1)': 3}\n",
      "BDD 463 {'sin(s1)': 2, 'cos(s1)': 3}\n",
      "BDD 463 {'sin(s1)': 2, 'cos(s1)': 3}\n",
      "BDD 463 {'sin(s1)': 2, 'cos(s1)': 3}\n",
      "BDD 463 {'sin(s1)': 2, 'cos(s1)': 3}\n",
      "BDD 463 {'sin(s1)': 2, 'cos(s1)': 3}\n",
      "BDD 463 {'sin(s1)': 2, 'cos(s1)': 3}\n",
      "BDD 463 {'sin(s1)': 2, 'cos(s1)': 3}\n",
      "BDD 463 {'sin(s0)': 0, 'cos(s0)': 1}\n",
      "BDD 463 {'sin(s0)': 0, 'cos(s0)': 1}\n",
      "BDD 463 {'sin(s0)': 0, 'cos(s0)': 1}\n",
      "BDD 463 {'sin(s0)': 0, 'cos(s0)': 1}\n",
      "BDD 463 {'sin(s0)': 0, 'cos(s0)': 1}\n",
      "BDD 463 {'sin(s0)': 0, 'cos(s0)': 1}\n",
      "BDD 463 {'sin(s0)': 0, 'cos(s0)': 1}\n",
      "BDD 463 {'sin(s0)': 0, 'cos(s0)': 1}\n",
      "cont complete 0.010690450668334961\n"
     ]
    },
    {
     "data": {
      "text/plain": [
       "{'Benchmark Name': None,\n",
       " 'Parameter num': 2,\n",
       " 'Qubit num.': 1,\n",
       " 'Gate num.': 6,\n",
       " 'Time': 0.010690450668334961,\n",
       " 'Node num. max': 4,\n",
       " 'Node num. final': 4,\n",
       " 'gu1': 25,\n",
       " 'gu2': 17}"
      ]
     },
     "execution_count": 34,
     "metadata": {},
     "output_type": "execute_result"
    }
   ],
   "source": [
    "tdd, output_dict=STDD_verify(test, test2)\n",
    "output_dict"
   ]
  },
  {
   "cell_type": "code",
   "execution_count": null,
   "metadata": {},
   "outputs": [
    {
     "data": {
      "image/png": "[encoded data removed]",
      "text/plain": [
       "<IPython.core.display.Image object>"
      ]
     },
     "execution_count": 35,
     "metadata": {},
     "output_type": "execute_result"
    }
   ],
   "source": [
    "tdd.show()"
   ]
  },
  {
   "cell_type": "code",
   "execution_count": null,
   "metadata": {},
   "outputs": [
    {
     "data": {
      "text/plain": [
       "{\n",
       "  \"check_time\": 0.003521649,\n",
       "  \"equivalence\": \"not_equivalent\",\n",
       "  \"parameterized\": {\n",
       "    \"performed_instantiations\": 1\n",
       "  },\n",
       "  \"preprocessing_time\": 0.000468346,\n",
       "  \"simulations\": {\n",
       "    \"performed\": 0,\n",
       "    \"started\": 2\n",
       "  }\n",
       "}"
      ]
     },
     "execution_count": 36,
     "metadata": {},
     "output_type": "execute_result"
    }
   ],
   "source": [
    "qcec.verify(test, test2)"
   ]
  },
  {
   "cell_type": "code",
   "execution_count": null,
   "metadata": {},
   "outputs": [
    {
     "name": "stdout",
     "output_type": "stream",
     "text": [
      "solution x*y*(3.0 + 4.0*I) + 2.0*I*x\n"
     ]
    }
   ],
   "source": [
    "import sympy\n",
    "\n",
    "x = sympy.Symbol('x')\n",
    "y = sympy.Symbol('y')\n",
    "epi=1e-10\n",
    "expr = (1e-15 + 2j)*x + (3 + 4j)*x*y\n",
    "\n",
    "new_expr=0\n",
    "for term in expr.args:\n",
    "    # print(term)\n",
    "    free_symbols=term.free_symbols\n",
    "    for i in range(len(free_symbols)):\n",
    "        if i==0:\n",
    "            coeff = term.coeff(free_symbols.pop())\n",
    "        else:\n",
    "            coeff = coeff.coeff(free_symbols.pop())\n",
    "    if abs(coeff)-abs(coeff.as_real_imag()[0]) < epi:\n",
    "        coeff=coeff.as_real_imag()[0]\n",
    "    elif abs(coeff)-abs(coeff.as_real_imag()[1]) < epi:\n",
    "        coeff=coeff.as_real_imag()[1] * sympy.I\n",
    "    symbols = term.free_symbols\n",
    "    terms=1 \n",
    "    for symbol in symbols:\n",
    "        terms*=symbol\n",
    "    # print('term',coeff*terms)\n",
    "    new_expr+=coeff*terms\n",
    "print('solution',new_expr)\n"
   ]
  },
  {
   "cell_type": "code",
   "execution_count": null,
   "metadata": {},
   "outputs": [],
   "source": [
    "\n",
    "class Tensor:\n",
    "    def __init__(self,data=[],index=[],name=None,qubits=None):\n",
    "        self.data=data\n",
    "        self.index_set=index\n",
    "        self.name=name\n",
    "        self.qubits=qubits #This is used only when it represent a quantum gate \n",
    "        self._tdd=None\n",
    "    @property\n",
    "    def tdd(self):\n",
    "        return self._tdd\n",
    "    @tdd.setter\n",
    "    def tdd(self):\n",
    "        from TDD.TDD import get_tdd\n",
    "        return get_tdd(self.data,self.index_set)  "
   ]
  },
  {
   "cell_type": "code",
   "execution_count": null,
   "metadata": {},
   "outputs": [],
   "source": [
    "# function_list=['RealAmplitudes','EfficientSU2']\n",
    "# experiment_setup=[(5,3)]\n",
    "    \n",
    "# for qubit_num,reps in experiment_setup:\n",
    "#     for function in function_list:\n",
    "#             experiment(qubit_num=qubit_num, reps=reps, function=function, optimizer=None, file_name='STDD benchmark.csv')\n",
    "        "
   ]
  },
  {
   "cell_type": "code",
   "execution_count": null,
   "metadata": {},
   "outputs": [],
   "source": [
    "\n",
    "# with open('STDD cir_partition2 benchmark.csv', 'w', newline='') as csvfile:\n",
    "#     fieldnames=['Benchmark Name','Parameter num.','Qubit num.'\n",
    "# ,'Gate num._1','Time_1','Node num. max_1','Node num. final_1','gu1_1','gu2_1'\n",
    "# ,'Gate num._2','Time_2','Node num. max_2','Node num. final_2','gu1_2','gu2_2'\n",
    "# ,'Check_time','Totol_time','Equivalent']\n",
    "#     writer = csv.DictWriter(csvfile, fieldnames=fieldnames)\n",
    "#     writer.writeheader()\n"
   ]
  }
 ],
 "metadata": {
  "kernelspec": {
   "display_name": "qcec",
   "language": "python",
   "name": "python3"
  },
  "language_info": {
   "codemirror_mode": {
    "name": "ipython",
    "version": 3
   },
   "file_extension": ".py",
   "mimetype": "text/x-python",
   "name": "python",
   "nbconvert_exporter": "python",
   "pygments_lexer": "ipython3",
   "version": "3.9.0"
  },
  "orig_nbformat": 4,
  "vscode": {
   "interpreter": {
    "hash": "0b9ef09a9a3250f999e7cf7647bb92657449fd8a8bc05aa98b9630ea0804629e"
   }
  }
 },
 "nbformat": 4,
 "nbformat_minor": 2
}
