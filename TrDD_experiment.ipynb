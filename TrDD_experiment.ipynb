{
 "cells": [
  {
   "cell_type": "code",
   "execution_count": 1,
   "metadata": {},
   "outputs": [],
   "source": [
    "import time,csv\n",
    "import numpy as np\n",
    "\n",
    "from TDD.TDD import global_norm"
   ]
  },
  {
   "cell_type": "code",
   "execution_count": 2,
   "metadata": {},
   "outputs": [],
   "source": [
    "from TDD.TDD import Ini_TDD\n",
    "from TDD.TDD_Q import cir_2_tn,get_real_qubit_num\n",
    "\n",
    "def STDD_simulation(cir, Benchmark_Name=None, unique_table_reset=True, add_inputs_list=None, optimizer=None):\n",
    "    n=get_real_qubit_num(cir)\n",
    "    tn,indices=cir_2_tn(cir)\n",
    "    Parameter_num=len(cir.parameters)\n",
    "    #add y indices\n",
    "    indices2=[]\n",
    "    for i, item in enumerate(indices):\n",
    "        indices2.append(item)\n",
    "        if item[0]=='y':\n",
    "            num=int(item.replace('y',''))\n",
    "            # indices2.append('z%i'%num)\n",
    "    t_start=time.time()\n",
    "    #add sin cos indices\n",
    "\n",
    "    '''\n",
    "    TrDD process start\n",
    "    '''\n",
    "    sin_str=set()\n",
    "    cos_str=set()\n",
    "    for tensor in tn.tensors:\n",
    "        for element in tensor.data.flatten(): \n",
    "            from sympy.core.expr import Expr \n",
    "            if isinstance(element,Expr):\n",
    "                for symbol in element.free_symbols:\n",
    "                    sin_str.add('sin('+str(symbol)+')')\n",
    "                    cos_str.add('cos('+str(symbol)+')')\n",
    "    sin_str=list(sin_str)\n",
    "    sin_str.sort()\n",
    "    cos_str=list(cos_str)\n",
    "    cos_str.sort()\n",
    "    sym_str=[]\n",
    "    for i in range(len(sin_str)):\n",
    "        sym_str.append(sin_str[i])\n",
    "        sym_str.append(cos_str[i])\n",
    "\n",
    "    # TDD process\n",
    "    Ini_TDD(indices2,sym_str,type='TrDD',unique_table_reset=unique_table_reset)\n",
    "\n",
    "    '''\n",
    "    TrDD process end\n",
    "    '''\n",
    "\n",
    "    '''\n",
    "    EXP process start \n",
    "    '''\n",
    "    # from sympy import Symbol\n",
    "    # parameters_dict=dict((Symbol(v.name.replace(\"[\",\"\").replace(\"]\",\"\")),k) for k, v in dict(enumerate(cir.parameters)).items())\n",
    "    # Ini_TDD(indices2,type='Exp',var=parameters_dict,unique_table_reset=unique_table_reset)\n",
    "    '''\n",
    "    EXP process end \n",
    "    '''\n",
    "\n",
    "    if add_inputs_list:\n",
    "        from TDD.TDD_Q import add_inputs\n",
    "        # add_inputs(tn,[0]*n,n)\n",
    "        add_inputs(tn,add_inputs_list)\n",
    "\n",
    "    start_cont=time.time()-t_start\n",
    "    # print('start cont ',start_cont)\n",
    "    tdd, Max_node_num=tn.cont(optimizer=optimizer,max_node=True)\n",
    "    cont_time=time.time()-start_cont-t_start\n",
    "    # print('cont complete',cont_time)\n",
    "\n",
    "    from TDD.TDD import get_unique_table_num as gu1\n",
    "    from TDD.TrDD.BDD import get_unique_table_num as gu2\n",
    "    output_dict={'Benchmark Name':Benchmark_Name,\n",
    "            'Parameter num': Parameter_num,\n",
    "            'Qubit num.':tn.qubits_num,\n",
    "            'Gate num.':len(cir.data),\n",
    "            'Time':cont_time,\n",
    "            'Node num. max':Max_node_num,\n",
    "            'Node num. final':tdd.node_number(),\n",
    "            'gu1':gu1(),\n",
    "            'gu2':gu2()\n",
    "    }\n",
    "    return tdd, output_dict"
   ]
  },
  {
   "cell_type": "code",
   "execution_count": 3,
   "metadata": {},
   "outputs": [],
   "source": [
    "def STDD_verify(cir, cir2, Benchmark_Name=None, unique_table_reset=True, add_inputs_list=None, optimizer=None):\n",
    "    n=get_real_qubit_num(cir)\n",
    "    tn, indices = cir_2_tn(cir.compose(cir2.inverse()))\n",
    "    Parameter_num = cir.num_parameters\n",
    "    t_start=time.time()\n",
    "\n",
    "    '''\n",
    "    TrDD process start\n",
    "    '''\n",
    "    # add sin cos indices\n",
    "    sin_str=set()\n",
    "    cos_str=set()\n",
    "    for tensor in tn.tensors:\n",
    "        for element in tensor.data.flatten(): \n",
    "            from sympy.core.expr import Expr \n",
    "            if isinstance(element,Expr):\n",
    "                for symbol in element.free_symbols:\n",
    "                    sin_str.add('sin('+str(symbol)+')')\n",
    "                    cos_str.add('cos('+str(symbol)+')')\n",
    "    sin_str=list(sin_str)\n",
    "    sin_str.sort()\n",
    "    cos_str=list(cos_str)\n",
    "    cos_str.sort()\n",
    "    sym_str=[]\n",
    "    for i in range(len(sin_str)):\n",
    "        sym_str.append(sin_str[i])\n",
    "        sym_str.append(cos_str[i])\n",
    "\n",
    "    # TDD process\n",
    "    Ini_TDD(indices,sym_str,type='TrDD',unique_table_reset=unique_table_reset)\n",
    "\n",
    "    '''\n",
    "    TrDD process end\n",
    "    '''\n",
    "\n",
    "    '''\n",
    "    EXP process start \n",
    "    '''\n",
    "    # from sympy import Symbol\n",
    "    # parameters_dict=dict((Symbol(v.name.replace(\"[\",\"\").replace(\"]\",\"\")),k) for k, v in dict(enumerate(cir.parameters)).items())\n",
    "    # Ini_TDD(indices,type='Exp',var=parameters_dict,unique_table_reset=unique_table_reset)\n",
    "    '''\n",
    "    EXP process end \n",
    "    '''\n",
    "\n",
    "    if add_inputs_list:\n",
    "        from TDD.TDD_Q import add_inputs\n",
    "        # add_inputs(tn,[0]*n,n)\n",
    "        add_inputs(tn,add_inputs_list)\n",
    "\n",
    "    def cont2(tn,l1):\n",
    "        from TDD.TDD import cont, get_identity_tdd\n",
    "        max_node_num=0\n",
    "        tdd=get_identity_tdd()\n",
    "        l2=len(tn.tensors)-l1\n",
    "        l=min(l1,l2)\n",
    "        d=l1-l2\n",
    "        r=int(l1/l2) if d>0 else int(l2/l1)\n",
    "        if r == 1:\n",
    "            for i in range(l):\n",
    "                tdd1=tn.tensors[-(i+1)+l1].tdd()\n",
    "                tdd=cont(tdd1,tdd)\n",
    "                max_node_num=max(max_node_num,tdd.node_number())\n",
    "                tdd2=tn.tensors[i+l1].tdd()\n",
    "                tdd=cont(tdd,tdd2)\n",
    "                max_node_num=max(max_node_num,tdd.node_number())\n",
    "            if d>0:\n",
    "                for i in range(d):\n",
    "                    tdd1=tn.tensors[-(i+l+1)+l1].tdd()\n",
    "                    tdd=cont(tdd1,tdd)\n",
    "                    max_node_num=max(max_node_num,tdd.node_number())\n",
    "            elif d<0:\n",
    "                for i in range(abs(d)):\n",
    "                    tdd2=tn.tensors[i+l+l1].tdd()\n",
    "                    tdd=cont(tdd,tdd2)\n",
    "                    max_node_num=max(max_node_num,tdd.node_number())\n",
    "        elif d>0:\n",
    "            for i in range(l2):\n",
    "                for j in range(r):\n",
    "                    tdd1=tn.tensors[-(r*i+j+1)+l1].tdd()\n",
    "                    tdd=cont(tdd1,tdd)\n",
    "                    max_node_num=max(max_node_num,tdd.node_number())\n",
    "                tdd2=tn.tensors[i+l1].tdd()\n",
    "                tdd=cont(tdd,tdd2)\n",
    "                max_node_num=max(max_node_num,tdd.node_number())\n",
    "            d2=l1-r*l2\n",
    "            if d2 !=0:\n",
    "                for i in range (d2):\n",
    "                    tdd1=tn.tensors[-(i+r*l2+1)+l1].tdd()\n",
    "                    tdd=cont(tdd1,tdd)\n",
    "                    max_node_num=max(max_node_num,tdd.node_number())\n",
    "        elif d<0:\n",
    "            for i in range(l1):\n",
    "                tdd1=tn.tensors[-(i+1)+l1].tdd()\n",
    "                tdd=cont(tdd1,tdd)\n",
    "                max_node_num=max(max_node_num,tdd.node_number())\n",
    "                for j in range(r):\n",
    "                    tdd2=tn.tensors[r*i+j+l1].tdd()\n",
    "                    tdd=cont(tdd,tdd2)\n",
    "                    max_node_num=max(max_node_num,tdd.node_number())\n",
    "            d2=l2-r*l1\n",
    "            if d2 !=0:\n",
    "                for i in range(d2):\n",
    "                    tdd2=tn.tensors[i+(r+1)*l1].tdd()\n",
    "                    tdd=cont(tdd,tdd2)\n",
    "                    max_node_num=max(max_node_num,tdd.node_number())\n",
    "        return tdd, max_node_num\n",
    "\n",
    "    l1=len(cir.data)\n",
    "\n",
    "    start_cont=time.time()-t_start\n",
    "    # print('start cont ',start_cont)\n",
    "    tdd, Max_node_num= cont2(tn,l1)\n",
    "    cont_time=time.time()-start_cont-t_start\n",
    "    # print('cont complete',cont_time)\n",
    "    \n",
    "    from qiskit import QuantumCircuit\n",
    "    identity_cir = QuantumCircuit(n)\n",
    "    for i in range(n):\n",
    "        identity_cir.id(i)\n",
    "    identity, ouput_dict = STDD_simulation(identity_cir, unique_table_reset= False)\n",
    "    if tdd.node !=  identity.node:\n",
    "        equivalent = 'not_equivalent'\n",
    "    elif tdd.weight == identity.weight:\n",
    "        equivalent = 'equivalent'\n",
    "    else:\n",
    "        equivalent = 'equivalent_up_to_global_phase'\n",
    "\n",
    "\n",
    "    from TDD.TDD import get_unique_table_num as gu1\n",
    "    from TDD.TrDD.BDD import get_unique_table_num as gu2\n",
    "    output_dict={'Benchmark Name':Benchmark_Name,\n",
    "            'Parameter num.': Parameter_num,\n",
    "            'Qubit num.':tn.qubits_num,\n",
    "            'Gate num1.':len(cir.data),\n",
    "            'Gate num2.':len(cir2.data),\n",
    "            'Node num. max':Max_node_num,\n",
    "            'Node num. final':tdd.node_number(),\n",
    "            'gu1':gu1(),\n",
    "            'gu2':gu2(),\n",
    "            'Equivalent':equivalent , \n",
    "            'Time':cont_time\n",
    "\n",
    "    }\n",
    "    return tdd, output_dict"
   ]
  },
  {
   "cell_type": "code",
   "execution_count": 4,
   "metadata": {},
   "outputs": [],
   "source": [
    "def STDD_verify2(cir, cir2, Benchmark_Name=None, unique_table_reset=True, add_inputs_list=None, optimizer=None):\n",
    "    n=get_real_qubit_num(cir)\n",
    "    cir_composed  = cir.compose(cir2.inverse())\n",
    "\n",
    "    tensor_count=0\n",
    "    Parameter_tensor_location={}\n",
    "\n",
    "    from sympy import IndexedBase, Symbol\n",
    "    for gate in cir_composed.data:\n",
    "        if gate.operation.is_parameterized():\n",
    "            param_expr = gate.operation.params[0] \n",
    "\n",
    "            sym_str=param_expr.parameters.copy().pop().name\n",
    "            def get_numbers(s):\n",
    "                import re\n",
    "                # 使用正則表達式找到所有匹配\"\\d+\"的子串，即連續的一個或多個數字\n",
    "                numbers = re.findall(\"\\d+\", s)\n",
    "                return int(numbers[0])\n",
    "            if '[' in sym_str: #利用IndexedBase去對應qiskit生成的Parameter(θ[0])的變數\n",
    "                sym_str=sym_str.replace(\"[\",\"\").replace(\"]\",\"\")\n",
    "                sym_order=get_numbers(sym_str)\n",
    "                sym_str=sym_str.replace(str(sym_order),\"\")\n",
    "                sym_base = IndexedBase(sym_str)\n",
    "                s=sym_base[sym_order]\n",
    "            else:\n",
    "                s=Symbol(sym_str)\n",
    "            Parameter_tensor_location[tensor_count]= s\n",
    "        tensor_count += 1\n",
    "    tn, indices = cir_2_tn(cir_composed)\n",
    "    Parameter_num = cir.num_parameters\n",
    "    t_start=time.time()\n",
    "\n",
    "    '''\n",
    "    TrDD process start\n",
    "    '''\n",
    "    # add sin cos indices\n",
    "    sin_str=set()\n",
    "    cos_str=set()\n",
    "    \n",
    "    for tensor in tn.tensors:\n",
    "        for element in tensor.data.flatten(): \n",
    "            from sympy.core.expr import Expr \n",
    "            if isinstance(element,Expr):\n",
    "                for symbol in element.free_symbols:\n",
    "                    sin_str.add('sin('+str(symbol)+')')\n",
    "                    cos_str.add('cos('+str(symbol)+')')\n",
    "\n",
    "        \n",
    "    sin_str=list(sin_str)\n",
    "    sin_str.sort()\n",
    "    cos_str=list(cos_str)\n",
    "    cos_str.sort()\n",
    "    sym_str=[]\n",
    "    for i in range(len(sin_str)):\n",
    "        sym_str.append(sin_str[i])\n",
    "        sym_str.append(cos_str[i])\n",
    "\n",
    "    # TDD process\n",
    "\n",
    "    Ini_TDD(indices,sym_str,type='TrDD',unique_table_reset=unique_table_reset)\n",
    "    \n",
    "\n",
    "    '''\n",
    "    TrDD process end\n",
    "    '''\n",
    "\n",
    "    '''\n",
    "    EXP process start \n",
    "    '''\n",
    "    # from sympy import Symbol\n",
    "    # parameters_dict=dict((Symbol(v.name.replace(\"[\",\"\").replace(\"]\",\"\")),k) for k, v in dict(enumerate(cir.parameters)).items())\n",
    "    # Ini_TDD(indices,type='Exp',var=parameters_dict,unique_table_reset=unique_table_reset)\n",
    "    '''\n",
    "    EXP process end \n",
    "    '''\n",
    "\n",
    "    if add_inputs_list:\n",
    "        from TDD.TDD_Q import add_inputs\n",
    "        # add_inputs(tn,[0]*n,n)\n",
    "        add_inputs(tn,add_inputs_list)\n",
    "\n",
    "    def cont3(tn,l1):\n",
    "        from TDD.TDD import cont, get_identity_tdd\n",
    "\n",
    "        max_node_num=0\n",
    "        tdd=get_identity_tdd()\n",
    "        \n",
    "        tensor_location1= l1 -1\n",
    "        tensor_location2= l1\n",
    "        tensors_len = len(tn.tensors)\n",
    "        Parameter_location = Parameter_tensor_location.keys()\n",
    "\n",
    "        #Cont between two parameters(contain).\n",
    "        def inner_cont (tdd, tensor_location1, tensor_location2, max_node_num):\n",
    "            have_cont = False\n",
    "            if tensor_location1 not in Parameter_location and tensor_location1>=0:\n",
    "                tdd1=tn.tensors[tensor_location1].tdd()\n",
    "                tdd=cont(tdd1,tdd)\n",
    "                max_node_num=max(max_node_num,tdd.node_number())\n",
    "                tensor_location1 -= 1\n",
    "                have_cont = True\n",
    "            if tensor_location2 not in Parameter_location and tensor_location2 < tensors_len:\n",
    "                tdd2=tn.tensors[tensor_location2].tdd()\n",
    "                tdd=cont(tdd,tdd2)\n",
    "                max_node_num=max(max_node_num,tdd.node_number())\n",
    "                tensor_location2 += 1\n",
    "                have_cont = True\n",
    "            if have_cont:\n",
    "                tdd, tensor_location1, tensor_location2, max_node_num = inner_cont(tdd, tensor_location1, tensor_location2, max_node_num)\n",
    "            else:\n",
    "                if tensor_location1>=0:\n",
    "                    tdd1=tn.tensors[tensor_location1].tdd()\n",
    "                    tdd=cont(tdd1,tdd)\n",
    "                    max_node_num=max(max_node_num,tdd.node_number())\n",
    "                if tensor_location2 < tensors_len:\n",
    "                    tdd2=tn.tensors[tensor_location2].tdd()\n",
    "                    tdd=cont(tdd,tdd2)\n",
    "                    max_node_num=max(max_node_num,tdd.node_number())\n",
    "\n",
    "                tensor_location1 -=1\n",
    "                tensor_location2 +=1\n",
    "            return tdd, tensor_location1, tensor_location2, max_node_num\n",
    "        \n",
    "        #check whether parameters exist in the tdd\n",
    "        from functools import lru_cache\n",
    "        @lru_cache(maxsize=None)\n",
    "        def parameter_inorder_check(node):\n",
    "            #inorder triverse the tdd\n",
    "            if node.key == -1:\n",
    "                return True\n",
    "            #left node\n",
    "            if node.out_weight[0].node.key !=-1:\n",
    "                return False\n",
    "            #right node\n",
    "            if node.out_weight[1].node.key !=-1:\n",
    "                return False\n",
    "\n",
    "            #check left node\n",
    "            if not parameter_inorder_check(node.successor[0]):\n",
    "                return False\n",
    "            #check right node\n",
    "            if not parameter_inorder_check(node.successor[1]):\n",
    "                return False\n",
    "            \n",
    "            return True\n",
    "\n",
    "        while tensor_location1 >= 0 or tensor_location2 < len(tn.tensors):\n",
    "            # print('tensor_location',tensor_location1,tensor_location2)\n",
    "            \n",
    "            tdd, tensor_location1, tensor_location2, max_node_num = inner_cont(tdd, tensor_location1, tensor_location2, max_node_num)        \n",
    "            if not parameter_inorder_check(tdd.node):\n",
    "                break\n",
    "            \n",
    "        return tdd, max_node_num\n",
    "\n",
    "\n",
    "    l1=len(cir.data)\n",
    "    # print('circuit len',l1,len(cir2.data))\n",
    "    start_cont=time.time()-t_start\n",
    "    # print('start cont ',start_cont)\n",
    "    tdd, Max_node_num= cont3(tn,l1)\n",
    "    cont_time=time.time()-start_cont-t_start\n",
    "    # print('cont complete',cont_time)\n",
    "    \n",
    "    from qiskit import QuantumCircuit\n",
    "    identity_cir = QuantumCircuit(n)\n",
    "    for i in range(n):\n",
    "        identity_cir.id(i)\n",
    "    identity, ouput_dict = STDD_simulation(identity_cir, unique_table_reset= False)\n",
    "    if tdd.node !=  identity.node:\n",
    "        equivalent = 'not_equivalent'\n",
    "    elif tdd.weight == identity.weight:\n",
    "        equivalent = 'equivalent'\n",
    "    else:\n",
    "        equivalent = 'equivalent_up_to_global_phase'\n",
    "\n",
    "\n",
    "    from TDD.TDD import get_unique_table_num as gu1\n",
    "    from TDD.TrDD.BDD import get_unique_table_num as gu2\n",
    "    output_dict={'Benchmark Name':Benchmark_Name,\n",
    "            'Parameter num.': Parameter_num,\n",
    "            'Qubit num.':tn.qubits_num,\n",
    "            'Gate num1.':len(cir.data),\n",
    "            'Gate num2.':len(cir2.data),\n",
    "            'Node num. max':Max_node_num,\n",
    "            'Node num. final':tdd.node_number(),\n",
    "            'gu1':gu1(),\n",
    "            'gu2':gu2(),\n",
    "            'Equivalent':equivalent , \n",
    "            'Time':cont_time\n",
    "\n",
    "    }\n",
    "    return tdd, output_dict"
   ]
  },
  {
   "cell_type": "code",
   "execution_count": 5,
   "metadata": {},
   "outputs": [],
   "source": [
    "def verify(tdd1,tdd2):\n",
    "    start_time= time.time()\n",
    "    # equivalent without global_norm\n",
    "    if tdd1==tdd2:\n",
    "        check_time=time.time()-start_time\n",
    "        output_dict={\"check_time\":check_time,\"equivalence\":\"equivalent\"}\n",
    "        # print(output_dict)\n",
    "        return output_dict\n",
    "    elif tdd1.node==tdd2.node:\n",
    "        check_time=time.time()-start_time\n",
    "        output_dict={\"check_time\":check_time,\"equivalence\":\"equivalent_up_to_global_phase\"}\n",
    "        # print(output_dict)\n",
    "        return output_dict\n",
    "    tddn=global_norm(tdd1)\n",
    "    tddn2=global_norm(tdd2)\n",
    "    # equivalent with global_norm\n",
    "    if tddn==tddn2:\n",
    "        check_time=time.time()-start_time\n",
    "        output_dict={\"check_time\":check_time,\"equivalence\":\"equivalent\"}\n",
    "        print('global_norm',output_dict)\n",
    "        return output_dict\n",
    "    elif tddn.node==tdd2.node:\n",
    "        check_time=time.time()-start_time\n",
    "        output_dict={\"check_time\":check_time,\"equivalence\":\"equivalent_up_to_global_phase\"}\n",
    "        print('global_norm',output_dict)\n",
    "        return output_dict\n",
    "    # not equivalent \n",
    "    else:\n",
    "        check_time=time.time()-start_time\n",
    "        output_dict={\"check_time\":check_time,\"equivalence\":\"not_equivalent\"}\n",
    "        print(output_dict)\n",
    "        return output_dict"
   ]
  },
  {
   "cell_type": "code",
   "execution_count": 6,
   "metadata": {},
   "outputs": [],
   "source": [
    "from qiskit import transpile\n",
    "from qiskit.circuit import Parameter, QuantumCircuit, library\n",
    "\n",
    "def circuit_generator(qubit_num=1,reps=1,function_name='TwoLocal'\n",
    "                    ,basis_gates1=['id', 'rz', 'sx', 'x', 'cx']\n",
    "                    ,basis_gates2=['rx','ry','h','cx']):\n",
    "\n",
    "    if function_name=='TwoLocal':\n",
    "        cir = library.TwoLocal(qubit_num, ['ry'],'cx', entanglement='circular', reps=reps)\n",
    "    if function_name=='ExcitationPreserving':\n",
    "        cir = library.ExcitationPreserving(qubit_num, mode='fsim', entanglement='full', reps=reps)\n",
    "    if function_name=='RealAmplitudes':\n",
    "        cir = library.RealAmplitudes(qubit_num, entanglement='full', reps=reps)\n",
    "    if function_name=='EfficientSU2':\n",
    "        cir = library.EfficientSU2(qubit_num, ['rx','h'], entanglement='circular', reps=reps)\n",
    "\n",
    "    cir1=transpile(cir,basis_gates=basis_gates1)\n",
    "    cir2=transpile(cir,basis_gates=basis_gates2)\n",
    "\n",
    "    return cir1,cir2,'%s_%i_%i'%(function_name, qubit_num, reps)"
   ]
  },
  {
   "cell_type": "code",
   "execution_count": 7,
   "metadata": {},
   "outputs": [
    {
     "data": {
      "image/png": "[encoded data removed]",
      "text/plain": [
       "<Figure size 1040x284.278 with 1 Axes>"
      ]
     },
     "execution_count": 7,
     "metadata": {},
     "output_type": "execute_result"
    }
   ],
   "source": [
    "cir3=QuantumCircuit(3)\n",
    "cir3.ccx(0,1,2)\n",
    "cir3=transpile(cir3,basis_gates=['h', 't', 'tdg', 'cx'])\n",
    "cir3.draw('mpl')"
   ]
  },
  {
   "cell_type": "code",
   "execution_count": 8,
   "metadata": {},
   "outputs": [
    {
     "data": {
      "image/png": "[encoded data removed]",
      "text/plain": [
       "<Figure size 1207.22x284.278 with 1 Axes>"
      ]
     },
     "execution_count": 8,
     "metadata": {},
     "output_type": "execute_result"
    }
   ],
   "source": [
    "cir4=transpile(cir3,basis_gates=['id', 'rz', 'sx', 'x', 'cx'])\n",
    "cir4.draw('mpl')"
   ]
  },
  {
   "cell_type": "code",
   "execution_count": 9,
   "metadata": {},
   "outputs": [
    {
     "data": {
      "image/png": "[encoded data removed]",
      "text/plain": [
       "<Figure size 185.453x117.056 with 1 Axes>"
      ]
     },
     "execution_count": 9,
     "metadata": {},
     "output_type": "execute_result"
    }
   ],
   "source": [
    "s0=Parameter('s%i'%0)\n",
    "simple=QuantumCircuit(1)\n",
    "# simple.rz(s0,0)\n",
    "\n",
    "# simple.rz(-s0,0)\n",
    "\n",
    "# simple.rx(s0,0)\n",
    "\n",
    "simple.ry(s0,0)\n",
    "\n",
    "\n",
    "simple.draw('mpl')"
   ]
  },
  {
   "cell_type": "code",
   "execution_count": 10,
   "metadata": {},
   "outputs": [
    {
     "data": {
      "image/png": "[encoded data removed]",
      "text/plain": [
       "<Figure size 352.675x117.056 with 1 Axes>"
      ]
     },
     "execution_count": 10,
     "metadata": {},
     "output_type": "execute_result"
    }
   ],
   "source": [
    "simple2=QuantumCircuit(1)\n",
    "\n",
    "# simple2.rx(-np.pi/2,0)\n",
    "# simple2.ry(s0,0)\n",
    "# simple2.rx(np.pi/2,0)\n",
    "\n",
    "# simple2.ry(-np.pi/2,0)\n",
    "# simple2.rx(s0,0)\n",
    "# simple2.ry(np.pi/2,0)\n",
    "\n",
    "# simple2.ry(-np.pi/2,0)\n",
    "# simple2.rz(s0,0)\n",
    "# simple2.ry(np.pi/2,0)\n",
    "\n",
    "simple2.rz(-np.pi/2,0)\n",
    "simple2.rx(s0,0)\n",
    "simple2.rz(np.pi/2,0)\n",
    "simple2.draw('mpl')"
   ]
  },
  {
   "cell_type": "code",
   "execution_count": 11,
   "metadata": {},
   "outputs": [],
   "source": [
    "def experiment(qubit_num=2,reps=1,function='RealAmplitudes', optimizer=None, file_name=None):\n",
    "        cir1,cir2,circuit_nam=circuit_generator(qubit_num=qubit_num,reps=reps,function_name=function)\n",
    "        tdd1,output_dict1=STDD_simulation(cir1, unique_table_reset=True, optimizer=optimizer)\n",
    "        tdd2,output_dict2=STDD_simulation(cir2, unique_table_reset=False, optimizer=optimizer)\n",
    "        output_dict3=verify(tdd1,tdd2)\n",
    "        if file_name:\n",
    "                with open(file_name, 'a', newline='') as csvfile:\n",
    "                        fieldnames = ['Benchmark Name','Parameter num.','Qubit num.'\n",
    "                                ,'Gate num._1','Time_1','Node num. max_1','Node num. final_1','gu1_1','gu2_1'\n",
    "                                ,'Gate num._2','Time_2','Node num. max_2','Node num. final_2','gu1_2','gu2_2'\n",
    "                                ,'Check_time','Totol_time','Equivalent']\n",
    "                        writer = csv.DictWriter(csvfile, fieldnames=fieldnames)\n",
    "                        writer.writerow({'Benchmark Name':circuit_nam,'Parameter num.':output_dict1['Parameter num'],'Qubit num.':output_dict1['Qubit num.']\n",
    "                        ,'Gate num._1':output_dict1['Gate num.'],'Time_1':output_dict1['Time'],'Node num. max_1':output_dict1['Node num. max']\n",
    "                        ,'Node num. final_1':output_dict1['Node num. final'],'gu1_1':output_dict1['gu1'],'gu2_1':output_dict1['gu2']\n",
    "                        ,'Gate num._2':output_dict2['Gate num.'],'Time_2':output_dict2['Time'],'Node num. max_2':output_dict2['Node num. max']\n",
    "                        ,'Node num. final_2':output_dict2['Node num. final'],'gu1_2':output_dict2['gu1'],'gu2_2':output_dict2['gu2']\n",
    "                        ,'Check_time':output_dict3['check_time'],'Totol_time':output_dict1['Time']+output_dict2['Time']+output_dict3['check_time']\n",
    "                        ,'Equivalent':output_dict3['equivalence']})\n",
    "        return {'Benchmark Name':circuit_nam,'Parameter num.':output_dict1['Parameter num'],'Qubit num.':output_dict1['Qubit num.']\n",
    "                ,'Gate num._1':output_dict1['Gate num.'],'Time_1':output_dict1['Time'],'Node num. max_1':output_dict1['Node num. max']\n",
    "                ,'Node num. final_1':output_dict1['Node num. final'],'gu1_1':output_dict1['gu1'],'gu2_1':output_dict1['gu2']\n",
    "                ,'Gate num._2':output_dict2['Gate num.'],'Time_2':output_dict2['Time'],'Node num. max_2':output_dict2['Node num. max']\n",
    "                ,'Node num. final_2':output_dict2['Node num. final'],'gu1_2':output_dict2['gu1'],'gu2_2':output_dict2['gu2']\n",
    "                ,'Check_time':output_dict3['check_time'],'Totol_time':output_dict1['Time']+output_dict2['Time']+output_dict3['check_time']\n",
    "                ,'Equivalent':output_dict3['equivalence']}\n",
    "\n"
   ]
  },
  {
   "cell_type": "code",
   "execution_count": 12,
   "metadata": {},
   "outputs": [
    {
     "data": {
      "text/plain": [
       "{'check_time': 4.0531158447265625e-06, 'equivalence': 'equivalent'}"
      ]
     },
     "execution_count": 12,
     "metadata": {},
     "output_type": "execute_result"
    }
   ],
   "source": [
    "tdd1, output_dict=STDD_simulation(simple)\n",
    "tdd2, output_dict=STDD_simulation(simple2,unique_table_reset=False)\n",
    "\n",
    "verify(tdd1,tdd2)"
   ]
  },
  {
   "cell_type": "code",
   "execution_count": 13,
   "metadata": {},
   "outputs": [
    {
     "data": {
      "image/png": "[encoded data removed]",
      "text/plain": [
       "<IPython.core.display.Image object>"
      ]
     },
     "execution_count": 13,
     "metadata": {},
     "output_type": "execute_result"
    }
   ],
   "source": [
    "tdd1.show()"
   ]
  },
  {
   "cell_type": "code",
   "execution_count": 14,
   "metadata": {},
   "outputs": [
    {
     "data": {
      "image/png": "[encoded data removed]",
      "text/plain": [
       "<IPython.core.display.Image object>"
      ]
     },
     "execution_count": 14,
     "metadata": {},
     "output_type": "execute_result"
    }
   ],
   "source": [
    "tdd2.show()"
   ]
  },
  {
   "cell_type": "code",
   "execution_count": 15,
   "metadata": {},
   "outputs": [
    {
     "data": {
      "text/plain": [
       "{'Benchmark Name': None,\n",
       " 'Parameter num.': 1,\n",
       " 'Qubit num.': 1,\n",
       " 'Gate num1.': 1,\n",
       " 'Gate num2.': 3,\n",
       " 'Node num. max': 4,\n",
       " 'Node num. final': 4,\n",
       " 'gu1': 16,\n",
       " 'gu2': 6,\n",
       " 'Equivalent': 'equivalent',\n",
       " 'Time': 0.00482630729675293}"
      ]
     },
     "execution_count": 15,
     "metadata": {},
     "output_type": "execute_result"
    }
   ],
   "source": [
    "tdd, output_dict=STDD_verify(simple, simple2)\n",
    "output_dict"
   ]
  },
  {
   "cell_type": "code",
   "execution_count": 16,
   "metadata": {},
   "outputs": [
    {
     "data": {
      "image/png": "[encoded data removed]",
      "text/plain": [
       "<IPython.core.display.Image object>"
      ]
     },
     "execution_count": 16,
     "metadata": {},
     "output_type": "execute_result"
    }
   ],
   "source": [
    "tdd.show()"
   ]
  },
  {
   "cell_type": "code",
   "execution_count": 17,
   "metadata": {},
   "outputs": [
    {
     "data": {
      "text/plain": [
       "{'Benchmark Name': 'TwoLocal_2_1',\n",
       " 'Parameter num.': 4,\n",
       " 'Qubit num.': 2,\n",
       " 'Gate num._1': 17,\n",
       " 'Time_1': 0.04431939125061035,\n",
       " 'Node num. max_1': 16,\n",
       " 'Node num. final_1': 16,\n",
       " 'gu1_1': 155,\n",
       " 'gu2_1': 153,\n",
       " 'Gate num._2': 5,\n",
       " 'Time_2': 0.021264314651489258,\n",
       " 'Node num. max_2': 16,\n",
       " 'Node num. final_2': 16,\n",
       " 'gu1_2': 163,\n",
       " 'gu2_2': 189,\n",
       " 'Check_time': 3.337860107421875e-06,\n",
       " 'Totol_time': 0.06558704376220703,\n",
       " 'Equivalent': 'equivalent'}"
      ]
     },
     "execution_count": 17,
     "metadata": {},
     "output_type": "execute_result"
    }
   ],
   "source": [
    "experiment(qubit_num=2,reps=1 ,function='TwoLocal')"
   ]
  },
  {
   "cell_type": "code",
   "execution_count": 18,
   "metadata": {},
   "outputs": [],
   "source": [
    "cir, cir2, Benchmark_Name = circuit_generator(qubit_num=2,reps=1, function_name='EfficientSU2'\n",
    "                                ,basis_gates1=['rx', 'ry', 'rz','cz']\n",
    "                                ,basis_gates2=['rx','ry','rz','cx'])"
   ]
  },
  {
   "cell_type": "code",
   "execution_count": 19,
   "metadata": {},
   "outputs": [],
   "source": [
    "# cir.draw()\n"
   ]
  },
  {
   "cell_type": "code",
   "execution_count": 20,
   "metadata": {},
   "outputs": [],
   "source": [
    "# cir2.draw()"
   ]
  },
  {
   "cell_type": "code",
   "execution_count": 21,
   "metadata": {},
   "outputs": [],
   "source": [
    "# tdd1, output_dict=STDD_simulation(cir)\n",
    "# tdd2, output_dict=STDD_simulation(cir2,unique_table_reset=False)\n",
    "\n",
    "# verify(tdd1,tdd2)"
   ]
  },
  {
   "cell_type": "code",
   "execution_count": 22,
   "metadata": {},
   "outputs": [],
   "source": [
    "# tdd2.show()"
   ]
  },
  {
   "cell_type": "code",
   "execution_count": 23,
   "metadata": {},
   "outputs": [
    {
     "data": {
      "text/plain": [
       "{'Benchmark Name': None,\n",
       " 'Parameter num.': 4,\n",
       " 'Qubit num.': 2,\n",
       " 'Gate num1.': 13,\n",
       " 'Gate num2.': 13,\n",
       " 'Node num. max': 7,\n",
       " 'Node num. final': 7,\n",
       " 'gu1': 67,\n",
       " 'gu2': 21,\n",
       " 'Equivalent': 'equivalent',\n",
       " 'Time': 0.02900552749633789}"
      ]
     },
     "execution_count": 23,
     "metadata": {},
     "output_type": "execute_result"
    }
   ],
   "source": [
    "tdd, output_dict=STDD_verify2(cir, cir2)\n",
    "output_dict"
   ]
  },
  {
   "cell_type": "code",
   "execution_count": 24,
   "metadata": {},
   "outputs": [],
   "source": [
    "# tdd.show()"
   ]
  },
  {
   "cell_type": "code",
   "execution_count": 25,
   "metadata": {},
   "outputs": [
    {
     "data": {
      "text/plain": [
       "{\n",
       "  \"check_time\": 0.000983008,\n",
       "  \"equivalence\": \"equivalent\",\n",
       "  \"parameterized\": {\n",
       "    \"performed_instantiations\": 0\n",
       "  },\n",
       "  \"preprocessing_time\": 0.000371003\n",
       "}"
      ]
     },
     "execution_count": 25,
     "metadata": {},
     "output_type": "execute_result"
    }
   ],
   "source": [
    "from mqt import qcec\n",
    "\n",
    "qcec.verify(cir, cir2)"
   ]
  },
  {
   "cell_type": "code",
   "execution_count": 26,
   "metadata": {},
   "outputs": [
    {
     "data": {
      "text/plain": [
       "{'Benchmark Name': None,\n",
       " 'Parameter num.': 1,\n",
       " 'Qubit num.': 1,\n",
       " 'Gate num1.': 1,\n",
       " 'Gate num2.': 3,\n",
       " 'Node num. max': 4,\n",
       " 'Node num. final': 4,\n",
       " 'gu1': 16,\n",
       " 'gu2': 6,\n",
       " 'Equivalent': 'equivalent',\n",
       " 'Time': 0.004110574722290039}"
      ]
     },
     "execution_count": 26,
     "metadata": {},
     "output_type": "execute_result"
    }
   ],
   "source": [
    "tdd, output_dict=STDD_verify2(simple, simple2)\n",
    "output_dict"
   ]
  },
  {
   "cell_type": "code",
   "execution_count": 27,
   "metadata": {},
   "outputs": [
    {
     "data": {
      "image/png": "[encoded data removed]",
      "text/plain": [
       "<IPython.core.display.Image object>"
      ]
     },
     "execution_count": 27,
     "metadata": {},
     "output_type": "execute_result"
    }
   ],
   "source": [
    "tdd.show()"
   ]
  },
  {
   "cell_type": "code",
   "execution_count": 28,
   "metadata": {},
   "outputs": [
    {
     "data": {
      "text/plain": [
       "{\n",
       "  \"check_time\": 0.0001034,\n",
       "  \"equivalence\": \"equivalent_up_to_global_phase\",\n",
       "  \"parameterized\": {\n",
       "    \"performed_instantiations\": 0\n",
       "  },\n",
       "  \"preprocessing_time\": 0.000365803\n",
       "}"
      ]
     },
     "execution_count": 28,
     "metadata": {},
     "output_type": "execute_result"
    }
   ],
   "source": [
    "qcec.verify(simple, simple2\n",
    "            # , additional_instantiations=10\n",
    "            )"
   ]
  },
  {
   "cell_type": "code",
   "execution_count": 29,
   "metadata": {},
   "outputs": [],
   "source": [
    "# tdd.show()"
   ]
  },
  {
   "attachments": {},
   "cell_type": "markdown",
   "metadata": {},
   "source": [
    "# Compare"
   ]
  },
  {
   "cell_type": "code",
   "execution_count": 30,
   "metadata": {},
   "outputs": [],
   "source": [
    "# from qiskit.quantum_info import Kraus, SuperOp\n",
    "# from qiskit_aer import AerSimulator\n",
    "# from qiskit.tools.visualization import plot_histogram\n",
    "\n",
    "# # System Specification\n",
    "# n_qubits = 4\n",
    "# circ = QuantumCircuit(n_qubits)\n",
    "\n",
    "# # Test Circuit\n",
    "# circ.h(0)\n",
    "# for qubit in range(n_qubits - 1):\n",
    "#     circ.cx(qubit, qubit + 1)\n",
    "# print(circ)\n"
   ]
  },
  {
   "cell_type": "code",
   "execution_count": 31,
   "metadata": {},
   "outputs": [],
   "source": [
    "# # Import from Qiskit Aer noise module\n",
    "# from qiskit_aer.noise import NoiseModel, QuantumError, ReadoutError, pauli_error, depolarizing_error, thermal_relaxation_error\n",
    "\n",
    "# p_reset = 0.03\n",
    "# p_meas = 0.1\n",
    "# p_gate1 = 0.05\n",
    "\n",
    "# # QuantumError objects\n",
    "# error_reset = pauli_error([('X', p_reset), ('I', 1 - p_reset)])\n",
    "# error_meas = pauli_error([('X',p_meas), ('I', 1 - p_meas)])\n",
    "# error_gate1 = pauli_error([('X',p_gate1), ('I', 1 - p_gate1)])\n",
    "# error_gate2 = error_gate1.tensor(error_gate1)\n",
    "\n",
    "# # Add errors to noise model\n",
    "# noise_bit_flip = NoiseModel()\n",
    "# noise_bit_flip.add_all_qubit_quantum_error(error_reset, \"reset\")\n",
    "# noise_bit_flip.add_all_qubit_quantum_error(error_meas, \"measure\")\n",
    "# noise_bit_flip.add_all_qubit_quantum_error(error_gate1, [\"u1\", \"u2\", \"u3\"])\n",
    "# noise_bit_flip.add_all_qubit_quantum_error(error_gate2, [\"cx\"])\n",
    "\n",
    "# # Create noisy simulator backend\n",
    "# sim_noise = AerSimulator(noise_model=noise_bit_flip)\n",
    "\n",
    "# # Transpile circuit for noisy basis gates\n",
    "# circ_tnoise = transpile(circ, sim_noise)\n",
    "# circ_tnoise.draw()"
   ]
  },
  {
   "cell_type": "code",
   "execution_count": 32,
   "metadata": {},
   "outputs": [],
   "source": [
    "# # T1 and T2 values for qubits 0-3\n",
    "# T1s = np.random.normal(50e3, 10e3, 4) # Sampled from normal distribution mean 50 microsec\n",
    "# T2s = np.random.normal(70e3, 10e3, 4)  # Sampled from normal distribution mean 50 microsec\n",
    "\n",
    "# # Truncate random T2s <= T1s\n",
    "# T2s = np.array([min(T2s[j], 2 * T1s[j]) for j in range(4)])\n",
    "\n",
    "# # Instruction times (in nanoseconds)\n",
    "# time_u1 = 0   # virtual gate\n",
    "# time_u2 = 50  # (single X90 pulse)\n",
    "# time_u3 = 100 # (two X90 pulses)\n",
    "# time_cx = 300\n",
    "# time_reset = 1000  # 1 microsecond\n",
    "# time_measure = 1000 # 1 microsecond\n",
    "\n",
    "# # QuantumError objects\n",
    "# errors_reset = [thermal_relaxation_error(t1, t2, time_reset)\n",
    "#                 for t1, t2 in zip(T1s, T2s)]\n",
    "# errors_measure = [thermal_relaxation_error(t1, t2, time_measure)\n",
    "#                   for t1, t2 in zip(T1s, T2s)]\n",
    "# errors_u1  = [thermal_relaxation_error(t1, t2, time_u1)\n",
    "#               for t1, t2 in zip(T1s, T2s)]\n",
    "# errors_u2  = [thermal_relaxation_error(t1, t2, time_u2)\n",
    "#               for t1, t2 in zip(T1s, T2s)]\n",
    "# errors_u3  = [thermal_relaxation_error(t1, t2, time_u3)\n",
    "#               for t1, t2 in zip(T1s, T2s)]\n",
    "# errors_cx = [[thermal_relaxation_error(t1a, t2a, time_cx).expand(\n",
    "#              thermal_relaxation_error(t1b, t2b, time_cx))\n",
    "#               for t1a, t2a in zip(T1s, T2s)]\n",
    "#                for t1b, t2b in zip(T1s, T2s)]\n",
    "\n",
    "# # Add errors to noise model\n",
    "# noise_thermal = NoiseModel()\n",
    "# for j in range(4):\n",
    "#     noise_thermal.add_quantum_error(errors_reset[j], \"reset\", [j])\n",
    "#     noise_thermal.add_quantum_error(errors_measure[j], \"measure\", [j])\n",
    "#     noise_thermal.add_quantum_error(errors_u1[j], \"u1\", [j])\n",
    "#     noise_thermal.add_quantum_error(errors_u2[j], \"u2\", [j])\n",
    "#     noise_thermal.add_quantum_error(errors_u3[j], \"u3\", [j])\n",
    "#     for k in range(4):\n",
    "#         noise_thermal.add_quantum_error(errors_cx[j][k], \"cx\", [j, k])\n",
    "\n",
    "# print(noise_thermal)\n",
    "\n",
    "# # Run the noisy simulation\n",
    "# sim_thermal = AerSimulator(noise_model=noise_thermal)\n",
    "\n",
    "# # Transpile circuit for noisy basis gates\n",
    "# circ_tthermal = transpile(circ, sim_thermal)\n",
    "# circ_tthermal.draw()"
   ]
  },
  {
   "cell_type": "code",
   "execution_count": 33,
   "metadata": {},
   "outputs": [],
   "source": [
    "# #circuit part\n",
    "# s0=Parameter('s%i'%0)\n",
    "# s1=Parameter('s%i'%1)\n",
    "# test=QuantumCircuit(2)\n",
    "# test.rx(np.pi/3,0)\n",
    "# test.rz(s0,0)\n",
    "# test.rz(np.pi/2,0)\n",
    "# test.cx(0,1)\n",
    "# test.rx(np.pi/3,0)\n",
    "# test.rz(s1,0)\n",
    "# test.rz(-np.pi/2,0)\n",
    "\n",
    "\n",
    "# test.draw('mpl')\n"
   ]
  },
  {
   "cell_type": "code",
   "execution_count": 34,
   "metadata": {},
   "outputs": [],
   "source": [
    "# test_tthermal = transpile(test, sim_thermal)\n",
    "# test_tthermal.draw('mpl')\n"
   ]
  },
  {
   "cell_type": "code",
   "execution_count": 35,
   "metadata": {},
   "outputs": [],
   "source": [
    "# test_tnoise = transpile(test, sim_noise)\n",
    "# test_tnoise.draw('mpl')"
   ]
  },
  {
   "cell_type": "code",
   "execution_count": 36,
   "metadata": {},
   "outputs": [],
   "source": [
    "# tdd, output_dict=STDD_verify2(test, test_tnoise)\n",
    "\n",
    "# output_dict"
   ]
  },
  {
   "cell_type": "code",
   "execution_count": 37,
   "metadata": {},
   "outputs": [],
   "source": [
    "# test2=QuantumCircuit(1)\n",
    "# test2.rx(np.pi/3,0)\n",
    "# test2.rz(s0,0)\n",
    "# test2.ry(np.pi/3,0)\n",
    "# test2.rz(s1,0)\n",
    "\n",
    "# test2.draw('mpl')"
   ]
  },
  {
   "cell_type": "code",
   "execution_count": 38,
   "metadata": {},
   "outputs": [],
   "source": [
    "# tdd, output_dict=STDD_verify(test, test2)\n",
    "# output_dict"
   ]
  },
  {
   "cell_type": "code",
   "execution_count": 39,
   "metadata": {},
   "outputs": [],
   "source": [
    "# tdd.show()"
   ]
  },
  {
   "cell_type": "code",
   "execution_count": 40,
   "metadata": {},
   "outputs": [],
   "source": [
    "# qcec.verify(test, test2)"
   ]
  },
  {
   "cell_type": "code",
   "execution_count": 41,
   "metadata": {},
   "outputs": [],
   "source": [
    "# import sympy\n",
    "\n",
    "# x = sympy.Symbol('x')\n",
    "# y = sympy.Symbol('y')\n",
    "# epi=1e-10\n",
    "# expr = (1e-15 + 2j)*x + (3 + 4j)*x*y\n",
    "\n",
    "# new_expr=0\n",
    "# for term in expr.args:\n",
    "#     # print(term)\n",
    "#     free_symbols=term.free_symbols\n",
    "#     for i in range(len(free_symbols)):\n",
    "#         if i==0:\n",
    "#             coeff = term.coeff(free_symbols.pop())\n",
    "#         else:\n",
    "#             coeff = coeff.coeff(free_symbols.pop())\n",
    "#     if abs(coeff)-abs(coeff.as_real_imag()[0]) < epi:\n",
    "#         coeff=coeff.as_real_imag()[0]\n",
    "#     elif abs(coeff)-abs(coeff.as_real_imag()[1]) < epi:\n",
    "#         coeff=coeff.as_real_imag()[1] * sympy.I\n",
    "#     symbols = term.free_symbols\n",
    "#     terms=1 \n",
    "#     for symbol in symbols:\n",
    "#         terms*=symbol\n",
    "#     # print('term',coeff*terms)\n",
    "#     new_expr+=coeff*terms\n",
    "# print('solution',new_expr)\n"
   ]
  },
  {
   "cell_type": "code",
   "execution_count": 42,
   "metadata": {},
   "outputs": [],
   "source": [
    "\n",
    "# with open('STDD cir_partition2 benchmark.csv', 'w', newline='') as csvfile:\n",
    "#     fieldnames=['Benchmark Name','Parameter num.','Qubit num.'\n",
    "# ,'Gate num._1','Time_1','Node num. max_1','Node num. final_1','gu1_1','gu2_1'\n",
    "# ,'Gate num._2','Time_2','Node num. max_2','Node num. final_2','gu1_2','gu2_2'\n",
    "# ,'Check_time','Totol_time','Equivalent']\n",
    "#     writer = csv.DictWriter(csvfile, fieldnames=fieldnames)\n",
    "#     writer.writeheader()\n"
   ]
  },
  {
   "cell_type": "code",
   "execution_count": 43,
   "metadata": {},
   "outputs": [],
   "source": [
    "# function_list=['RealAmplitudes','EfficientSU2']\n",
    "# experiment_setup=[(5,3)]\n",
    "    \n",
    "# for qubit_num,reps in experiment_setup:\n",
    "#     for function in function_list:\n",
    "#             experiment(qubit_num=qubit_num, reps=reps, function=function, optimizer=None, file_name='STDD benchmark.csv')\n",
    "        "
   ]
  },
  {
   "cell_type": "code",
   "execution_count": 44,
   "metadata": {},
   "outputs": [],
   "source": [
    "# import csv\n",
    "# with open('./output_dict/STDD benchmark_Standard D8s v3 0727 random_add_x.csv', 'w', newline='') as csvfile:\n",
    "#     fieldnames=['Benchmark Name','Parameter num.','Qubit num.'\n",
    "# ,'Gate num1.','Gate num2.','Node num. max','Node num. final','gu1','gu2','Time','qcec time','Equivalent'\n",
    "# ]\n",
    "#     writer = csv.DictWriter(csvfile, fieldnames=fieldnames)\n",
    "#     writer.writeheader()\n"
   ]
  },
  {
   "cell_type": "code",
   "execution_count": 45,
   "metadata": {},
   "outputs": [],
   "source": [
    "import random \n",
    "from mqt import qcec\n",
    "def experiment2(function_name ='EfficientSU2', qubit_num = 2, reps = 0, error_model = None, error_rate = 0.05, file_name='STDD benchmark.csv', No_do = None):\n",
    "    \n",
    "    cir,cir2,Benchmark_Name = circuit_generator(qubit_num = qubit_num, reps=reps, function_name = function_name\n",
    "                                ,basis_gates1=['rx', 'ry', 'rz','cz']\n",
    "                                ,basis_gates2=['rx', 'ry','rz','cx'])\n",
    "    # if error_model == 'random_bit_flip':\n",
    "    #     l = cir.num_qubits\n",
    "    #     error_rate = error_rate\n",
    "    #     error_num = max(int(l*error_rate) ,1)\n",
    "    #     filp_list = random.sample(range(l), error_num)\n",
    "    #     for i in filp_list:\n",
    "    #         cir.x(i)\n",
    "    if error_model == 'random_cnot':\n",
    "        l = cir.num_qubits\n",
    "        error_rate = error_rate\n",
    "        error_num = max(int(l*error_rate),1) \n",
    "        cnot_list = random.sample(range(l), error_num*2)\n",
    "        for i in range (error_num):\n",
    "            cir.cx(cnot_list[2*i],cnot_list[2*i+1])\n",
    "    if error_model == 'random_flip':\n",
    "        error_rate = error_rate\n",
    "        for i in range(len(cir2)):\n",
    "            if random.random() < error_rate and len(cir2[i].qubits) == 2:\n",
    "                cir2[i].qubits = (cir2[i].qubits[1], cir2[i].qubits[0])\n",
    "\n",
    "    if error_model == 'random_shift':\n",
    "        error_rate = error_rate\n",
    "        for i in range(len(cir2)):\n",
    "            gate = cir2[i].operation\n",
    "            if random.random() < error_rate and gate.is_parameterized():\n",
    "                gate._params[0] = gate.params[0] + 2 * np.pi * random.random()\n",
    "    if error_model == 'random_bit_flip':\n",
    "        def add_error(circuit,error_rate):\n",
    "            gate_num = len(circuit)\n",
    "            error_circuit = QuantumCircuit(circuit.num_qubits)\n",
    "            error_loction = np.random.choice(gate_num,max(int(gate_num*error_rate),1),replace=False)\n",
    "            count = 0\n",
    "            for i in circuit:\n",
    "                error_circuit.append(i)\n",
    "                if count in error_loction:\n",
    "                    error_circuit.x(i.qubits[0])\n",
    "                    # error_circuit.z(i.qubits[0])\n",
    "                count += 1\n",
    "            return error_circuit\n",
    "        cir2 = add_error(cir2,error_rate)\n",
    "\n",
    "    if No_do != 'STDD':\n",
    "        tdd, output_dict = STDD_verify2(cir, cir2, Benchmark_Name = Benchmark_Name , unique_table_reset=True, add_inputs_list=None, optimizer=None)\n",
    "    if No_do == 'STDD':\n",
    "        output_dict={'Benchmark Name':Benchmark_Name,\n",
    "        'Parameter num.': cir.num_parameters,\n",
    "        'Qubit num.':cir.num_qubits,\n",
    "        'Gate num1.':len(cir.data),\n",
    "        'Gate num2.':len(cir2.data), \n",
    "        }\n",
    "    \n",
    "    if No_do != 'QCEC':\n",
    "        output_dict['qcec time'] = qcec.verify(cir, cir2).check_time\n",
    "\n",
    "    with open(file_name, 'a', newline='') as csvfile:\n",
    "        fieldnames = ['Benchmark Name','Parameter num.','Qubit num.','Gate num1.','Gate num2.'\n",
    "        ,'Node num. max','Node num. final','gu1','gu2','Time','qcec time','Equivalent']\n",
    "\n",
    "        writer = csv.DictWriter(csvfile, fieldnames=fieldnames)\n",
    "        \n",
    "        writer.writerow(output_dict)\n"
   ]
  },
  {
   "cell_type": "code",
   "execution_count": 46,
   "metadata": {},
   "outputs": [],
   "source": [
    "# from mqt import qcec\n",
    "\n",
    "# function_name ='TwoLocal'\n",
    "# qubit_num = 3\n",
    "# reps = 3\n",
    "\n",
    "# cir,cir2,Benchmark_Name=circuit_generator(qubit_num = qubit_num, reps=reps, function_name = function_name, basis_gates1=['rx', 'ry', 'sx','cx']\n",
    "#                                 ,basis_gates2=['rx','sx','rz','cx'])\n",
    "# l = cir.num_qubits\n",
    "# error_rate = 0.1\n",
    "# error_num = int(l*error_rate) \n",
    "# cnot_list = random.sample(range(l), error_num*2)\n",
    "# for i in range (error_num):\n",
    "#     cir.cx(cnot_list[2*i],cnot_list[2*i+1])\n",
    "\n",
    "# # cir.draw()\n",
    "# qcec.verify(cir, cir2).check_time\n",
    "\n",
    "\n"
   ]
  },
  {
   "cell_type": "code",
   "execution_count": 47,
   "metadata": {},
   "outputs": [],
   "source": [
    "# import json\n",
    "# with open('../../../quartz/test_3_2_5_complete_ECC_set.json') as f:\n",
    "#     data = json.load(f)\n",
    "#     gate_list1=data[1]['12_2'][0][1]\n",
    "#     gate_list2=data[1]['12_2'][1][1]\n",
    "# print(gate_list1,\"\\n\",gate_list2)\n"
   ]
  },
  {
   "cell_type": "code",
   "execution_count": 48,
   "metadata": {},
   "outputs": [],
   "source": [
    "# import random\n",
    "# def quartz_to_qiskit(gate_list):\n",
    "#     cir = QuantumCircuit(1)\n",
    "#     P0 = Parameter(\"P0\")\n",
    "#     P1 = Parameter(\"P1\")\n",
    "#     P_list=[P0,P1]\n",
    "#     def gete_P(gate):\n",
    "#         P_str = gate[-1][-1]\n",
    "#         return P_list[int(P_str [1:])]\n",
    "    \n",
    "#     for gate in gate_list:\n",
    "#         gate_name = gate[0]\n",
    "#         if gate_name == \"h\":\n",
    "#             cir.h(0)\n",
    "#         if gate_name == \"t\":\n",
    "#             cir.t(0)\n",
    "#         if gate_name == \"rx\":\n",
    "#             cir.rx(gete_P(gate), 0)\n",
    "#         if gate_name == \"ry\":\n",
    "#             cir.ry(gete_P(gate), 0)\n",
    "#         if gate_name == \"rz\":\n",
    "#             cir.rz(gete_P(gate), 0)   \n",
    "#     return cir\n",
    "# cir = quartz_to_qiskit(gate_list1)\n",
    "# cir.draw()"
   ]
  },
  {
   "cell_type": "code",
   "execution_count": 49,
   "metadata": {},
   "outputs": [],
   "source": [
    "# cir2 = quartz_to_qiskit(gate_list2)\n",
    "# cir2.draw()"
   ]
  },
  {
   "cell_type": "code",
   "execution_count": 50,
   "metadata": {},
   "outputs": [],
   "source": [
    "# cir = quartz_to_qiskit(gate_list1)\n",
    "# cir2 = quartz_to_qiskit(gate_list2)\n",
    "# qcec.verify(cir, cir2)"
   ]
  },
  {
   "cell_type": "code",
   "execution_count": 51,
   "metadata": {},
   "outputs": [],
   "source": [
    "# import math\n",
    "# from qiskit.extensions import UnitaryGate\n",
    "# U=np.array([[math.sqrt(3)/3,-math.sqrt(6)/3],\n",
    "#    [math.sqrt(6)/3,math.sqrt(3)/3]])\n",
    "# cir =QuantumCircuit(1)\n",
    "# op = UnitaryGate(U)\n",
    "# opdg = op.adjoint()\n",
    "# cir.append(op, [0])\n",
    "# cir.append(opdg, [0])\n",
    "# cir.draw()\n"
   ]
  },
  {
   "cell_type": "code",
   "execution_count": 52,
   "metadata": {},
   "outputs": [],
   "source": [
    "# qcec.verify(cir, cir2)"
   ]
  },
  {
   "cell_type": "code",
   "execution_count": 53,
   "metadata": {},
   "outputs": [],
   "source": [
    "'''stdd verify experiment'''\n",
    "'''\n",
    "'EfficientSU2','TwoLocal','RealAmplitudes','ExcitationPreserving'\n",
    "(10, 60), (16, 40), (27, 30), (32, 20), (65, 13)\n",
    "'''\n",
    "\n",
    "function_list=['TwoLocal']\n",
    "experiment_setup=[ (65, 13)]\n",
    "\n",
    "for i in range(5):\n",
    "    for function_name in function_list:\n",
    "        for qubit_num,reps in experiment_setup:\n",
    "            experiment2(function_name = function_name, qubit_num = qubit_num, reps = reps, error_model = 'random_shift' ,error_rate = 0.01\n",
    "                        ,file_name='./output_dict/STDD benchmark_Standard D8s v3 0727 random_shift.csv', No_do='QCEC')\n",
    "            "
   ]
  },
  {
   "cell_type": "code",
   "execution_count": 54,
   "metadata": {},
   "outputs": [],
   "source": [
    "# function_name = 'TwoLocal'\n",
    "# qubit_num, reps = (5, 3 )\n",
    "\n",
    "# cir,cir2, Benchmark_Name =circuit_generator(qubit_num = qubit_num, reps=reps, function_name = function_name\n",
    "#                                     ,basis_gates1=['rx', 'ry', 'rz','cz']\n",
    "#                                     ,basis_gates2=['rx', 'ry','rz','cx'])\n",
    "\n",
    "# tdd, output_dict = STDD_verify(cir, cir2, Benchmark_Name = Benchmark_Name , unique_table_reset=True, add_inputs_list=None, optimizer=None)\n",
    "\n",
    "# output_dict"
   ]
  },
  {
   "cell_type": "code",
   "execution_count": 7,
   "metadata": {},
   "outputs": [
    {
     "name": "stdout",
     "output_type": "stream",
     "text": [
      "{'Benchmark Name': 'EfficientSU2_5_1', 'Parameter num.': 10, 'Qubit num.': 5, 'Gate num1.': 39, 'Gate num2.': 35, 'Node num. max': 20, 'Node num. final': 16, 'gu1': 286, 'gu2': 51, 'Equivalent': 'equivalent_up_to_global_phase', 'Time': 0.07640504837036133}\n"
     ]
    },
    {
     "data": {
      "image/png": "[encoded data removed]",
      "text/plain": [
       "<IPython.core.display.Image object>"
      ]
     },
     "execution_count": 7,
     "metadata": {},
     "output_type": "execute_result"
    }
   ],
   "source": [
    "from TDD.simlation import TrDD_verify\n",
    "from TDD.benchmark import circuit_generator\n",
    "\n",
    "qubit_num, reps, function_name = 5, 1, 'EfficientSU2'\n",
    "\n",
    "# error_model = 'random_bit_flip'\n",
    "error_model = None\n",
    "error_rate = 0.01\n",
    "\n",
    "\n",
    "cir,cir2,Benchmark_Name = circuit_generator(qubit_num = qubit_num, reps=reps, function_name = function_name\n",
    "                                ,basis_gates1=['rx', 'ry', 'rz','cz']\n",
    "                                ,basis_gates2=['rx', 'ry','rz','cx']\n",
    "                                ,error_model= error_model\n",
    "                                ,error_rate= error_rate\n",
    "                                )\n",
    "\n",
    "tdd, output_dict = TrDD_verify(cir, cir2, Benchmark_Name = Benchmark_Name , unique_table_reset=True, add_inputs_list=None, optimizer=None)\n",
    "\n",
    "print(output_dict)\n",
    "tdd.show()"
   ]
  }
 ],
 "metadata": {
  "kernelspec": {
   "display_name": "qcec",
   "language": "python",
   "name": "python3"
  },
  "language_info": {
   "codemirror_mode": {
    "name": "ipython",
    "version": 3
   },
   "file_extension": ".py",
   "mimetype": "text/x-python",
   "name": "python",
   "nbconvert_exporter": "python",
   "pygments_lexer": "ipython3",
   "version": "3.9.0"
  },
  "orig_nbformat": 4,
  "vscode": {
   "interpreter": {
    "hash": "0b9ef09a9a3250f999e7cf7647bb92657449fd8a8bc05aa98b9630ea0804629e"
   }
  }
 },
 "nbformat": 4,
 "nbformat_minor": 2
}
