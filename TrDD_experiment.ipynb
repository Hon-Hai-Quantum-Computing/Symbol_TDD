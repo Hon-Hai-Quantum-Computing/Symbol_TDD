{
 "cells": [
  {
   "cell_type": "code",
   "execution_count": 1,
   "metadata": {},
   "outputs": [],
   "source": [
    "import time,csv\n",
    "import numpy as np\n",
    "from TDD.TDD import global_norm"
   ]
  },
  {
   "cell_type": "code",
   "execution_count": 2,
   "metadata": {},
   "outputs": [],
   "source": [
    "from TDD.TDD import Ini_TDD\n",
    "from TDD.TDD_Q import cir_2_tn,get_real_qubit_num\n",
    "\n",
    "def STDD_simulation(cir, Benchmark_Name=None, unique_table_reset=True, add_inputs_list=None, optimizer=None):\n",
    "    n=get_real_qubit_num(cir)\n",
    "    tn,indices=cir_2_tn(cir)\n",
    "    Parameter_num=len(cir.parameters)\n",
    "    #add y indices\n",
    "    indices2=[]\n",
    "    for i, item in enumerate(indices):\n",
    "        indices2.append(item)\n",
    "        if item[0]=='y':\n",
    "            num=int(item.replace('y',''))\n",
    "            # indices2.append('z%i'%num)\n",
    "    t_start=time.time()\n",
    "    #add sin cos indices\n",
    "\n",
    "    '''\n",
    "    TrDD process start\n",
    "    '''\n",
    "    sin_str=set()\n",
    "    cos_str=set()\n",
    "    for tensor in tn.tensors:\n",
    "        for element in tensor.data.flatten(): \n",
    "            from sympy.core.expr import Expr \n",
    "            if isinstance(element,Expr):\n",
    "                for symbol in element.free_symbols:\n",
    "                    if '[' in str(element.free_symbols):\n",
    "                        if '[' in str(symbol):\n",
    "                            sin_str.add('sin('+str(symbol)+')')\n",
    "                            cos_str.add('cos('+str(symbol)+')')\n",
    "                    else:\n",
    "                        sin_str.add('sin('+str(symbol)+')')\n",
    "                        cos_str.add('cos('+str(symbol)+')')\n",
    "    def get_numbers(s):\n",
    "        import re\n",
    "        # 使用正則表達式找到所有匹配\"\\d+\"的子串，即連續的一個或多個數字\n",
    "        numbers = re.findall(\"\\d+\", s)\n",
    "        return int(numbers[0])\n",
    "\n",
    "    sin_str=list(sin_str)\n",
    "    sin_str.sort(key=get_numbers)\n",
    "    cos_str=list(cos_str)\n",
    "    cos_str.sort(key=get_numbers)\n",
    "    sym_str=[]\n",
    "    for i in range(len(sin_str)):\n",
    "        sym_str.append(sin_str[i])\n",
    "        sym_str.append(cos_str[i])\n",
    "    # TDD process\n",
    "    Ini_TDD(indices2,sym_str,type='TrDD',unique_table_reset=unique_table_reset)\n",
    "\n",
    "    '''\n",
    "    TrDD process end\n",
    "    '''\n",
    "\n",
    "    '''\n",
    "    EXP process start \n",
    "    '''\n",
    "    # from sympy import Symbol\n",
    "    # parameters_dict=dict((Symbol(v.name.replace(\"[\",\"\").replace(\"]\",\"\")),k) for k, v in dict(enumerate(cir.parameters)).items())\n",
    "    # Ini_TDD(indices2,type='Exp',var=parameters_dict,unique_table_reset=unique_table_reset)\n",
    "    '''\n",
    "    EXP process end \n",
    "    '''\n",
    "\n",
    "    if add_inputs_list:\n",
    "        from TDD.TDD_Q import add_inputs\n",
    "        # add_inputs(tn,[0]*n,n)\n",
    "        add_inputs(tn,add_inputs_list)\n",
    "\n",
    "    start_cont=time.time()-t_start\n",
    "    print('start cont ',start_cont)\n",
    "    tdd, Max_node_num=tn.cont(optimizer=optimizer,max_node=True)\n",
    "    cont_time=time.time()-start_cont-t_start\n",
    "    print('cont complete',cont_time)\n",
    "\n",
    "    from TDD.TDD import get_unique_table_num as gu1\n",
    "    from TDD.TrDD.BDD import get_unique_table_num as gu2\n",
    "    output_dict={'Benchmark Name':Benchmark_Name,\n",
    "            'Parameter num': Parameter_num,\n",
    "            'Qubit num.':tn.qubits_num,\n",
    "            'Gate num.':len(cir.data),\n",
    "            'Time':cont_time,\n",
    "            'Node num. max':Max_node_num,\n",
    "            'Node num. final':tdd.node_number(),\n",
    "            'gu1':gu1(),\n",
    "            'gu2':gu2()\n",
    "    }\n",
    "    return tdd, output_dict"
   ]
  },
  {
   "cell_type": "code",
   "execution_count": 3,
   "metadata": {},
   "outputs": [],
   "source": [
    "def STDD_verify(cir, cir2, Benchmark_Name=None, unique_table_reset=True, add_inputs_list=None, optimizer=None):\n",
    "    n=get_real_qubit_num(cir)\n",
    "    tn, indices = cir_2_tn(cir.compose(cir2.inverse()))\n",
    "    Parameter_num=len(cir.parameters)\n",
    "    t_start=time.time()\n",
    "\n",
    "    '''\n",
    "    TrDD process start\n",
    "    '''\n",
    "    #add sin cos indices\n",
    "    sin_str=set()\n",
    "    cos_str=set()\n",
    "    for tensor in tn.tensors:\n",
    "        for element in tensor.data.flatten(): \n",
    "            from sympy.core.expr import Expr \n",
    "            if isinstance(element,Expr):\n",
    "                for symbol in element.free_symbols:\n",
    "                    if '[' in str(element.free_symbols):\n",
    "                        if '[' in str(symbol):\n",
    "                            sin_str.add('sin('+str(symbol)+')')\n",
    "                            cos_str.add('cos('+str(symbol)+')')\n",
    "                    else:\n",
    "                        sin_str.add('sin('+str(symbol)+')')\n",
    "                        cos_str.add('cos('+str(symbol)+')')\n",
    "    def get_numbers(s):\n",
    "        import re\n",
    "        # 使用正則表達式找到所有匹配\"\\d+\"的子串，即連續的一個或多個數字\n",
    "        numbers = re.findall(\"\\d+\", s)\n",
    "        return int(numbers[0])\n",
    "\n",
    "    sin_str=list(sin_str)\n",
    "    sin_str.sort(key=get_numbers)\n",
    "    cos_str=list(cos_str)\n",
    "    cos_str.sort(key=get_numbers)\n",
    "    sym_str=[]\n",
    "    for i in range(len(sin_str)):\n",
    "        sym_str.append(sin_str[i])\n",
    "        sym_str.append(cos_str[i])\n",
    "\n",
    "    # TDD process\n",
    "    Ini_TDD(indices,sym_str,type='TrDD',unique_table_reset=unique_table_reset)\n",
    "\n",
    "    '''\n",
    "    TrDD process end\n",
    "    '''\n",
    "\n",
    "    '''\n",
    "    EXP process start \n",
    "    '''\n",
    "    # from sympy import Symbol\n",
    "    # parameters_dict=dict((Symbol(v.name.replace(\"[\",\"\").replace(\"]\",\"\")),k) for k, v in dict(enumerate(cir.parameters)).items())\n",
    "    # Ini_TDD(indices,type='Exp',var=parameters_dict,unique_table_reset=unique_table_reset)\n",
    "    '''\n",
    "    EXP process end \n",
    "    '''\n",
    "\n",
    "    if add_inputs_list:\n",
    "        from TDD.TDD_Q import add_inputs\n",
    "        # add_inputs(tn,[0]*n,n)\n",
    "        add_inputs(tn,add_inputs_list)\n",
    "\n",
    "    def cont2(tn,l1):\n",
    "        from TDD.TDD import cont, get_identity_tdd\n",
    "        max_node_num=0\n",
    "        tdd=get_identity_tdd()\n",
    "        l2=len(tn.tensors)-l1\n",
    "        l=min(l1,l2)\n",
    "        d=l1-l2\n",
    "        r=int(l1/l2) if d>0 else int(l2/l1)\n",
    "        if r == 1:\n",
    "            for i in range(l):\n",
    "                tdd1=tn.tensors[-(i+1)+l1].tdd()\n",
    "                tdd=cont(tdd1,tdd)\n",
    "                max_node_num=max(max_node_num,tdd.node_number())\n",
    "                tdd2=tn.tensors[i+l1].tdd()\n",
    "                tdd=cont(tdd,tdd2)\n",
    "                max_node_num=max(max_node_num,tdd.node_number())\n",
    "            if d>0:\n",
    "                for i in range(d):\n",
    "                    tdd1=tn.tensors[-(i+l+1)+l1].tdd()\n",
    "                    tdd=cont(tdd1,tdd)\n",
    "                    max_node_num=max(max_node_num,tdd.node_number())\n",
    "            elif d<0:\n",
    "                for i in range(abs(d)):\n",
    "                    tdd2=tn.tensors[i+l+l1].tdd()\n",
    "                    tdd=cont(tdd,tdd2)\n",
    "                    max_node_num=max(max_node_num,tdd.node_number())\n",
    "        elif d>0:\n",
    "            for i in range(l2):\n",
    "                for j in range(r):\n",
    "                    tdd1=tn.tensors[-(r*i+j+1)+l1].tdd()\n",
    "                    tdd=cont(tdd1,tdd)\n",
    "                    max_node_num=max(max_node_num,tdd.node_number())\n",
    "                tdd2=tn.tensors[i+l1].tdd()\n",
    "                tdd=cont(tdd,tdd2)\n",
    "                max_node_num=max(max_node_num,tdd.node_number())\n",
    "            d2=l1-r*l2\n",
    "            if d2 !=0:\n",
    "                for i in range (d2):\n",
    "                    tdd1=tn.tensors[-(i+r*l2+1)+l1].tdd()\n",
    "                    tdd=cont(tdd1,tdd)\n",
    "                    max_node_num=max(max_node_num,tdd.node_number())\n",
    "        elif d<0:\n",
    "            for i in range(l1):\n",
    "                tdd1=tn.tensors[-(i+1)+l1].tdd()\n",
    "                tdd=cont(tdd1,tdd)\n",
    "                max_node_num=max(max_node_num,tdd.node_number())\n",
    "                for j in range(r):\n",
    "                    tdd2=tn.tensors[r*i+j+l1].tdd()\n",
    "                    tdd=cont(tdd,tdd2)\n",
    "                    max_node_num=max(max_node_num,tdd.node_number())\n",
    "            d2=l2-r*l1\n",
    "            if d2 !=0:\n",
    "                for i in range(d2):\n",
    "                    tdd2=tn.tensors[i+(r+1)*l1].tdd()\n",
    "                    tdd=cont(tdd,tdd2)\n",
    "                    max_node_num=max(max_node_num,tdd.node_number())\n",
    "        return tdd, max_node_num\n",
    "\n",
    "    l1=len(cir.data)\n",
    "\n",
    "    start_cont=time.time()-t_start\n",
    "    print('start cont ',start_cont)\n",
    "    tdd, Max_node_num= cont2(tn,l1)\n",
    "    cont_time=time.time()-start_cont-t_start\n",
    "    print('cont complete',cont_time)\n",
    "\n",
    "    from TDD.TDD import get_unique_table_num as gu1\n",
    "    from TDD.TrDD.BDD import get_unique_table_num as gu2\n",
    "    output_dict={'Benchmark Name':Benchmark_Name,\n",
    "            'Parameter num': Parameter_num,\n",
    "            'Qubit num.':tn.qubits_num,\n",
    "            'Gate num.':len(cir.data),\n",
    "            'Time':cont_time,\n",
    "            'Node num. max':Max_node_num,\n",
    "            'Node num. final':tdd.node_number(),\n",
    "            'gu1':gu1(),\n",
    "            'gu2':gu2()\n",
    "    }\n",
    "    return tdd, output_dict"
   ]
  },
  {
   "cell_type": "code",
   "execution_count": 4,
   "metadata": {},
   "outputs": [],
   "source": [
    "def verify(tdd1,tdd2):\n",
    "    start_time= time.time()\n",
    "    # equivalent without global_norm\n",
    "    if tdd1==tdd2:\n",
    "        check_time=time.time()-start_time\n",
    "        output_dict={\"check_time\":check_time,\"equivalence\":\"equivalent\"}\n",
    "        print(output_dict)\n",
    "        return output_dict\n",
    "    elif tdd1.node==tdd2.node:\n",
    "        check_time=time.time()-start_time\n",
    "        output_dict={\"check_time\":check_time,\"equivalence\":\"equivalent_up_to_global_phase\"}\n",
    "        print(output_dict)\n",
    "        return output_dict\n",
    "    tddn=global_norm(tdd1)\n",
    "    tddn2=global_norm(tdd2)\n",
    "    # equivalent with global_norm\n",
    "    if tddn==tddn2:\n",
    "        check_time=time.time()-start_time\n",
    "        output_dict={\"check_time\":check_time,\"equivalence\":\"equivalent\"}\n",
    "        print('global_norm',output_dict)\n",
    "        return output_dict\n",
    "    elif tddn.node==tdd2.node:\n",
    "        check_time=time.time()-start_time\n",
    "        output_dict={\"check_time\":check_time,\"equivalence\":\"equivalent_up_to_global_phase\"}\n",
    "        print('global_norm',output_dict)\n",
    "        return output_dict\n",
    "    # not equivalent \n",
    "    else:\n",
    "        check_time=time.time()-start_time\n",
    "        output_dict={\"check_time\":check_time,\"equivalence\":\"not_equivalent\"}\n",
    "        print(output_dict)\n",
    "        return output_dict"
   ]
  },
  {
   "cell_type": "code",
   "execution_count": 5,
   "metadata": {},
   "outputs": [],
   "source": [
    "from qiskit import transpile\n",
    "from qiskit.circuit import Parameter, QuantumCircuit, library\n",
    "\n",
    "def circuit_generator(qubit_num=1,reps=1,function_name='TwoLocal'\n",
    "                    ,basis_gates1=['id', 'rz', 'sx', 'x', 'cx']\n",
    "                    ,basis_gates2=['rx','ry','h','cx']):\n",
    "\n",
    "    if function_name=='TwoLocal':\n",
    "        cir = library.TwoLocal(qubit_num, ['ry'],'cx', entanglement='circular', reps=reps)\n",
    "    if function_name=='ExcitationPreserving':\n",
    "        cir = library.ExcitationPreserving(qubit_num, mode='fsim', entanglement='full', reps=reps)\n",
    "    if function_name=='RealAmplitudes':\n",
    "        cir = library.RealAmplitudes(qubit_num, entanglement='full', reps=reps)\n",
    "    if function_name=='EfficientSU2':\n",
    "        cir = library.EfficientSU2(qubit_num, ['rx','h'], entanglement='circular', reps=reps)\n",
    "\n",
    "    cir1=transpile(cir,basis_gates=basis_gates1)\n",
    "    cir2=transpile(cir,basis_gates=basis_gates2)\n",
    "\n",
    "    return cir1,cir2,'%s_%i_%i'%(function_name,qubit_num,reps)"
   ]
  },
  {
   "cell_type": "code",
   "execution_count": 6,
   "metadata": {},
   "outputs": [
    {
     "data": {
      "image/png": "[encoded data removed]",
      "text/plain": [
       "<Figure size 1040x284.278 with 1 Axes>"
      ]
     },
     "execution_count": 6,
     "metadata": {},
     "output_type": "execute_result"
    }
   ],
   "source": [
    "cir3=QuantumCircuit(3)\n",
    "cir3.ccx(0,1,2)\n",
    "cir3=transpile(cir3,basis_gates=['h', 't', 'tdg', 'cx'])\n",
    "cir3.draw('mpl')"
   ]
  },
  {
   "cell_type": "code",
   "execution_count": 7,
   "metadata": {},
   "outputs": [
    {
     "data": {
      "image/png": "[encoded data removed]",
      "text/plain": [
       "<Figure size 1207.22x284.278 with 1 Axes>"
      ]
     },
     "execution_count": 7,
     "metadata": {},
     "output_type": "execute_result"
    }
   ],
   "source": [
    "cir4=transpile(cir3,basis_gates=['id', 'rz', 'sx', 'x', 'cx'])\n",
    "cir4.draw('mpl')"
   ]
  },
  {
   "cell_type": "code",
   "execution_count": 8,
   "metadata": {},
   "outputs": [
    {
     "data": {
      "image/png": "[encoded data removed]",
      "text/plain": [
       "<Figure size 185.453x117.056 with 1 Axes>"
      ]
     },
     "execution_count": 8,
     "metadata": {},
     "output_type": "execute_result"
    }
   ],
   "source": [
    "s0=Parameter('s%i'%0)\n",
    "simple=QuantumCircuit(1)\n",
    "# simple.rz(s0,0)\n",
    "\n",
    "# simple.rz(-s0,0)\n",
    "\n",
    "# simple.rx(s0,0)\n",
    "\n",
    "simple.ry(s0,0)\n",
    "\n",
    "\n",
    "simple.draw('mpl')"
   ]
  },
  {
   "cell_type": "code",
   "execution_count": 9,
   "metadata": {},
   "outputs": [
    {
     "data": {
      "image/png": "[encoded data removed]",
      "text/plain": [
       "<Figure size 352.675x117.056 with 1 Axes>"
      ]
     },
     "execution_count": 9,
     "metadata": {},
     "output_type": "execute_result"
    }
   ],
   "source": [
    "simple2=QuantumCircuit(1)\n",
    "\n",
    "# simple2.rx(np.pi/2,0)\n",
    "# simple2.ry(s0,0)\n",
    "# simple2.rx(-np.pi/2,0)\n",
    "\n",
    "# simple2.ry(np.pi/2,0)\n",
    "# simple2.rx(s0,0)\n",
    "# simple2.ry(-np.pi/2,0)\n",
    "\n",
    "# simple2.ry(np.pi/2,0)\n",
    "# simple2.rz(s0,0)\n",
    "# simple2.ry(-np.pi/2,0)\n",
    "\n",
    "simple2.rz(np.pi/2,0)\n",
    "simple2.rx(s0,0)\n",
    "simple2.rz(-np.pi/2,0)\n",
    "simple2.draw('mpl')"
   ]
  },
  {
   "cell_type": "code",
   "execution_count": 10,
   "metadata": {},
   "outputs": [],
   "source": [
    "def experiment(qubit_num=2,reps=1,function='RealAmplitudes', optimizer=None, file_name=None):\n",
    "        cir1,cir2,circuit_nam=circuit_generator(qubit_num=qubit_num,reps=reps,function_name=function)\n",
    "        tdd1,output_dict1=STDD_simulation(cir1, unique_table_reset=True, optimizer=optimizer)\n",
    "        tdd2,output_dict2=STDD_simulation(cir2, unique_table_reset=False, optimizer=optimizer)\n",
    "        output_dict3=verify(tdd1,tdd2)\n",
    "        if file_name:\n",
    "                with open(file_name, 'a', newline='') as csvfile:\n",
    "                        fieldnames = ['Benchmark Name','Parameter num.','Qubit num.'\n",
    "                                ,'Gate num._1','Time_1','Node num. max_1','Node num. final_1','gu1_1','gu2_1'\n",
    "                                ,'Gate num._2','Time_2','Node num. max_2','Node num. final_2','gu1_2','gu2_2'\n",
    "                                ,'Check_time','Totol_time','Equivalent']\n",
    "                        writer = csv.DictWriter(csvfile, fieldnames=fieldnames)\n",
    "                        writer.writerow({'Benchmark Name':circuit_nam,'Parameter num.':output_dict1['Parameter num'],'Qubit num.':output_dict1['Qubit num.']\n",
    "                        ,'Gate num._1':output_dict1['Gate num.'],'Time_1':output_dict1['Time'],'Node num. max_1':output_dict1['Node num. max']\n",
    "                        ,'Node num. final_1':output_dict1['Node num. final'],'gu1_1':output_dict1['gu1'],'gu2_1':output_dict1['gu2']\n",
    "                        ,'Gate num._2':output_dict2['Gate num.'],'Time_2':output_dict2['Time'],'Node num. max_2':output_dict2['Node num. max']\n",
    "                        ,'Node num. final_2':output_dict2['Node num. final'],'gu1_2':output_dict2['gu1'],'gu2_2':output_dict2['gu2']\n",
    "                        ,'Check_time':output_dict3['check_time'],'Totol_time':output_dict1['Time']+output_dict2['Time']+output_dict3['check_time']\n",
    "                        ,'Equivalent':output_dict3['equivalence']})\n",
    "        return {'Benchmark Name':circuit_nam,'Parameter num.':output_dict1['Parameter num'],'Qubit num.':output_dict1['Qubit num.']\n",
    "                ,'Gate num._1':output_dict1['Gate num.'],'Time_1':output_dict1['Time'],'Node num. max_1':output_dict1['Node num. max']\n",
    "                ,'Node num. final_1':output_dict1['Node num. final'],'gu1_1':output_dict1['gu1'],'gu2_1':output_dict1['gu2']\n",
    "                ,'Gate num._2':output_dict2['Gate num.'],'Time_2':output_dict2['Time'],'Node num. max_2':output_dict2['Node num. max']\n",
    "                ,'Node num. final_2':output_dict2['Node num. final'],'gu1_2':output_dict2['gu1'],'gu2_2':output_dict2['gu2']\n",
    "                ,'Check_time':output_dict3['check_time'],'Totol_time':output_dict1['Time']+output_dict2['Time']+output_dict3['check_time']\n",
    "                ,'Equivalent':output_dict3['equivalence']}\n",
    "\n"
   ]
  },
  {
   "cell_type": "code",
   "execution_count": 11,
   "metadata": {},
   "outputs": [
    {
     "name": "stdout",
     "output_type": "stream",
     "text": [
      "['sin(s0)', 'cos(s0)']\n",
      "start cont  0.015491485595703125\n",
      "cont complete 0.0012226104736328125\n",
      "['sin(s0)', 'cos(s0)']\n",
      "start cont  0.00029349327087402344\n",
      "cont complete 0.003206014633178711\n",
      "{'check_time': 3.814697265625e-06, 'equivalence': 'equivalent'}\n"
     ]
    },
    {
     "data": {
      "text/plain": [
       "{'check_time': 3.814697265625e-06, 'equivalence': 'equivalent'}"
      ]
     },
     "execution_count": 11,
     "metadata": {},
     "output_type": "execute_result"
    }
   ],
   "source": [
    "tdd1, output_dict=STDD_simulation(simple)\n",
    "tdd2, output_dict=STDD_simulation(simple2,unique_table_reset=False)\n",
    "\n",
    "verify(tdd1,tdd2)"
   ]
  },
  {
   "cell_type": "code",
   "execution_count": 12,
   "metadata": {},
   "outputs": [
    {
     "name": "stdout",
     "output_type": "stream",
     "text": [
      "add: 0 / 2 / 0.0\n",
      "cont: 0 / 6 / 0.0\n"
     ]
    }
   ],
   "source": [
    "from TDD.TDD import get_count\n",
    "get_count()"
   ]
  },
  {
   "cell_type": "code",
   "execution_count": 13,
   "metadata": {},
   "outputs": [
    {
     "data": {
      "image/png": "[encoded data removed]",
      "text/plain": [
       "<IPython.core.display.Image object>"
      ]
     },
     "execution_count": 13,
     "metadata": {},
     "output_type": "execute_result"
    }
   ],
   "source": [
    "tdd1.show()"
   ]
  },
  {
   "cell_type": "code",
   "execution_count": 14,
   "metadata": {},
   "outputs": [
    {
     "data": {
      "image/png": "[encoded data removed]",
      "text/plain": [
       "<IPython.core.display.Image object>"
      ]
     },
     "execution_count": 14,
     "metadata": {},
     "output_type": "execute_result"
    }
   ],
   "source": [
    "tdd2.show()"
   ]
  },
  {
   "cell_type": "code",
   "execution_count": 15,
   "metadata": {},
   "outputs": [
    {
     "name": "stdout",
     "output_type": "stream",
     "text": [
      "start cont  0.0005993843078613281\n",
      "cont complete 0.0047740936279296875\n"
     ]
    },
    {
     "data": {
      "text/plain": [
       "{'Benchmark Name': None,\n",
       " 'Parameter num': 1,\n",
       " 'Qubit num.': 1,\n",
       " 'Gate num.': 1,\n",
       " 'Time': 0.0047740936279296875,\n",
       " 'Node num. max': 4,\n",
       " 'Node num. final': 4,\n",
       " 'gu1': 16,\n",
       " 'gu2': 6}"
      ]
     },
     "execution_count": 15,
     "metadata": {},
     "output_type": "execute_result"
    }
   ],
   "source": [
    "tdd, output_dict=STDD_verify(simple, simple2)\n",
    "output_dict"
   ]
  },
  {
   "cell_type": "code",
   "execution_count": 16,
   "metadata": {},
   "outputs": [
    {
     "data": {
      "image/png": "[encoded data removed]",
      "text/plain": [
       "<IPython.core.display.Image object>"
      ]
     },
     "execution_count": 16,
     "metadata": {},
     "output_type": "execute_result"
    }
   ],
   "source": [
    "tdd.show()"
   ]
  },
  {
   "cell_type": "code",
   "execution_count": 17,
   "metadata": {},
   "outputs": [
    {
     "name": "stdout",
     "output_type": "stream",
     "text": [
      "['sin(θ[0])', 'cos(θ[0])', 'sin(θ[1])', 'cos(θ[1])', 'sin(θ[2])', 'cos(θ[2])', 'sin(θ[3])', 'cos(θ[3])', 'sin(θ[4])', 'cos(θ[4])', 'sin(θ[5])', 'cos(θ[5])', 'sin(θ[6])', 'cos(θ[6])', 'sin(θ[7])', 'cos(θ[7])', 'sin(θ[8])', 'cos(θ[8])', 'sin(θ[9])', 'cos(θ[9])', 'sin(θ[10])', 'cos(θ[10])', 'sin(θ[11])', 'cos(θ[11])']\n",
      "start cont  0.007204771041870117\n",
      "cont complete 0.7724196910858154\n",
      "['sin(θ[0])', 'cos(θ[0])', 'sin(θ[1])', 'cos(θ[1])', 'sin(θ[2])', 'cos(θ[2])', 'sin(θ[3])', 'cos(θ[3])', 'sin(θ[4])', 'cos(θ[4])', 'sin(θ[5])', 'cos(θ[5])', 'sin(θ[6])', 'cos(θ[6])', 'sin(θ[7])', 'cos(θ[7])', 'sin(θ[8])', 'cos(θ[8])', 'sin(θ[9])', 'cos(θ[9])', 'sin(θ[10])', 'cos(θ[10])', 'sin(θ[11])', 'cos(θ[11])']\n",
      "start cont  0.009313583374023438\n",
      "cont complete 1.8903043270111084\n",
      "global_norm {'check_time': 0.05220651626586914, 'equivalence': 'equivalent_up_to_global_phase'}\n"
     ]
    },
    {
     "data": {
      "text/plain": [
       "{'Benchmark Name': 'EfficientSU2_3_3',\n",
       " 'Parameter num.': 12,\n",
       " 'Qubit num.': 3,\n",
       " 'Gate num._1': 57,\n",
       " 'Time_1': 0.7724196910858154,\n",
       " 'Node num. max_1': 64,\n",
       " 'Node num. final_1': 64,\n",
       " 'gu1_1': 1581,\n",
       " 'gu2_1': 3773,\n",
       " 'Gate num._2': 33,\n",
       " 'Time_2': 1.8903043270111084,\n",
       " 'Node num. max_2': 64,\n",
       " 'Node num. final_2': 64,\n",
       " 'gu1_2': 2909,\n",
       " 'gu2_2': 15535,\n",
       " 'Check_time': 0.05220651626586914,\n",
       " 'Totol_time': 2.714930534362793,\n",
       " 'Equivalent': 'equivalent_up_to_global_phase'}"
      ]
     },
     "execution_count": 17,
     "metadata": {},
     "output_type": "execute_result"
    }
   ],
   "source": [
    "experiment(qubit_num=3,reps=3,function='EfficientSU2')"
   ]
  },
  {
   "cell_type": "code",
   "execution_count": 18,
   "metadata": {},
   "outputs": [],
   "source": [
    "cir,cir2,data=circuit_generator(qubit_num=3,reps=3, function_name='EfficientSU2'\n",
    "                                ,basis_gates1=['id', 'rz', 'sx', 'x', 'cx']\n",
    "                                ,basis_gates2=['rx','ry','h','cx'])"
   ]
  },
  {
   "cell_type": "code",
   "execution_count": 19,
   "metadata": {},
   "outputs": [
    {
     "data": {
      "text/html": [
       "<pre style=\"word-wrap: normal;white-space: pre;background: #fff0;line-height: 1.1;font-family: &quot;Courier New&quot;,Courier,monospace\">global phase: π\n",
       "     ┌─────────┐┌────┐┌──────────────┐┌──────────┐┌───┐     ┌─────────┐»\n",
       "q_0: ┤ Rz(π/2) ├┤ √X ├┤ Rz(θ[0] + π) ├┤ Rz(-π/2) ├┤ X ├──■──┤ Rz(π/2) ├»\n",
       "     ├─────────┤├────┤├──────────────┤├──────────┤└─┬─┘┌─┴─┐└─────────┘»\n",
       "q_1: ┤ Rz(π/2) ├┤ √X ├┤ Rz(θ[1] + π) ├┤ Rz(-π/2) ├──┼──┤ X ├─────■─────»\n",
       "     ├─────────┤├────┤├──────────────┤├──────────┤  │  └───┘   ┌─┴─┐   »\n",
       "q_2: ┤ Rz(π/2) ├┤ √X ├┤ Rz(θ[2] + π) ├┤ Rz(-π/2) ├──■──────────┤ X ├───»\n",
       "     └─────────┘└────┘└──────────────┘└──────────┘             └───┘   »\n",
       "«        ┌────┐  ┌──────────────┐  ┌──────────┐              ┌───┐     »\n",
       "«q_0: ───┤ √X ├──┤ Rz(θ[3] + π) ├──┤ Rz(-π/2) ├──────────────┤ X ├──■──»\n",
       "«     ┌──┴────┴─┐└────┬────┬────┘┌─┴──────────┴─┐┌──────────┐└─┬─┘┌─┴─┐»\n",
       "«q_1: ┤ Rz(π/2) ├─────┤ √X ├─────┤ Rz(θ[4] + π) ├┤ Rz(-π/2) ├──┼──┤ X ├»\n",
       "«     ├─────────┤     ├────┤     ├──────────────┤├──────────┤  │  └───┘»\n",
       "«q_2: ┤ Rz(π/2) ├─────┤ √X ├─────┤ Rz(θ[5] + π) ├┤ Rz(-π/2) ├──■───────»\n",
       "«     └─────────┘     └────┘     └──────────────┘└──────────┘          »\n",
       "«     ┌─────────┐   ┌────┐  ┌──────────────┐  ┌──────────┐              ┌───┐»\n",
       "«q_0: ┤ Rz(π/2) ├───┤ √X ├──┤ Rz(θ[6] + π) ├──┤ Rz(-π/2) ├──────────────┤ X ├»\n",
       "«     └─────────┘┌──┴────┴─┐└────┬────┬────┘┌─┴──────────┴─┐┌──────────┐└─┬─┘»\n",
       "«q_1: ─────■─────┤ Rz(π/2) ├─────┤ √X ├─────┤ Rz(θ[7] + π) ├┤ Rz(-π/2) ├──┼──»\n",
       "«        ┌─┴─┐   ├─────────┤     ├────┤     ├──────────────┤├──────────┤  │  »\n",
       "«q_2: ───┤ X ├───┤ Rz(π/2) ├─────┤ √X ├─────┤ Rz(θ[8] + π) ├┤ Rz(-π/2) ├──■──»\n",
       "«        └───┘   └─────────┘     └────┘     └──────────────┘└──────────┘     »\n",
       "«          ┌─────────┐   ┌────┐  ┌──────────────┐   ┌──────────┐              \n",
       "«q_0: ──■──┤ Rz(π/2) ├───┤ √X ├──┤ Rz(θ[9] + π) ├───┤ Rz(-π/2) ├──────────────\n",
       "«     ┌─┴─┐└─────────┘┌──┴────┴─┐└────┬────┬────┘┌──┴──────────┴─┐┌──────────┐\n",
       "«q_1: ┤ X ├─────■─────┤ Rz(π/2) ├─────┤ √X ├─────┤ Rz(θ[10] + π) ├┤ Rz(-π/2) ├\n",
       "«     └───┘   ┌─┴─┐   ├─────────┤     ├────┤     ├───────────────┤├──────────┤\n",
       "«q_2: ────────┤ X ├───┤ Rz(π/2) ├─────┤ √X ├─────┤ Rz(θ[11] + π) ├┤ Rz(-π/2) ├\n",
       "«             └───┘   └─────────┘     └────┘     └───────────────┘└──────────┘</pre>"
      ],
      "text/plain": [
       "global phase: π\n",
       "     ┌─────────┐┌────┐┌──────────────┐┌──────────┐┌───┐     ┌─────────┐»\n",
       "q_0: ┤ Rz(π/2) ├┤ √X ├┤ Rz(θ[0] + π) ├┤ Rz(-π/2) ├┤ X ├──■──┤ Rz(π/2) ├»\n",
       "     ├─────────┤├────┤├──────────────┤├──────────┤└─┬─┘┌─┴─┐└─────────┘»\n",
       "q_1: ┤ Rz(π/2) ├┤ √X ├┤ Rz(θ[1] + π) ├┤ Rz(-π/2) ├──┼──┤ X ├─────■─────»\n",
       "     ├─────────┤├────┤├──────────────┤├──────────┤  │  └───┘   ┌─┴─┐   »\n",
       "q_2: ┤ Rz(π/2) ├┤ √X ├┤ Rz(θ[2] + π) ├┤ Rz(-π/2) ├──■──────────┤ X ├───»\n",
       "     └─────────┘└────┘└──────────────┘└──────────┘             └───┘   »\n",
       "«        ┌────┐  ┌──────────────┐  ┌──────────┐              ┌───┐     »\n",
       "«q_0: ───┤ √X ├──┤ Rz(θ[3] + π) ├──┤ Rz(-π/2) ├──────────────┤ X ├──■──»\n",
       "«     ┌──┴────┴─┐└────┬────┬────┘┌─┴──────────┴─┐┌──────────┐└─┬─┘┌─┴─┐»\n",
       "«q_1: ┤ Rz(π/2) ├─────┤ √X ├─────┤ Rz(θ[4] + π) ├┤ Rz(-π/2) ├──┼──┤ X ├»\n",
       "«     ├─────────┤     ├────┤     ├──────────────┤├──────────┤  │  └───┘»\n",
       "«q_2: ┤ Rz(π/2) ├─────┤ √X ├─────┤ Rz(θ[5] + π) ├┤ Rz(-π/2) ├──■───────»\n",
       "«     └─────────┘     └────┘     └──────────────┘└──────────┘          »\n",
       "«     ┌─────────┐   ┌────┐  ┌──────────────┐  ┌──────────┐              ┌───┐»\n",
       "«q_0: ┤ Rz(π/2) ├───┤ √X ├──┤ Rz(θ[6] + π) ├──┤ Rz(-π/2) ├──────────────┤ X ├»\n",
       "«     └─────────┘┌──┴────┴─┐└────┬────┬────┘┌─┴──────────┴─┐┌──────────┐└─┬─┘»\n",
       "«q_1: ─────■─────┤ Rz(π/2) ├─────┤ √X ├─────┤ Rz(θ[7] + π) ├┤ Rz(-π/2) ├──┼──»\n",
       "«        ┌─┴─┐   ├─────────┤     ├────┤     ├──────────────┤├──────────┤  │  »\n",
       "«q_2: ───┤ X ├───┤ Rz(π/2) ├─────┤ √X ├─────┤ Rz(θ[8] + π) ├┤ Rz(-π/2) ├──■──»\n",
       "«        └───┘   └─────────┘     └────┘     └──────────────┘└──────────┘     »\n",
       "«          ┌─────────┐   ┌────┐  ┌──────────────┐   ┌──────────┐              \n",
       "«q_0: ──■──┤ Rz(π/2) ├───┤ √X ├──┤ Rz(θ[9] + π) ├───┤ Rz(-π/2) ├──────────────\n",
       "«     ┌─┴─┐└─────────┘┌──┴────┴─┐└────┬────┬────┘┌──┴──────────┴─┐┌──────────┐\n",
       "«q_1: ┤ X ├─────■─────┤ Rz(π/2) ├─────┤ √X ├─────┤ Rz(θ[10] + π) ├┤ Rz(-π/2) ├\n",
       "«     └───┘   ┌─┴─┐   ├─────────┤     ├────┤     ├───────────────┤├──────────┤\n",
       "«q_2: ────────┤ X ├───┤ Rz(π/2) ├─────┤ √X ├─────┤ Rz(θ[11] + π) ├┤ Rz(-π/2) ├\n",
       "«             └───┘   └─────────┘     └────┘     └───────────────┘└──────────┘"
      ]
     },
     "execution_count": 19,
     "metadata": {},
     "output_type": "execute_result"
    }
   ],
   "source": [
    "cir.draw()"
   ]
  },
  {
   "cell_type": "code",
   "execution_count": 20,
   "metadata": {},
   "outputs": [
    {
     "name": "stdout",
     "output_type": "stream",
     "text": [
      "['sin(θ[0])', 'cos(θ[0])', 'sin(θ[1])', 'cos(θ[1])', 'sin(θ[2])', 'cos(θ[2])', 'sin(θ[3])', 'cos(θ[3])', 'sin(θ[4])', 'cos(θ[4])', 'sin(θ[5])', 'cos(θ[5])', 'sin(θ[6])', 'cos(θ[6])', 'sin(θ[7])', 'cos(θ[7])', 'sin(θ[8])', 'cos(θ[8])', 'sin(θ[9])', 'cos(θ[9])', 'sin(θ[10])', 'cos(θ[10])', 'sin(θ[11])', 'cos(θ[11])']\n",
      "start cont  0.04818916320800781\n",
      "cont complete 0.6104447841644287\n",
      "add: 76 / 760 / 0.1\n",
      "cont: 218 / 1576 / 0.1383248730964467\n"
     ]
    }
   ],
   "source": [
    "tdd1, output_dict=STDD_simulation(cir)\n",
    "get_count()"
   ]
  },
  {
   "cell_type": "code",
   "execution_count": 21,
   "metadata": {},
   "outputs": [
    {
     "data": {
      "image/png": "[encoded data removed]",
      "text/plain": [
       "<IPython.core.display.Image object>"
      ]
     },
     "execution_count": 21,
     "metadata": {},
     "output_type": "execute_result"
    }
   ],
   "source": [
    "weight=tdd1.node.successor[0].out_weight[0]\n",
    "weight.show()"
   ]
  },
  {
   "cell_type": "code",
   "execution_count": 22,
   "metadata": {},
   "outputs": [],
   "source": [
    "# cir.draw()"
   ]
  },
  {
   "cell_type": "code",
   "execution_count": 23,
   "metadata": {},
   "outputs": [],
   "source": [
    "# cir2.draw()"
   ]
  },
  {
   "cell_type": "code",
   "execution_count": 24,
   "metadata": {},
   "outputs": [
    {
     "name": "stdout",
     "output_type": "stream",
     "text": [
      "start cont  0.03208327293395996\n",
      "cont complete 0.26055264472961426\n"
     ]
    },
    {
     "data": {
      "text/plain": [
       "{'Benchmark Name': None,\n",
       " 'Parameter num': 12,\n",
       " 'Qubit num.': 3,\n",
       " 'Gate num.': 57,\n",
       " 'Time': 0.26055264472961426,\n",
       " 'Node num. max': 34,\n",
       " 'Node num. final': 10,\n",
       " 'gu1': 1002,\n",
       " 'gu2': 331}"
      ]
     },
     "execution_count": 24,
     "metadata": {},
     "output_type": "execute_result"
    }
   ],
   "source": [
    "tdd, output_dict=STDD_verify(cir, cir2)\n",
    "output_dict"
   ]
  },
  {
   "cell_type": "code",
   "execution_count": 25,
   "metadata": {},
   "outputs": [
    {
     "name": "stdout",
     "output_type": "stream",
     "text": [
      "start cont  0.004282236099243164\n",
      "cont complete 0.00529789924621582\n"
     ]
    },
    {
     "data": {
      "text/plain": [
       "{'Benchmark Name': None,\n",
       " 'Parameter num': 1,\n",
       " 'Qubit num.': 1,\n",
       " 'Gate num.': 1,\n",
       " 'Time': 0.00529789924621582,\n",
       " 'Node num. max': 4,\n",
       " 'Node num. final': 4,\n",
       " 'gu1': 16,\n",
       " 'gu2': 6}"
      ]
     },
     "execution_count": 25,
     "metadata": {},
     "output_type": "execute_result"
    }
   ],
   "source": [
    "tdd, output_dict=STDD_verify(simple, simple2)\n",
    "output_dict"
   ]
  },
  {
   "cell_type": "code",
   "execution_count": 26,
   "metadata": {},
   "outputs": [],
   "source": [
    "a=tdd.show()"
   ]
  },
  {
   "cell_type": "code",
   "execution_count": 27,
   "metadata": {},
   "outputs": [
    {
     "data": {
      "text/plain": [
       "{\n",
       "  \"check_time\": 0.000659604,\n",
       "  \"equivalence\": \"equivalent_up_to_global_phase\",\n",
       "  \"parameterized\": {\n",
       "    \"performed_instantiations\": 0\n",
       "  },\n",
       "  \"preprocessing_time\": 0.000387102\n",
       "}"
      ]
     },
     "execution_count": 27,
     "metadata": {},
     "output_type": "execute_result"
    }
   ],
   "source": [
    "from mqt import qcec\n",
    "\n",
    "qcec.verify(cir, cir2)"
   ]
  },
  {
   "cell_type": "code",
   "execution_count": 28,
   "metadata": {},
   "outputs": [
    {
     "data": {
      "text/plain": [
       "{\n",
       "  \"check_time\": 0.01144636,\n",
       "  \"equivalence\": \"not_equivalent\",\n",
       "  \"parameterized\": {\n",
       "    \"performed_instantiations\": 2\n",
       "  },\n",
       "  \"preprocessing_time\": 0.001256107,\n",
       "  \"simulations\": {\n",
       "    \"performed\": 0,\n",
       "    \"started\": 4\n",
       "  }\n",
       "}"
      ]
     },
     "execution_count": 28,
     "metadata": {},
     "output_type": "execute_result"
    }
   ],
   "source": [
    "qcec.verify(simple, simple2\n",
    "            # , additional_instantiations=10\n",
    "            )"
   ]
  },
  {
   "cell_type": "code",
   "execution_count": 29,
   "metadata": {},
   "outputs": [],
   "source": [
    "# tdd.show()"
   ]
  },
  {
   "attachments": {},
   "cell_type": "markdown",
   "metadata": {},
   "source": [
    "# Compare"
   ]
  },
  {
   "cell_type": "code",
   "execution_count": 30,
   "metadata": {},
   "outputs": [
    {
     "data": {
      "image/png": "[encoded data removed]",
      "text/plain": [
       "<Figure size 603.508x117.056 with 1 Axes>"
      ]
     },
     "execution_count": 30,
     "metadata": {},
     "output_type": "execute_result"
    }
   ],
   "source": [
    "s0=Parameter('s%i'%0)\n",
    "s1=Parameter('s%i'%1)\n",
    "test=QuantumCircuit(1)\n",
    "test.rx(np.pi/3,0)\n",
    "test.rz(s0,0)\n",
    "test.rz(np.pi/2,0)\n",
    "test.rx(np.pi/3,0)\n",
    "test.rz(s1,0)\n",
    "test.rz(-np.pi/2,0)\n",
    "\n",
    "test.draw('mpl')"
   ]
  },
  {
   "cell_type": "code",
   "execution_count": 31,
   "metadata": {},
   "outputs": [
    {
     "data": {
      "image/png": "[encoded data removed]",
      "text/plain": [
       "<Figure size 436.286x117.056 with 1 Axes>"
      ]
     },
     "execution_count": 31,
     "metadata": {},
     "output_type": "execute_result"
    }
   ],
   "source": [
    "test2=QuantumCircuit(1)\n",
    "test2.rx(np.pi/3,0)\n",
    "test2.rz(s0,0)\n",
    "test2.ry(np.pi/3,0)\n",
    "test2.rz(s1,0)\n",
    "\n",
    "test2.draw('mpl')"
   ]
  },
  {
   "cell_type": "code",
   "execution_count": 32,
   "metadata": {},
   "outputs": [
    {
     "name": "stdout",
     "output_type": "stream",
     "text": [
      "start cont  0.0009477138519287109\n",
      "cont complete 0.010963201522827148\n"
     ]
    },
    {
     "data": {
      "text/plain": [
       "{'Benchmark Name': None,\n",
       " 'Parameter num': 2,\n",
       " 'Qubit num.': 1,\n",
       " 'Gate num.': 6,\n",
       " 'Time': 0.010963201522827148,\n",
       " 'Node num. max': 4,\n",
       " 'Node num. final': 4,\n",
       " 'gu1': 25,\n",
       " 'gu2': 17}"
      ]
     },
     "execution_count": 32,
     "metadata": {},
     "output_type": "execute_result"
    }
   ],
   "source": [
    "tdd, output_dict=STDD_verify(test, test2)\n",
    "output_dict"
   ]
  },
  {
   "cell_type": "code",
   "execution_count": 33,
   "metadata": {},
   "outputs": [
    {
     "data": {
      "image/png": "[encoded data removed]",
      "text/plain": [
       "<IPython.core.display.Image object>"
      ]
     },
     "execution_count": 33,
     "metadata": {},
     "output_type": "execute_result"
    }
   ],
   "source": [
    "tdd.show()"
   ]
  },
  {
   "cell_type": "code",
   "execution_count": 34,
   "metadata": {},
   "outputs": [
    {
     "data": {
      "text/plain": [
       "{\n",
       "  \"check_time\": 0.004032721,\n",
       "  \"equivalence\": \"not_equivalent\",\n",
       "  \"parameterized\": {\n",
       "    \"performed_instantiations\": 1\n",
       "  },\n",
       "  \"preprocessing_time\": 0.000807105,\n",
       "  \"simulations\": {\n",
       "    \"performed\": 0,\n",
       "    \"started\": 2\n",
       "  }\n",
       "}"
      ]
     },
     "execution_count": 34,
     "metadata": {},
     "output_type": "execute_result"
    }
   ],
   "source": [
    "qcec.verify(test, test2)"
   ]
  },
  {
   "cell_type": "code",
   "execution_count": 35,
   "metadata": {},
   "outputs": [
    {
     "name": "stdout",
     "output_type": "stream",
     "text": [
      "solution x*y*(3.0 + 4.0*I) + 2.0*I*x\n"
     ]
    }
   ],
   "source": [
    "import sympy\n",
    "\n",
    "x = sympy.Symbol('x')\n",
    "y = sympy.Symbol('y')\n",
    "epi=1e-10\n",
    "expr = (1e-15 + 2j)*x + (3 + 4j)*x*y\n",
    "\n",
    "new_expr=0\n",
    "for term in expr.args:\n",
    "    # print(term)\n",
    "    free_symbols=term.free_symbols\n",
    "    for i in range(len(free_symbols)):\n",
    "        if i==0:\n",
    "            coeff = term.coeff(free_symbols.pop())\n",
    "        else:\n",
    "            coeff = coeff.coeff(free_symbols.pop())\n",
    "    if abs(coeff)-abs(coeff.as_real_imag()[0]) < epi:\n",
    "        coeff=coeff.as_real_imag()[0]\n",
    "    elif abs(coeff)-abs(coeff.as_real_imag()[1]) < epi:\n",
    "        coeff=coeff.as_real_imag()[1] * sympy.I\n",
    "    symbols = term.free_symbols\n",
    "    terms=1 \n",
    "    for symbol in symbols:\n",
    "        terms*=symbol\n",
    "    # print('term',coeff*terms)\n",
    "    new_expr+=coeff*terms\n",
    "print('solution',new_expr)\n"
   ]
  },
  {
   "cell_type": "code",
   "execution_count": 36,
   "metadata": {},
   "outputs": [],
   "source": [
    "\n",
    "class Tensor:\n",
    "    def __init__(self,data=[],index=[],name=None,qubits=None):\n",
    "        self.data=data\n",
    "        self.index_set=index\n",
    "        self.name=name\n",
    "        self.qubits=qubits #This is used only when it represent a quantum gate \n",
    "        self._tdd=None\n",
    "    @property\n",
    "    def tdd(self):\n",
    "        return self._tdd\n",
    "    @tdd.setter\n",
    "    def tdd(self):\n",
    "        from TDD.TDD import get_tdd\n",
    "        return get_tdd(self.data,self.index_set)  "
   ]
  },
  {
   "cell_type": "code",
   "execution_count": 37,
   "metadata": {},
   "outputs": [],
   "source": [
    "# function_list=['RealAmplitudes','EfficientSU2']\n",
    "# experiment_setup=[(5,3)]\n",
    "    \n",
    "# for qubit_num,reps in experiment_setup:\n",
    "#     for function in function_list:\n",
    "#             experiment(qubit_num=qubit_num, reps=reps, function=function, optimizer=None, file_name='STDD benchmark.csv')\n",
    "        "
   ]
  },
  {
   "cell_type": "code",
   "execution_count": 38,
   "metadata": {},
   "outputs": [],
   "source": [
    "\n",
    "# with open('STDD cir_partition2 benchmark.csv', 'w', newline='') as csvfile:\n",
    "#     fieldnames=['Benchmark Name','Parameter num.','Qubit num.'\n",
    "# ,'Gate num._1','Time_1','Node num. max_1','Node num. final_1','gu1_1','gu2_1'\n",
    "# ,'Gate num._2','Time_2','Node num. max_2','Node num. final_2','gu1_2','gu2_2'\n",
    "# ,'Check_time','Totol_time','Equivalent']\n",
    "#     writer = csv.DictWriter(csvfile, fieldnames=fieldnames)\n",
    "#     writer.writeheader()\n"
   ]
  }
 ],
 "metadata": {
  "kernelspec": {
   "display_name": "qcec",
   "language": "python",
   "name": "python3"
  },
  "language_info": {
   "codemirror_mode": {
    "name": "ipython",
    "version": 3
   },
   "file_extension": ".py",
   "mimetype": "text/x-python",
   "name": "python",
   "nbconvert_exporter": "python",
   "pygments_lexer": "ipython3",
   "version": "3.9.0"
  },
  "orig_nbformat": 4,
  "vscode": {
   "interpreter": {
    "hash": "0b9ef09a9a3250f999e7cf7647bb92657449fd8a8bc05aa98b9630ea0804629e"
   }
  }
 },
 "nbformat": 4,
 "nbformat_minor": 2
}
