{
 "cells": [
  {
   "cell_type": "code",
   "execution_count": 1,
   "metadata": {},
   "outputs": [],
   "source": [
    "import time,csv\n",
    "import numpy as np"
   ]
  },
  {
   "cell_type": "code",
   "execution_count": 2,
   "metadata": {},
   "outputs": [],
   "source": [
    "from TDD.TDD import global_norm\n",
    "# from TDD.TDD import TDD\n",
    "# def global_norm(tdd):\n",
    "#     node=tdd.node\n",
    "#     weight=tdd.weight\n",
    "\n",
    "#     if node.key==-1:\n",
    "#         return tdd\n",
    "\n",
    "#     h=weight\n",
    "#     tdd_list=[]\n",
    "#     for i in range (len(node.out_weight)):\n",
    "#         tdd_list.append(TDD(node.successor[i]))\n",
    "#         tdd_list[i].weight=h*node.out_weight[i]\n",
    "#         tdd_list[i]=global_norm(tdd_list[i])\n",
    "\n",
    "#     from TDD.TDD import normalize\n",
    "#     new_tdd=normalize(node.key,tdd_list)\n",
    "#     return new_tdd"
   ]
  },
  {
   "cell_type": "code",
   "execution_count": 3,
   "metadata": {},
   "outputs": [],
   "source": [
    "from TDD.TDD import Ini_TDD\n",
    "from TDD.TDD_Q import cir_2_tn,get_real_qubit_num\n",
    "\n",
    "def STDD_simulation(cir, Benchmark_Name=None, unique_table_reset=True, add_inputs_list=None, optimizer=None):\n",
    "    n=get_real_qubit_num(cir)\n",
    "    tn,indices=cir_2_tn(cir)\n",
    "    #add y indices\n",
    "    indices2=[]\n",
    "    for i, item in enumerate(indices):\n",
    "        indices2.append(item)\n",
    "        if item[0]=='y':\n",
    "            num=int(item.replace('y',''))\n",
    "            # indices2.append('z%i'%num)\n",
    "    t_start=time.time()\n",
    "    #add sin cos indices\n",
    "    sin_str=set()\n",
    "    cos_str=set()\n",
    "    for tensor in tn.tensors:\n",
    "        for element in tensor.data.flatten(): \n",
    "            from sympy.core.expr import Expr \n",
    "            if isinstance(element,Expr):\n",
    "                for symbol in element.free_symbols:\n",
    "                    sin_str.add('sin('+str(symbol)+')')\n",
    "                    cos_str.add('cos('+str(symbol)+')')\n",
    "    sin_str=list(sin_str)\n",
    "    sin_str.sort()\n",
    "    cos_str=list(cos_str)\n",
    "    cos_str.sort()\n",
    "    sym_str=[]\n",
    "    for i in range(len(sin_str)):\n",
    "        sym_str.append(sin_str[i])\n",
    "        sym_str.append(cos_str[i])\n",
    "\n",
    "    # TDD process\n",
    "    Ini_TDD(indices2,sym_str,type='TrDD',unique_table_reset=unique_table_reset)\n",
    "\n",
    "    if add_inputs_list:\n",
    "        from TDD.TDD_Q import add_inputs\n",
    "        # add_inputs(tn,[0]*n,n)\n",
    "        add_inputs(tn,add_inputs_list)\n",
    "\n",
    "    start_cont=time.time()-t_start\n",
    "    print('start cont ',start_cont)\n",
    "    tdd, Max_node_num=tn.cont(optimizer=optimizer,max_node=True)\n",
    "    cont_time=time.time()-start_cont-t_start\n",
    "    print('cont complete',cont_time)\n",
    "\n",
    "    from TDD.TDD import get_unique_table_num as gu1\n",
    "    from TDD.TrDD.BDD import get_unique_table_num as gu2\n",
    "    output_dict={'Benchmark Name':Benchmark_Name,\n",
    "            'Parameter num': len(sin_str),\n",
    "            'Qubit num.':tn.qubits_num,\n",
    "            'Gate num.':len(cir.data),\n",
    "            'Time':cont_time,\n",
    "            'Node num. max':Max_node_num,\n",
    "            'Node num. final':tdd.node_number(),\n",
    "            'gu1':gu1(),\n",
    "            'gu2':gu2()\n",
    "    }\n",
    "    return tdd, output_dict"
   ]
  },
  {
   "cell_type": "code",
   "execution_count": 4,
   "metadata": {},
   "outputs": [],
   "source": [
    "def STDD_verify(cir, cir2, Benchmark_Name=None, unique_table_reset=True, add_inputs_list=None, optimizer=None):\n",
    "    n=get_real_qubit_num(cir)\n",
    "    tn, indices = cir_2_tn(cir.compose(cir2.inverse()))\n",
    "\n",
    "    t_start=time.time()\n",
    "    #add sin cos indices\n",
    "    sin_str=set()\n",
    "    cos_str=set()\n",
    "    for tensor in tn.tensors:\n",
    "        for element in tensor.data.flatten(): \n",
    "            from sympy.core.expr import Expr \n",
    "            if isinstance(element,Expr):\n",
    "                for symbol in element.free_symbols:\n",
    "                    sin_str.add('sin('+str(symbol)+')')\n",
    "                    cos_str.add('cos('+str(symbol)+')')\n",
    "    sin_str=list(sin_str)\n",
    "    sin_str.sort()\n",
    "    cos_str=list(cos_str)\n",
    "    cos_str.sort()\n",
    "    sym_str=[]\n",
    "    for i in range(len(sin_str)):\n",
    "        sym_str.append(sin_str[i])\n",
    "        sym_str.append(cos_str[i])\n",
    "\n",
    "    # TDD process\n",
    "    Ini_TDD(indices,sym_str,type='TrDD',unique_table_reset=unique_table_reset)\n",
    "\n",
    "    if add_inputs_list:\n",
    "        from TDD.TDD_Q import add_inputs\n",
    "        # add_inputs(tn,[0]*n,n)\n",
    "        add_inputs(tn,add_inputs_list)\n",
    "\n",
    "    def cont2(tn,l1):\n",
    "        from TDD.TDD import cont, get_identity_tdd\n",
    "        max_node_num=0\n",
    "        tdd=get_identity_tdd()\n",
    "        l2=len(tn.tensors)-l1\n",
    "        l=min(l1,l2)\n",
    "        d=l1-l2\n",
    "        r=int(l1/l2) if d>0 else int(l2/l1)\n",
    "        if r == 1:\n",
    "            for i in range(l):\n",
    "                tdd1=tn.tensors[-(i+1)+l1].tdd()\n",
    "                tdd=cont(tdd1,tdd)\n",
    "                max_node_num=max(max_node_num,tdd.node_number())\n",
    "                tdd2=tn.tensors[i+l1].tdd()\n",
    "                tdd=cont(tdd,tdd2)\n",
    "                max_node_num=max(max_node_num,tdd.node_number())\n",
    "            if d>0:\n",
    "                for i in range(d):\n",
    "                    tdd1=tn.tensors[-(i+l+1)+l1].tdd()\n",
    "                    tdd=cont(tdd1,tdd)\n",
    "                    max_node_num=max(max_node_num,tdd.node_number())\n",
    "            elif d<0:\n",
    "                for i in range(abs(d)):\n",
    "                    tdd2=tn.tensors[i+l+l1].tdd()\n",
    "                    tdd=cont(tdd,tdd2)\n",
    "                    max_node_num=max(max_node_num,tdd.node_number())\n",
    "        elif d>0:\n",
    "            for i in range(l2):\n",
    "                for j in range(r):\n",
    "                    tdd1=tn.tensors[-(r*i+j+1)+l1].tdd()\n",
    "                    tdd=cont(tdd1,tdd)\n",
    "                    max_node_num=max(max_node_num,tdd.node_number())\n",
    "                tdd2=tn.tensors[i+l1].tdd()\n",
    "                tdd=cont(tdd,tdd2)\n",
    "                max_node_num=max(max_node_num,tdd.node_number())\n",
    "            d2=l1-r*l2\n",
    "            if d2 !=0:\n",
    "                for i in range (d2):\n",
    "                    tdd1=tn.tensors[-(i+r*l2+1)+l1].tdd()\n",
    "                    tdd=cont(tdd1,tdd)\n",
    "                    max_node_num=max(max_node_num,tdd.node_number())\n",
    "        elif d<0:\n",
    "            for i in range(l1):\n",
    "                tdd1=tn.tensors[-(i+1)+l1].tdd()\n",
    "                tdd=cont(tdd1,tdd)\n",
    "                max_node_num=max(max_node_num,tdd.node_number())\n",
    "                for j in range(r):\n",
    "                    tdd2=tn.tensors[r*i+j+l1].tdd()\n",
    "                    tdd=cont(tdd,tdd2)\n",
    "                    max_node_num=max(max_node_num,tdd.node_number())\n",
    "            d2=l2-r*l1\n",
    "            if d2 !=0:\n",
    "                for i in range(d2):\n",
    "                    tdd2=tn.tensors[i+(r+1)*l1].tdd()\n",
    "                    tdd=cont(tdd,tdd2)\n",
    "                    max_node_num=max(max_node_num,tdd.node_number())\n",
    "        return tdd, max_node_num\n",
    "\n",
    "    l1=len(cir.data)\n",
    "\n",
    "    start_cont=time.time()-t_start\n",
    "    print('start cont ',start_cont)\n",
    "    tdd, Max_node_num= cont2(tn,l1)\n",
    "    cont_time=time.time()-start_cont-t_start\n",
    "    print('cont complete',cont_time)\n",
    "\n",
    "    from TDD.TDD import get_unique_table_num as gu1\n",
    "    from TDD.TrDD.BDD import get_unique_table_num as gu2\n",
    "    output_dict={'Benchmark Name':Benchmark_Name,\n",
    "            'Parameter num': len(sin_str),\n",
    "            'Qubit num.':tn.qubits_num,\n",
    "            'Gate num.':len(cir.data),\n",
    "            'Time':cont_time,\n",
    "            'Node num. max':Max_node_num,\n",
    "            'Node num. final':tdd.node_number(),\n",
    "            'gu1':gu1(),\n",
    "            'gu2':gu2()\n",
    "    }\n",
    "    return tdd, output_dict"
   ]
  },
  {
   "cell_type": "code",
   "execution_count": 5,
   "metadata": {},
   "outputs": [],
   "source": [
    "def verify(tdd1,tdd2):\n",
    "    start_time= time.time()\n",
    "    # equivalent without global_norm\n",
    "    if tdd1==tdd2:\n",
    "        check_time=time.time()-start_time\n",
    "        output_dict={\"check_time\":check_time,\"equivalence\":\"equivalent\"}\n",
    "        print(output_dict)\n",
    "        return output_dict\n",
    "    elif tdd1.node==tdd2.node:\n",
    "        check_time=time.time()-start_time\n",
    "        output_dict={\"check_time\":check_time,\"equivalence\":\"equivalent_up_to_global_phase\"}\n",
    "        print(output_dict)\n",
    "        return output_dict\n",
    "    tddn=global_norm(tdd1)\n",
    "    tddn2=global_norm(tdd2)\n",
    "    # equivalent with global_norm\n",
    "    if tddn==tddn2:\n",
    "        output_dict={\"check_time\":check_time,\"equivalence\":\"equivalent\"}\n",
    "        print('global_norm',output_dict)\n",
    "        return output_dict\n",
    "    elif tddn.node==tdd2.node:\n",
    "        check_time=time.time()-start_time\n",
    "        output_dict={\"check_time\":check_time,\"equivalence\":\"equivalent_up_to_global_phase\"}\n",
    "        print('global_norm',output_dict)\n",
    "        return output_dict\n",
    "    # not equivalent \n",
    "    else:\n",
    "        check_time=time.time()-start_time\n",
    "        output_dict={\"check_time\":check_time,\"equivalence\":\"not_equivalent\"}\n",
    "        print(output_dict)\n",
    "        return output_dict"
   ]
  },
  {
   "cell_type": "code",
   "execution_count": 6,
   "metadata": {},
   "outputs": [],
   "source": [
    "from qiskit import transpile\n",
    "from qiskit.circuit import Parameter, QuantumCircuit, library\n",
    "\n",
    "def circuit_generator(qubit_num=1,reps=1,function_name='TwoLocal'\n",
    "                    ,basis_gates1=['id', 'rz', 'sx', 'x', 'cx']\n",
    "                    ,basis_gates2=['h','ry','rz','cx']):\n",
    "\n",
    "    if function_name=='TwoLocal':\n",
    "        cir = library.TwoLocal(qubit_num, ['ry'],'cx', entanglement='circular', reps=reps)\n",
    "    if function_name=='ExcitationPreserving':\n",
    "        cir = library.ExcitationPreserving(qubit_num, mode='fsim', entanglement='full', reps=reps)\n",
    "    if function_name=='RealAmplitudes':\n",
    "        cir = library.TwoLocal(qubit_num, ['rx'],'cx', entanglement='full', reps=reps)\n",
    "    if function_name=='EfficientSU2':\n",
    "        cir = library.TwoLocal(qubit_num, ['rx','h'],'cx', entanglement='circular', reps=reps)\n",
    "\n",
    "    cir=transpile(cir,basis_gates=basis_gates1)\n",
    "    cir2=transpile(cir,basis_gates=basis_gates2)\n",
    "\n",
    "    return cir,cir2,'%s_%i_%i'%(function_name,qubit_num,reps)"
   ]
  },
  {
   "cell_type": "code",
   "execution_count": 7,
   "metadata": {},
   "outputs": [
    {
     "data": {
      "image/png": "[encoded data removed]",
      "text/plain": [
       "<Figure size 133.526x84.28 with 1 Axes>"
      ]
     },
     "execution_count": 7,
     "metadata": {},
     "output_type": "execute_result"
    }
   ],
   "source": [
    "s0=Parameter('s%i'%0)\n",
    "simple=QuantumCircuit(1)\n",
    "simple.rz(s0,0)\n",
    "# simple.x(0)\n",
    "simple.draw('mpl')"
   ]
  },
  {
   "cell_type": "code",
   "execution_count": 8,
   "metadata": {},
   "outputs": [
    {
     "data": {
      "image/png": "[encoded data removed]",
      "text/plain": [
       "<Figure size 253.926x84.28 with 1 Axes>"
      ]
     },
     "execution_count": 8,
     "metadata": {},
     "output_type": "execute_result"
    }
   ],
   "source": [
    "simple2=QuantumCircuit(1)\n",
    "\n",
    "simple2.rx(np.pi/2,0)\n",
    "simple2.ry(s0,0)\n",
    "simple2.rx(-np.pi/2,0)\n",
    "# simple2.x(0)\n",
    "# simple2.rz(s0,0)\n",
    "\n",
    "simple2.draw('mpl')"
   ]
  },
  {
   "cell_type": "code",
   "execution_count": 9,
   "metadata": {},
   "outputs": [],
   "source": [
    "def experiment(qubit_num=2,reps=1,function='RealAmplitudes', optimizer=None, file_name=None):\n",
    "        cir1,cir2,circuit_nam=circuit_generator(qubit_num=qubit_num,reps=reps,function_name=function)\n",
    "        tdd1,output_dict1=STDD_simulation(cir1, unique_table_reset=True, optimizer=optimizer)\n",
    "        tdd2,output_dict2=STDD_simulation(cir2, unique_table_reset=False, optimizer=optimizer)\n",
    "        output_dict3=verify(tdd1,tdd2)\n",
    "        if file_name:\n",
    "                with open(file_name, 'a', newline='') as csvfile:\n",
    "                        fieldnames = ['Benchmark Name','Parameter num.','Qubit num.'\n",
    "                                ,'Gate num._1','Time_1','Node num. max_1','Node num. final_1','gu1_1','gu2_1'\n",
    "                                ,'Gate num._2','Time_2','Node num. max_2','Node num. final_2','gu1_2','gu2_2'\n",
    "                                ,'Check_time','Totol_time','Equivalent']\n",
    "                        writer = csv.DictWriter(csvfile, fieldnames=fieldnames)\n",
    "                        writer.writerow({'Benchmark Name':circuit_nam,'Parameter num.':output_dict1['Parameter num'],'Qubit num.':output_dict1['Qubit num.']\n",
    "                        ,'Gate num._1':output_dict1['Gate num.'],'Time_1':output_dict1['Time'],'Node num. max_1':output_dict1['Node num. max']\n",
    "                        ,'Node num. final_1':output_dict1['Node num. final'],'gu1_1':output_dict1['gu1'],'gu2_1':output_dict1['gu2']\n",
    "                        ,'Gate num._2':output_dict2['Gate num.'],'Time_2':output_dict2['Time'],'Node num. max_2':output_dict2['Node num. max']\n",
    "                        ,'Node num. final_2':output_dict2['Node num. final'],'gu1_2':output_dict2['gu1'],'gu2_2':output_dict2['gu2']\n",
    "                        ,'Check_time':output_dict3['check_time'],'Totol_time':output_dict1['Time']+output_dict2['Time']+output_dict3['check_time']\n",
    "                        ,'Equivalent':output_dict3['equivalence']})\n",
    "        return {'Benchmark Name':circuit_nam,'Parameter num.':output_dict1['Parameter num'],'Qubit num.':output_dict1['Qubit num.']\n",
    "                ,'Gate num._1':output_dict1['Gate num.'],'Time_1':output_dict1['Time'],'Node num. max_1':output_dict1['Node num. max']\n",
    "                ,'Node num. final_1':output_dict1['Node num. final'],'gu1_1':output_dict1['gu1'],'gu2_1':output_dict1['gu2']\n",
    "                ,'Gate num._2':output_dict2['Gate num.'],'Time_2':output_dict2['Time'],'Node num. max_2':output_dict2['Node num. max']\n",
    "                ,'Node num. final_2':output_dict2['Node num. final'],'gu1_2':output_dict2['gu1'],'gu2_2':output_dict2['gu2']\n",
    "                ,'Check_time':output_dict3['check_time'],'Totol_time':output_dict1['Time']+output_dict2['Time']+output_dict3['check_time']\n",
    "                ,'Equivalent':output_dict3['equivalence']}\n",
    "\n"
   ]
  },
  {
   "cell_type": "code",
   "execution_count": 10,
   "metadata": {},
   "outputs": [
    {
     "name": "stdout",
     "output_type": "stream",
     "text": [
      "start cont  0.012888193130493164\n",
      "cont complete 0.003857135772705078\n",
      "start cont  0.0001919269561767578\n",
      "cont complete 0.002003192901611328\n",
      "{'check_time': 0.0001633167266845703, 'equivalence': 'not_equivalent'}\n"
     ]
    },
    {
     "data": {
      "text/plain": [
       "{'check_time': 0.0001633167266845703, 'equivalence': 'not_equivalent'}"
      ]
     },
     "execution_count": 10,
     "metadata": {},
     "output_type": "execute_result"
    }
   ],
   "source": [
    "tdd1, output_dict=STDD_simulation(simple)\n",
    "tdd2, output_dict=STDD_simulation(simple2,unique_table_reset=False)\n",
    "verify(tdd1,tdd2)"
   ]
  },
  {
   "cell_type": "code",
   "execution_count": 11,
   "metadata": {},
   "outputs": [
    {
     "name": "stdout",
     "output_type": "stream",
     "text": [
      "start cont  0.00031828880310058594\n",
      "cont complete 0.003693819046020508\n"
     ]
    },
    {
     "data": {
      "text/plain": [
       "{'Benchmark Name': None,\n",
       " 'Parameter num': 1,\n",
       " 'Qubit num.': 1,\n",
       " 'Gate num.': 3,\n",
       " 'Time': 0.003693819046020508,\n",
       " 'Node num. max': 4,\n",
       " 'Node num. final': 4,\n",
       " 'gu1': 15,\n",
       " 'gu2': 17}"
      ]
     },
     "execution_count": 11,
     "metadata": {},
     "output_type": "execute_result"
    }
   ],
   "source": [
    "tdd, output_dict=STDD_verify(simple2, simple)\n",
    "output_dict"
   ]
  },
  {
   "cell_type": "code",
   "execution_count": 12,
   "metadata": {},
   "outputs": [
    {
     "data": {
      "image/png": "[encoded data removed]",
      "text/plain": [
       "<IPython.core.display.Image object>"
      ]
     },
     "execution_count": 12,
     "metadata": {},
     "output_type": "execute_result"
    }
   ],
   "source": [
    "tdd.show()"
   ]
  },
  {
   "cell_type": "code",
   "execution_count": 13,
   "metadata": {},
   "outputs": [
    {
     "name": "stdout",
     "output_type": "stream",
     "text": [
      "start cont  0.0005977153778076172\n",
      "cont complete 0.02552008628845215\n",
      "start cont  0.00046062469482421875\n",
      "cont complete 0.015513896942138672\n",
      "{'check_time': 3.337860107421875e-06, 'equivalence': 'equivalent'}\n"
     ]
    },
    {
     "data": {
      "text/plain": [
       "{'Benchmark Name': 'RealAmplitudes_2_1',\n",
       " 'Parameter num.': 4,\n",
       " 'Qubit num.': 2,\n",
       " 'Gate num._1': 21,\n",
       " 'Time_1': 0.02552008628845215,\n",
       " 'Node num. max_1': 12,\n",
       " 'Node num. final_1': 12,\n",
       " 'gu1_1': 148,\n",
       " 'gu2_1': 101,\n",
       " 'Gate num._2': 21,\n",
       " 'Time_2': 0.015513896942138672,\n",
       " 'Node num. max_2': 12,\n",
       " 'Node num. final_2': 12,\n",
       " 'gu1_2': 204,\n",
       " 'gu2_2': 103,\n",
       " 'Check_time': 3.337860107421875e-06,\n",
       " 'Totol_time': 0.04103732109069824,\n",
       " 'Equivalent': 'equivalent'}"
      ]
     },
     "execution_count": 13,
     "metadata": {},
     "output_type": "execute_result"
    }
   ],
   "source": [
    "experiment(qubit_num=2,reps=1,function='RealAmplitudes')"
   ]
  },
  {
   "cell_type": "code",
   "execution_count": 14,
   "metadata": {},
   "outputs": [],
   "source": [
    "cir,cir2,data=circuit_generator(qubit_num=2,reps=1, function_name='RealAmplitudes')"
   ]
  },
  {
   "cell_type": "code",
   "execution_count": 15,
   "metadata": {},
   "outputs": [
    {
     "name": "stdout",
     "output_type": "stream",
     "text": [
      "start cont  0.001382589340209961\n",
      "cont complete 0.024516582489013672\n"
     ]
    },
    {
     "data": {
      "text/plain": [
       "{'Benchmark Name': None,\n",
       " 'Parameter num': 4,\n",
       " 'Qubit num.': 2,\n",
       " 'Gate num.': 21,\n",
       " 'Time': 0.024516582489013672,\n",
       " 'Node num. max': 8,\n",
       " 'Node num. final': 7,\n",
       " 'gu1': 58,\n",
       " 'gu2': 33}"
      ]
     },
     "execution_count": 15,
     "metadata": {},
     "output_type": "execute_result"
    }
   ],
   "source": [
    "tdd, output_dict=STDD_verify(cir, cir2)\n",
    "output_dict"
   ]
  },
  {
   "cell_type": "code",
   "execution_count": 16,
   "metadata": {},
   "outputs": [
    {
     "data": {
      "image/png": "[encoded data removed]",
      "text/plain": [
       "<IPython.core.display.Image object>"
      ]
     },
     "execution_count": 16,
     "metadata": {},
     "output_type": "execute_result"
    }
   ],
   "source": [
    "tdd.show()"
   ]
  },
  {
   "cell_type": "code",
   "execution_count": 17,
   "metadata": {},
   "outputs": [
    {
     "data": {
      "text/plain": [
       "TDD.TrDD.BDD.BDD"
      ]
     },
     "execution_count": 17,
     "metadata": {},
     "output_type": "execute_result"
    }
   ],
   "source": [
    "type(tdd.node.successor[1].out_weight[1])"
   ]
  },
  {
   "cell_type": "code",
   "execution_count": 18,
   "metadata": {},
   "outputs": [],
   "source": [
    "def reshape(M):\n",
    "    v=M.shape[0]\n",
    "    h=M.shape[1]\n",
    "    M=np.array(np.vsplit(M,v/2))\n",
    "    M=np.array(np.dsplit(M,h/2))\n",
    "    if M.shape[0]!=2 and M.shape[1]!=2:\n",
    "        M=reshape(M)\n",
    "    return M"
   ]
  },
  {
   "cell_type": "code",
   "execution_count": 19,
   "metadata": {},
   "outputs": [],
   "source": [
    "def reshape2(U):\n",
    "    if U.shape==(2,2):\n",
    "        return U\n",
    "    \n",
    "    if U.shape[0]==U.shape[1]:\n",
    "        split_U=np.split(U,2,1)\n",
    "    else:\n",
    "        split_U=np.split(U,2,0)\n",
    "    split_U[0]=reshape2(split_U[0])\n",
    "    split_U[1]=reshape2(split_U[1]) \n",
    "    return np.array([split_U])[0]     "
   ]
  },
  {
   "cell_type": "code",
   "execution_count": 20,
   "metadata": {},
   "outputs": [
    {
     "data": {
      "text/html": [
       "<pre style=\"word-wrap: normal;white-space: pre;background: #fff0;line-height: 1.1;font-family: &quot;Courier New&quot;,Courier,monospace\">          \n",
       "q_0: ──■──\n",
       "     ┌─┴─┐\n",
       "q_1: ┤ X ├\n",
       "     └───┘</pre>"
      ],
      "text/plain": [
       "          \n",
       "q_0: ──■──\n",
       "     ┌─┴─┐\n",
       "q_1: ┤ X ├\n",
       "     └───┘"
      ]
     },
     "execution_count": 20,
     "metadata": {},
     "output_type": "execute_result"
    }
   ],
   "source": [
    "cir=QuantumCircuit(2)\n",
    "cir.cx(0,1)\n",
    "cir.draw()"
   ]
  },
  {
   "cell_type": "code",
   "execution_count": 21,
   "metadata": {},
   "outputs": [
    {
     "data": {
      "text/plain": [
       "array([[1.+0.j, 0.+0.j, 0.+0.j, 0.+0.j],\n",
       "       [0.+0.j, 0.+0.j, 0.+0.j, 1.+0.j],\n",
       "       [0.+0.j, 0.+0.j, 1.+0.j, 0.+0.j],\n",
       "       [0.+0.j, 1.+0.j, 0.+0.j, 0.+0.j]])"
      ]
     },
     "execution_count": 21,
     "metadata": {},
     "output_type": "execute_result"
    }
   ],
   "source": [
    "gate=cir.data[0].operation\n",
    "gate=gate.to_matrix()\n",
    "gate"
   ]
  },
  {
   "cell_type": "code",
   "execution_count": 22,
   "metadata": {},
   "outputs": [
    {
     "data": {
      "text/plain": [
       "array([[[[1.+0.j, 0.+0.j],\n",
       "         [0.+0.j, 0.+0.j]],\n",
       "\n",
       "        [[0.+0.j, 0.+0.j],\n",
       "         [0.+0.j, 1.+0.j]]],\n",
       "\n",
       "\n",
       "       [[[0.+0.j, 0.+0.j],\n",
       "         [0.+0.j, 1.+0.j]],\n",
       "\n",
       "        [[1.+0.j, 0.+0.j],\n",
       "         [0.+0.j, 0.+0.j]]]])"
      ]
     },
     "execution_count": 22,
     "metadata": {},
     "output_type": "execute_result"
    }
   ],
   "source": [
    "reshape(gate)"
   ]
  },
  {
   "cell_type": "code",
   "execution_count": 23,
   "metadata": {},
   "outputs": [
    {
     "data": {
      "text/plain": [
       "array([[[[1.+0.j, 0.+0.j],\n",
       "         [0.+0.j, 0.+0.j]],\n",
       "\n",
       "        [[0.+0.j, 0.+0.j],\n",
       "         [0.+0.j, 1.+0.j]]],\n",
       "\n",
       "\n",
       "       [[[0.+0.j, 0.+0.j],\n",
       "         [0.+0.j, 1.+0.j]],\n",
       "\n",
       "        [[1.+0.j, 0.+0.j],\n",
       "         [0.+0.j, 0.+0.j]]]])"
      ]
     },
     "execution_count": 23,
     "metadata": {},
     "output_type": "execute_result"
    }
   ],
   "source": [
    "reshape2(gate)"
   ]
  },
  {
   "cell_type": "code",
   "execution_count": 24,
   "metadata": {},
   "outputs": [
    {
     "data": {
      "text/plain": [
       "array([[[[ True,  True],\n",
       "         [ True,  True]],\n",
       "\n",
       "        [[ True,  True],\n",
       "         [ True,  True]]],\n",
       "\n",
       "\n",
       "       [[[ True,  True],\n",
       "         [ True,  True]],\n",
       "\n",
       "        [[ True,  True],\n",
       "         [ True,  True]]]])"
      ]
     },
     "execution_count": 24,
     "metadata": {},
     "output_type": "execute_result"
    }
   ],
   "source": [
    "reshape(gate)==reshape2(gate)"
   ]
  },
  {
   "cell_type": "code",
   "execution_count": 25,
   "metadata": {},
   "outputs": [
    {
     "data": {
      "text/latex": [
       "$\\displaystyle 2 i$"
      ],
      "text/plain": [
       "2*I"
      ]
     },
     "execution_count": 25,
     "metadata": {},
     "output_type": "execute_result"
    }
   ],
   "source": [
    "import sympy\n",
    "coeff= sympy.nsimplify(1e-15 + 2j)\n",
    "epi=1e-10\n",
    "\n",
    "if abs(coeff)-abs(coeff.as_real_imag()[0]) < epi:\n",
    "    coeff=coeff.as_real_imag()[0]\n",
    "elif abs(coeff)-abs(coeff.as_real_imag()[1]) < epi:\n",
    "    coeff=coeff.as_real_imag()[1] * sympy.I\n",
    "coeff"
   ]
  },
  {
   "cell_type": "code",
   "execution_count": 26,
   "metadata": {},
   "outputs": [
    {
     "name": "stdout",
     "output_type": "stream",
     "text": [
      "solution x*y*(3.0 + 4.0*I) + 2.0*I*x\n"
     ]
    }
   ],
   "source": [
    "\n",
    "\n",
    "x = sympy.Symbol('x')\n",
    "y = sympy.Symbol('y')\n",
    "epi=1e-10\n",
    "expr = (1e-15 + 2j)*x + (3 + 4j)*x*y\n",
    "\n",
    "new_expr=0\n",
    "for term in expr.args:\n",
    "    # print(term)\n",
    "    free_symbols=term.free_symbols\n",
    "    for i in range(len(free_symbols)):\n",
    "        if i==0:\n",
    "            coeff = term.coeff(free_symbols.pop())\n",
    "        else:\n",
    "            coeff = coeff.coeff(free_symbols.pop())\n",
    "    if abs(coeff)-abs(coeff.as_real_imag()[0]) < epi:\n",
    "        coeff=coeff.as_real_imag()[0]\n",
    "    elif abs(coeff)-abs(coeff.as_real_imag()[1]) < epi:\n",
    "        coeff=coeff.as_real_imag()[1] * sympy.I\n",
    "    symbols = term.free_symbols\n",
    "    terms=1 \n",
    "    for symbol in symbols:\n",
    "        terms*=symbol\n",
    "    # print('term',coeff*terms)\n",
    "    new_expr+=coeff*terms\n",
    "print('solution',new_expr)\n"
   ]
  },
  {
   "cell_type": "code",
   "execution_count": 27,
   "metadata": {},
   "outputs": [
    {
     "data": {
      "text/latex": [
       "$\\displaystyle x y \\left(3.0 + 4.0 i\\right) + 2.0 i x$"
      ],
      "text/plain": [
       "x*y*(3.0 + 4.0*I) + 2.0*I*x"
      ]
     },
     "execution_count": 27,
     "metadata": {},
     "output_type": "execute_result"
    }
   ],
   "source": [
    "new_expr"
   ]
  },
  {
   "cell_type": "code",
   "execution_count": 28,
   "metadata": {},
   "outputs": [],
   "source": [
    "import sympy\n",
    "epi=1e-10\n",
    "class test_BDD:\n",
    "    def __init__(self):\n",
    "        \"\"\"BDD\"\"\"\n",
    "        self._weight=1\n",
    "    @property\n",
    "    def weight(self):\n",
    "        return self._weight\n",
    "    @weight.setter\n",
    "    def weight(self, value):\n",
    "        print(10)\n",
    "        value=sympy.nsimplify(value)\n",
    "        if abs(value)-abs(value.as_real_imag()[0]) < epi:\n",
    "            value=value.as_real_imag()[0]\n",
    "        elif abs(value)-abs(value.as_real_imag()[1]) < epi:\n",
    "            value=value.as_real_imag()[1] * sympy.I\n",
    "        self._weight=value\n"
   ]
  },
  {
   "cell_type": "code",
   "execution_count": null,
   "metadata": {},
   "outputs": [],
   "source": []
  },
  {
   "cell_type": "code",
   "execution_count": 29,
   "metadata": {},
   "outputs": [
    {
     "name": "stdout",
     "output_type": "stream",
     "text": [
      "10\n"
     ]
    },
    {
     "data": {
      "text/latex": [
       "$\\displaystyle 5$"
      ],
      "text/plain": [
       "5"
      ]
     },
     "execution_count": 29,
     "metadata": {},
     "output_type": "execute_result"
    }
   ],
   "source": [
    "test=test_BDD()\n",
    "\n",
    "test.weight=5+1e-18j\n",
    "test.weight"
   ]
  },
  {
   "cell_type": "code",
   "execution_count": 30,
   "metadata": {},
   "outputs": [
    {
     "data": {
      "text/plain": [
       "sympy.core.numbers.Integer"
      ]
     },
     "execution_count": 30,
     "metadata": {},
     "output_type": "execute_result"
    }
   ],
   "source": [
    "type(test.weight)"
   ]
  },
  {
   "cell_type": "code",
   "execution_count": 31,
   "metadata": {},
   "outputs": [
    {
     "data": {
      "text/plain": [
       "True"
      ]
     },
     "execution_count": 31,
     "metadata": {},
     "output_type": "execute_result"
    }
   ],
   "source": [
    "isinstance(test.weight,sympy.core.basic.Basic)"
   ]
  },
  {
   "cell_type": "code",
   "execution_count": 32,
   "metadata": {},
   "outputs": [],
   "source": [
    "# function_list=['RealAmplitudes','EfficientSU2']\n",
    "# experiment_setup=[(5,3)]\n",
    "    \n",
    "# for qubit_num,reps in experiment_setup:\n",
    "#     for function in function_list:\n",
    "#             experiment(qubit_num=qubit_num, reps=reps, function=function, optimizer=None, file_name='STDD benchmark.csv')\n",
    "        "
   ]
  },
  {
   "cell_type": "code",
   "execution_count": 33,
   "metadata": {},
   "outputs": [],
   "source": [
    "\n",
    "# with open('STDD cir_partition2 benchmark.csv', 'w', newline='') as csvfile:\n",
    "#     fieldnames=['Benchmark Name','Parameter num.','Qubit num.'\n",
    "# ,'Gate num._1','Time_1','Node num. max_1','Node num. final_1','gu1_1','gu2_1'\n",
    "# ,'Gate num._2','Time_2','Node num. max_2','Node num. final_2','gu1_2','gu2_2'\n",
    "# ,'Check_time','Totol_time','Equivalent']\n",
    "#     writer = csv.DictWriter(csvfile, fieldnames=fieldnames)\n",
    "#     writer.writeheader()\n"
   ]
  }
 ],
 "metadata": {
  "kernelspec": {
   "display_name": "Python 3.9.7 ('qiskit': conda)",
   "language": "python",
   "name": "python3"
  },
  "language_info": {
   "codemirror_mode": {
    "name": "ipython",
    "version": 3
   },
   "file_extension": ".py",
   "mimetype": "text/x-python",
   "name": "python",
   "nbconvert_exporter": "python",
   "pygments_lexer": "ipython3",
   "version": "3.9.7"
  },
  "orig_nbformat": 4,
  "vscode": {
   "interpreter": {
    "hash": "06cba8887e6156d8cf780c05c96a3f62d3a6e417048d85a718fc61d158b1208c"
   }
  }
 },
 "nbformat": 4,
 "nbformat_minor": 2
}
