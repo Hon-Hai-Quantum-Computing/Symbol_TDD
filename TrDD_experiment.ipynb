{
 "cells": [
  {
   "cell_type": "code",
   "execution_count": 1,
   "metadata": {},
   "outputs": [],
   "source": [
    "import time,csv\n",
    "import numpy as np\n",
    "\n",
    "from TDD.TDD import global_norm"
   ]
  },
  {
   "cell_type": "code",
   "execution_count": 2,
   "metadata": {},
   "outputs": [],
   "source": [
    "from TDD.TDD import Ini_TDD\n",
    "from TDD.TDD_Q import cir_2_tn,get_real_qubit_num\n",
    "\n",
    "def STDD_simulation(cir, Benchmark_Name=None, unique_table_reset=True, add_inputs_list=None, optimizer=None):\n",
    "    n=get_real_qubit_num(cir)\n",
    "    tn,indices=cir_2_tn(cir)\n",
    "    Parameter_num=len(cir.parameters)\n",
    "    #add y indices\n",
    "    indices2=[]\n",
    "    for i, item in enumerate(indices):\n",
    "        indices2.append(item)\n",
    "        if item[0]=='y':\n",
    "            num=int(item.replace('y',''))\n",
    "            # indices2.append('z%i'%num)\n",
    "    t_start=time.time()\n",
    "    #add sin cos indices\n",
    "\n",
    "    '''\n",
    "    TrDD process start\n",
    "    '''\n",
    "    sin_str=set()\n",
    "    cos_str=set()\n",
    "    for tensor in tn.tensors:\n",
    "        for element in tensor.data.flatten(): \n",
    "            from sympy.core.expr import Expr \n",
    "            if isinstance(element,Expr):\n",
    "                for symbol in element.free_symbols:\n",
    "                    sin_str.add('sin('+str(symbol)+')')\n",
    "                    cos_str.add('cos('+str(symbol)+')')\n",
    "    sin_str=list(sin_str)\n",
    "    sin_str.sort()\n",
    "    cos_str=list(cos_str)\n",
    "    cos_str.sort()\n",
    "    sym_str=[]\n",
    "    for i in range(len(sin_str)):\n",
    "        sym_str.append(sin_str[i])\n",
    "        sym_str.append(cos_str[i])\n",
    "\n",
    "    # TDD process\n",
    "    Ini_TDD(indices2,sym_str,type='TrDD',unique_table_reset=unique_table_reset)\n",
    "\n",
    "    '''\n",
    "    TrDD process end\n",
    "    '''\n",
    "\n",
    "    '''\n",
    "    EXP process start \n",
    "    '''\n",
    "    # from sympy import Symbol\n",
    "    # parameters_dict=dict((Symbol(v.name.replace(\"[\",\"\").replace(\"]\",\"\")),k) for k, v in dict(enumerate(cir.parameters)).items())\n",
    "    # Ini_TDD(indices2,type='Exp',var=parameters_dict,unique_table_reset=unique_table_reset)\n",
    "    '''\n",
    "    EXP process end \n",
    "    '''\n",
    "\n",
    "    if add_inputs_list:\n",
    "        from TDD.TDD_Q import add_inputs\n",
    "        # add_inputs(tn,[0]*n,n)\n",
    "        add_inputs(tn,add_inputs_list)\n",
    "\n",
    "    start_cont=time.time()-t_start\n",
    "    # print('start cont ',start_cont)\n",
    "    tdd, Max_node_num=tn.cont(optimizer=optimizer,max_node=True)\n",
    "    cont_time=time.time()-start_cont-t_start\n",
    "    # print('cont complete',cont_time)\n",
    "\n",
    "    from TDD.TDD import get_unique_table_num as gu1\n",
    "    from TDD.TrDD.BDD import get_unique_table_num as gu2\n",
    "    output_dict={'Benchmark Name':Benchmark_Name,\n",
    "            'Parameter num': Parameter_num,\n",
    "            'Qubit num.':tn.qubits_num,\n",
    "            'Gate num.':len(cir.data),\n",
    "            'Time':cont_time,\n",
    "            'Node num. max':Max_node_num,\n",
    "            'Node num. final':tdd.node_number(),\n",
    "            'gu1':gu1(),\n",
    "            'gu2':gu2()\n",
    "    }\n",
    "    return tdd, output_dict"
   ]
  },
  {
   "cell_type": "code",
   "execution_count": 3,
   "metadata": {},
   "outputs": [],
   "source": [
    "def STDD_verify(cir, cir2, Benchmark_Name=None, unique_table_reset=True, add_inputs_list=None, optimizer=None):\n",
    "    n=get_real_qubit_num(cir)\n",
    "    tn, indices = cir_2_tn(cir.compose(cir2.inverse()))\n",
    "    Parameter_num=len(cir.parameters)\n",
    "    t_start=time.time()\n",
    "\n",
    "    '''\n",
    "    TrDD process start\n",
    "    '''\n",
    "    # add sin cos indices\n",
    "    sin_str=set()\n",
    "    cos_str=set()\n",
    "    for tensor in tn.tensors:\n",
    "        for element in tensor.data.flatten(): \n",
    "            from sympy.core.expr import Expr \n",
    "            if isinstance(element,Expr):\n",
    "                for symbol in element.free_symbols:\n",
    "                    sin_str.add('sin('+str(symbol)+')')\n",
    "                    cos_str.add('cos('+str(symbol)+')')\n",
    "    sin_str=list(sin_str)\n",
    "    sin_str.sort()\n",
    "    cos_str=list(cos_str)\n",
    "    cos_str.sort()\n",
    "    sym_str=[]\n",
    "    for i in range(len(sin_str)):\n",
    "        sym_str.append(sin_str[i])\n",
    "        sym_str.append(cos_str[i])\n",
    "\n",
    "    # TDD process\n",
    "    Ini_TDD(indices,sym_str,type='TrDD',unique_table_reset=unique_table_reset)\n",
    "\n",
    "    '''\n",
    "    TrDD process end\n",
    "    '''\n",
    "\n",
    "    '''\n",
    "    EXP process start \n",
    "    '''\n",
    "    # from sympy import Symbol\n",
    "    # parameters_dict=dict((Symbol(v.name.replace(\"[\",\"\").replace(\"]\",\"\")),k) for k, v in dict(enumerate(cir.parameters)).items())\n",
    "    # Ini_TDD(indices,type='Exp',var=parameters_dict,unique_table_reset=unique_table_reset)\n",
    "    '''\n",
    "    EXP process end \n",
    "    '''\n",
    "\n",
    "    if add_inputs_list:\n",
    "        from TDD.TDD_Q import add_inputs\n",
    "        # add_inputs(tn,[0]*n,n)\n",
    "        add_inputs(tn,add_inputs_list)\n",
    "\n",
    "    def cont2(tn,l1):\n",
    "        from TDD.TDD import cont, get_identity_tdd\n",
    "        max_node_num=0\n",
    "        tdd=get_identity_tdd()\n",
    "        l2=len(tn.tensors)-l1\n",
    "        l=min(l1,l2)\n",
    "        d=l1-l2\n",
    "        r=int(l1/l2) if d>0 else int(l2/l1)\n",
    "        if r == 1:\n",
    "            for i in range(l):\n",
    "                tdd1=tn.tensors[-(i+1)+l1].tdd()\n",
    "                tdd=cont(tdd1,tdd)\n",
    "                max_node_num=max(max_node_num,tdd.node_number())\n",
    "                tdd2=tn.tensors[i+l1].tdd()\n",
    "                tdd=cont(tdd,tdd2)\n",
    "                max_node_num=max(max_node_num,tdd.node_number())\n",
    "            if d>0:\n",
    "                for i in range(d):\n",
    "                    tdd1=tn.tensors[-(i+l+1)+l1].tdd()\n",
    "                    tdd=cont(tdd1,tdd)\n",
    "                    max_node_num=max(max_node_num,tdd.node_number())\n",
    "            elif d<0:\n",
    "                for i in range(abs(d)):\n",
    "                    tdd2=tn.tensors[i+l+l1].tdd()\n",
    "                    tdd=cont(tdd,tdd2)\n",
    "                    max_node_num=max(max_node_num,tdd.node_number())\n",
    "        elif d>0:\n",
    "            for i in range(l2):\n",
    "                for j in range(r):\n",
    "                    tdd1=tn.tensors[-(r*i+j+1)+l1].tdd()\n",
    "                    tdd=cont(tdd1,tdd)\n",
    "                    max_node_num=max(max_node_num,tdd.node_number())\n",
    "                tdd2=tn.tensors[i+l1].tdd()\n",
    "                tdd=cont(tdd,tdd2)\n",
    "                max_node_num=max(max_node_num,tdd.node_number())\n",
    "            d2=l1-r*l2\n",
    "            if d2 !=0:\n",
    "                for i in range (d2):\n",
    "                    tdd1=tn.tensors[-(i+r*l2+1)+l1].tdd()\n",
    "                    tdd=cont(tdd1,tdd)\n",
    "                    max_node_num=max(max_node_num,tdd.node_number())\n",
    "        elif d<0:\n",
    "            for i in range(l1):\n",
    "                tdd1=tn.tensors[-(i+1)+l1].tdd()\n",
    "                tdd=cont(tdd1,tdd)\n",
    "                max_node_num=max(max_node_num,tdd.node_number())\n",
    "                for j in range(r):\n",
    "                    tdd2=tn.tensors[r*i+j+l1].tdd()\n",
    "                    tdd=cont(tdd,tdd2)\n",
    "                    max_node_num=max(max_node_num,tdd.node_number())\n",
    "            d2=l2-r*l1\n",
    "            if d2 !=0:\n",
    "                for i in range(d2):\n",
    "                    tdd2=tn.tensors[i+(r+1)*l1].tdd()\n",
    "                    tdd=cont(tdd,tdd2)\n",
    "                    max_node_num=max(max_node_num,tdd.node_number())\n",
    "        return tdd, max_node_num\n",
    "\n",
    "    l1=len(cir.data)\n",
    "\n",
    "    start_cont=time.time()-t_start\n",
    "    # print('start cont ',start_cont)\n",
    "    tdd, Max_node_num= cont2(tn,l1)\n",
    "    cont_time=time.time()-start_cont-t_start\n",
    "    # print('cont complete',cont_time)\n",
    "    \n",
    "    from qiskit import QuantumCircuit\n",
    "    identity_cir = QuantumCircuit(n)\n",
    "    for i in range(n):\n",
    "        identity_cir.id(i)\n",
    "    identity, ouput_dict = STDD_simulation(identity_cir, unique_table_reset= False)\n",
    "    if tdd.node !=  identity.node:\n",
    "        equivalent = 'not_equivalent'\n",
    "    elif tdd.weight == identity.weight:\n",
    "        equivalent = 'equivalent'\n",
    "    else:\n",
    "        equivalent = 'equivalent_up_to_global_phase'\n",
    "\n",
    "\n",
    "    from TDD.TDD import get_unique_table_num as gu1\n",
    "    from TDD.TrDD.BDD import get_unique_table_num as gu2\n",
    "    output_dict={'Benchmark Name':Benchmark_Name,\n",
    "            'Parameter num.': Parameter_num,\n",
    "            'Qubit num.':tn.qubits_num,\n",
    "            'Gate num.':len(cir.data),\n",
    "            'Node num. max':Max_node_num,\n",
    "            'Node num. final':tdd.node_number(),\n",
    "            'gu1':gu1(),\n",
    "            'gu2':gu2(),\n",
    "            'Equivalent':equivalent , \n",
    "            'Time':cont_time\n",
    "\n",
    "    }\n",
    "    return tdd, output_dict"
   ]
  },
  {
   "cell_type": "code",
   "execution_count": 4,
   "metadata": {},
   "outputs": [],
   "source": [
    "def verify(tdd1,tdd2):\n",
    "    start_time= time.time()\n",
    "    # equivalent without global_norm\n",
    "    if tdd1==tdd2:\n",
    "        check_time=time.time()-start_time\n",
    "        output_dict={\"check_time\":check_time,\"equivalence\":\"equivalent\"}\n",
    "        # print(output_dict)\n",
    "        return output_dict\n",
    "    elif tdd1.node==tdd2.node:\n",
    "        check_time=time.time()-start_time\n",
    "        output_dict={\"check_time\":check_time,\"equivalence\":\"equivalent_up_to_global_phase\"}\n",
    "        # print(output_dict)\n",
    "        return output_dict\n",
    "    tddn=global_norm(tdd1)\n",
    "    tddn2=global_norm(tdd2)\n",
    "    # equivalent with global_norm\n",
    "    if tddn==tddn2:\n",
    "        check_time=time.time()-start_time\n",
    "        output_dict={\"check_time\":check_time,\"equivalence\":\"equivalent\"}\n",
    "        print('global_norm',output_dict)\n",
    "        return output_dict\n",
    "    elif tddn.node==tdd2.node:\n",
    "        check_time=time.time()-start_time\n",
    "        output_dict={\"check_time\":check_time,\"equivalence\":\"equivalent_up_to_global_phase\"}\n",
    "        print('global_norm',output_dict)\n",
    "        return output_dict\n",
    "    # not equivalent \n",
    "    else:\n",
    "        check_time=time.time()-start_time\n",
    "        output_dict={\"check_time\":check_time,\"equivalence\":\"not_equivalent\"}\n",
    "        print(output_dict)\n",
    "        return output_dict"
   ]
  },
  {
   "cell_type": "code",
   "execution_count": 5,
   "metadata": {},
   "outputs": [],
   "source": [
    "from qiskit import transpile\n",
    "from qiskit.circuit import Parameter, QuantumCircuit, library\n",
    "\n",
    "def circuit_generator(qubit_num=1,reps=1,function_name='TwoLocal'\n",
    "                    ,basis_gates1=['id', 'rz', 'sx', 'x', 'cx']\n",
    "                    ,basis_gates2=['rx','ry','h','cx']):\n",
    "\n",
    "    if function_name=='TwoLocal':\n",
    "        cir = library.TwoLocal(qubit_num, ['ry'],'cx', entanglement='circular', reps=reps)\n",
    "    if function_name=='ExcitationPreserving':\n",
    "        cir = library.ExcitationPreserving(qubit_num, mode='fsim', entanglement='full', reps=reps)\n",
    "    if function_name=='RealAmplitudes':\n",
    "        cir = library.RealAmplitudes(qubit_num, entanglement='full', reps=reps)\n",
    "    if function_name=='EfficientSU2':\n",
    "        cir = library.EfficientSU2(qubit_num, ['rx','h'], entanglement='circular', reps=reps)\n",
    "\n",
    "    cir1=transpile(cir,basis_gates=basis_gates1)\n",
    "    cir2=transpile(cir,basis_gates=basis_gates2)\n",
    "\n",
    "    return cir1,cir2,'%s_%i_%i'%(function_name, qubit_num, reps)"
   ]
  },
  {
   "cell_type": "code",
   "execution_count": 6,
   "metadata": {},
   "outputs": [
    {
     "data": {
      "image/png": "[encoded data removed]",
      "text/plain": [
       "<Figure size 1040x284.278 with 1 Axes>"
      ]
     },
     "execution_count": 6,
     "metadata": {},
     "output_type": "execute_result"
    }
   ],
   "source": [
    "cir3=QuantumCircuit(3)\n",
    "cir3.ccx(0,1,2)\n",
    "cir3=transpile(cir3,basis_gates=['h', 't', 'tdg', 'cx'])\n",
    "cir3.draw('mpl')"
   ]
  },
  {
   "cell_type": "code",
   "execution_count": 7,
   "metadata": {},
   "outputs": [
    {
     "data": {
      "image/png": "[encoded data removed]",
      "text/plain": [
       "<Figure size 1207.22x284.278 with 1 Axes>"
      ]
     },
     "execution_count": 7,
     "metadata": {},
     "output_type": "execute_result"
    }
   ],
   "source": [
    "cir4=transpile(cir3,basis_gates=['id', 'rz', 'sx', 'x', 'cx'])\n",
    "cir4.draw('mpl')"
   ]
  },
  {
   "cell_type": "code",
   "execution_count": 8,
   "metadata": {},
   "outputs": [
    {
     "data": {
      "image/png": "[encoded data removed]",
      "text/plain": [
       "<Figure size 185.453x117.056 with 1 Axes>"
      ]
     },
     "execution_count": 8,
     "metadata": {},
     "output_type": "execute_result"
    }
   ],
   "source": [
    "s0=Parameter('s%i'%0)\n",
    "simple=QuantumCircuit(1)\n",
    "# simple.rz(s0,0)\n",
    "\n",
    "# simple.rz(-s0,0)\n",
    "\n",
    "# simple.rx(s0,0)\n",
    "\n",
    "simple.ry(s0,0)\n",
    "\n",
    "\n",
    "simple.draw('mpl')"
   ]
  },
  {
   "cell_type": "code",
   "execution_count": 9,
   "metadata": {},
   "outputs": [
    {
     "data": {
      "image/png": "[encoded data removed]",
      "text/plain": [
       "<Figure size 352.675x117.056 with 1 Axes>"
      ]
     },
     "execution_count": 9,
     "metadata": {},
     "output_type": "execute_result"
    }
   ],
   "source": [
    "simple2=QuantumCircuit(1)\n",
    "\n",
    "# simple2.rx(-np.pi/2,0)\n",
    "# simple2.ry(s0,0)\n",
    "# simple2.rx(np.pi/2,0)\n",
    "\n",
    "# simple2.ry(-np.pi/2,0)\n",
    "# simple2.rx(s0,0)\n",
    "# simple2.ry(np.pi/2,0)\n",
    "\n",
    "# simple2.ry(-np.pi/2,0)\n",
    "# simple2.rz(s0,0)\n",
    "# simple2.ry(np.pi/2,0)\n",
    "\n",
    "simple2.rz(-np.pi/2,0)\n",
    "simple2.rx(s0,0)\n",
    "simple2.rz(np.pi/2,0)\n",
    "simple2.draw('mpl')"
   ]
  },
  {
   "cell_type": "code",
   "execution_count": 10,
   "metadata": {},
   "outputs": [],
   "source": [
    "def experiment(qubit_num=2,reps=1,function='RealAmplitudes', optimizer=None, file_name=None):\n",
    "        cir1,cir2,circuit_nam=circuit_generator(qubit_num=qubit_num,reps=reps,function_name=function)\n",
    "        tdd1,output_dict1=STDD_simulation(cir1, unique_table_reset=True, optimizer=optimizer)\n",
    "        tdd2,output_dict2=STDD_simulation(cir2, unique_table_reset=False, optimizer=optimizer)\n",
    "        output_dict3=verify(tdd1,tdd2)\n",
    "        if file_name:\n",
    "                with open(file_name, 'a', newline='') as csvfile:\n",
    "                        fieldnames = ['Benchmark Name','Parameter num.','Qubit num.'\n",
    "                                ,'Gate num._1','Time_1','Node num. max_1','Node num. final_1','gu1_1','gu2_1'\n",
    "                                ,'Gate num._2','Time_2','Node num. max_2','Node num. final_2','gu1_2','gu2_2'\n",
    "                                ,'Check_time','Totol_time','Equivalent']\n",
    "                        writer = csv.DictWriter(csvfile, fieldnames=fieldnames)\n",
    "                        writer.writerow({'Benchmark Name':circuit_nam,'Parameter num.':output_dict1['Parameter num'],'Qubit num.':output_dict1['Qubit num.']\n",
    "                        ,'Gate num._1':output_dict1['Gate num.'],'Time_1':output_dict1['Time'],'Node num. max_1':output_dict1['Node num. max']\n",
    "                        ,'Node num. final_1':output_dict1['Node num. final'],'gu1_1':output_dict1['gu1'],'gu2_1':output_dict1['gu2']\n",
    "                        ,'Gate num._2':output_dict2['Gate num.'],'Time_2':output_dict2['Time'],'Node num. max_2':output_dict2['Node num. max']\n",
    "                        ,'Node num. final_2':output_dict2['Node num. final'],'gu1_2':output_dict2['gu1'],'gu2_2':output_dict2['gu2']\n",
    "                        ,'Check_time':output_dict3['check_time'],'Totol_time':output_dict1['Time']+output_dict2['Time']+output_dict3['check_time']\n",
    "                        ,'Equivalent':output_dict3['equivalence']})\n",
    "        return {'Benchmark Name':circuit_nam,'Parameter num.':output_dict1['Parameter num'],'Qubit num.':output_dict1['Qubit num.']\n",
    "                ,'Gate num._1':output_dict1['Gate num.'],'Time_1':output_dict1['Time'],'Node num. max_1':output_dict1['Node num. max']\n",
    "                ,'Node num. final_1':output_dict1['Node num. final'],'gu1_1':output_dict1['gu1'],'gu2_1':output_dict1['gu2']\n",
    "                ,'Gate num._2':output_dict2['Gate num.'],'Time_2':output_dict2['Time'],'Node num. max_2':output_dict2['Node num. max']\n",
    "                ,'Node num. final_2':output_dict2['Node num. final'],'gu1_2':output_dict2['gu1'],'gu2_2':output_dict2['gu2']\n",
    "                ,'Check_time':output_dict3['check_time'],'Totol_time':output_dict1['Time']+output_dict2['Time']+output_dict3['check_time']\n",
    "                ,'Equivalent':output_dict3['equivalence']}\n",
    "\n"
   ]
  },
  {
   "cell_type": "code",
   "execution_count": 11,
   "metadata": {},
   "outputs": [
    {
     "name": "stdout",
     "output_type": "stream",
     "text": [
      "{'check_time': 0.0003139972686767578, 'equivalence': 'not_equivalent'}\n"
     ]
    },
    {
     "data": {
      "text/plain": [
       "{'check_time': 0.0003139972686767578, 'equivalence': 'not_equivalent'}"
      ]
     },
     "execution_count": 11,
     "metadata": {},
     "output_type": "execute_result"
    }
   ],
   "source": [
    "tdd1, output_dict=STDD_simulation(simple)\n",
    "tdd2, output_dict=STDD_simulation(simple2,unique_table_reset=False)\n",
    "\n",
    "verify(tdd1,tdd2)"
   ]
  },
  {
   "cell_type": "code",
   "execution_count": 12,
   "metadata": {},
   "outputs": [
    {
     "data": {
      "image/png": "[encoded data removed]",
      "text/plain": [
       "<IPython.core.display.Image object>"
      ]
     },
     "execution_count": 12,
     "metadata": {},
     "output_type": "execute_result"
    }
   ],
   "source": [
    "tdd1.show()"
   ]
  },
  {
   "cell_type": "code",
   "execution_count": 13,
   "metadata": {},
   "outputs": [
    {
     "data": {
      "image/png": "[encoded data removed]",
      "text/plain": [
       "<IPython.core.display.Image object>"
      ]
     },
     "execution_count": 13,
     "metadata": {},
     "output_type": "execute_result"
    }
   ],
   "source": [
    "tdd2.show()"
   ]
  },
  {
   "cell_type": "code",
   "execution_count": 14,
   "metadata": {},
   "outputs": [
    {
     "data": {
      "text/plain": [
       "{'Benchmark Name': None,\n",
       " 'Parameter num.': 1,\n",
       " 'Qubit num.': 1,\n",
       " 'Gate num.': 1,\n",
       " 'Node num. max': 4,\n",
       " 'Node num. final': 4,\n",
       " 'gu1': 19,\n",
       " 'gu2': 7,\n",
       " 'Equivalent': 'not_equivalent',\n",
       " 'Time': 0.004554271697998047}"
      ]
     },
     "execution_count": 14,
     "metadata": {},
     "output_type": "execute_result"
    }
   ],
   "source": [
    "tdd, output_dict=STDD_verify(simple, simple2)\n",
    "output_dict"
   ]
  },
  {
   "cell_type": "code",
   "execution_count": 15,
   "metadata": {},
   "outputs": [
    {
     "data": {
      "image/png": "[encoded data removed]",
      "text/plain": [
       "<IPython.core.display.Image object>"
      ]
     },
     "execution_count": 15,
     "metadata": {},
     "output_type": "execute_result"
    }
   ],
   "source": [
    "tdd.show()"
   ]
  },
  {
   "cell_type": "code",
   "execution_count": 16,
   "metadata": {},
   "outputs": [
    {
     "data": {
      "text/plain": [
       "{'Benchmark Name': 'TwoLocal_2_1',\n",
       " 'Parameter num.': 4,\n",
       " 'Qubit num.': 2,\n",
       " 'Gate num._1': 17,\n",
       " 'Time_1': 0.045163631439208984,\n",
       " 'Node num. max_1': 16,\n",
       " 'Node num. final_1': 16,\n",
       " 'gu1_1': 155,\n",
       " 'gu2_1': 153,\n",
       " 'Gate num._2': 5,\n",
       " 'Time_2': 0.011872291564941406,\n",
       " 'Node num. max_2': 16,\n",
       " 'Node num. final_2': 16,\n",
       " 'gu1_2': 163,\n",
       " 'gu2_2': 189,\n",
       " 'Check_time': 3.0994415283203125e-06,\n",
       " 'Totol_time': 0.05703902244567871,\n",
       " 'Equivalent': 'equivalent'}"
      ]
     },
     "execution_count": 16,
     "metadata": {},
     "output_type": "execute_result"
    }
   ],
   "source": [
    "experiment(qubit_num=2,reps=1 ,function='TwoLocal')"
   ]
  },
  {
   "cell_type": "code",
   "execution_count": 17,
   "metadata": {},
   "outputs": [],
   "source": [
    "cir, cir2, Benchmark_Name = circuit_generator(qubit_num=2,reps=1, function_name='EfficientSU2'\n",
    "                                ,basis_gates1=['rx', 'ry', 'rz','cz']\n",
    "                                ,basis_gates2=['rx','ry','rz','cx'])"
   ]
  },
  {
   "cell_type": "code",
   "execution_count": 18,
   "metadata": {},
   "outputs": [],
   "source": [
    "# cir.draw()"
   ]
  },
  {
   "cell_type": "code",
   "execution_count": 19,
   "metadata": {},
   "outputs": [],
   "source": [
    "# cir2.draw()"
   ]
  },
  {
   "cell_type": "code",
   "execution_count": 20,
   "metadata": {},
   "outputs": [],
   "source": [
    "# tdd1, output_dict=STDD_simulation(cir)\n",
    "# tdd2, output_dict=STDD_simulation(cir2,unique_table_reset=False)\n",
    "\n",
    "# verify(tdd1,tdd2)"
   ]
  },
  {
   "cell_type": "code",
   "execution_count": 21,
   "metadata": {},
   "outputs": [],
   "source": [
    "# tdd2.show()"
   ]
  },
  {
   "cell_type": "code",
   "execution_count": 22,
   "metadata": {},
   "outputs": [
    {
     "data": {
      "text/plain": [
       "{'Benchmark Name': None,\n",
       " 'Parameter num.': 4,\n",
       " 'Qubit num.': 2,\n",
       " 'Gate num.': 13,\n",
       " 'Node num. max': 7,\n",
       " 'Node num. final': 7,\n",
       " 'gu1': 69,\n",
       " 'gu2': 23,\n",
       " 'Equivalent': 'equivalent',\n",
       " 'Time': 0.027691125869750977}"
      ]
     },
     "execution_count": 22,
     "metadata": {},
     "output_type": "execute_result"
    }
   ],
   "source": [
    "tdd, output_dict=STDD_verify(cir, cir2)\n",
    "output_dict"
   ]
  },
  {
   "cell_type": "code",
   "execution_count": 23,
   "metadata": {},
   "outputs": [],
   "source": [
    "# cir=QuantumCircuit(2)\n",
    "# tdd3, output = STDD_simulation(cir)\n",
    "# tdd3.show()"
   ]
  },
  {
   "cell_type": "code",
   "execution_count": 24,
   "metadata": {},
   "outputs": [
    {
     "data": {
      "image/png": "[encoded data removed]",
      "text/plain": [
       "<IPython.core.display.Image object>"
      ]
     },
     "execution_count": 24,
     "metadata": {},
     "output_type": "execute_result"
    }
   ],
   "source": [
    "tdd.show()"
   ]
  },
  {
   "cell_type": "code",
   "execution_count": 25,
   "metadata": {},
   "outputs": [
    {
     "data": {
      "text/plain": [
       "{'Benchmark Name': None,\n",
       " 'Parameter num.': 1,\n",
       " 'Qubit num.': 1,\n",
       " 'Gate num.': 1,\n",
       " 'Node num. max': 4,\n",
       " 'Node num. final': 4,\n",
       " 'gu1': 19,\n",
       " 'gu2': 7,\n",
       " 'Equivalent': 'not_equivalent',\n",
       " 'Time': 0.003351926803588867}"
      ]
     },
     "execution_count": 25,
     "metadata": {},
     "output_type": "execute_result"
    }
   ],
   "source": [
    "tdd, output_dict=STDD_verify(simple, simple2)\n",
    "output_dict"
   ]
  },
  {
   "cell_type": "code",
   "execution_count": 26,
   "metadata": {},
   "outputs": [
    {
     "data": {
      "image/png": "[encoded data removed]",
      "text/plain": [
       "<IPython.core.display.Image object>"
      ]
     },
     "execution_count": 26,
     "metadata": {},
     "output_type": "execute_result"
    }
   ],
   "source": [
    "tdd.show()"
   ]
  },
  {
   "cell_type": "code",
   "execution_count": 27,
   "metadata": {},
   "outputs": [
    {
     "data": {
      "text/plain": [
       "{\n",
       "  \"check_time\": 0.000366706,\n",
       "  \"equivalence\": \"equivalent\",\n",
       "  \"parameterized\": {\n",
       "    \"performed_instantiations\": 0\n",
       "  },\n",
       "  \"preprocessing_time\": 0.000392706\n",
       "}"
      ]
     },
     "execution_count": 27,
     "metadata": {},
     "output_type": "execute_result"
    }
   ],
   "source": [
    "from mqt import qcec\n",
    "\n",
    "qcec.verify(cir, cir2)"
   ]
  },
  {
   "cell_type": "code",
   "execution_count": 28,
   "metadata": {},
   "outputs": [
    {
     "data": {
      "text/plain": [
       "{\n",
       "  \"check_time\": 5.9001e-05,\n",
       "  \"equivalence\": \"equivalent_up_to_global_phase\",\n",
       "  \"parameterized\": {\n",
       "    \"performed_instantiations\": 0\n",
       "  },\n",
       "  \"preprocessing_time\": 0.000369505\n",
       "}"
      ]
     },
     "execution_count": 28,
     "metadata": {},
     "output_type": "execute_result"
    }
   ],
   "source": [
    "qcec.verify(simple, simple2\n",
    "            # , additional_instantiations=10\n",
    "            )"
   ]
  },
  {
   "cell_type": "code",
   "execution_count": 29,
   "metadata": {},
   "outputs": [],
   "source": [
    "# tdd.show()"
   ]
  },
  {
   "attachments": {},
   "cell_type": "markdown",
   "metadata": {},
   "source": [
    "# Compare"
   ]
  },
  {
   "cell_type": "code",
   "execution_count": 30,
   "metadata": {},
   "outputs": [
    {
     "data": {
      "image/png": "[encoded data removed]",
      "text/plain": [
       "<Figure size 603.508x117.056 with 1 Axes>"
      ]
     },
     "execution_count": 30,
     "metadata": {},
     "output_type": "execute_result"
    }
   ],
   "source": [
    "s0=Parameter('s%i'%0)\n",
    "s1=Parameter('s%i'%1)\n",
    "test=QuantumCircuit(1)\n",
    "test.rx(np.pi/3,0)\n",
    "test.rz(s0,0)\n",
    "test.rz(np.pi/2,0)\n",
    "test.rx(np.pi/3,0)\n",
    "test.rz(s1,0)\n",
    "test.rz(-np.pi/2,0)\n",
    "\n",
    "test.draw('mpl')"
   ]
  },
  {
   "cell_type": "code",
   "execution_count": 31,
   "metadata": {},
   "outputs": [
    {
     "data": {
      "image/png": "[encoded data removed]",
      "text/plain": [
       "<Figure size 436.286x117.056 with 1 Axes>"
      ]
     },
     "execution_count": 31,
     "metadata": {},
     "output_type": "execute_result"
    }
   ],
   "source": [
    "test2=QuantumCircuit(1)\n",
    "test2.rx(np.pi/3,0)\n",
    "test2.rz(s0,0)\n",
    "test2.ry(np.pi/3,0)\n",
    "test2.rz(s1,0)\n",
    "\n",
    "test2.draw('mpl')"
   ]
  },
  {
   "cell_type": "code",
   "execution_count": 32,
   "metadata": {},
   "outputs": [
    {
     "data": {
      "text/plain": [
       "{'Benchmark Name': None,\n",
       " 'Parameter num.': 2,\n",
       " 'Qubit num.': 1,\n",
       " 'Gate num.': 6,\n",
       " 'Node num. max': 4,\n",
       " 'Node num. final': 4,\n",
       " 'gu1': 25,\n",
       " 'gu2': 17,\n",
       " 'Equivalent': 'equivalent',\n",
       " 'Time': 0.008275270462036133}"
      ]
     },
     "execution_count": 32,
     "metadata": {},
     "output_type": "execute_result"
    }
   ],
   "source": [
    "tdd, output_dict=STDD_verify(test, test2)\n",
    "output_dict"
   ]
  },
  {
   "cell_type": "code",
   "execution_count": 33,
   "metadata": {},
   "outputs": [
    {
     "data": {
      "image/png": "[encoded data removed]",
      "text/plain": [
       "<IPython.core.display.Image object>"
      ]
     },
     "execution_count": 33,
     "metadata": {},
     "output_type": "execute_result"
    }
   ],
   "source": [
    "tdd.show()"
   ]
  },
  {
   "cell_type": "code",
   "execution_count": 34,
   "metadata": {},
   "outputs": [
    {
     "data": {
      "text/plain": [
       "{\n",
       "  \"check_time\": 0.005939789,\n",
       "  \"equivalence\": \"not_equivalent\",\n",
       "  \"parameterized\": {\n",
       "    \"performed_instantiations\": 1\n",
       "  },\n",
       "  \"preprocessing_time\": 0.000893413,\n",
       "  \"simulations\": {\n",
       "    \"performed\": 0,\n",
       "    \"started\": 2\n",
       "  }\n",
       "}"
      ]
     },
     "execution_count": 34,
     "metadata": {},
     "output_type": "execute_result"
    }
   ],
   "source": [
    "qcec.verify(test, test2)"
   ]
  },
  {
   "cell_type": "code",
   "execution_count": 35,
   "metadata": {},
   "outputs": [],
   "source": [
    "# import sympy\n",
    "\n",
    "# x = sympy.Symbol('x')\n",
    "# y = sympy.Symbol('y')\n",
    "# epi=1e-10\n",
    "# expr = (1e-15 + 2j)*x + (3 + 4j)*x*y\n",
    "\n",
    "# new_expr=0\n",
    "# for term in expr.args:\n",
    "#     # print(term)\n",
    "#     free_symbols=term.free_symbols\n",
    "#     for i in range(len(free_symbols)):\n",
    "#         if i==0:\n",
    "#             coeff = term.coeff(free_symbols.pop())\n",
    "#         else:\n",
    "#             coeff = coeff.coeff(free_symbols.pop())\n",
    "#     if abs(coeff)-abs(coeff.as_real_imag()[0]) < epi:\n",
    "#         coeff=coeff.as_real_imag()[0]\n",
    "#     elif abs(coeff)-abs(coeff.as_real_imag()[1]) < epi:\n",
    "#         coeff=coeff.as_real_imag()[1] * sympy.I\n",
    "#     symbols = term.free_symbols\n",
    "#     terms=1 \n",
    "#     for symbol in symbols:\n",
    "#         terms*=symbol\n",
    "#     # print('term',coeff*terms)\n",
    "#     new_expr+=coeff*terms\n",
    "# print('solution',new_expr)\n"
   ]
  },
  {
   "cell_type": "code",
   "execution_count": 36,
   "metadata": {},
   "outputs": [],
   "source": [
    "\n",
    "# with open('STDD cir_partition2 benchmark.csv', 'w', newline='') as csvfile:\n",
    "#     fieldnames=['Benchmark Name','Parameter num.','Qubit num.'\n",
    "# ,'Gate num._1','Time_1','Node num. max_1','Node num. final_1','gu1_1','gu2_1'\n",
    "# ,'Gate num._2','Time_2','Node num. max_2','Node num. final_2','gu1_2','gu2_2'\n",
    "# ,'Check_time','Totol_time','Equivalent']\n",
    "#     writer = csv.DictWriter(csvfile, fieldnames=fieldnames)\n",
    "#     writer.writeheader()\n"
   ]
  },
  {
   "cell_type": "code",
   "execution_count": 37,
   "metadata": {},
   "outputs": [],
   "source": [
    "# function_list=['RealAmplitudes','EfficientSU2']\n",
    "# experiment_setup=[(5,3)]\n",
    "    \n",
    "# for qubit_num,reps in experiment_setup:\n",
    "#     for function in function_list:\n",
    "#             experiment(qubit_num=qubit_num, reps=reps, function=function, optimizer=None, file_name='STDD benchmark.csv')\n",
    "        "
   ]
  },
  {
   "cell_type": "code",
   "execution_count": 38,
   "metadata": {},
   "outputs": [],
   "source": [
    "# with open('./output_dict/STDD benchmark_Standard D8s v3.csv', 'w', newline='') as csvfile:\n",
    "#     fieldnames=['Benchmark Name','Parameter num.','Qubit num.'\n",
    "# ,'Gate num.','Node num. max','Node num. final','gu1','gu2','Equivalent','Time'\n",
    "# ]\n",
    "#     writer = csv.DictWriter(csvfile, fieldnames=fieldnames)\n",
    "#     writer.writeheader()\n"
   ]
  },
  {
   "cell_type": "code",
   "execution_count": 39,
   "metadata": {},
   "outputs": [],
   "source": [
    "\n",
    "def experiment2(function_name ='EfficientSU2', qubit_num = 2, reps = 0, file_name='STDD benchmark.csv'):\n",
    "    cir,cir2,Benchmark_Name = circuit_generator(qubit_num = qubit_num, reps=reps, function_name = function_name\n",
    "                                    ,basis_gates1=['rx', 'ry', 'rz','cz']\n",
    "                                    ,basis_gates2=['rx', 'ry','rz','cx'])\n",
    "    tdd, output_dict = STDD_verify(cir, cir2, Benchmark_Name = Benchmark_Name , unique_table_reset=True, add_inputs_list=None, optimizer=None)\n",
    "    with open(file_name, 'a', newline='') as csvfile:\n",
    "        fieldnames = ['Benchmark Name','Parameter num.','Qubit num.'\n",
    "        ,'Gate num.','Node num. max','Node num. final','gu1','gu2','Equivalent','Time']\n",
    "\n",
    "        writer = csv.DictWriter(csvfile, fieldnames=fieldnames)\n",
    "        writer.writerow(output_dict)\n"
   ]
  },
  {
   "cell_type": "code",
   "execution_count": 40,
   "metadata": {},
   "outputs": [
    {
     "data": {
      "text/plain": [
       "{\n",
       "  \"check_time\": 0.10643251,\n",
       "  \"equivalence\": \"equivalent_up_to_global_phase\",\n",
       "  \"parameterized\": {\n",
       "    \"performed_instantiations\": 0\n",
       "  },\n",
       "  \"preprocessing_time\": 0.000474607\n",
       "}"
      ]
     },
     "execution_count": 40,
     "metadata": {},
     "output_type": "execute_result"
    }
   ],
   "source": [
    "from mqt import qcec\n",
    "\n",
    "function_name ='TwoLocal'\n",
    "qubit_num = 64\n",
    "reps = 3\n",
    "\n",
    "cir,cir2,Benchmark_Name=circuit_generator(qubit_num = qubit_num, reps=reps, function_name = function_name, basis_gates1=['rx', 'ry', 'sx','cx']\n",
    "                                ,basis_gates2=['rx','sx','rz','cx'])\n",
    "# cir.draw()\n",
    "qcec.verify(cir, cir2)\n",
    "\n"
   ]
  },
  {
   "cell_type": "code",
   "execution_count": 41,
   "metadata": {},
   "outputs": [
    {
     "name": "stdout",
     "output_type": "stream",
     "text": [
      "[['h', ['Q0'], ['Q0']], ['t', ['Q0'], ['Q0']], ['t', ['Q0'], ['Q0']], ['rx', ['Q0'], ['Q0', 'P1']], ['rz', ['Q0'], ['Q0', 'P0']]] \n",
      " [['ry', ['Q0'], ['Q0', 'P1']], ['h', ['Q0'], ['Q0']], ['rz', ['Q0'], ['Q0', 'P0']], ['t', ['Q0'], ['Q0']], ['t', ['Q0'], ['Q0']]]\n"
     ]
    }
   ],
   "source": [
    "import json\n",
    "with open('../../../quartz/test_3_2_5_complete_ECC_set.json') as f:\n",
    "    data = json.load(f)\n",
    "    gate_list1=data[1]['12_2'][0][1]\n",
    "    gate_list2=data[1]['12_2'][1][1]\n",
    "print(gate_list1,\"\\n\",gate_list2)\n"
   ]
  },
  {
   "cell_type": "code",
   "execution_count": 42,
   "metadata": {},
   "outputs": [
    {
     "data": {
      "text/html": [
       "<pre style=\"word-wrap: normal;white-space: pre;background: #fff0;line-height: 1.1;font-family: &quot;Courier New&quot;,Courier,monospace\">   ┌───┐┌───┐┌───┐┌────────┐┌────────┐\n",
       "q: ┤ H ├┤ T ├┤ T ├┤ Rx(P1) ├┤ Rz(P0) ├\n",
       "   └───┘└───┘└───┘└────────┘└────────┘</pre>"
      ],
      "text/plain": [
       "   ┌───┐┌───┐┌───┐┌────────┐┌────────┐\n",
       "q: ┤ H ├┤ T ├┤ T ├┤ Rx(P1) ├┤ Rz(P0) ├\n",
       "   └───┘└───┘└───┘└────────┘└────────┘"
      ]
     },
     "execution_count": 42,
     "metadata": {},
     "output_type": "execute_result"
    }
   ],
   "source": [
    "import random\n",
    "def quartz_to_qiskit(gate_list):\n",
    "    cir = QuantumCircuit(1)\n",
    "    P0 = Parameter(\"P0\")\n",
    "    P1 = Parameter(\"P1\")\n",
    "    P_list=[P0,P1]\n",
    "    def gete_P(gate):\n",
    "        P_str = gate[-1][-1]\n",
    "        return P_list[int(P_str [1:])]\n",
    "    \n",
    "    for gate in gate_list:\n",
    "        gate_name = gate[0]\n",
    "        if gate_name == \"h\":\n",
    "            cir.h(0)\n",
    "        if gate_name == \"t\":\n",
    "            cir.t(0)\n",
    "        if gate_name == \"rx\":\n",
    "            cir.rx(gete_P(gate), 0)\n",
    "        if gate_name == \"ry\":\n",
    "            cir.ry(gete_P(gate), 0)\n",
    "        if gate_name == \"rz\":\n",
    "            cir.rz(gete_P(gate), 0)   \n",
    "    return cir\n",
    "cir = quartz_to_qiskit(gate_list1)\n",
    "cir.draw()"
   ]
  },
  {
   "cell_type": "code",
   "execution_count": 43,
   "metadata": {},
   "outputs": [
    {
     "data": {
      "text/html": [
       "<pre style=\"word-wrap: normal;white-space: pre;background: #fff0;line-height: 1.1;font-family: &quot;Courier New&quot;,Courier,monospace\">   ┌────────┐┌───┐┌────────┐┌───┐┌───┐\n",
       "q: ┤ Ry(P1) ├┤ H ├┤ Rz(P0) ├┤ T ├┤ T ├\n",
       "   └────────┘└───┘└────────┘└───┘└───┘</pre>"
      ],
      "text/plain": [
       "   ┌────────┐┌───┐┌────────┐┌───┐┌───┐\n",
       "q: ┤ Ry(P1) ├┤ H ├┤ Rz(P0) ├┤ T ├┤ T ├\n",
       "   └────────┘└───┘└────────┘└───┘└───┘"
      ]
     },
     "execution_count": 43,
     "metadata": {},
     "output_type": "execute_result"
    }
   ],
   "source": [
    "cir2 = quartz_to_qiskit(gate_list2)\n",
    "cir2.draw()"
   ]
  },
  {
   "cell_type": "code",
   "execution_count": 44,
   "metadata": {},
   "outputs": [
    {
     "data": {
      "text/plain": [
       "{\n",
       "  \"check_time\": 0.000117602,\n",
       "  \"equivalence\": \"equivalent_up_to_global_phase\",\n",
       "  \"parameterized\": {\n",
       "    \"performed_instantiations\": 0\n",
       "  },\n",
       "  \"preprocessing_time\": 0.000375805\n",
       "}"
      ]
     },
     "execution_count": 44,
     "metadata": {},
     "output_type": "execute_result"
    }
   ],
   "source": [
    "cir = quartz_to_qiskit(gate_list1)\n",
    "cir2 = quartz_to_qiskit(gate_list2)\n",
    "qcec.verify(cir, cir2)"
   ]
  },
  {
   "cell_type": "code",
   "execution_count": 45,
   "metadata": {},
   "outputs": [
    {
     "data": {
      "text/html": [
       "<pre style=\"word-wrap: normal;white-space: pre;background: #fff0;line-height: 1.1;font-family: &quot;Courier New&quot;,Courier,monospace\">   ┌─────────┐┌─────────┐\n",
       "q: ┤ Unitary ├┤ Unitary ├\n",
       "   └─────────┘└─────────┘</pre>"
      ],
      "text/plain": [
       "   ┌─────────┐┌─────────┐\n",
       "q: ┤ Unitary ├┤ Unitary ├\n",
       "   └─────────┘└─────────┘"
      ]
     },
     "execution_count": 45,
     "metadata": {},
     "output_type": "execute_result"
    }
   ],
   "source": [
    "import math\n",
    "from qiskit.extensions import UnitaryGate\n",
    "U=np.array([[math.sqrt(3)/3,-math.sqrt(6)/3],\n",
    "   [math.sqrt(6)/3,math.sqrt(3)/3]])\n",
    "cir =QuantumCircuit(1)\n",
    "op = UnitaryGate(U)\n",
    "opdg = op.adjoint()\n",
    "cir.append(op, [0])\n",
    "cir.append(opdg, [0])\n",
    "cir.draw()\n"
   ]
  },
  {
   "cell_type": "code",
   "execution_count": 46,
   "metadata": {},
   "outputs": [
    {
     "data": {
      "text/html": [
       "<pre style=\"word-wrap: normal;white-space: pre;background: #fff0;line-height: 1.1;font-family: &quot;Courier New&quot;,Courier,monospace\">   ┌───┐┌───┐\n",
       "q: ┤ H ├┤ H ├\n",
       "   └───┘└───┘</pre>"
      ],
      "text/plain": [
       "   ┌───┐┌───┐\n",
       "q: ┤ H ├┤ H ├\n",
       "   └───┘└───┘"
      ]
     },
     "execution_count": 46,
     "metadata": {},
     "output_type": "execute_result"
    }
   ],
   "source": [
    "cir2 =QuantumCircuit(1)\n",
    "\n",
    "cir2.h(0)\n",
    "cir2.h(0)\n",
    "cir2.draw()"
   ]
  },
  {
   "cell_type": "code",
   "execution_count": 47,
   "metadata": {},
   "outputs": [
    {
     "data": {
      "text/plain": [
       "{\n",
       "  \"check_time\": 0.000243904,\n",
       "  \"equivalence\": \"equivalent_up_to_global_phase\",\n",
       "  \"parameterized\": {\n",
       "    \"performed_instantiations\": 0\n",
       "  },\n",
       "  \"preprocessing_time\": 0.000378506,\n",
       "  \"simulations\": {\n",
       "    \"performed\": 0,\n",
       "    \"started\": 2\n",
       "  }\n",
       "}"
      ]
     },
     "execution_count": 47,
     "metadata": {},
     "output_type": "execute_result"
    }
   ],
   "source": [
    "qcec.verify(cir, cir2)"
   ]
  },
  {
   "cell_type": "code",
   "execution_count": 48,
   "metadata": {},
   "outputs": [
    {
     "data": {
      "text/plain": [
       "'stdd verify experiment'"
      ]
     },
     "execution_count": 48,
     "metadata": {},
     "output_type": "execute_result"
    }
   ],
   "source": [
    "'''stdd verify experiment'''\n",
    "# function_list=['EfficientSU2','TwoLocal','RealAmplitudes']\n",
    "# experiment_setup=[(1024, 0)]\n",
    "\n",
    "# for i in range(5):\n",
    "#     for qubit_num,reps in experiment_setup:\n",
    "#         for function_name in function_list:\n",
    "#             experiment2(function_name = function_name, qubit_num = qubit_num, reps = reps, file_name='./output_dict/STDD benchmark_Standard D8s v3.csv')"
   ]
  },
  {
   "cell_type": "code",
   "execution_count": 49,
   "metadata": {},
   "outputs": [],
   "source": [
    "# function_name = 'TwoLocal'\n",
    "# qubit_num, reps = (5, 3 )\n",
    "\n",
    "# cir,cir2, Benchmark_Name =circuit_generator(qubit_num = qubit_num, reps=reps, function_name = function_name\n",
    "#                                     ,basis_gates1=['rx', 'ry', 'rz','cz']\n",
    "#                                     ,basis_gates2=['rx', 'ry','rz','cx'])\n",
    "\n",
    "# tdd, output_dict = STDD_verify(cir, cir2, Benchmark_Name = Benchmark_Name , unique_table_reset=True, add_inputs_list=None, optimizer=None)\n",
    "\n",
    "# output_dict"
   ]
  }
 ],
 "metadata": {
  "kernelspec": {
   "display_name": "qcec",
   "language": "python",
   "name": "python3"
  },
  "language_info": {
   "codemirror_mode": {
    "name": "ipython",
    "version": 3
   },
   "file_extension": ".py",
   "mimetype": "text/x-python",
   "name": "python",
   "nbconvert_exporter": "python",
   "pygments_lexer": "ipython3",
   "version": "3.9.0"
  },
  "orig_nbformat": 4,
  "vscode": {
   "interpreter": {
    "hash": "0b9ef09a9a3250f999e7cf7647bb92657449fd8a8bc05aa98b9630ea0804629e"
   }
  }
 },
 "nbformat": 4,
 "nbformat_minor": 2
}
