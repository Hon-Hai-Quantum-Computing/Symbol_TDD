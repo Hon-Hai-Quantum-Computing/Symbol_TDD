{
 "cells": [
  {
   "cell_type": "code",
   "execution_count": 1,
   "metadata": {},
   "outputs": [],
   "source": [
    "import numpy as np\n",
    "from TDD2.TDD import Ini_TDD,Clear_TDD,set_index_order,get_tdd,get_count\n",
    "from TDD2.TDD_Q import cir_2_tn,get_real_qubit_num,add_trace_line,add_inputs,add_outputs\n",
    "from TDD2.TDD_Q import reshape as reshape2\n",
    "from TDD2.TN import Index,Tensor,TensorNetwork\n",
    "\n",
    "from qiskit import QuantumCircuit\n",
    "from sympy import *\n",
    "from sympy.parsing.sympy_parser import parse_expr\n",
    "from TDD2.TDD import get_unique_table_num as gu1\n",
    "from TDD2.BDD import get_unique_table_num as gu2\n",
    "from TDD2.BDD import get_count as B_get_count\n",
    "\n",
    "import time ,random, csv\n"
   ]
  },
  {
   "cell_type": "code",
   "execution_count": null,
   "metadata": {},
   "outputs": [],
   "source": [
    "from TDD2.TDD import TDD\n",
    "def global_norm(tdd):\n",
    "    node=tdd.node\n",
    "    weight=tdd.weight\n",
    "\n",
    "    if node.key==-1:\n",
    "        return tdd\n",
    "\n",
    "    h=weight\n",
    "    tdd_list=[]\n",
    "    for i in range (len(node.out_weight)):\n",
    "        tdd_list.append(TDD(node.successor[i]))\n",
    "        tdd_list[i].weight=h*node.out_weight[i]\n",
    "        tdd_list[i]=global_norm(tdd_list[i])\n",
    "\n",
    "    from TDD2.TDD import normalize\n",
    "    new_tdd=normalize(node.key,tdd_list)\n",
    "    return new_tdd"
   ]
  },
  {
   "cell_type": "code",
   "execution_count": null,
   "metadata": {},
   "outputs": [],
   "source": [
    "# path='Benchmarks/'\n",
    "# t_start=time.time()\n",
    "# file_name='4gt4-v0_72.qasm'\n",
    "# cir=QuantumCircuit.from_qasm_file(path+file_name)\n",
    "# tn,indices=cir_2_tn(cir)\n",
    "# for k in range(tn.qubits_num):\n",
    "#     x_k='x'+str(k)\n",
    "#     xn_k='xn'+str(k)\n",
    "#     s=Symbol(x_k)\n",
    "#     ns=Symbol(xn_k)\n",
    "#     U=np.array([ns,s])\n",
    "#     # U=np.array([0,1])\n",
    "#     temp_ts=Tensor(U,[Index(x_k)])\n",
    "#     tn.tensors.insert(0,temp_ts)\n",
    "#     if not x_k in indices:\n",
    "#         indices.append(x_k)\n",
    "# Ini_TDD(indices,n=300)\n",
    "# tdd=tn.cont()\n",
    "# print(time.time()-t_start)\n",
    "# print(tdd.node_number())\n",
    "# print(gu1())\n",
    "# print(gu2())\n",
    "# tdd.show()"
   ]
  },
  {
   "cell_type": "code",
   "execution_count": null,
   "metadata": {},
   "outputs": [],
   "source": [
    "def simulation(input_file,output_file=None):\n",
    "    cir=QuantumCircuit.from_qasm_file(input_file)\n",
    "    tn,indices=cir_2_tn(cir)\n",
    "    for k in range(tn.qubits_num):\n",
    "        x_k='x'+str(k)\n",
    "        xn_k='xn'+str(k)\n",
    "        s=Symbol(x_k)\n",
    "        ns=Symbol(xn_k)\n",
    "        U=np.array([ns,s])\n",
    "        # U=np.array([0,1])\n",
    "        temp_ts=Tensor(U,[Index(x_k)])\n",
    "        tn.tensors.insert(0,temp_ts)\n",
    "        if not x_k in indices:\n",
    "            indices.append(x_k)\n",
    "    t_start=time.time()\n",
    "    Ini_TDD(indices,n=300)\n",
    "    Max_nodes=[]\n",
    "    tdd=tn.cont(Max_nodes=Max_nodes)\n",
    "    Time=time.time()-t_start\n",
    "    # print('Benchmark Name:',input_file)\n",
    "    # print('Time:',time.time()-t_start)\n",
    "    # print('Qubit num.:',tn.qubits_num)\n",
    "    # print('Gate num.:',len(cir.data))\n",
    "    # print('Node num. max:',Max_nodes[0])\n",
    "    # print('Node num. final:',tdd.node_number())\n",
    "    # print('gu1:',gu1())\n",
    "    # print('gu2:',gu2())\n",
    "    with open('simulation.csv', 'a', newline='') as csvfile:\n",
    "        fieldnames = ['Benchmark Name', 'Qubit num.','Gate num.','Time','Node num. max','Node num. final','gu1','gu2']\n",
    "        writer = csv.DictWriter(csvfile, fieldnames=fieldnames)\n",
    "        writer.writerow({'Benchmark Name':input_file,\n",
    "         'Qubit num.':tn.qubits_num,\n",
    "         'Gate num.':len(cir.data),\n",
    "         'Time':Time,\n",
    "         'Node num. max':Max_nodes[0],\n",
    "         'Node num. final':tdd.node_number(),\n",
    "         'gu1':gu1(),\n",
    "         'gu2':gu2()})"
   ]
  },
  {
   "cell_type": "code",
   "execution_count": null,
   "metadata": {},
   "outputs": [],
   "source": [
    "'''\n",
    "Inverse test\n",
    "'''\n",
    "def Inverse_test(input_file,output_file=None):\n",
    "    cir=QuantumCircuit.from_qasm_file(input_file)\n",
    "    cir2=cir.inverse()\n",
    "    cir3=cir.compose(cir2)\n",
    "    tn,indices=cir_2_tn(cir3)\n",
    "\n",
    "    for k in range(tn.qubits_num):\n",
    "        x_k='x'+str(k)\n",
    "        xn_k='xn'+str(k)\n",
    "        s=Symbol(x_k)\n",
    "        ns=Symbol(xn_k)\n",
    "        U=np.array([ns,s])\n",
    "        # U=np.array([0,1])\n",
    "        temp_ts=Tensor(U,[Index(x_k)])\n",
    "        tn.tensors.insert(0,temp_ts)\n",
    "        tn.tensors.append(Tensor(np.array([[ns],[s]]),[Index('y%i'%k)]))\n",
    "        if not x_k in indices:\n",
    "            indices.append(x_k)\n",
    "    t_start=time.time()\n",
    "    Ini_TDD(indices,n=300)\n",
    "    Max_nodes=[]\n",
    "    tdd=tn.cont(Max_nodes=Max_nodes)\n",
    "    Time=time.time()-t_start\n",
    "    # print('Benchmark Name:',input_file)\n",
    "    # print('Time:',Time)\n",
    "    # print('Qubit num.:',tn.qubits_num)\n",
    "    # print('Gate num.:',len(cir3.data))\n",
    "    # print('Node num. max:',Max_nodes[0])\n",
    "    # print('Node num. final:',tdd.node_number())\n",
    "    # print('gu1:',gu1())\n",
    "    # print('gu2:',gu2())\n",
    "    with open('Inverse_test.csv', 'a', newline='') as csvfile:\n",
    "        fieldnames = ['Benchmark Name', 'Qubit num.','Gate num.','Time','Node num. max','Node num. final','gu1','gu2']\n",
    "        writer = csv.DictWriter(csvfile, fieldnames=fieldnames)\n",
    "        writer.writerow({'Benchmark Name':input_file,\n",
    "         'Qubit num.':tn.qubits_num,\n",
    "         'Gate num.':len(cir3.data),\n",
    "         'Time':Time,\n",
    "         'Node num. max':Max_nodes[0],\n",
    "         'Node num. final':tdd.node_number(),\n",
    "         'gu1':gu1(),\n",
    "         'gu2':gu2()})"
   ]
  },
  {
   "cell_type": "code",
   "execution_count": null,
   "metadata": {},
   "outputs": [],
   "source": [
    "# import os\n",
    "# path='Benchmarks/'\n",
    "# files=os.listdir(path)\n",
    "# simulation(path+files[0])\n"
   ]
  },
  {
   "cell_type": "code",
   "execution_count": null,
   "metadata": {},
   "outputs": [],
   "source": [
    "import os\n",
    "path='Benchmarks/'\n",
    "files=os.listdir(path)[10]\n",
    "for file in files:\n",
    "    Inverse_test(path+file)"
   ]
  },
  {
   "cell_type": "code",
   "execution_count": null,
   "metadata": {},
   "outputs": [],
   "source": [
    "\n",
    "# with open('Simulation.csv', 'w', newline='') as csvfile:\n",
    "#     fieldnames = ['Benchmark Name', 'Qubit num.','Gate num.','Time','Node num. max','Node num. final','gu1','gu2']\n",
    "#     writer = csv.DictWriter(csvfile, fieldnames=fieldnames)\n",
    "#     writer.writeheader()\n"
   ]
  },
  {
   "cell_type": "code",
   "execution_count": null,
   "metadata": {},
   "outputs": [],
   "source": [
    "\n",
    "# with open('Inverse_test.csv', 'w', newline='') as csvfile:\n",
    "#     fieldnames = ['Benchmark Name', 'Qubit num.','Gate num.','Time','Node num. max','Node num. final','gu1','gu2']\n",
    "#     writer = csv.DictWriter(csvfile, fieldnames=fieldnames)\n",
    "#     writer.writeheader()\n",
    "\n"
   ]
  },
  {
   "cell_type": "code",
   "execution_count": null,
   "metadata": {},
   "outputs": [],
   "source": []
  }
 ],
 "metadata": {
  "kernelspec": {
   "display_name": "Python 3.9.7 ('qiskit': conda)",
   "language": "python",
   "name": "python3"
  },
  "language_info": {
   "codemirror_mode": {
    "name": "ipython",
    "version": 3
   },
   "file_extension": ".py",
   "mimetype": "text/x-python",
   "name": "python",
   "nbconvert_exporter": "python",
   "pygments_lexer": "ipython3",
   "version": "3.9.7"
  },
  "orig_nbformat": 4,
  "vscode": {
   "interpreter": {
    "hash": "06cba8887e6156d8cf780c05c96a3f62d3a6e417048d85a718fc61d158b1208c"
   }
  }
 },
 "nbformat": 4,
 "nbformat_minor": 2
}
