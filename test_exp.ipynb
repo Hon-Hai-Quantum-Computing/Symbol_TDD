{
 "cells": [
  {
   "cell_type": "code",
   "execution_count": 1,
   "metadata": {},
   "outputs": [],
   "source": [
    "from qiskit.circuit import Parameter, QuantumCircuit\n",
    "from qiskit import transpile\n",
    "\n",
    "import numpy as np"
   ]
  },
  {
   "cell_type": "code",
   "execution_count": 2,
   "metadata": {},
   "outputs": [
    {
     "data": {
      "image/png": "[encoded data removed]",
      "text/plain": [
       "<Figure size 447.652x144.48 with 1 Axes>"
      ]
     },
     "execution_count": 2,
     "metadata": {},
     "output_type": "execute_result"
    }
   ],
   "source": [
    "parameter_num=3\n",
    "parameters=[]\n",
    "for i in range(parameter_num):\n",
    "    parameters.append(Parameter('s%i'%i))\n",
    "\n",
    "simple=QuantumCircuit(2)\n",
    "\n",
    "simple.u(parameters[0],parameters[1],parameters[2],0)\n",
    "simple.u(np.pi,np.pi,np.pi,0)\n",
    "simple.p(parameters[0],0)\n",
    "simple.x(0)\n",
    "simple.rx(parameters[0],0)\n",
    "simple.ry(parameters[1],0)\n",
    "simple.rz(2*parameters[2]+np.pi,1)\n",
    "simple.draw('mpl')"
   ]
  },
  {
   "cell_type": "code",
   "execution_count": 3,
   "metadata": {},
   "outputs": [
    {
     "data": {
      "text/plain": [
       "CircuitInstruction(operation=Instruction(name='rz', num_qubits=1, num_clbits=0, params=[ParameterExpression(2*s2 + 3.14159265358979)]), qubits=(Qubit(QuantumRegister(1, 'q'), 0),), clbits=())"
      ]
     },
     "execution_count": 3,
     "metadata": {},
     "output_type": "execute_result"
    }
   ],
   "source": [
    "from qiskit import QuantumRegister\n",
    "from qiskit.circuit.quantumregister import Qubit\n",
    "from qiskit.circuit.quantumcircuitdata import CircuitInstruction\n",
    "g=simple.data[6]\n",
    "g.qubits=(Qubit(QuantumRegister(1, 'q'), 0),)\n",
    "\n",
    "g"
   ]
  },
  {
   "cell_type": "code",
   "execution_count": 4,
   "metadata": {},
   "outputs": [
    {
     "data": {
      "text/plain": [
       "3"
      ]
     },
     "execution_count": 4,
     "metadata": {},
     "output_type": "execute_result"
    }
   ],
   "source": [
    "len(simple.parameters)"
   ]
  },
  {
   "cell_type": "code",
   "execution_count": 5,
   "metadata": {},
   "outputs": [
    {
     "data": {
      "text/html": [
       "<pre style=\"word-wrap: normal;white-space: pre;background: #fff0;line-height: 1.1;font-family: &quot;Courier New&quot;,Courier,monospace\">global phase: -1.0*s2 - π/2\n",
       "   ┌─────────────────┐\n",
       "q: ┤ U(0,0,2*s2 + π) ├\n",
       "   └─────────────────┘</pre>"
      ],
      "text/plain": [
       "global phase: -1.0*s2 - π/2\n",
       "   ┌─────────────────┐\n",
       "q: ┤ U(0,0,2*s2 + π) ├\n",
       "   └─────────────────┘"
      ]
     },
     "execution_count": 5,
     "metadata": {},
     "output_type": "execute_result"
    }
   ],
   "source": [
    "test=QuantumCircuit(1)\n",
    "test.append(g)\n",
    "test=transpile(test,basis_gates='u')\n",
    "test.draw()"
   ]
  },
  {
   "cell_type": "code",
   "execution_count": 6,
   "metadata": {},
   "outputs": [
    {
     "data": {
      "text/plain": [
       "ParameterExpression(-0.5*I*(2*s2 + 3.14159265358979))"
      ]
     },
     "execution_count": 6,
     "metadata": {},
     "output_type": "execute_result"
    }
   ],
   "source": [
    "1j*test.global_phase"
   ]
  },
  {
   "cell_type": "code",
   "execution_count": 7,
   "metadata": {},
   "outputs": [
    {
     "data": {
      "text/plain": [
       "ParameterExpression(0)"
      ]
     },
     "execution_count": 7,
     "metadata": {},
     "output_type": "execute_result"
    }
   ],
   "source": [
    "t=test.data[0].operation.params[0]\n",
    "t"
   ]
  },
  {
   "cell_type": "code",
   "execution_count": 8,
   "metadata": {},
   "outputs": [
    {
     "data": {
      "text/latex": [
       "$\\displaystyle 1.0 i \\left(\\frac{e^{0.5 i s_{0} + s_{1}}}{2} - \\frac{e^{- 0.5 i s_{0}}}{2}\\right) e^{1.5707963267949 i}$"
      ],
      "text/plain": [
       "1.0*I*(exp(0.5*I*s0 + s1)/2 - exp(-0.5*I*s0)/2)*exp(1.5707963267949*I)"
      ]
     },
     "execution_count": 8,
     "metadata": {},
     "output_type": "execute_result"
    }
   ],
   "source": [
    "from sympy import sympify, I\n",
    "c=sympify('1.0*I*(exp(0.5*1j*s0+s1)/2 - exp(-0.5*I*s0)/2)*exp(1.5707963267949*I)')\n",
    "c"
   ]
  },
  {
   "cell_type": "code",
   "execution_count": 9,
   "metadata": {},
   "outputs": [
    {
     "data": {
      "text/latex": [
       "$\\displaystyle \\frac{e^{0.5 i s_{0} + s_{1}}}{2} - \\frac{e^{- 0.5 i s_{0}}}{2}$"
      ],
      "text/plain": [
       "exp(0.5*I*s0 + s1)/2 - exp(-0.5*I*s0)/2"
      ]
     },
     "execution_count": 9,
     "metadata": {},
     "output_type": "execute_result"
    }
   ],
   "source": [
    "d=c.args[2]\n",
    "d"
   ]
  },
  {
   "cell_type": "code",
   "execution_count": 10,
   "metadata": {},
   "outputs": [],
   "source": [
    "e=d.args[0]"
   ]
  },
  {
   "cell_type": "code",
   "execution_count": 11,
   "metadata": {},
   "outputs": [
    {
     "data": {
      "text/latex": [
       "$\\displaystyle e^{0.5 i s_{0} + s_{1}}$"
      ],
      "text/plain": [
       "exp(0.5*I*s0 + s1)"
      ]
     },
     "execution_count": 11,
     "metadata": {},
     "output_type": "execute_result"
    }
   ],
   "source": [
    "f=d.args[0].args[1]\n",
    "f"
   ]
  },
  {
   "cell_type": "code",
   "execution_count": 12,
   "metadata": {},
   "outputs": [
    {
     "data": {
      "text/plain": [
       "exp"
      ]
     },
     "execution_count": 12,
     "metadata": {},
     "output_type": "execute_result"
    }
   ],
   "source": [
    "type(f)"
   ]
  },
  {
   "cell_type": "code",
   "execution_count": 13,
   "metadata": {},
   "outputs": [
    {
     "data": {
      "text/plain": [
       "(0.5*I*s0 + s1,)"
      ]
     },
     "execution_count": 13,
     "metadata": {},
     "output_type": "execute_result"
    }
   ],
   "source": [
    "f.args"
   ]
  },
  {
   "cell_type": "code",
   "execution_count": 14,
   "metadata": {},
   "outputs": [
    {
     "data": {
      "text/plain": [
       "()"
      ]
     },
     "execution_count": 14,
     "metadata": {},
     "output_type": "execute_result"
    }
   ],
   "source": [
    "sympify(0).args"
   ]
  },
  {
   "cell_type": "code",
   "execution_count": 15,
   "metadata": {},
   "outputs": [],
   "source": [
    "dict1={(0,1,0):(1,0),(1,1,0):(0.5,3.14)}\n",
    "dict2={(0,1,0):(1,0),(1,1,0):(0.5,3.14),(1,1,1):(0.5,3.14)}"
   ]
  },
  {
   "cell_type": "code",
   "execution_count": 16,
   "metadata": {},
   "outputs": [
    {
     "data": {
      "text/plain": [
       "(0, 1, 0)"
      ]
     },
     "execution_count": 16,
     "metadata": {},
     "output_type": "execute_result"
    }
   ],
   "source": [
    "key1=dict1.keys()\n",
    "key2=dict2.keys()\n",
    "key=min(key1)\n",
    "key"
   ]
  },
  {
   "cell_type": "code",
   "execution_count": 17,
   "metadata": {},
   "outputs": [
    {
     "data": {
      "text/plain": [
       "{(0, 1, 0): (1, 0)}"
      ]
     },
     "execution_count": 17,
     "metadata": {},
     "output_type": "execute_result"
    }
   ],
   "source": [
    "item={key:dict1[key]}\n",
    "item"
   ]
  },
  {
   "cell_type": "code",
   "execution_count": 18,
   "metadata": {},
   "outputs": [
    {
     "ename": "TypeError",
     "evalue": "unsupported operand type(s) for -: 'list' and 'list'",
     "output_type": "error",
     "traceback": [
      "\u001b[0;31m---------------------------------------------------------------------------\u001b[0m",
      "\u001b[0;31mTypeError\u001b[0m                                 Traceback (most recent call last)",
      "\u001b[0;32m/tmp/ipykernel_4672/927317995.py\u001b[0m in \u001b[0;36m<module>\u001b[0;34m\u001b[0m\n\u001b[0;32m----> 1\u001b[0;31m \u001b[0mlist\u001b[0m\u001b[0;34m(\u001b[0m\u001b[0;34m(\u001b[0m\u001b[0;36m0\u001b[0m\u001b[0;34m,\u001b[0m\u001b[0;36m1\u001b[0m\u001b[0;34m,\u001b[0m\u001b[0;36m0\u001b[0m\u001b[0;34m)\u001b[0m\u001b[0;34m)\u001b[0m\u001b[0;34m-\u001b[0m\u001b[0mlist\u001b[0m\u001b[0;34m(\u001b[0m\u001b[0;34m(\u001b[0m\u001b[0;36m1\u001b[0m\u001b[0;34m,\u001b[0m\u001b[0;36m1\u001b[0m\u001b[0;34m,\u001b[0m\u001b[0;36m0\u001b[0m\u001b[0;34m)\u001b[0m\u001b[0;34m)\u001b[0m\u001b[0;34m\u001b[0m\u001b[0;34m\u001b[0m\u001b[0m\n\u001b[0m\u001b[1;32m      2\u001b[0m \u001b[0;34m\u001b[0m\u001b[0m\n",
      "\u001b[0;31mTypeError\u001b[0m: unsupported operand type(s) for -: 'list' and 'list'"
     ]
    }
   ],
   "source": [
    "list((0,1,0))-list((1,1,0))\n",
    "\n"
   ]
  },
  {
   "cell_type": "code",
   "execution_count": null,
   "metadata": {},
   "outputs": [],
   "source": [
    "def div_item (data, item):\n",
    "    dict1={}\n",
    "    key=list(item.keys())[0]\n",
    "\n",
    "    for K in data.keys():\n",
    "        new_key=tuple([K[i] - key[i] for i in range(len(key))])\n",
    "        value = (data[K][0]/item[key][0],data[K][1]-item[key][1] ) \n",
    "        dict1[new_key]=value\n",
    "\n",
    "    return dict1\n"
   ]
  },
  {
   "cell_type": "code",
   "execution_count": null,
   "metadata": {},
   "outputs": [
    {
     "data": {
      "text/plain": [
       "{(0, 0, 0): (1.0, 0), (1, 0, 0): (0.5, 3.14), (1, 0, 1): (0.5, 3.14)}"
      ]
     },
     "execution_count": 43,
     "metadata": {},
     "output_type": "execute_result"
    }
   ],
   "source": [
    "div_item(dict2,item)"
   ]
  },
  {
   "cell_type": "code",
   "execution_count": null,
   "metadata": {},
   "outputs": [],
   "source": [
    "def get_item(f):\n",
    "    expr=f.args[0]\n",
    "    dict1=dict()\n",
    "    dict2=dict()\n",
    "    for item in expr.free_symbols:\n",
    "        # print(item)\n",
    "        dict1[item]=expr.coeff(item)\n",
    "        dict2[item]=0\n",
    "    dict1[1]=expr.subs(dict2)\n",
    "    return dict1"
   ]
  },
  {
   "cell_type": "code",
   "execution_count": null,
   "metadata": {},
   "outputs": [
    {
     "data": {
      "text/plain": [
       "{s1: 1, s0: 0.5*I, 1: 0}"
      ]
     },
     "execution_count": 16,
     "metadata": {},
     "output_type": "execute_result"
    }
   ],
   "source": [
    "dict1=get_item(f)\n",
    "dict1"
   ]
  },
  {
   "cell_type": "code",
   "execution_count": null,
   "metadata": {},
   "outputs": [
    {
     "data": {
      "text/plain": [
       "{s1: 1, s0: 0.5*I, 1: 0}"
      ]
     },
     "execution_count": 17,
     "metadata": {},
     "output_type": "execute_result"
    }
   ],
   "source": [
    "dict1.pop\n",
    "dict1"
   ]
  },
  {
   "cell_type": "code",
   "execution_count": null,
   "metadata": {},
   "outputs": [
    {
     "data": {
      "text/plain": [
       "{s1: 1, s0: 0.5*I}"
      ]
     },
     "execution_count": 18,
     "metadata": {},
     "output_type": "execute_result"
    }
   ],
   "source": [
    "import math\n",
    "key=1\n",
    "if math.isclose(dict1[key],0):\n",
    "    dict1.pop(key,None)\n",
    "dict1"
   ]
  },
  {
   "cell_type": "code",
   "execution_count": null,
   "metadata": {},
   "outputs": [
    {
     "data": {
      "text/plain": [
       "True"
      ]
     },
     "execution_count": 19,
     "metadata": {},
     "output_type": "execute_result"
    }
   ],
   "source": [
    "a=(0,0,1)\n",
    "\n",
    "all(a[i]==0 for i in range (len(a)-1))\n"
   ]
  },
  {
   "cell_type": "code",
   "execution_count": null,
   "metadata": {},
   "outputs": [
    {
     "data": {
      "text/plain": [
       "{}"
      ]
     },
     "execution_count": 20,
     "metadata": {},
     "output_type": "execute_result"
    }
   ],
   "source": [
    "from TDD.Exp.EXP import BDD\n",
    "a=BDD()\n",
    "a"
   ]
  },
  {
   "cell_type": "code",
   "execution_count": null,
   "metadata": {},
   "outputs": [
    {
     "data": {
      "text/plain": [
       "True"
      ]
     },
     "execution_count": 21,
     "metadata": {},
     "output_type": "execute_result"
    }
   ],
   "source": [
    "a.is_zero"
   ]
  },
  {
   "cell_type": "code",
   "execution_count": null,
   "metadata": {},
   "outputs": [
    {
     "data": {
      "text/plain": [
       "dict_keys([])"
      ]
     },
     "execution_count": 22,
     "metadata": {},
     "output_type": "execute_result"
    }
   ],
   "source": [
    "keys=a.data.keys()\n",
    "keys"
   ]
  },
  {
   "cell_type": "code",
   "execution_count": null,
   "metadata": {},
   "outputs": [
    {
     "ename": "IndexError",
     "evalue": "list index out of range",
     "output_type": "error",
     "traceback": [
      "\u001b[0;31m---------------------------------------------------------------------------\u001b[0m",
      "\u001b[0;31mIndexError\u001b[0m                                Traceback (most recent call last)",
      "\u001b[0;32m/tmp/ipykernel_3016/997946823.py\u001b[0m in \u001b[0;36m<module>\u001b[0;34m\u001b[0m\n\u001b[0;32m----> 1\u001b[0;31m \u001b[0mlist\u001b[0m\u001b[0;34m(\u001b[0m\u001b[0mkeys\u001b[0m\u001b[0;34m)\u001b[0m\u001b[0;34m[\u001b[0m\u001b[0;36m0\u001b[0m\u001b[0;34m]\u001b[0m\u001b[0;34m\u001b[0m\u001b[0;34m\u001b[0m\u001b[0m\n\u001b[0m",
      "\u001b[0;31mIndexError\u001b[0m: list index out of range"
     ]
    }
   ],
   "source": [
    "list(keys)[0]"
   ]
  },
  {
   "cell_type": "code",
   "execution_count": 20,
   "metadata": {},
   "outputs": [
    {
     "data": {
      "text/html": [
       "<pre style=\"word-wrap: normal;white-space: pre;background: #fff0;line-height: 1.1;font-family: &quot;Courier New&quot;,Courier,monospace\">global phase: π\n",
       "     ┌────┐┌──────────────┐┌────┐┌────────┐\n",
       "q_0: ┤ √X ├┤ Rz(θ[0] + π) ├┤ √X ├┤ Rz(3π) ├\n",
       "     ├────┤├──────────────┤├────┤├────────┤\n",
       "q_1: ┤ √X ├┤ Rz(θ[1] + π) ├┤ √X ├┤ Rz(3π) ├\n",
       "     └────┘└──────────────┘└────┘└────────┘</pre>"
      ],
      "text/plain": [
       "global phase: π\n",
       "     ┌────┐┌──────────────┐┌────┐┌────────┐\n",
       "q_0: ┤ √X ├┤ Rz(θ[0] + π) ├┤ √X ├┤ Rz(3π) ├\n",
       "     ├────┤├──────────────┤├────┤├────────┤\n",
       "q_1: ┤ √X ├┤ Rz(θ[1] + π) ├┤ √X ├┤ Rz(3π) ├\n",
       "     └────┘└──────────────┘└────┘└────────┘"
      ]
     },
     "execution_count": 20,
     "metadata": {},
     "output_type": "execute_result"
    }
   ],
   "source": [
    "from qiskit.circuit import library\n",
    "cir = library.TwoLocal(2, ['ry'],'cx', entanglement='circular', reps=0)\n",
    "cir=transpile(cir,basis_gates=['id', 'rz', 'sx', 'x', 'cx'])\n",
    "cir.draw()"
   ]
  },
  {
   "cell_type": "code",
   "execution_count": null,
   "metadata": {},
   "outputs": [],
   "source": []
  },
  {
   "attachments": {},
   "cell_type": "markdown",
   "metadata": {},
   "source": [
    "用 is_parameterized() 就可以確認是否含有變數\n",
    "\n",
    "https://qiskit.org/documentation/_modules/qiskit/circuit/instruction.html#Instruction.is_parameterized\n"
   ]
  },
  {
   "cell_type": "code",
   "execution_count": null,
   "metadata": {},
   "outputs": [
    {
     "data": {
      "text/plain": [
       "True"
      ]
     },
     "execution_count": 9,
     "metadata": {},
     "output_type": "execute_result"
    }
   ],
   "source": [
    "gate[0].is_parameterized()"
   ]
  },
  {
   "cell_type": "code",
   "execution_count": null,
   "metadata": {},
   "outputs": [
    {
     "name": "stdout",
     "output_type": "stream",
     "text": [
      "{Parameter(s0)}\n",
      "set()\n",
      "set()\n"
     ]
    }
   ],
   "source": [
    "for item in params:\n",
    "    print(item.parameters)"
   ]
  },
  {
   "cell_type": "code",
   "execution_count": null,
   "metadata": {},
   "outputs": [
    {
     "name": "stdout",
     "output_type": "stream",
     "text": [
      "True\n"
     ]
    }
   ],
   "source": [
    "params=gate[0].params\n",
    "\n",
    "from qiskit.circuit import Parameter\n",
    "is_Parameter= lambda element: isinstance(element,Parameter)\n",
    "\n",
    "if len(params)>0:\n",
    "    def check_condition(lst, condition):\n",
    "        for element in lst:\n",
    "            if condition(element):\n",
    "                return True\n",
    "        return False\n",
    "    if check_condition(params,is_Parameter):\n",
    "        print('True')\n",
    "    else:\n",
    "        print('False')"
   ]
  },
  {
   "cell_type": "code",
   "execution_count": null,
   "metadata": {},
   "outputs": [],
   "source": []
  }
 ],
 "metadata": {
  "kernelspec": {
   "display_name": "qiskit",
   "language": "python",
   "name": "python3"
  },
  "language_info": {
   "codemirror_mode": {
    "name": "ipython",
    "version": 3
   },
   "file_extension": ".py",
   "mimetype": "text/x-python",
   "name": "python",
   "nbconvert_exporter": "python",
   "pygments_lexer": "ipython3",
   "version": "3.9.7"
  },
  "orig_nbformat": 4,
  "vscode": {
   "interpreter": {
    "hash": "06cba8887e6156d8cf780c05c96a3f62d3a6e417048d85a718fc61d158b1208c"
   }
  }
 },
 "nbformat": 4,
 "nbformat_minor": 2
}
