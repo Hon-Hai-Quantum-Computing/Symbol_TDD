{
 "cells": [
  {
   "cell_type": "code",
   "execution_count": 1,
   "metadata": {},
   "outputs": [],
   "source": [
    "import numpy as np\n",
    "from symtdd import ts, tn"
   ]
  },
  {
   "cell_type": "code",
   "execution_count": 2,
   "metadata": {},
   "outputs": [],
   "source": [
    "from symtdd.io.qiskit_import import cir_2_tn\n",
    "from symtdd import IndexType, TensorType, TDDWeightType"
   ]
  },
  {
   "cell_type": "code",
   "execution_count": 3,
   "metadata": {},
   "outputs": [],
   "source": [
    "from qiskit import QuantumCircuit, QuantumRegister\n",
    "from qiskit.circuit import Parameter"
   ]
  },
  {
   "cell_type": "code",
   "execution_count": 4,
   "metadata": {},
   "outputs": [
    {
     "data": {
      "text/plain": [
       "<qiskit.circuit.instructionset.InstructionSet at 0x7fb7cf138f40>"
      ]
     },
     "execution_count": 4,
     "metadata": {},
     "output_type": "execute_result"
    }
   ],
   "source": [
    "qa = QuantumRegister(2, 'qa')\n",
    "qb = QuantumRegister(3, 'qb')\n",
    "# va = Parameter('x0')\n",
    "cir = QuantumCircuit(qa, qb)\n",
    "# cir.rz(va, 3)\n",
    "cir.cx(1, 4)\n",
    "cir.cy(1, 4)\n",
    "cir.ccx(1, 3, 4)\n",
    "cir.h(2)"
   ]
  },
  {
   "cell_type": "code",
   "execution_count": 5,
   "metadata": {},
   "outputs": [],
   "source": [
    "tna = cir_2_tn(cir, IndexType.STANDARD, TensorType.TENSOR, TDDWeightType.NA)"
   ]
  },
  {
   "cell_type": "code",
   "execution_count": 6,
   "metadata": {},
   "outputs": [],
   "source": [
    "# tna = cir_2_tn(cir, IndexType.STANDARD, TensorType.TDD, TDDWeightType.COMPLEX)"
   ]
  },
  {
   "cell_type": "code",
   "execution_count": 7,
   "metadata": {},
   "outputs": [],
   "source": [
    "# tna.tensors[-1].show()"
   ]
  },
  {
   "cell_type": "code",
   "execution_count": 8,
   "metadata": {},
   "outputs": [
    {
     "name": "stderr",
     "output_type": "stream",
     "text": [
      "DEBUG:symtdd.ts:====Contract\n",
      "DEBUG:symtdd.ts:(y_0_0#0,),(x_1_0#0,)->[y_0_0#0, x_1_0#0]\n",
      "DEBUG:symtdd.ts:\n",
      "input: TS None: shape (2,), indices ['y_0_0#0']\n",
      "output: (0,)\n",
      "DEBUG:symtdd.ts:\n",
      "input: TS None: shape (2,), indices ['x_1_0#0']\n",
      "output: (1,)\n",
      "DEBUG:symtdd.ts:data shape: (2, 2)\n",
      "DEBUG:symtdd.ts:Contract End====\n",
      "DEBUG:symtdd.ts:====Contract\n",
      "DEBUG:symtdd.ts:(x_2_0#0,),(y_0_0#0, x_1_0#0)->[y_0_0#0, x_1_0#0, x_2_0#0]\n",
      "DEBUG:symtdd.ts:\n",
      "input: TS None: shape (2,), indices ['x_2_0#0']\n",
      "output: (2,)\n",
      "DEBUG:symtdd.ts:\n",
      "input: TS None: shape (2, 2), indices ['y_0_0#0', 'x_1_0#0']\n",
      "output: (0, 1)\n",
      "DEBUG:symtdd.ts:data shape: (2, 2, 2)\n",
      "DEBUG:symtdd.ts:Contract End====\n",
      "DEBUG:symtdd.ts:====Contract\n",
      "DEBUG:symtdd.ts:(x_3_0#0,),(y_0_0#0, x_1_0#0, x_2_0#0)->[y_0_0#0, x_1_0#0, x_3_0#0, x_2_0#0]\n",
      "DEBUG:symtdd.ts:\n",
      "input: TS None: shape (2,), indices ['x_3_0#0']\n",
      "output: (2,)\n",
      "DEBUG:symtdd.ts:\n",
      "input: TS None: shape (2, 2, 2), indices ['y_0_0#0', 'x_1_0#0', 'x_2_0#0']\n",
      "output: (0, 1, 3)\n",
      "DEBUG:symtdd.ts:data shape: (2, 2, 2, 2)\n",
      "DEBUG:symtdd.ts:Contract End====\n",
      "DEBUG:symtdd.ts:====Contract\n",
      "DEBUG:symtdd.ts:(x_4_0#0,),(y_0_0#0, x_1_0#0, x_3_0#0, x_2_0#0)->[y_0_0#0, x_3_0#0, x_4_0#0, x_1_0#0, x_2_0#0]\n",
      "DEBUG:symtdd.ts:\n",
      "input: TS None: shape (2,), indices ['x_4_0#0']\n",
      "output: (2,)\n",
      "DEBUG:symtdd.ts:\n",
      "input: TS None: shape (2, 2, 2, 2), indices ['y_0_0#0', 'x_1_0#0', 'x_3_0#0', 'x_2_0#0']\n",
      "output: (0, 3, 1, 4)\n",
      "DEBUG:symtdd.ts:data shape: (2, 2, 2, 2, 2)\n",
      "DEBUG:symtdd.ts:Contract End====\n",
      "DEBUG:symtdd.ts:====Contract\n",
      "DEBUG:symtdd.ts:(x_1_0#0, x_1_0#1, x_4_0#0, x_4_1#0),(y_0_0#0, x_3_0#0, x_4_0#0, x_1_0#0, x_2_0#0)->[y_0_0#0, x_3_0#0, x_4_1#0, x_2_0#0, x_1_0#1]\n",
      "DEBUG:symtdd.ts:\n",
      "input: TS cx: shape (2, 2, 2, 2), indices ['x_1_0#0', 'x_1_0#1', 'x_4_0#0', 'x_4_1#0']\n",
      "output: (5, 4, 6, 2)\n",
      "DEBUG:symtdd.ts:\n",
      "input: TS None: shape (2, 2, 2, 2, 2), indices ['y_0_0#0', 'x_3_0#0', 'x_4_0#0', 'x_1_0#0', 'x_2_0#0']\n",
      "output: (0, 1, 6, 5, 3)\n",
      "DEBUG:symtdd.ts:data shape: (2, 2, 2, 2, 2)\n",
      "DEBUG:symtdd.ts:Contract End====\n",
      "DEBUG:symtdd.ts:====Contract\n",
      "DEBUG:symtdd.ts:(x_1_0#1, x_1_0#2, x_4_1#0, x_4_2#0),(y_0_0#0, x_3_0#0, x_4_1#0, x_2_0#0, x_1_0#1)->[y_0_0#0, x_3_0#0, x_2_0#0, x_1_0#2, x_4_2#0]\n",
      "DEBUG:symtdd.ts:\n",
      "input: TS cy: shape (2, 2, 2, 2), indices ['x_1_0#1', 'x_1_0#2', 'x_4_1#0', 'x_4_2#0']\n",
      "output: (5, 3, 6, 4)\n",
      "DEBUG:symtdd.ts:\n",
      "input: TS None: shape (2, 2, 2, 2, 2), indices ['y_0_0#0', 'x_3_0#0', 'x_4_1#0', 'x_2_0#0', 'x_1_0#1']\n",
      "output: (0, 1, 6, 2, 5)\n",
      "DEBUG:symtdd.ts:data shape: (2, 2, 2, 2, 2)\n",
      "DEBUG:symtdd.ts:Contract End====\n",
      "DEBUG:symtdd.ts:====Contract\n",
      "DEBUG:symtdd.ts:(x_1_0#2, y_1_0#0, x_3_0#0, y_3_0#0, x_4_2#0, y_4_0#0),(y_0_0#0, x_3_0#0, x_2_0#0, x_1_0#2, x_4_2#0)->[y_0_0#0, y_3_0#0, y_1_0#0, x_2_0#0, y_4_0#0]\n",
      "DEBUG:symtdd.ts:\n",
      "input: TS ccx: shape (2, 2, 2, 2, 2, 2), indices ['x_1_0#2', 'y_1_0#0', 'x_3_0#0', 'y_3_0#0', 'x_4_2#0', 'y_4_0#0']\n",
      "output: (6, 2, 5, 1, 7, 4)\n",
      "DEBUG:symtdd.ts:\n",
      "input: TS None: shape (2, 2, 2, 2, 2), indices ['y_0_0#0', 'x_3_0#0', 'x_2_0#0', 'x_1_0#2', 'x_4_2#0']\n",
      "output: (0, 5, 3, 6, 7)\n",
      "DEBUG:symtdd.ts:data shape: (2, 2, 2, 2, 2)\n",
      "DEBUG:symtdd.ts:Contract End====\n",
      "DEBUG:symtdd.ts:====Contract\n",
      "DEBUG:symtdd.ts:(x_2_0#0, y_2_0#0),(y_0_0#0, y_3_0#0, y_1_0#0, x_2_0#0, y_4_0#0)->[y_0_0#0, y_2_0#0, y_3_0#0, y_1_0#0, y_4_0#0]\n",
      "DEBUG:symtdd.ts:\n",
      "input: TS h: shape (2, 2), indices ['x_2_0#0', 'y_2_0#0']\n",
      "output: (5, 1)\n",
      "DEBUG:symtdd.ts:\n",
      "input: TS None: shape (2, 2, 2, 2, 2), indices ['y_0_0#0', 'y_3_0#0', 'y_1_0#0', 'x_2_0#0', 'y_4_0#0']\n",
      "output: (0, 2, 3, 5, 4)\n",
      "DEBUG:symtdd.ts:data shape: (2, 2, 2, 2, 2)\n",
      "DEBUG:symtdd.ts:Contract End====\n"
     ]
    }
   ],
   "source": [
    "tsa = tna.contract()"
   ]
  },
  {
   "cell_type": "code",
   "execution_count": 9,
   "metadata": {},
   "outputs": [
    {
     "name": "stdout",
     "output_type": "stream",
     "text": [
      "y_0_0_0\n",
      "y_1_0_0\n",
      "y_2_0_0\n",
      "y_3_0_0\n",
      "y_4_0_0\n"
     ]
    }
   ],
   "source": [
    "tsa.sort()\n",
    "for index in tsa.indices:\n",
    "    print(index)"
   ]
  },
  {
   "cell_type": "code",
   "execution_count": 10,
   "metadata": {},
   "outputs": [
    {
     "data": {
      "text/plain": [
       "['y_0_0#0', 'y_1_0#0', 'y_2_0#0', 'y_3_0#0', 'y_4_0#0']"
      ]
     },
     "execution_count": 10,
     "metadata": {},
     "output_type": "execute_result"
    }
   ],
   "source": [
    "tsa.str_hyprindices"
   ]
  },
  {
   "cell_type": "code",
   "execution_count": 11,
   "metadata": {},
   "outputs": [
    {
     "data": {
      "text/plain": [
       "array([0.70710678+0.j, 0.        +0.j, 0.        +0.j, 0.        +0.j,\n",
       "       0.70710678+0.j, 0.        +0.j, 0.        +0.j, 0.        +0.j,\n",
       "       0.        +0.j, 0.        +0.j, 0.        +0.j, 0.        +0.j,\n",
       "       0.        +0.j, 0.        +0.j, 0.        +0.j, 0.        +0.j,\n",
       "       0.        +0.j, 0.        +0.j, 0.        +0.j, 0.        +0.j,\n",
       "       0.        +0.j, 0.        +0.j, 0.        +0.j, 0.        +0.j,\n",
       "       0.        +0.j, 0.        +0.j, 0.        +0.j, 0.        +0.j,\n",
       "       0.        +0.j, 0.        +0.j, 0.        +0.j, 0.        +0.j])"
      ]
     },
     "execution_count": 11,
     "metadata": {},
     "output_type": "execute_result"
    }
   ],
   "source": [
    "import numpy as np\n",
    "ordered_tsa_data = tsa.data\n",
    "ordered_tsa_data.flatten()"
   ]
  },
  {
   "cell_type": "code",
   "execution_count": 12,
   "metadata": {},
   "outputs": [
    {
     "name": "stdout",
     "output_type": "stream",
     "text": [
      "Statevector([0.70710678+0.j, 0.        +0.j, 0.        +0.j,\n",
      "             0.        +0.j, 0.70710678+0.j, 0.        +0.j,\n",
      "             0.        +0.j, 0.        +0.j, 0.        +0.j,\n",
      "             0.        +0.j, 0.        +0.j, 0.        +0.j,\n",
      "             0.        +0.j, 0.        +0.j, 0.        +0.j,\n",
      "             0.        +0.j, 0.        +0.j, 0.        +0.j,\n",
      "             0.        +0.j, 0.        +0.j, 0.        +0.j,\n",
      "             0.        +0.j, 0.        +0.j, 0.        +0.j,\n",
      "             0.        +0.j, 0.        +0.j, 0.        +0.j,\n",
      "             0.        +0.j, 0.        +0.j, 0.        +0.j,\n",
      "             0.        +0.j, 0.        +0.j],\n",
      "            dims=(2, 2, 2, 2, 2))\n"
     ]
    }
   ],
   "source": [
    "from qiskit import Aer\n",
    "backend = Aer.get_backend('statevector_simulator')\n",
    "job = backend.run(cir)\n",
    "result = job.result()\n",
    "result.get_statevector()"
   ]
  },
  {
   "cell_type": "code",
   "execution_count": 13,
   "metadata": {},
   "outputs": [],
   "source": [
    "np.testing.assert_allclose(ordered_tsa_data.flatten(), result.get_statevector())"
   ]
  },
  {
   "cell_type": "code",
   "execution_count": 14,
   "metadata": {},
   "outputs": [],
   "source": [
    "from qiskit.circuit.random import random_circuit\n",
    "cir = random_circuit(2, 2, measure=False, seed=12345)\n",
    "cir2 = cir.copy()\n",
    "cir.save_statevector()\n",
    "backend = Aer.get_backend('aer_simulator_statevector')\n",
    "job = backend.run(cir)\n",
    "result = job.result()\n",
    "gold_data = result.get_statevector()"
   ]
  },
  {
   "cell_type": "code",
   "execution_count": 15,
   "metadata": {},
   "outputs": [
    {
     "data": {
      "text/html": [
       "<pre style=\"word-wrap: normal;white-space: pre;background: #fff0;line-height: 1.1;font-family: &quot;Courier New&quot;,Courier,monospace\">                              ┌──────────────────────────┐ statevector \n",
       "q_0: ────────────■────────────┤ U3(3.7593,1.1733,4.2271) ├──────░──────\n",
       "     ┌───────────┴───────────┐└──────┬───────────┬───────┘      ░      \n",
       "q_1: ┤ U3(1.9903,5.01,4.249) ├───────┤ P(5.9175) ├──────────────░──────\n",
       "     └───────────────────────┘       └───────────┘              ░      </pre>"
      ],
      "text/plain": [
       "                              ┌──────────────────────────┐ statevector \n",
       "q_0: ────────────■────────────┤ U3(3.7593,1.1733,4.2271) ├──────░──────\n",
       "     ┌───────────┴───────────┐└──────┬───────────┬───────┘      ░      \n",
       "q_1: ┤ U3(1.9903,5.01,4.249) ├───────┤ P(5.9175) ├──────────────░──────\n",
       "     └───────────────────────┘       └───────────┘              ░      "
      ]
     },
     "execution_count": 15,
     "metadata": {},
     "output_type": "execute_result"
    }
   ],
   "source": [
    "cir.draw()"
   ]
  },
  {
   "cell_type": "code",
   "execution_count": 16,
   "metadata": {},
   "outputs": [
    {
     "data": {
      "text/plain": [
       "array([-0.3039595 +0.j       ,  0.36880765+0.8784017j,\n",
       "        0.        +0.j       ,  0.        +0.j       ])"
      ]
     },
     "execution_count": 16,
     "metadata": {},
     "output_type": "execute_result"
    }
   ],
   "source": [
    "gold_data.data"
   ]
  },
  {
   "cell_type": "code",
   "execution_count": 17,
   "metadata": {},
   "outputs": [
    {
     "ename": "TypeError",
     "evalue": "cir_2_tn() missing 2 required positional arguments: 'idxtype' and 'tstype'",
     "output_type": "error",
     "traceback": [
      "\u001b[0;31m---------------------------------------------------------------------------\u001b[0m",
      "\u001b[0;31mTypeError\u001b[0m                                 Traceback (most recent call last)",
      "\u001b[0;32m/tmp/ipykernel_7737/1966582863.py\u001b[0m in \u001b[0;36m<module>\u001b[0;34m\u001b[0m\n\u001b[0;32m----> 1\u001b[0;31m \u001b[0mtn\u001b[0m \u001b[0;34m=\u001b[0m \u001b[0mcir_2_tn\u001b[0m\u001b[0;34m(\u001b[0m\u001b[0mcir2\u001b[0m\u001b[0;34m)\u001b[0m\u001b[0;34m\u001b[0m\u001b[0;34m\u001b[0m\u001b[0m\n\u001b[0m\u001b[1;32m      2\u001b[0m \u001b[0mts\u001b[0m \u001b[0;34m=\u001b[0m \u001b[0mtn\u001b[0m\u001b[0;34m.\u001b[0m\u001b[0mcontract\u001b[0m\u001b[0;34m(\u001b[0m\u001b[0;34m)\u001b[0m\u001b[0;34m\u001b[0m\u001b[0;34m\u001b[0m\u001b[0m\n\u001b[1;32m      3\u001b[0m \u001b[0mts\u001b[0m\u001b[0;34m.\u001b[0m\u001b[0msort\u001b[0m\u001b[0;34m(\u001b[0m\u001b[0;34m)\u001b[0m\u001b[0;34m\u001b[0m\u001b[0;34m\u001b[0m\u001b[0m\n",
      "\u001b[0;31mTypeError\u001b[0m: cir_2_tn() missing 2 required positional arguments: 'idxtype' and 'tstype'"
     ]
    }
   ],
   "source": [
    "tn = cir_2_tn(cir2)\n",
    "ts = tn.contract()\n",
    "ts.sort()"
   ]
  },
  {
   "cell_type": "code",
   "execution_count": null,
   "metadata": {},
   "outputs": [
    {
     "name": "stdout",
     "output_type": "stream",
     "text": [
      "TS None: shape (2, 2), indices ['y_0_0#0', 'y_1_0#0'] [[-0.3039595 +0.j         0.        +0.j       ]\n",
      " [ 0.36880765+0.8784017j  0.        +0.j       ]]\n"
     ]
    }
   ],
   "source": [
    "print(ts, ts.data)"
   ]
  },
  {
   "cell_type": "code",
   "execution_count": null,
   "metadata": {},
   "outputs": [
    {
     "name": "stdout",
     "output_type": "stream",
     "text": [
      "Abase init\n",
      "Bbase init\n",
      "<class '__main__.AB'> b\n",
      "<class '__main__.AB'> a\n",
      "c\n"
     ]
    }
   ],
   "source": [
    "class Abase():\n",
    "    def __init__(self):\n",
    "        print(\"Abase init\")\n",
    "        super().__init__()\n",
    "        print(self.__class__, 'a')\n",
    "\n",
    "class Bbase():\n",
    "    def __init__(self):\n",
    "        print(\"Bbase init\")\n",
    "        super().__init__()\n",
    "        print(self.__class__, 'b')\n",
    "\n",
    "class AB(Abase, Bbase):\n",
    "    def __init__(self):\n",
    "        super().__init__()\n",
    "        print('c')\n",
    "\n",
    "aabb = AB()"
   ]
  }
 ],
 "metadata": {
  "kernelspec": {
   "display_name": ".venv",
   "language": "python",
   "name": "python3"
  },
  "language_info": {
   "codemirror_mode": {
    "name": "ipython",
    "version": 3
   },
   "file_extension": ".py",
   "mimetype": "text/x-python",
   "name": "python",
   "nbconvert_exporter": "python",
   "pygments_lexer": "ipython3",
   "version": "3.9.7"
  },
  "orig_nbformat": 4
 },
 "nbformat": 4,
 "nbformat_minor": 2
}
