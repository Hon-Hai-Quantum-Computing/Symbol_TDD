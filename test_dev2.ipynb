{
 "cells": [
  {
   "cell_type": "code",
   "execution_count": 3,
   "metadata": {},
   "outputs": [],
   "source": [
    "import numpy as np\n",
    "from symtdd import ts,tn"
   ]
  },
  {
   "cell_type": "code",
   "execution_count": 4,
   "metadata": {},
   "outputs": [],
   "source": [
    "a = np.random.random((2, 2))\n",
    "b = np.random.random((2, 2))\n",
    "ia = ts.Index('x', 0)\n",
    "ib = ts.Index('x', 1)\n",
    "ic = ts.Index('x', 2)\n",
    "ta = ts.Tensor(a, [ia, ib])\n",
    "tb = ts.Tensor(a, [ib, ic])"
   ]
  },
  {
   "cell_type": "code",
   "execution_count": 5,
   "metadata": {},
   "outputs": [],
   "source": [
    "tna = tn.TensorNetwork([ta, tb])"
   ]
  },
  {
   "cell_type": "code",
   "execution_count": 6,
   "metadata": {},
   "outputs": [
    {
     "data": {
      "text/plain": [
       "{x_0, x_1}"
      ]
     },
     "execution_count": 6,
     "metadata": {},
     "output_type": "execute_result"
    }
   ],
   "source": [
    "set(ta.indices)"
   ]
  },
  {
   "cell_type": "code",
   "execution_count": 7,
   "metadata": {},
   "outputs": [],
   "source": [
    "tc = tna.contract()"
   ]
  },
  {
   "cell_type": "code",
   "execution_count": 8,
   "metadata": {},
   "outputs": [
    {
     "data": {
      "text/plain": [
       "array([[0.57619833, 0.46894472],\n",
       "       [0.40317469, 0.42409264]])"
      ]
     },
     "execution_count": 8,
     "metadata": {},
     "output_type": "execute_result"
    }
   ],
   "source": [
    "tc.data"
   ]
  },
  {
   "cell_type": "code",
   "execution_count": 9,
   "metadata": {},
   "outputs": [
    {
     "data": {
      "text/plain": [
       "4"
      ]
     },
     "execution_count": 9,
     "metadata": {},
     "output_type": "execute_result"
    }
   ],
   "source": [
    "tna.max_size"
   ]
  },
  {
   "cell_type": "code",
   "execution_count": 1,
   "metadata": {},
   "outputs": [],
   "source": [
    "from symtdd.io.qiskit_import import cir_2_tn\n",
    "from symtdd import DDType"
   ]
  },
  {
   "cell_type": "code",
   "execution_count": 2,
   "metadata": {},
   "outputs": [],
   "source": [
    "from qiskit import QuantumCircuit, QuantumRegister\n",
    "from qiskit.circuit import Parameter"
   ]
  },
  {
   "cell_type": "code",
   "execution_count": 3,
   "metadata": {},
   "outputs": [
    {
     "data": {
      "text/plain": [
       "<qiskit.circuit.instructionset.InstructionSet at 0x7f4413288820>"
      ]
     },
     "execution_count": 3,
     "metadata": {},
     "output_type": "execute_result"
    }
   ],
   "source": [
    "qa = QuantumRegister(2, 'qa')\n",
    "qb = QuantumRegister(3, 'qb')\n",
    "# va = Parameter('x0')\n",
    "cir = QuantumCircuit(qa, qb)\n",
    "# cir.rz(va, 3)\n",
    "cir.cx(1, 4)\n",
    "cir.cy(1, 4)\n",
    "cir.ccx(1, 3, 4)\n",
    "cir.h(2)"
   ]
  },
  {
   "cell_type": "code",
   "execution_count": 4,
   "metadata": {},
   "outputs": [],
   "source": [
    "tna = cir_2_tn(cir, DDType.TDD)"
   ]
  },
  {
   "cell_type": "code",
   "execution_count": null,
   "metadata": {},
   "outputs": [],
   "source": [
    "for tensor in tna.tensors:\n",
    "    for index in tensor.indices:\n",
    "        print(index)\n",
    "    print(\"==\")"
   ]
  },
  {
   "cell_type": "code",
   "execution_count": 6,
   "metadata": {},
   "outputs": [
    {
     "name": "stderr",
     "output_type": "stream",
     "text": [
      "DEBUG:ts:(1,),(0,)->(0, 1)\n",
      "DEBUG:ts:(1,),(0, 2)->(0, 1, 2)\n",
      "DEBUG:ts:(3,),(0, 1, 2)->(0, 1, 2, 3)\n",
      "DEBUG:ts:(3,),(0, 1, 4, 2)->(0, 1, 2, 4, 3)\n",
      "DEBUG:ts:(0, 0, 5, 3),(0, 1, 2, 4, 5)->(1, 2, 3, 4)\n",
      "DEBUG:ts:(0, 0, 4, 2),(1, 3, 4, 5)->(0, 1, 2, 3, 5)\n",
      "DEBUG:ts:(0, 6, 3, 4, 2, 7),(0, 1, 2, 3, 5)->(6, 1, 4, 7, 5)\n",
      "DEBUG:ts:(1, 2),(0, 1, 3, 4, 5)->(0, 2, 3, 4, 5)\n"
     ]
    }
   ],
   "source": [
    "tsa = tna.contract()"
   ]
  },
  {
   "cell_type": "code",
   "execution_count": 7,
   "metadata": {},
   "outputs": [
    {
     "data": {
      "text/plain": [
       "(2, 2, 2, 2, 2)"
      ]
     },
     "execution_count": 7,
     "metadata": {},
     "output_type": "execute_result"
    }
   ],
   "source": [
    "tsa.data.shape"
   ]
  },
  {
   "cell_type": "code",
   "execution_count": 8,
   "metadata": {},
   "outputs": [
    {
     "name": "stdout",
     "output_type": "stream",
     "text": [
      "y_0_0#0\n",
      "y_3_0#0\n",
      "y_1_0#0\n",
      "y_2_0#0\n",
      "y_4_0#0\n"
     ]
    }
   ],
   "source": [
    "for index in tsa.indices:\n",
    "    print(index)"
   ]
  },
  {
   "cell_type": "code",
   "execution_count": 11,
   "metadata": {},
   "outputs": [
    {
     "data": {
      "text/plain": [
       "array([0.70710678+0.j        , 0.        +0.j        ,\n",
       "       0.        +0.j        , 0.        +0.j        ,\n",
       "       0.70710678+0.j        , 0.        +0.j        ,\n",
       "       0.        +0.j        , 0.        +0.j        ,\n",
       "       0.        +0.j        , 0.        +0.70710678j,\n",
       "       0.        +0.j        , 0.        +0.j        ,\n",
       "       0.        +0.j        , 0.        +0.70710678j,\n",
       "       0.        +0.j        , 0.        +0.j        ,\n",
       "       0.        +0.j        , 0.        +0.j        ,\n",
       "       0.        +0.j        , 0.        +0.j        ,\n",
       "       0.        +0.j        , 0.        +0.j        ,\n",
       "       0.        +0.j        , 0.        +0.j        ,\n",
       "       0.        +0.j        , 0.        +0.j        ,\n",
       "       0.        +0.j        , 0.        +0.j        ,\n",
       "       0.        +0.j        , 0.        +0.j        ,\n",
       "       0.        +0.j        , 0.        +0.j        ])"
      ]
     },
     "execution_count": 11,
     "metadata": {},
     "output_type": "execute_result"
    }
   ],
   "source": [
    "import numpy as np\n",
    "ordered_tsa_data = np.moveaxis(tsa.data, np.arange(5), [0, 3, 1, 2, 4])\n",
    "ordered_tsa_data.flatten()"
   ]
  },
  {
   "cell_type": "code",
   "execution_count": 12,
   "metadata": {},
   "outputs": [
    {
     "data": {
      "text/plain": [
       "Result(backend_name='statevector_simulator', backend_version='0.12.0', qobj_id='', job_id='d0a7a062-b81d-4caf-911f-4441a274d910', success=True, results=[ExperimentResult(shots=1, success=True, meas_level=2, data=ExperimentResultData(statevector=Statevector([0.70710678+0.j, 0.        +0.j, 0.        +0.j,\n",
       "             0.        +0.j, 0.70710678+0.j, 0.        +0.j,\n",
       "             0.        +0.j, 0.        +0.j, 0.        +0.j,\n",
       "             0.        +0.j, 0.        +0.j, 0.        +0.j,\n",
       "             0.        +0.j, 0.        +0.j, 0.        +0.j,\n",
       "             0.        +0.j, 0.        +0.j, 0.        +0.j,\n",
       "             0.        +0.j, 0.        +0.j, 0.        +0.j,\n",
       "             0.        +0.j, 0.        +0.j, 0.        +0.j,\n",
       "             0.        +0.j, 0.        +0.j, 0.        +0.j,\n",
       "             0.        +0.j, 0.        +0.j, 0.        +0.j,\n",
       "             0.        +0.j, 0.        +0.j],\n",
       "            dims=(2, 2, 2, 2, 2))), header=QobjExperimentHeader(creg_sizes=[], global_phase=0.0, memory_slots=0, n_qubits=5, name='circuit-88', qreg_sizes=[['qa', 2], ['qb', 3]]), status=DONE, seed_simulator=919231677, metadata={'noise': 'ideal', 'batched_shots_optimization': False, 'measure_sampling': True, 'parallel_shots': 1, 'remapped_qubits': False, 'active_input_qubits': [0, 1, 2, 3, 4], 'num_clbits': 0, 'parallel_state_update': 4, 'num_qubits': 5, 'device': 'CPU', 'input_qubit_map': [[4, 4], [3, 3], [2, 2], [1, 1], [0, 0]], 'method': 'statevector', 'result_subtypes': {'statevector': 'single'}, 'result_types': {'statevector': 'save_statevector'}, 'fusion': {'applied': False, 'max_fused_qubits': 5, 'threshold': 14, 'enabled': True}}, time_taken=0.000146386)], date=2023-04-28T16:22:45.692797, status=COMPLETED, header=None, metadata={'time_taken_execute': 0.000212296, 'mpi_rank': 0, 'num_mpi_processes': 1, 'max_gpu_memory_mb': 0, 'max_memory_mb': 7803, 'parallel_experiments': 1, 'num_processes_per_experiments': 1, 'omp_enabled': True}, time_taken=0.0006666183471679688)"
      ]
     },
     "execution_count": 12,
     "metadata": {},
     "output_type": "execute_result"
    }
   ],
   "source": [
    "from qiskit import Aer\n",
    "backend = Aer.get_backend('statevector_simulator')\n",
    "job = backend.run(cir)\n",
    "result = job.result()\n",
    "result"
   ]
  },
  {
   "cell_type": "code",
   "execution_count": 5,
   "metadata": {},
   "outputs": [
    {
     "data": {
      "text/plain": [
       "CircuitInstruction(operation=Instruction(name='ccx', num_qubits=3, num_clbits=0, params=[]), qubits=(Qubit(QuantumRegister(2, 'qa'), 1), Qubit(QuantumRegister(3, 'qb'), 1), Qubit(QuantumRegister(3, 'qb'), 2)), clbits=())"
      ]
     },
     "execution_count": 5,
     "metadata": {},
     "output_type": "execute_result"
    }
   ],
   "source": [
    "instra = cir.data[2]\n",
    "instra"
   ]
  },
  {
   "cell_type": "code",
   "execution_count": 18,
   "metadata": {},
   "outputs": [
    {
     "data": {
      "text/plain": [
       "qiskit.circuit.library.standard_gates.x.XGate"
      ]
     },
     "execution_count": 18,
     "metadata": {},
     "output_type": "execute_result"
    }
   ],
   "source": [
    "type(instra.operation.base_gate)"
   ]
  },
  {
   "cell_type": "code",
   "execution_count": 6,
   "metadata": {},
   "outputs": [
    {
     "name": "stdout",
     "output_type": "stream",
     "text": [
      "[5 3 1 4 2 0]\n"
     ]
    },
    {
     "data": {
      "text/plain": [
       "array([[0.+0.j, 1.+0.j],\n",
       "       [1.+0.j, 0.+0.j]])"
      ]
     },
     "execution_count": 6,
     "metadata": {},
     "output_type": "execute_result"
    }
   ],
   "source": [
    "aa = instra.operation.to_matrix().reshape((2,)*6)\n",
    "import numpy as np\n",
    "aa.ndim\n",
    "xposs = np.arange(aa.ndim//2)[::-1] * 2\n",
    "yposs = xposs + 1\n",
    "print(np.hstack((yposs, xposs)))\n",
    "bb = np.moveaxis(aa, [i for i in range(aa.ndim)], np.hstack((yposs, xposs)))\n",
    "bb[1, 1, 1, 1, :, :]"
   ]
  },
  {
   "cell_type": "code",
   "execution_count": null,
   "metadata": {},
   "outputs": [],
   "source": []
  }
 ],
 "metadata": {
  "kernelspec": {
   "display_name": ".venv",
   "language": "python",
   "name": "python3"
  },
  "language_info": {
   "codemirror_mode": {
    "name": "ipython",
    "version": 3
   },
   "file_extension": ".py",
   "mimetype": "text/x-python",
   "name": "python",
   "nbconvert_exporter": "python",
   "pygments_lexer": "ipython3",
   "version": "3.10.5"
  },
  "orig_nbformat": 4
 },
 "nbformat": 4,
 "nbformat_minor": 2
}
