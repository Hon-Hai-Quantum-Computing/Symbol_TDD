{
 "cells": [
  {
   "cell_type": "code",
   "execution_count": 1,
   "metadata": {},
   "outputs": [],
   "source": [
    "import numpy as np\n",
    "from symtdd import ts, tn"
   ]
  },
  {
   "cell_type": "code",
   "execution_count": 2,
   "metadata": {},
   "outputs": [],
   "source": [
    "from symtdd.io.qiskit_import import cir_2_tn\n",
    "from symtdd import IndexType, TensorType, TDDWeightType"
   ]
  },
  {
   "cell_type": "code",
   "execution_count": 3,
   "metadata": {},
   "outputs": [],
   "source": [
    "from qiskit import QuantumCircuit, QuantumRegister\n",
    "from qiskit.circuit import Parameter"
   ]
  },
  {
   "cell_type": "code",
   "execution_count": 4,
   "metadata": {},
   "outputs": [
    {
     "data": {
      "text/plain": [
       "<qiskit.circuit.instructionset.InstructionSet at 0x7fdd39655de0>"
      ]
     },
     "execution_count": 4,
     "metadata": {},
     "output_type": "execute_result"
    }
   ],
   "source": [
    "qa = QuantumRegister(2, 'qa')\n",
    "qb = QuantumRegister(3, 'qb')\n",
    "# va = Parameter('x0')\n",
    "cir = QuantumCircuit(qa, qb)\n",
    "# cir.rz(va, 3)\n",
    "cir.cx(1, 4)\n",
    "cir.cy(1, 4)\n",
    "cir.ccx(1, 3, 4)\n",
    "cir.h(2)"
   ]
  },
  {
   "cell_type": "code",
   "execution_count": 5,
   "metadata": {},
   "outputs": [],
   "source": [
    "tna = cir_2_tn(cir, IndexType.STANDARD, TensorType.TDD, TDDWeightType.COMPLEX)"
   ]
  },
  {
   "cell_type": "code",
   "execution_count": null,
   "metadata": {},
   "outputs": [],
   "source": [
    "tna.tensors[-1].show()"
   ]
  },
  {
   "cell_type": "code",
   "execution_count": 7,
   "metadata": {},
   "outputs": [
    {
     "name": "stderr",
     "output_type": "stream",
     "text": [
      "DEBUG:symtdd.ts:====Contract\n",
      "DEBUG:symtdd.ts:(y_0_0#0,),(x_1_0#0,)->{y_0_0#0, x_1_0#0}\n"
     ]
    },
    {
     "ename": "ValueError",
     "evalue": "Not implemented",
     "output_type": "error",
     "traceback": [
      "\u001b[0;31m---------------------------------------------------------------------------\u001b[0m",
      "\u001b[0;31mValueError\u001b[0m                                Traceback (most recent call last)",
      "Cell \u001b[0;32mIn[7], line 1\u001b[0m\n\u001b[0;32m----> 1\u001b[0m tsa \u001b[39m=\u001b[39m tna\u001b[39m.\u001b[39;49mcontract()\n",
      "File \u001b[0;32m~/work/Symbol_TDD/src/symtdd/tn.py:33\u001b[0m, in \u001b[0;36mTensorNetwork.contract\u001b[0;34m(self, optimizer)\u001b[0m\n\u001b[1;32m     30\u001b[0m     n \u001b[39m=\u001b[39m \u001b[39mlen\u001b[39m(\u001b[39mself\u001b[39m\u001b[39m.\u001b[39mtensors)\n\u001b[1;32m     31\u001b[0m     path \u001b[39m=\u001b[39m [(\u001b[39m0\u001b[39m, \u001b[39m1\u001b[39m)] \u001b[39m+\u001b[39m [(\u001b[39m0\u001b[39m, k) \u001b[39mfor\u001b[39;00m k \u001b[39min\u001b[39;00m \u001b[39mrange\u001b[39m(n \u001b[39m-\u001b[39m \u001b[39m2\u001b[39m, \u001b[39m0\u001b[39m, \u001b[39m-\u001b[39m\u001b[39m1\u001b[39m)]\n\u001b[0;32m---> 33\u001b[0m \u001b[39mreturn\u001b[39;00m \u001b[39mself\u001b[39;49m\u001b[39m.\u001b[39;49mcontract_by_path(path)\n",
      "File \u001b[0;32m~/work/Symbol_TDD/src/symtdd/tn.py:43\u001b[0m, in \u001b[0;36mTensorNetwork.contract_by_path\u001b[0;34m(self, path)\u001b[0m\n\u001b[1;32m     41\u001b[0m \u001b[39mfor\u001b[39;00m pos_pair \u001b[39min\u001b[39;00m path:\n\u001b[1;32m     42\u001b[0m     ts_pair \u001b[39m=\u001b[39m \u001b[39mtuple\u001b[39m(tensors[pos] \u001b[39mfor\u001b[39;00m pos \u001b[39min\u001b[39;00m pos_pair)\n\u001b[0;32m---> 43\u001b[0m     new_ts \u001b[39m=\u001b[39m ts_pair[\u001b[39m0\u001b[39;49m]\u001b[39m.\u001b[39;49mcontract(ts_pair[\u001b[39m1\u001b[39;49m], index_counter)\n\u001b[1;32m     45\u001b[0m     \u001b[39mself\u001b[39m\u001b[39m.\u001b[39mrecord(new_ts)\n\u001b[1;32m     47\u001b[0m     \u001b[39m# TODO: use heapq to do in O(logn)?\u001b[39;00m\n\u001b[1;32m     48\u001b[0m     \u001b[39m# https://stackoverflow.com/a/10163422\u001b[39;00m\n",
      "File \u001b[0;32m~/work/Symbol_TDD/src/symtdd/ts.py:170\u001b[0m, in \u001b[0;36mTensor.contract\u001b[0;34m(self, other, index_counter)\u001b[0m\n\u001b[1;32m    167\u001b[0m log\u001b[39m.\u001b[39mdebug(\u001b[39m\"\u001b[39m\u001b[39m====Contract\u001b[39m\u001b[39m\"\u001b[39m)\n\u001b[1;32m    168\u001b[0m log\u001b[39m.\u001b[39mdebug(\u001b[39m\"\u001b[39m\u001b[39m%s\u001b[39;00m\u001b[39m,\u001b[39m\u001b[39m%s\u001b[39;00m\u001b[39m->\u001b[39m\u001b[39m%s\u001b[39;00m\u001b[39m\"\u001b[39m, \u001b[39mself\u001b[39m\u001b[39m.\u001b[39mindices, other\u001b[39m.\u001b[39mindices, out_indices)\n\u001b[0;32m--> 170\u001b[0m tensor \u001b[39m=\u001b[39m \u001b[39mself\u001b[39;49m\u001b[39m.\u001b[39;49mcontract_inner(\u001b[39mself\u001b[39;49m, other, out_indices, union_indices, intersect_indices)\n\u001b[1;32m    172\u001b[0m log\u001b[39m.\u001b[39mdebug(\u001b[39m\"\u001b[39m\u001b[39mContract End====\u001b[39m\u001b[39m\"\u001b[39m)\n\u001b[1;32m    174\u001b[0m \u001b[39mreturn\u001b[39;00m tensor\n",
      "File \u001b[0;32m~/work/Symbol_TDD/src/symtdd/tdd.py:38\u001b[0m, in \u001b[0;36mTDD.contract_inner\u001b[0;34m(cls, tdd1, tdd2, out_indices, union_indices, intersect_indices)\u001b[0m\n\u001b[1;32m     36\u001b[0m \u001b[39m@classmethod\u001b[39m\n\u001b[1;32m     37\u001b[0m \u001b[39mdef\u001b[39;00m \u001b[39mcontract_inner\u001b[39m(\u001b[39mcls\u001b[39m, tdd1, tdd2, out_indices, union_indices, intersect_indices):\n\u001b[0;32m---> 38\u001b[0m     \u001b[39mraise\u001b[39;00m \u001b[39mValueError\u001b[39;00m(\u001b[39m\"\u001b[39m\u001b[39mNot implemented\u001b[39m\u001b[39m\"\u001b[39m)\n",
      "\u001b[0;31mValueError\u001b[0m: Not implemented"
     ]
    }
   ],
   "source": [
    "tsa = tna.contract()"
   ]
  },
  {
   "cell_type": "code",
   "execution_count": 33,
   "metadata": {},
   "outputs": [
    {
     "name": "stdout",
     "output_type": "stream",
     "text": [
      "y_0_0_0\n",
      "y_1_0_0\n",
      "y_2_0_0\n",
      "y_3_0_0\n",
      "y_4_0_0\n"
     ]
    }
   ],
   "source": [
    "tsa.sort()\n",
    "for index in tsa.indices:\n",
    "    print(index)"
   ]
  },
  {
   "cell_type": "code",
   "execution_count": 34,
   "metadata": {},
   "outputs": [
    {
     "data": {
      "text/plain": [
       "['y_0_0#0', 'y_1_0#0', 'y_2_0#0', 'y_3_0#0', 'y_4_0#0']"
      ]
     },
     "execution_count": 34,
     "metadata": {},
     "output_type": "execute_result"
    }
   ],
   "source": [
    "tsa.str_hyprindices"
   ]
  },
  {
   "cell_type": "code",
   "execution_count": 35,
   "metadata": {},
   "outputs": [
    {
     "data": {
      "text/plain": [
       "array([0.70710678+0.j, 0.        +0.j, 0.        +0.j, 0.        +0.j,\n",
       "       0.70710678+0.j, 0.        +0.j, 0.        +0.j, 0.        +0.j,\n",
       "       0.        +0.j, 0.        +0.j, 0.        +0.j, 0.        +0.j,\n",
       "       0.        +0.j, 0.        +0.j, 0.        +0.j, 0.        +0.j,\n",
       "       0.        +0.j, 0.        +0.j, 0.        +0.j, 0.        +0.j,\n",
       "       0.        +0.j, 0.        +0.j, 0.        +0.j, 0.        +0.j,\n",
       "       0.        +0.j, 0.        +0.j, 0.        +0.j, 0.        +0.j,\n",
       "       0.        +0.j, 0.        +0.j, 0.        +0.j, 0.        +0.j])"
      ]
     },
     "execution_count": 35,
     "metadata": {},
     "output_type": "execute_result"
    }
   ],
   "source": [
    "import numpy as np\n",
    "ordered_tsa_data = tsa.data\n",
    "ordered_tsa_data.flatten()"
   ]
  },
  {
   "cell_type": "code",
   "execution_count": 43,
   "metadata": {},
   "outputs": [
    {
     "name": "stdout",
     "output_type": "stream",
     "text": [
      "Statevector([0.70710678+0.j, 0.        +0.j, 0.        +0.j,\n",
      "             0.        +0.j, 0.70710678+0.j, 0.        +0.j,\n",
      "             0.        +0.j, 0.        +0.j, 0.        +0.j,\n",
      "             0.        +0.j, 0.        +0.j, 0.        +0.j,\n",
      "             0.        +0.j, 0.        +0.j, 0.        +0.j,\n",
      "             0.        +0.j, 0.        +0.j, 0.        +0.j,\n",
      "             0.        +0.j, 0.        +0.j, 0.        +0.j,\n",
      "             0.        +0.j, 0.        +0.j, 0.        +0.j,\n",
      "             0.        +0.j, 0.        +0.j, 0.        +0.j,\n",
      "             0.        +0.j, 0.        +0.j, 0.        +0.j,\n",
      "             0.        +0.j, 0.        +0.j],\n",
      "            dims=(2, 2, 2, 2, 2))\n"
     ]
    }
   ],
   "source": [
    "from qiskit import Aer\n",
    "backend = Aer.get_backend('statevector_simulator')\n",
    "job = backend.run(cir)\n",
    "result = job.result()\n",
    "result.get_statevector()"
   ]
  },
  {
   "cell_type": "code",
   "execution_count": 42,
   "metadata": {},
   "outputs": [],
   "source": [
    "np.testing.assert_allclose(ordered_tsa_data.flatten(), result.get_statevector())"
   ]
  },
  {
   "cell_type": "code",
   "execution_count": 15,
   "metadata": {},
   "outputs": [],
   "source": [
    "from qiskit.circuit.random import random_circuit\n",
    "cir = random_circuit(2, 2, measure=False, seed=12345)\n",
    "cir2 = cir.copy()\n",
    "cir.save_statevector()\n",
    "backend = Aer.get_backend('aer_simulator_statevector')\n",
    "job = backend.run(cir)\n",
    "result = job.result()\n",
    "gold_data = result.get_statevector()"
   ]
  },
  {
   "cell_type": "code",
   "execution_count": 16,
   "metadata": {},
   "outputs": [
    {
     "data": {
      "text/html": [
       "<pre style=\"word-wrap: normal;white-space: pre;background: #fff0;line-height: 1.1;font-family: &quot;Courier New&quot;,Courier,monospace\">                              ┌──────────────────────────┐ statevector \n",
       "q_0: ────────────■────────────┤ U3(3.7593,1.1733,4.2271) ├──────░──────\n",
       "     ┌───────────┴───────────┐└──────┬───────────┬───────┘      ░      \n",
       "q_1: ┤ U3(1.9903,5.01,4.249) ├───────┤ P(5.9175) ├──────────────░──────\n",
       "     └───────────────────────┘       └───────────┘              ░      </pre>"
      ],
      "text/plain": [
       "                              ┌──────────────────────────┐ statevector \n",
       "q_0: ────────────■────────────┤ U3(3.7593,1.1733,4.2271) ├──────░──────\n",
       "     ┌───────────┴───────────┐└──────┬───────────┬───────┘      ░      \n",
       "q_1: ┤ U3(1.9903,5.01,4.249) ├───────┤ P(5.9175) ├──────────────░──────\n",
       "     └───────────────────────┘       └───────────┘              ░      "
      ]
     },
     "execution_count": 16,
     "metadata": {},
     "output_type": "execute_result"
    }
   ],
   "source": [
    "cir.draw()"
   ]
  },
  {
   "cell_type": "code",
   "execution_count": 17,
   "metadata": {},
   "outputs": [
    {
     "data": {
      "text/plain": [
       "array([-0.3039595 +0.j       ,  0.36880765+0.8784017j,\n",
       "        0.        +0.j       ,  0.        +0.j       ])"
      ]
     },
     "execution_count": 17,
     "metadata": {},
     "output_type": "execute_result"
    }
   ],
   "source": [
    "gold_data.data"
   ]
  },
  {
   "cell_type": "code",
   "execution_count": 19,
   "metadata": {},
   "outputs": [
    {
     "name": "stderr",
     "output_type": "stream",
     "text": [
      "DEBUG:symtdd.io.qiskit_import:instr:cu3(0,1)\n",
      "DEBUG:symtdd.io.qiskit_import: => tensor: shape (2, 2, 2, 2), indices (x_0_0#0, x_0_0#1, x_1_0#0, x_1_1#0)\n",
      "DEBUG:symtdd.io.qiskit_import:instr:u3(0)\n",
      "DEBUG:symtdd.io.qiskit_import: => tensor: shape (2, 2), indices (x_0_0#1, x_0_1#1)\n",
      "DEBUG:symtdd.io.qiskit_import:instr:p(1)\n",
      "DEBUG:symtdd.io.qiskit_import: => tensor: shape (2, 2), indices (x_1_1#0, x_1_2#0)\n",
      "DEBUG:symtdd.io.qiskit_import:new TN:\n",
      "DEBUG:symtdd.io.qiskit_import:TS None: shape (2,), indices ['x_0_0#0']\n",
      "DEBUG:symtdd.io.qiskit_import:TS None: shape (2,), indices ['x_1_0#0']\n",
      "DEBUG:symtdd.io.qiskit_import:TS cu3: shape (2, 2, 2, 2), indices ['x_0_0#0', 'x_0_0#1', 'x_1_0#0', 'x_1_1#0']\n",
      "DEBUG:symtdd.io.qiskit_import:TS u3: shape (2, 2), indices ['x_0_0#1', 'y_0_0#0']\n",
      "DEBUG:symtdd.io.qiskit_import:TS p: shape (2, 2), indices ['x_1_1#0', 'y_1_0#0']\n",
      "DEBUG:symtdd.ts:====Contract\n",
      "map: {x_0_0#0: 0, x_1_0#0: 1}\n",
      "DEBUG:symtdd.ts:\n",
      "input: TS None: shape (2,), indices ['x_0_0#0']\n",
      "output: (0,)\n",
      "DEBUG:symtdd.ts:\n",
      "input: TS None: shape (2,), indices ['x_1_0#0']\n",
      "output: (1,)\n",
      "DEBUG:symtdd.ts:(0,),(1,)->(0, 1)\n",
      "DEBUG:symtdd.ts:Contract End====\n",
      "DEBUG:symtdd.ts:====Contract\n",
      "map: {x_1_1#0: 0, x_0_0#1: 1, x_0_0#0: 2, x_1_0#0: 3}\n",
      "DEBUG:symtdd.ts:\n",
      "input: TS cu3: shape (2, 2, 2, 2), indices ['x_0_0#0', 'x_0_0#1', 'x_1_0#0', 'x_1_1#0']\n",
      "output: (2, 1, 3, 0)\n",
      "DEBUG:symtdd.ts:\n",
      "input: TS None: shape (2, 2), indices ['x_0_0#0', 'x_1_0#0']\n",
      "output: (2, 3)\n",
      "DEBUG:symtdd.ts:(2, 1, 3, 0),(2, 3)->(1, 0)\n",
      "DEBUG:symtdd.ts:Contract End====\n",
      "DEBUG:symtdd.ts:====Contract\n",
      "map: {y_0_0#0: 0, x_0_0#1: 1, x_1_1#0: 2}\n",
      "DEBUG:symtdd.ts:\n",
      "input: TS u3: shape (2, 2), indices ['x_0_0#1', 'y_0_0#0']\n",
      "output: (1, 0)\n",
      "DEBUG:symtdd.ts:\n",
      "input: TS None: shape (2, 2), indices ['x_0_0#1', 'x_1_1#0']\n",
      "output: (1, 2)\n",
      "DEBUG:symtdd.ts:(1, 0),(1, 2)->(0, 2)\n",
      "DEBUG:symtdd.ts:Contract End====\n",
      "DEBUG:symtdd.ts:====Contract\n",
      "map: {y_1_0#0: 0, x_1_1#0: 1, y_0_0#0: 2}\n",
      "DEBUG:symtdd.ts:\n",
      "input: TS p: shape (2, 2), indices ['x_1_1#0', 'y_1_0#0']\n",
      "output: (1, 0)\n",
      "DEBUG:symtdd.ts:\n",
      "input: TS None: shape (2, 2), indices ['y_0_0#0', 'x_1_1#0']\n",
      "output: (2, 1)\n",
      "DEBUG:symtdd.ts:(1, 0),(2, 1)->(2, 0)\n",
      "DEBUG:symtdd.ts:Contract End====\n"
     ]
    }
   ],
   "source": [
    "tn = cir_2_tn(cir2, DDType.TDD)\n",
    "ts = tn.contract()\n",
    "ts.sort()"
   ]
  },
  {
   "cell_type": "code",
   "execution_count": 21,
   "metadata": {},
   "outputs": [
    {
     "name": "stdout",
     "output_type": "stream",
     "text": [
      "TS None: shape (2, 2), indices ['y_0_0#0', 'y_1_0#0'] [[-0.3039595 +0.j         0.        +0.j       ]\n",
      " [ 0.36880765+0.8784017j  0.        +0.j       ]]\n"
     ]
    }
   ],
   "source": [
    "print(ts, ts.data)"
   ]
  },
  {
   "cell_type": "code",
   "execution_count": 19,
   "metadata": {},
   "outputs": [
    {
     "name": "stdout",
     "output_type": "stream",
     "text": [
      "Abase init\n",
      "Bbase init\n",
      "<class '__main__.AB'> b\n",
      "<class '__main__.AB'> a\n",
      "c\n"
     ]
    }
   ],
   "source": [
    "class Abase():\n",
    "    def __init__(self):\n",
    "        print(\"Abase init\")\n",
    "        super().__init__()\n",
    "        print(self.__class__, 'a')\n",
    "\n",
    "class Bbase():\n",
    "    def __init__(self):\n",
    "        print(\"Bbase init\")\n",
    "        super().__init__()\n",
    "        print(self.__class__, 'b')\n",
    "\n",
    "class AB(Abase, Bbase):\n",
    "    def __init__(self):\n",
    "        super().__init__()\n",
    "        print('c')\n",
    "\n",
    "aabb = AB()"
   ]
  }
 ],
 "metadata": {
  "kernelspec": {
   "display_name": ".venv",
   "language": "python",
   "name": "python3"
  },
  "language_info": {
   "codemirror_mode": {
    "name": "ipython",
    "version": 3
   },
   "file_extension": ".py",
   "mimetype": "text/x-python",
   "name": "python",
   "nbconvert_exporter": "python",
   "pygments_lexer": "ipython3",
   "version": "3.10.5"
  },
  "orig_nbformat": 4
 },
 "nbformat": 4,
 "nbformat_minor": 2
}
